{
 "cells": [
  {
   "cell_type": "markdown",
   "metadata": {},
   "source": [
    "# Bengali.AI SEResNeXt training with pytorch\n",
    "\n",
    "I will introduce following contents\n",
    "\n",
    " - **Fast data loading** with feather format\n",
    " - **Data augmentation** technic with affine transformation\n",
    " - **CNN SoTA models**: Use pytorch `pretrainedmodels` library, especially I use **`SEResNeXt`** in this notebook\n",
    " - **Training code abstraction**: Use `pytorch-ignite` module for the trainining abstraction\n",
    " \n",
    "### Update history\n",
    "\n",
    " - 2020/1/4 v2: Added albumentations augmentations introduced in [Bengali: albumentations data augmentation tutorial](https://www.kaggle.com/corochann/bengali-albumentations-data-augmentation-tutorial)"
   ]
  },
  {
   "cell_type": "markdown",
   "metadata": {},
   "source": [
    "# Table of Contents:\n",
    "**[Fast data loading with feather](#load)**<br>\n",
    "**[Dataset](#dataset)**<br>\n",
    "**[Data augmentation/processing](#processing)**<br>\n",
    "**[pytorch model & define classifier](#model)**<br>\n",
    "**[Training code](#train)**<br>\n",
    "**[Prediction](#pred)**<br>\n",
    "**[Reference and further reading](#ref)**<br>"
   ]
  },
  {
   "cell_type": "markdown",
   "metadata": {},
   "source": [
    "To install https://github.com/Cadene/pretrained-models.pytorch without internet connection, we can install library as \"dataset\".\n",
    "\n",
    "It is uploaded by @rishabhiitbhu : https://www.kaggle.com/rishabhiitbhu/pretrainedmodels"
   ]
  },
  {
   "cell_type": "markdown",
   "metadata": {},
   "source": [
    "!pip install iterative-stratification"
   ]
  },
  {
   "cell_type": "code",
   "execution_count": 1,
   "metadata": {},
   "outputs": [],
   "source": [
    "from iterstrat.ml_stratifiers import MultilabelStratifiedShuffleSplit"
   ]
  },
  {
   "cell_type": "code",
   "execution_count": 2,
   "metadata": {},
   "outputs": [],
   "source": [
    "import pretrainedmodels"
   ]
  },
  {
   "cell_type": "code",
   "execution_count": 3,
   "metadata": {},
   "outputs": [
    {
     "name": "stdout",
     "output_type": "stream",
     "text": [
      "['fbresnet152', 'bninception', 'resnext101_32x4d', 'resnext101_64x4d', 'inceptionv4', 'inceptionresnetv2', 'alexnet', 'densenet121', 'densenet169', 'densenet201', 'densenet161', 'resnet18', 'resnet34', 'resnet50', 'resnet101', 'resnet152', 'inceptionv3', 'squeezenet1_0', 'squeezenet1_1', 'vgg11', 'vgg11_bn', 'vgg13', 'vgg13_bn', 'vgg16', 'vgg16_bn', 'vgg19_bn', 'vgg19', 'nasnetamobile', 'nasnetalarge', 'dpn68', 'dpn68b', 'dpn92', 'dpn98', 'dpn131', 'dpn107', 'xception', 'senet154', 'se_resnet50', 'se_resnet101', 'se_resnet152', 'se_resnext50_32x4d', 'se_resnext101_32x4d', 'cafferesnet101', 'pnasnet5large', 'polynet']\n"
     ]
    }
   ],
   "source": [
    "print(pretrainedmodels.model_names)"
   ]
  },
  {
   "cell_type": "code",
   "execution_count": 4,
   "metadata": {
    "_kg_hide-input": true,
    "_kg_hide-output": true
   },
   "outputs": [],
   "source": [
    "import gc\n",
    "import os\n",
    "from pathlib import Path\n",
    "import random\n",
    "import sys\n",
    "\n",
    "from tqdm.notebook import tqdm\n",
    "import numpy as np # linear algebra\n",
    "import pandas as pd # data processing, CSV file I/O (e.g. pd.read_csv)\n",
    "\n",
    "import matplotlib.pyplot as plt\n",
    "import seaborn as sns\n",
    "\n",
    "from IPython.core.display import display, HTML\n",
    "\n",
    "# --- plotly ---\n",
    "#from plotly import tools, subplots\n",
    "#import plotly.offline as py\n",
    "#py.init_notebook_mode(connected=True)\n",
    "#import plotly.graph_objs as go\n",
    "#import plotly.express as px\n",
    "#import plotly.figure_factory as ff\n",
    "\n",
    "# --- models ---\n",
    "#from sklearn import preprocessing\n",
    "#from sklearn.model_selection import KFold\n",
    "#import lightgbm as lgb\n",
    "#import xgboost as xgb\n",
    "#import catboost as cb\n",
    "\n",
    "# --- setup ---\n",
    "pd.set_option('max_columns', 50)\n",
    "\n",
    "import warnings\n",
    "warnings.filterwarnings('ignore')"
   ]
  },
  {
   "cell_type": "code",
   "execution_count": 5,
   "metadata": {},
   "outputs": [],
   "source": [
    "import torch \n",
    "def seed_everything(seed):\n",
    "    random.seed(seed)\n",
    "    os.environ['PYTHONHASHSEED'] = str(seed)\n",
    "    np.random.seed(seed)\n",
    "    torch.manual_seed(seed)\n",
    "    torch.cuda.manual_seed(seed)\n",
    "    torch.backends.cudnn.deterministic = True\n",
    "\n",
    "SEED = 42\n",
    "seed_everything(SEED)"
   ]
  },
  {
   "cell_type": "code",
   "execution_count": 6,
   "metadata": {},
   "outputs": [],
   "source": [
    "debug=False\n",
    "submission=False\n",
    "batch_size = 256\n",
    "device='cuda:0'\n",
    "out='.'\n",
    "image_size=64\n",
    "arch='pretrained'\n",
    "model_name='se_resnext50_32x4d'"
   ]
  },
  {
   "cell_type": "code",
   "execution_count": 7,
   "metadata": {
    "_cell_guid": "79c7e3d0-c299-4dcb-8224-4455121ee9b0",
    "_kg_hide-input": false,
    "_kg_hide-output": true,
    "_uuid": "d629ff2d2480ee46fbb7e2d37f6b5fab8052498a"
   },
   "outputs": [],
   "source": [
    "datadir = Path('../bengali/input/')\n",
    "featherdir = Path('../bengali/feather/')\n",
    "outdir = Path('../bengali/model/64_base_Cutout_v1_rotate_v2')"
   ]
  },
  {
   "cell_type": "code",
   "execution_count": 8,
   "metadata": {
    "_kg_hide-input": true,
    "_kg_hide-output": true
   },
   "outputs": [],
   "source": [
    "# Read in the data CSV files\n",
    "# train = pd.read_csv(datadir/'train.csv')\n",
    "# test = pd.read_csv(datadir/'test.csv')\n",
    "# sample_submission = pd.read_csv(datadir/'sample_submission.csv')\n",
    "# class_map = pd.read_csv(datadir/'class_map.csv')"
   ]
  },
  {
   "cell_type": "markdown",
   "metadata": {},
   "source": [
    "# Fast data loading with feather\n",
    "\n",
    "Refer [Bengali.AI super fast data loading with feather](https://www.kaggle.com/corochann/bengali-ai-super-fast-data-loading-with-feather) and [dataset](https://www.kaggle.com/corochann/bengaliaicv19feather) for detail.<br/>\n",
    "Original `parquet` format takes about 60 sec to load 1 data, while `feather` format takes about **2 sec to load 1 data!!!**\n",
    "\n",
    "### How to add dataset\n",
    "\n",
    "When you write kernel, click \"+ Add Data\" botton on right top.<br/>\n",
    "Then inside window pop-up, you can see \"Search Datasets\" text box on right top.<br/>\n",
    "You can type \"bengaliai-cv19-feather\" to find this dataset and press \"Add\" botton to add the data."
   ]
  },
  {
   "cell_type": "code",
   "execution_count": 9,
   "metadata": {},
   "outputs": [],
   "source": [
    "import numpy as np\n",
    "import pandas as pd\n",
    "import gc\n",
    "\n",
    "\n",
    "def prepare_image(datadir, featherdir, data_type='train',\n",
    "                  submission=False, indices=[0, 1, 2, 3]):\n",
    "    assert data_type in ['train', 'test']\n",
    "    if submission:\n",
    "        image_df_list = [pd.read_parquet(datadir / f'{data_type}_image_data_{i}.parquet')\n",
    "                         for i in indices]\n",
    "    else:\n",
    "        image_df_list = [pd.read_feather(featherdir / f'{data_type}_image_data_{i}.feather')\n",
    "                         for i in indices]\n",
    "\n",
    "    print('image_df_list', len(image_df_list))\n",
    "    HEIGHT = 137\n",
    "    WIDTH = 236\n",
    "    images = [df.iloc[:, 1:].values.reshape(-1, HEIGHT, WIDTH) for df in image_df_list]\n",
    "    del image_df_list\n",
    "    gc.collect()\n",
    "    images = np.concatenate(images, axis=0)\n",
    "    return images\n"
   ]
  },
  {
   "cell_type": "code",
   "execution_count": 10,
   "metadata": {},
   "outputs": [
    {
     "name": "stdout",
     "output_type": "stream",
     "text": [
      "image_df_list 4\n",
      "CPU times: user 14.1 s, sys: 16.2 s, total: 30.3 s\n",
      "Wall time: 4.86 s\n"
     ]
    }
   ],
   "source": [
    "%%time\n",
    "\n",
    "train = pd.read_csv(datadir/'train.csv')\n",
    "train_labels = train[['grapheme_root', 'vowel_diacritic', 'consonant_diacritic']].values\n",
    "indices = [0] if debug else [0, 1, 2, 3]\n",
    "train_images = prepare_image(\n",
    "    datadir, featherdir, data_type='train', submission=False, indices=indices)\n"
   ]
  },
  {
   "cell_type": "markdown",
   "metadata": {},
   "source": [
    "<a id=\"dataset\"></a>\n",
    "# Dataset"
   ]
  },
  {
   "cell_type": "code",
   "execution_count": 11,
   "metadata": {
    "_kg_hide-input": true
   },
   "outputs": [],
   "source": [
    "\"\"\"\n",
    "Referenced `chainer.dataset.DatasetMixin` to work with pytorch Dataset.\n",
    "\"\"\"\n",
    "import numpy\n",
    "import six\n",
    "import torch\n",
    "from torch.utils.data.dataset import Dataset\n",
    "\n",
    "\n",
    "class DatasetMixin(Dataset):\n",
    "\n",
    "    def __init__(self, transform=None):\n",
    "        self.transform = transform\n",
    "\n",
    "    def __getitem__(self, index):\n",
    "        \"\"\"Returns an example or a sequence of examples.\"\"\"\n",
    "        if torch.is_tensor(index):\n",
    "            index = index.tolist()\n",
    "        if isinstance(index, slice):\n",
    "            current, stop, step = index.indices(len(self))\n",
    "            return [self.get_example_wrapper(i) for i in\n",
    "                    six.moves.range(current, stop, step)]\n",
    "        elif isinstance(index, list) or isinstance(index, numpy.ndarray):\n",
    "            return [self.get_example_wrapper(i) for i in index]\n",
    "        else:\n",
    "            return self.get_example_wrapper(index)\n",
    "\n",
    "    def __len__(self):\n",
    "        \"\"\"Returns the number of data points.\"\"\"\n",
    "        raise NotImplementedError\n",
    "\n",
    "    def get_example_wrapper(self, i):\n",
    "        \"\"\"Wrapper of `get_example`, to apply `transform` if necessary\"\"\"\n",
    "        example = self.get_example(i)\n",
    "        if self.transform:\n",
    "            example = self.transform(example)\n",
    "        return example\n",
    "\n",
    "    def get_example(self, i):\n",
    "        \"\"\"Returns the i-th example.\n",
    "\n",
    "        Implementations should override it. It should raise :class:`IndexError`\n",
    "        if the index is invalid.\n",
    "\n",
    "        Args:\n",
    "            i (int): The index of the example.\n",
    "\n",
    "        Returns:\n",
    "            The i-th example.\n",
    "\n",
    "        \"\"\"\n",
    "        raise NotImplementedError\n"
   ]
  },
  {
   "cell_type": "markdown",
   "metadata": {},
   "source": [
    "This `DatasetMixin` class can be used to define any custom dataset class in pytorch. We can implement `get_example(self, i)` method to return `i`-th data.\n",
    "\n",
    "Here I return i-th image `x` and `label`, with scaling image to be value ranges between 0~1."
   ]
  },
  {
   "cell_type": "code",
   "execution_count": 12,
   "metadata": {},
   "outputs": [],
   "source": [
    "import numpy as np\n",
    "\n",
    "\n",
    "class BengaliAIDataset(DatasetMixin):\n",
    "    def __init__(self, images, labels=None, transform=None, indices=None):\n",
    "        super(BengaliAIDataset, self).__init__(transform=transform)\n",
    "        self.images = images\n",
    "        self.labels = labels\n",
    "        if indices is None:\n",
    "            indices = np.arange(len(images))\n",
    "        self.indices = indices\n",
    "        self.train = labels is not None\n",
    "\n",
    "    def __len__(self):\n",
    "        \"\"\"return length of this dataset\"\"\"\n",
    "        return len(self.indices)\n",
    "\n",
    "    def get_example(self, i):\n",
    "        \"\"\"Return i-th data\"\"\"\n",
    "        i = self.indices[i]\n",
    "        x = self.images[i]\n",
    "        # Opposite white and black: background will be white and\n",
    "        # for future Affine transformation\n",
    "        x = (255 - x).astype(np.float32) / 255.\n",
    "        if self.train:\n",
    "            y = self.labels[i]\n",
    "            return x, y\n",
    "        else:\n",
    "            return x\n"
   ]
  },
  {
   "cell_type": "markdown",
   "metadata": {},
   "source": [
    "Let's see how this `BengaliAIDataset` work"
   ]
  },
  {
   "cell_type": "markdown",
   "metadata": {},
   "source": [
    "`train_dataset[i]` returns i-th image array and 3 target labels (graphme_root, vowel_diacritic and consonant_diacritic)."
   ]
  },
  {
   "cell_type": "markdown",
   "metadata": {},
   "source": [
    "<a id=\"processing\"></a>\n",
    "# Data augmentation/processing"
   ]
  },
  {
   "cell_type": "markdown",
   "metadata": {},
   "source": [
    "For CNN training, data augmentation is important to improve test accuracy (generalization performance). I will show some image preprocessing to increase the data variety."
   ]
  },
  {
   "cell_type": "code",
   "execution_count": 13,
   "metadata": {
    "_kg_hide-input": true
   },
   "outputs": [],
   "source": [
    "\"\"\"\n",
    "From https://www.kaggle.com/corochann/deep-learning-cnn-with-chainer-lb-0-99700\n",
    "\"\"\"\n",
    "import cv2\n",
    "from skimage.transform import AffineTransform, warp\n",
    "import numpy as np\n",
    "\n",
    "\n",
    "def affine_image(img):\n",
    "    \"\"\"\n",
    "\n",
    "    Args:\n",
    "        img: (h, w) or (1, h, w)\n",
    "\n",
    "    Returns:\n",
    "        img: (h, w)\n",
    "    \"\"\"\n",
    "    # ch, h, w = img.shape\n",
    "    # img = img / 255.\n",
    "    if img.ndim == 3:\n",
    "        img = img[0]\n",
    "\n",
    "    # --- scale ---\n",
    "    min_scale = 0.8\n",
    "    max_scale = 1.2\n",
    "    sx = np.random.uniform(min_scale, max_scale)\n",
    "    sy = np.random.uniform(min_scale, max_scale)\n",
    "\n",
    "    # --- rotation ---\n",
    "    max_rot_angle = 7\n",
    "    rot_angle = np.random.uniform(-max_rot_angle, max_rot_angle) * np.pi / 180.\n",
    "\n",
    "    # --- shear ---\n",
    "    max_shear_angle = 10\n",
    "    shear_angle = np.random.uniform(-max_shear_angle, max_shear_angle) * np.pi / 180.\n",
    "\n",
    "    # --- translation ---\n",
    "    max_translation = 4\n",
    "    tx = np.random.randint(-max_translation, max_translation)\n",
    "    ty = np.random.randint(-max_translation, max_translation)\n",
    "\n",
    "    tform = AffineTransform(scale=(sx, sy), rotation=rot_angle, shear=shear_angle,\n",
    "                            translation=(tx, ty))\n",
    "    transformed_image = warp(img, tform)\n",
    "    assert transformed_image.ndim == 2\n",
    "    return transformed_image\n",
    "\n",
    "\n",
    "def crop_char_image(image, threshold=5./255.):\n",
    "    assert image.ndim == 2\n",
    "    is_black = image > threshold\n",
    "\n",
    "    is_black_vertical = np.sum(is_black, axis=0) > 0\n",
    "    is_black_horizontal = np.sum(is_black, axis=1) > 0\n",
    "    left = np.argmax(is_black_horizontal)\n",
    "    right = np.argmax(is_black_horizontal[::-1])\n",
    "    top = np.argmax(is_black_vertical)\n",
    "    bottom = np.argmax(is_black_vertical[::-1])\n",
    "    height, width = image.shape\n",
    "    cropped_image = image[left:height - right, top:width - bottom]\n",
    "    return cropped_image\n",
    "\n",
    "\n",
    "def resize(image, size=(128, 128)):\n",
    "    return cv2.resize(image, size)"
   ]
  },
  {
   "cell_type": "markdown",
   "metadata": {},
   "source": [
    "Put everything together with `Transform` class. <br>\n",
    "[Update] I added **albumentations augmentations** introduced in [Bengali: albumentations data augmentation tutorial](https://www.kaggle.com/corochann/bengali-albumentations-data-augmentation-tutorial)."
   ]
  },
  {
   "cell_type": "code",
   "execution_count": 14,
   "metadata": {
    "_kg_hide-input": false
   },
   "outputs": [],
   "source": [
    "import albumentations\n",
    "from albumentations.core.transforms_interface import DualTransform\n",
    "from albumentations.augmentations import functional as F\n",
    "import albumentations as A\n",
    "import numpy as np\n",
    "\n",
    "class GridMask(DualTransform):\n",
    "    \"\"\"GridMask augmentation for image classification and object detection.\n",
    "    \n",
    "    Author: Qishen Ha\n",
    "    Email: haqishen@gmail.com\n",
    "    2020/01/29\n",
    "\n",
    "    Args:\n",
    "        num_grid (int): number of grid in a row or column.\n",
    "        fill_value (int, float, lisf of int, list of float): value for dropped pixels.\n",
    "        rotate ((int, int) or int): range from which a random angle is picked. If rotate is a single int\n",
    "            an angle is picked from (-rotate, rotate). Default: (-90, 90)\n",
    "        mode (int):\n",
    "            0 - cropout a quarter of the square of each grid (left top)\n",
    "            1 - reserve a quarter of the square of each grid (left top)\n",
    "            2 - cropout 2 quarter of the square of each grid (left top & right bottom)\n",
    "\n",
    "    Targets:\n",
    "        image, mask\n",
    "\n",
    "    Image types:\n",
    "        uint8, float32\n",
    "\n",
    "    Reference:\n",
    "    |  https://arxiv.org/abs/2001.04086\n",
    "    |  https://github.com/akuxcw/GridMask\n",
    "    \"\"\"\n",
    "\n",
    "    def __init__(self, num_grid=3, fill_value=0, rotate=0, mode=0, always_apply=False, p=0.5):\n",
    "        super(GridMask, self).__init__(always_apply, p)\n",
    "        if isinstance(num_grid, int):\n",
    "            num_grid = (num_grid, num_grid)\n",
    "        if isinstance(rotate, int):\n",
    "            rotate = (-rotate, rotate)\n",
    "        self.num_grid = num_grid\n",
    "        self.fill_value = fill_value\n",
    "        self.rotate = rotate\n",
    "        self.mode = mode\n",
    "        self.masks = None\n",
    "        self.rand_h_max = []\n",
    "        self.rand_w_max = []\n",
    "\n",
    "    def init_masks(self, height, width):\n",
    "        if self.masks is None:\n",
    "            self.masks = []\n",
    "            n_masks = self.num_grid[1] - self.num_grid[0] + 1\n",
    "            for n, n_g in enumerate(range(self.num_grid[0], self.num_grid[1] + 1, 1)):\n",
    "                grid_h = height / n_g\n",
    "                grid_w = width / n_g\n",
    "                this_mask = np.ones((int((n_g + 1) * grid_h), int((n_g + 1) * grid_w))).astype(np.uint8)\n",
    "                for i in range(n_g + 1):\n",
    "                    for j in range(n_g + 1):\n",
    "                        this_mask[\n",
    "                             int(i * grid_h) : int(i * grid_h + grid_h / 2),\n",
    "                             int(j * grid_w) : int(j * grid_w + grid_w / 2)\n",
    "                        ] = self.fill_value\n",
    "                        if self.mode == 2:\n",
    "                            this_mask[\n",
    "                                 int(i * grid_h + grid_h / 2) : int(i * grid_h + grid_h),\n",
    "                                 int(j * grid_w + grid_w / 2) : int(j * grid_w + grid_w)\n",
    "                            ] = self.fill_value\n",
    "                \n",
    "                if self.mode == 1:\n",
    "                    this_mask = 1 - this_mask\n",
    "\n",
    "                self.masks.append(this_mask)\n",
    "                self.rand_h_max.append(grid_h)\n",
    "                self.rand_w_max.append(grid_w)\n",
    "\n",
    "    def apply(self, image, mask, rand_h, rand_w, angle, **params):\n",
    "        h, w = image.shape[:2]\n",
    "        mask = F.rotate(mask, angle) if self.rotate[1] > 0 else mask\n",
    "        mask = mask[:,:,np.newaxis] if image.ndim == 3 else mask\n",
    "        image *= mask[rand_h:rand_h+h, rand_w:rand_w+w].astype(image.dtype)\n",
    "        return image\n",
    "\n",
    "    def get_params_dependent_on_targets(self, params):\n",
    "        img = params['image']\n",
    "        height, width = img.shape[:2]\n",
    "        self.init_masks(height, width)\n",
    "\n",
    "        mid = np.random.randint(len(self.masks))\n",
    "        mask = self.masks[mid]\n",
    "        rand_h = np.random.randint(self.rand_h_max[mid])\n",
    "        rand_w = np.random.randint(self.rand_w_max[mid])\n",
    "        angle = np.random.randint(self.rotate[0], self.rotate[1]) if self.rotate[1] > 0 else 0\n",
    "\n",
    "        return {'mask': mask, 'rand_h': rand_h, 'rand_w': rand_w, 'angle': angle}\n",
    "\n",
    "    @property\n",
    "    def targets_as_params(self):\n",
    "        return ['image']\n",
    "\n",
    "    def get_transform_init_args_names(self):\n",
    "        return ('num_grid', 'fill_value', 'rotate', 'mode')\n",
    "\n",
    "def add_gaussian_noise(x, sigma):\n",
    "    x += np.random.randn(*x.shape) * sigma\n",
    "    x = np.clip(x, 0., 1.)\n",
    "    return x\n",
    "\n",
    "\n",
    "def _evaluate_ratio(ratio):\n",
    "    if ratio <= 0.:\n",
    "        return False\n",
    "    return np.random.uniform() < ratio\n",
    "\n",
    "\n",
    "def apply_aug(aug, image):\n",
    "    return aug(image=image)['image']\n",
    "\n",
    "\n",
    "class Transform:\n",
    "    def __init__(self, affine=False, crop=False, gridmask=False, size=(128, 128),\n",
    "                 normalize=True, train=True, threshold=40.,\n",
    "                 sigma=-1., blur_ratio=0., noise_ratio=0., cutout_ratio=0.,\n",
    "                 grid_distortion_ratio=0., elastic_distortion_ratio=0., random_brightness_ratio=0.,\n",
    "                 piece_affine_ratio=0., ssr_ratio=0., rotate_ratio=0.):\n",
    "        self.affine = affine\n",
    "        self.crop = crop\n",
    "        self.gridmask = gridmask\n",
    "        self.size = size\n",
    "        self.normalize = normalize\n",
    "        self.train = train\n",
    "        self.threshold = threshold / 255.\n",
    "        self.sigma = sigma / 255.\n",
    "\n",
    "        self.blur_ratio = blur_ratio\n",
    "        self.noise_ratio = noise_ratio\n",
    "        self.cutout_ratio = cutout_ratio\n",
    "        self.grid_distortion_ratio = grid_distortion_ratio\n",
    "        self.elastic_distortion_ratio = elastic_distortion_ratio\n",
    "        self.random_brightness_ratio = random_brightness_ratio\n",
    "        self.piece_affine_ratio = piece_affine_ratio\n",
    "        self.ssr_ratio = ssr_ratio\n",
    "        self.rotate_ratio = rotate_ratio\n",
    "        #self.gmask_ratio = gmask_ratio\n",
    "\n",
    "    def __call__(self, example):\n",
    "        if self.train:\n",
    "            x, y = example\n",
    "        else:\n",
    "            x = example\n",
    "        # --- Augmentation ---\n",
    "        if self.affine:\n",
    "            x = affine_image(x)\n",
    "\n",
    "        # --- Train/Test common preprocessing ---\n",
    "        if self.crop:\n",
    "            x = crop_char_image(x, threshold=self.threshold)\n",
    "        if self.gridmask:\n",
    "            x = apply_aug(GridMask(num_grid=3, p=0.2, mode=2), x)\n",
    "        if self.size is not None:\n",
    "            x = resize(x, size=self.size)\n",
    "        if self.sigma > 0.:\n",
    "            x = add_gaussian_noise(x, sigma=self.sigma)\n",
    "\n",
    "        # albumentations...\n",
    "        x = x.astype(np.float32)\n",
    "        assert x.ndim == 2\n",
    "        # 1. blur\n",
    "        if _evaluate_ratio(self.blur_ratio):\n",
    "            r = np.random.uniform()\n",
    "            if r < 0.25:\n",
    "                x = apply_aug(A.Blur(p=1.0), x)\n",
    "            elif r < 0.5:\n",
    "                x = apply_aug(A.MedianBlur(blur_limit=5, p=1.0), x)\n",
    "            elif r < 0.75:\n",
    "                x = apply_aug(A.GaussianBlur(p=1.0), x)\n",
    "            else:\n",
    "                x = apply_aug(A.MotionBlur(p=1.0), x)\n",
    "\n",
    "        if _evaluate_ratio(self.noise_ratio):\n",
    "            r = np.random.uniform()\n",
    "            if r < 0.50:\n",
    "                x = apply_aug(A.GaussNoise(var_limit=5. / 255., p=1.0), x)\n",
    "            else:\n",
    "                x = apply_aug(A.MultiplicativeNoise(p=1.0), x)\n",
    "\n",
    "        if _evaluate_ratio(self.cutout_ratio):\n",
    "            # A.Cutout(num_holes=2,  max_h_size=2, max_w_size=2, p=1.0)  # Deprecated...\n",
    "            #x = apply_aug(A.CoarseDropout(max_holes=10, max_height=13, max_width=23, p=1.0), x)\n",
    "            x = apply_aug(A.Cutout(num_holes=10, max_h_size=13, max_w_size=23, p=1), x)\n",
    "\n",
    "        if _evaluate_ratio(self.grid_distortion_ratio):\n",
    "            x = apply_aug(A.GridDistortion(p=1.0), x)\n",
    "\n",
    "        if _evaluate_ratio(self.elastic_distortion_ratio):\n",
    "            x = apply_aug(A.ElasticTransform(\n",
    "                sigma=50, alpha=1, alpha_affine=10, p=1.0), x)\n",
    "\n",
    "        if _evaluate_ratio(self.random_brightness_ratio):\n",
    "            # A.RandomBrightness(p=1.0)  # Deprecated...\n",
    "            # A.RandomContrast(p=1.0)    # Deprecated...\n",
    "            x = apply_aug(A.RandomBrightnessContrast(p=1.0), x)\n",
    "\n",
    "        if _evaluate_ratio(self.piece_affine_ratio):\n",
    "            x = apply_aug(A.IAAPiecewiseAffine(p=1.0), x)\n",
    "\n",
    "        if _evaluate_ratio(self.ssr_ratio):\n",
    "            x = apply_aug(A.ShiftScaleRotate(\n",
    "                shift_limit=0.0625,\n",
    "                scale_limit=0.1,\n",
    "                rotate_limit=30,\n",
    "                p=1.0), x)\n",
    "            \n",
    "        if _evaluate_ratio(self.rotate_ratio):\n",
    "            x = apply_aug(A.Rotate(limit=20), x)\n",
    "\n",
    "        if self.normalize:\n",
    "            x = (x.astype(np.float32) - 0.0692) / 0.2051\n",
    "        if x.ndim == 2:\n",
    "            x = x[None, :, :]\n",
    "        x = x.astype(np.float32)\n",
    "        if self.train:\n",
    "            y = y.astype(np.int64)\n",
    "            return x, y\n",
    "        else:\n",
    "            return x"
   ]
  },
  {
   "cell_type": "markdown",
   "metadata": {},
   "source": [
    "<a id=\"model\"></a> \n",
    "# pytorch model & define classifier"
   ]
  },
  {
   "cell_type": "code",
   "execution_count": 15,
   "metadata": {
    "_kg_hide-input": true
   },
   "outputs": [],
   "source": [
    "import torch\n",
    "\n",
    "\n",
    "def residual_add(lhs, rhs):\n",
    "    lhs_ch, rhs_ch = lhs.shape[1], rhs.shape[1]\n",
    "    if lhs_ch < rhs_ch:\n",
    "        out = lhs + rhs[:, :lhs_ch]\n",
    "    elif lhs_ch > rhs_ch:\n",
    "        out = torch.cat([lhs[:, :rhs_ch] + rhs, lhs[:, rhs_ch:]], dim=1)\n",
    "    else:\n",
    "        out = lhs + rhs\n",
    "    return out\n"
   ]
  },
  {
   "cell_type": "code",
   "execution_count": 16,
   "metadata": {
    "_kg_hide-input": true
   },
   "outputs": [],
   "source": [
    "from typing import List\n",
    "\n",
    "import torch\n",
    "from torch import nn\n",
    "from torch.nn.parameter import Parameter\n",
    "\n",
    "\n",
    "class LazyLoadModule(nn.Module):\n",
    "    \"\"\"Lazy buffer/parameter loading using load_state_dict_pre_hook\n",
    "\n",
    "    Define all buffer/parameter in `_lazy_buffer_keys`/`_lazy_parameter_keys` and\n",
    "    save buffer with `register_buffer`/`register_parameter`\n",
    "    method, which can be outside of __init__ method.\n",
    "    Then this module can load any shape of Tensor during de-serializing.\n",
    "\n",
    "    Note that default value of lazy buffer is torch.Tensor([]), while lazy parameter is None.\n",
    "    \"\"\"\n",
    "    _lazy_buffer_keys: List[str] = []     # It needs to be override to register lazy buffer\n",
    "    _lazy_parameter_keys: List[str] = []  # It needs to be override to register lazy parameter\n",
    "\n",
    "    def __init__(self):\n",
    "        super(LazyLoadModule, self).__init__()\n",
    "        for k in self._lazy_buffer_keys:\n",
    "            self.register_buffer(k, torch.tensor([]))\n",
    "        for k in self._lazy_parameter_keys:\n",
    "            self.register_parameter(k, None)\n",
    "        self._register_load_state_dict_pre_hook(self._hook)\n",
    "\n",
    "    def _hook(self, state_dict, prefix, local_metadata, strict, missing_keys,\n",
    "             unexpected_keys, error_msgs):\n",
    "        for key in self._lazy_buffer_keys:\n",
    "            self.register_buffer(key, state_dict[prefix + key])\n",
    "\n",
    "        for key in self._lazy_parameter_keys:\n",
    "            self.register_parameter(key, Parameter(state_dict[prefix + key]))\n"
   ]
  },
  {
   "cell_type": "code",
   "execution_count": 17,
   "metadata": {
    "_kg_hide-input": true
   },
   "outputs": [],
   "source": [
    "import math\n",
    "import torch\n",
    "from torch.nn import init\n",
    "from torch.nn.parameter import Parameter\n",
    "import torch.nn.functional as F\n",
    "\n",
    "\n",
    "class LazyLinear(LazyLoadModule):\n",
    "    \"\"\"Linear module with lazy input inference\n",
    "\n",
    "    `in_features` can be `None`, and it is determined at the first time of forward step dynamically.\n",
    "    \"\"\"\n",
    "\n",
    "    __constants__ = ['bias', 'in_features', 'out_features']\n",
    "    _lazy_parameter_keys = ['weight']\n",
    "\n",
    "    def __init__(self, in_features, out_features, bias=True):\n",
    "        super(LazyLinear, self).__init__()\n",
    "        self.in_features = in_features\n",
    "        self.out_features = out_features\n",
    "        if bias:\n",
    "            self.bias = Parameter(torch.Tensor(out_features))\n",
    "        else:\n",
    "            self.register_parameter('bias', None)\n",
    "\n",
    "        if in_features is not None:\n",
    "            self.weight = Parameter(torch.Tensor(out_features, in_features))\n",
    "            self.reset_parameters()\n",
    "\n",
    "    def reset_parameters(self):\n",
    "        init.kaiming_uniform_(self.weight, a=math.sqrt(5))\n",
    "        if self.bias is not None:\n",
    "            fan_in, _ = init._calculate_fan_in_and_fan_out(self.weight)\n",
    "            bound = 1 / math.sqrt(fan_in)\n",
    "            init.uniform_(self.bias, -bound, bound)\n",
    "\n",
    "    def forward(self, input):\n",
    "        if self.weight is None:\n",
    "            self.in_features = input.shape[-1]\n",
    "            self.weight = Parameter(torch.Tensor(self.out_features, self.in_features))\n",
    "            self.reset_parameters()\n",
    "\n",
    "            # Need to send lazy defined parameter to device...\n",
    "            self.to(input.device)\n",
    "        return F.linear(input, self.weight, self.bias)\n",
    "\n",
    "    def extra_repr(self):\n",
    "        return 'in_features={}, out_features={}, bias={}'.format(\n",
    "            self.in_features, self.out_features, self.bias is not None\n",
    "        )\n"
   ]
  },
  {
   "cell_type": "code",
   "execution_count": 18,
   "metadata": {
    "_kg_hide-input": true
   },
   "outputs": [],
   "source": [
    "from torch import nn\n",
    "import torch.nn.functional as F\n",
    "\n",
    "\n",
    "class LinearBlock(nn.Module):\n",
    "\n",
    "    def __init__(self, in_features, out_features, bias=True,\n",
    "                 use_bn=True, activation=F.relu, dropout_ratio=-1, residual=False,):\n",
    "        super(LinearBlock, self).__init__()\n",
    "        if in_features is None:\n",
    "            self.linear = LazyLinear(in_features, out_features, bias=bias)\n",
    "        else:\n",
    "            self.linear = nn.Linear(in_features, out_features, bias=bias)\n",
    "        if use_bn:\n",
    "            self.bn = nn.BatchNorm1d(out_features)\n",
    "        if dropout_ratio > 0.:\n",
    "            self.dropout = nn.Dropout(p=dropout_ratio)\n",
    "        else:\n",
    "            self.dropout = None\n",
    "        self.activation = activation\n",
    "        self.use_bn = use_bn\n",
    "        self.dropout_ratio = dropout_ratio\n",
    "        self.residual = residual\n",
    "\n",
    "    def __call__(self, x):\n",
    "        h = self.linear(x)\n",
    "        if self.use_bn:\n",
    "            h = self.bn(h)\n",
    "        if self.activation is not None:\n",
    "            h = self.activation(h)\n",
    "        if self.residual:\n",
    "            h = residual_add(h, x)\n",
    "        if self.dropout_ratio > 0:\n",
    "            h = self.dropout(h)\n",
    "        return h"
   ]
  },
  {
   "cell_type": "code",
   "execution_count": 19,
   "metadata": {},
   "outputs": [],
   "source": [
    "import pretrainedmodels\n",
    "import torch\n",
    "from torch import nn\n",
    "import torch.nn.functional as F\n",
    "from torch.nn import Sequential\n",
    "\n",
    "\n",
    "class PretrainedCNN(nn.Module):\n",
    "    def __init__(self, model_name='se_resnext101_32x4d',\n",
    "                 in_channels=1, out_dim=10, use_bn=True,\n",
    "                 pretrained='imagenet'):\n",
    "        super(PretrainedCNN, self).__init__()\n",
    "        self.conv0 = nn.Conv2d(\n",
    "            in_channels, 3, kernel_size=3, stride=1, padding=1, bias=True)\n",
    "        self.base_model = pretrainedmodels.__dict__[model_name](pretrained=pretrained)\n",
    "        activation = F.leaky_relu\n",
    "        self.do_pooling = True\n",
    "        if self.do_pooling:\n",
    "            inch = self.base_model.last_linear.in_features\n",
    "        else:\n",
    "            inch = None\n",
    "        hdim = 512\n",
    "        lin1 = LinearBlock(inch, hdim, use_bn=use_bn, activation=activation, residual=False)\n",
    "        lin2 = LinearBlock(hdim, out_dim, use_bn=use_bn, activation=None, residual=False)\n",
    "        self.lin_layers = Sequential(lin1, lin2)\n",
    "\n",
    "    def forward(self, x):\n",
    "        h = self.conv0(x)\n",
    "        h = self.base_model.features(h)\n",
    "\n",
    "        if self.do_pooling:\n",
    "            h = torch.sum(h, dim=(-1, -2))\n",
    "        else:\n",
    "            # [128, 2048, 4, 4] when input is (128, 128)\n",
    "            bs, ch, height, width = h.shape\n",
    "            h = h.view(bs, ch*height*width)\n",
    "        for layer in self.lin_layers:\n",
    "            h = layer(h)\n",
    "        return h"
   ]
  },
  {
   "cell_type": "markdown",
   "metadata": {},
   "source": [
    "## Classifier"
   ]
  },
  {
   "cell_type": "code",
   "execution_count": 20,
   "metadata": {
    "_kg_hide-input": true
   },
   "outputs": [],
   "source": [
    "import torch\n",
    "from torch import nn\n",
    "import torch.nn.functional as F\n",
    "from tqdm import tqdm\n",
    "\n",
    "\n",
    "def accuracy(y, t):\n",
    "    pred_label = torch.argmax(y, dim=1)\n",
    "    count = pred_label.shape[0]\n",
    "    correct = (pred_label == t).sum().type(torch.float32)\n",
    "    acc = correct / count\n",
    "    return acc\n",
    "\n",
    "\n",
    "class BengaliClassifier(nn.Module):\n",
    "    def __init__(self, predictor, n_grapheme=168, n_vowel=11, n_consonant=7):\n",
    "        super(BengaliClassifier, self).__init__()\n",
    "        self.n_grapheme = n_grapheme\n",
    "        self.n_vowel = n_vowel\n",
    "        self.n_consonant = n_consonant\n",
    "        self.n_total_class = self.n_grapheme + self.n_vowel + self.n_consonant\n",
    "        self.predictor = predictor\n",
    "\n",
    "        self.metrics_keys = [\n",
    "            'loss', 'loss_grapheme', 'loss_vowel', 'loss_consonant',\n",
    "            'acc_grapheme', 'acc_vowel', 'acc_consonant']\n",
    "\n",
    "    def forward(self, x, y=None):\n",
    "        pred = self.predictor(x)\n",
    "        if isinstance(pred, tuple):\n",
    "            assert len(pred) == 3\n",
    "            preds = pred\n",
    "        else:\n",
    "            assert pred.shape[1] == self.n_total_class\n",
    "            preds = torch.split(pred, [self.n_grapheme, self.n_vowel, self.n_consonant], dim=1)\n",
    "        loss_grapheme = F.cross_entropy(preds[0], y[:, 0])\n",
    "        loss_vowel = F.cross_entropy(preds[1], y[:, 1])\n",
    "        loss_consonant = F.cross_entropy(preds[2], y[:, 2])\n",
    "        loss = loss_grapheme + loss_vowel + loss_consonant\n",
    "        metrics = {\n",
    "            'loss': loss.item(),\n",
    "            'loss_grapheme': loss_grapheme.item(),\n",
    "            'loss_vowel': loss_vowel.item(),\n",
    "            'loss_consonant': loss_consonant.item(),\n",
    "            'acc_grapheme': accuracy(preds[0], y[:, 0]),\n",
    "            'acc_vowel': accuracy(preds[1], y[:, 1]),\n",
    "            'acc_consonant': accuracy(preds[2], y[:, 2]),\n",
    "        }\n",
    "        return loss, metrics, pred\n",
    "\n",
    "    def calc(self, data_loader):\n",
    "        device: torch.device = next(self.parameters()).device\n",
    "        self.eval()\n",
    "        output_list = []\n",
    "        with torch.no_grad():\n",
    "            for batch in tqdm(data_loader):\n",
    "                # TODO: support general preprocessing.\n",
    "                # If `data` is not `Data` instance, `to` method is not supported!\n",
    "                batch = batch.to(device)\n",
    "                pred = self.predictor(batch)\n",
    "                output_list.append(pred)\n",
    "        output = torch.cat(output_list, dim=0)\n",
    "        preds = torch.split(output, [self.n_grapheme, self.n_vowel, self.n_consonant], dim=1)\n",
    "        return preds\n",
    "\n",
    "    def predict_proba(self, data_loader):\n",
    "        preds = self.calc(data_loader)\n",
    "        return [F.softmax(p, dim=1) for p in preds]\n",
    "\n",
    "    def predict(self, data_loader):\n",
    "        preds = self.calc(data_loader)\n",
    "        pred_labels = [torch.argmax(p, dim=1) for p in preds]\n",
    "        return pred_labels\n"
   ]
  },
  {
   "cell_type": "markdown",
   "metadata": {},
   "source": [
    "<a id=\"train\"></a>\n",
    "# Training code"
   ]
  },
  {
   "cell_type": "markdown",
   "metadata": {},
   "source": [
    "## prepare data"
   ]
  },
  {
   "cell_type": "code",
   "execution_count": 21,
   "metadata": {},
   "outputs": [],
   "source": [
    "train_transform = Transform(size=(image_size, image_size), \n",
    "                            threshold=20., gridmask=False, cutout_ratio=1.0, rotate_ratio=1.0)\n",
    "\n",
    "valid_transform = Transform(size=(image_size, image_size), threshold=20., gridmask=False)"
   ]
  },
  {
   "cell_type": "code",
   "execution_count": 22,
   "metadata": {},
   "outputs": [
    {
     "name": "stdout",
     "output_type": "stream",
     "text": [
      "CPU times: user 6 µs, sys: 7 µs, total: 13 µs\n",
      "Wall time: 14.8 µs\n"
     ]
    }
   ],
   "source": [
    "%%time\n",
    "msss = MultilabelStratifiedShuffleSplit(n_splits=1, test_size=0.2 ,random_state=SEED)"
   ]
  },
  {
   "cell_type": "code",
   "execution_count": 23,
   "metadata": {},
   "outputs": [],
   "source": [
    "for tr, val in msss.split(train_images, train_labels):\n",
    "    tr_idx = tr\n",
    "    val_idx = val"
   ]
  },
  {
   "cell_type": "code",
   "execution_count": 24,
   "metadata": {
    "_kg_hide-input": true
   },
   "outputs": [
    {
     "name": "stdout",
     "output_type": "stream",
     "text": [
      "train_dataset 160672 valid_dataset 40168\n"
     ]
    }
   ],
   "source": [
    "#n_dataset = len(train_images)\n",
    "#train_data_size = 200 if debug else int(n_dataset * 0.8)\n",
    "#valid_data_size = 100 if debug else int(n_dataset - train_data_size)\n",
    "\n",
    "#perm = np.random.RandomState(777).permutation(n_dataset)\n",
    "#print('perm', perm)\n",
    "\n",
    "train_dataset = BengaliAIDataset(\n",
    "    train_images, train_labels, transform=train_transform,\n",
    "    indices=tr_idx)\n",
    "\n",
    "valid_dataset = BengaliAIDataset(\n",
    "    train_images, train_labels, transform=valid_transform,\n",
    "    indices=val_idx)\n",
    "print('train_dataset', len(train_dataset), 'valid_dataset', len(valid_dataset))"
   ]
  },
  {
   "cell_type": "code",
   "execution_count": 25,
   "metadata": {},
   "outputs": [
    {
     "name": "stdout",
     "output_type": "stream",
     "text": [
      "n_total 186\n",
      "predictor <class '__main__.PretrainedCNN'>\n"
     ]
    }
   ],
   "source": [
    "# --- Model ---\n",
    "device = torch.device(device)\n",
    "n_grapheme = 168\n",
    "n_vowel = 11\n",
    "n_consonant = 7\n",
    "n_total = n_grapheme + n_vowel + n_consonant\n",
    "print('n_total', n_total)\n",
    "# Set pretrained='imagenet' to download imagenet pretrained model...\n",
    "predictor = PretrainedCNN(in_channels=1, out_dim=n_total, model_name=model_name, pretrained=None)\n",
    "print('predictor', type(predictor))\n",
    "\n",
    "classifier = BengaliClassifier(predictor).to(device)"
   ]
  },
  {
   "cell_type": "markdown",
   "metadata": {},
   "source": [
    "## Ignite utility\n",
    "\n",
    "pytorch-ignite utility class for training"
   ]
  },
  {
   "cell_type": "code",
   "execution_count": 26,
   "metadata": {
    "_kg_hide-input": true
   },
   "outputs": [],
   "source": [
    "import json\n",
    "from logging import getLogger\n",
    "import numpy\n",
    "\n",
    "def save_json(filepath, params):\n",
    "    with open(filepath, 'w') as f:\n",
    "        json.dump(params, f, indent=4)"
   ]
  },
  {
   "cell_type": "code",
   "execution_count": 27,
   "metadata": {
    "_kg_hide-input": true
   },
   "outputs": [],
   "source": [
    "import os\n",
    "from logging import getLogger\n",
    "from time import perf_counter\n",
    "\n",
    "import pandas as pd\n",
    "import torch\n",
    "# from chainer_chemistry.utils import save_json\n",
    "\n",
    "from ignite.engine.engine import Engine, Events\n",
    "from ignite.metrics import Average\n",
    "\n",
    "\n",
    "class DictOutputTransform:\n",
    "    def __init__(self, key, index=0):\n",
    "        self.key = key\n",
    "        self.index = index\n",
    "\n",
    "    def __call__(self, x):\n",
    "        if self.index >= 0:\n",
    "            x = x[self.index]\n",
    "        return x[self.key]\n",
    "\n",
    "\n",
    "def create_trainer(classifier, optimizer, device):\n",
    "    classifier.to(device)\n",
    "\n",
    "    def update_fn(engine, batch):\n",
    "        classifier.train()\n",
    "        optimizer.zero_grad()\n",
    "        # batch = [elem.to(device) for elem in batch]\n",
    "        x, y = [elem.to(device) for elem in batch]\n",
    "        loss, metrics, pred_y = classifier(x, y)\n",
    "        loss.backward()\n",
    "        optimizer.step()\n",
    "        return metrics, pred_y, y\n",
    "    trainer = Engine(update_fn)\n",
    "\n",
    "    for key in classifier.metrics_keys:\n",
    "        Average(output_transform=DictOutputTransform(key)).attach(trainer, key)\n",
    "    return trainer\n",
    "\n",
    "\n",
    "def create_evaluator(classifier, device):\n",
    "    classifier.to(device)\n",
    "\n",
    "    def update_fn(engine, batch):\n",
    "        classifier.eval()\n",
    "        with torch.no_grad():\n",
    "            # batch = [elem.to(device) for elem in batch]\n",
    "            x, y = [elem.to(device) for elem in batch]\n",
    "            _, metrics, pred_y = classifier(x, y)\n",
    "            return metrics, pred_y, y\n",
    "    evaluator = Engine(update_fn)\n",
    "\n",
    "    for key in classifier.metrics_keys:\n",
    "        Average(output_transform=DictOutputTransform(key)).attach(evaluator, key)\n",
    "    return evaluator\n",
    "\n",
    "\n",
    "class LogReport:\n",
    "    def __init__(self, evaluator=None, dirpath=None, logger=None):\n",
    "        self.evaluator = evaluator\n",
    "        self.dirpath = str(dirpath) if dirpath is not None else None\n",
    "        self.logger = logger or getLogger(__name__)\n",
    "\n",
    "        self.reported_dict = {}  # To handle additional parameter to monitor\n",
    "        self.history = []\n",
    "        self.start_time = perf_counter()\n",
    "\n",
    "    def report(self, key, value):\n",
    "        self.reported_dict[key] = value\n",
    "\n",
    "    def __call__(self, engine):\n",
    "        elapsed_time = perf_counter() - self.start_time\n",
    "        elem = {'epoch': engine.state.epoch,\n",
    "                'iteration': engine.state.iteration}\n",
    "        elem.update({f'train/{key}': value\n",
    "                     for key, value in engine.state.metrics.items()})\n",
    "        if self.evaluator is not None:\n",
    "            elem.update({f'valid/{key}': value\n",
    "                         for key, value in self.evaluator.state.metrics.items()})\n",
    "        elem.update(self.reported_dict)\n",
    "        elem['elapsed_time'] = elapsed_time\n",
    "        self.history.append(elem)\n",
    "        if self.dirpath:\n",
    "            save_json(os.path.join(self.dirpath, 'log.json'), self.history)\n",
    "            self.get_dataframe().to_csv(os.path.join(self.dirpath, 'log.csv'), index=False)\n",
    "\n",
    "        # --- print ---\n",
    "        msg = ''\n",
    "        for key, value in elem.items():\n",
    "            if key in ['iteration']:\n",
    "                # skip printing some parameters...\n",
    "                continue\n",
    "            elif isinstance(value, int):\n",
    "                msg += f'{key} {value: >6d} '\n",
    "            else:\n",
    "                msg += f'{key} {value: 8f} '\n",
    "#         self.logger.warning(msg)\n",
    "        print(msg)\n",
    "\n",
    "        # --- Reset ---\n",
    "        self.reported_dict = {}\n",
    "\n",
    "    def get_dataframe(self):\n",
    "        df = pd.DataFrame(self.history)\n",
    "        return df\n",
    "\n",
    "\n",
    "class SpeedCheckHandler:\n",
    "    def __init__(self, iteration_interval=10, logger=None):\n",
    "        self.iteration_interval = iteration_interval\n",
    "        self.logger = logger or getLogger(__name__)\n",
    "        self.prev_time = perf_counter()\n",
    "\n",
    "    def __call__(self, engine: Engine):\n",
    "        if engine.state.iteration % self.iteration_interval == 0:\n",
    "            cur_time = perf_counter()\n",
    "            spd = self.iteration_interval / (cur_time - self.prev_time)\n",
    "            self.logger.warning(f'{spd} iter/sec')\n",
    "            # reset\n",
    "            self.prev_time = cur_time\n",
    "\n",
    "    def attach(self, engine: Engine):\n",
    "        engine.add_event_handler(Events.ITERATION_COMPLETED, self)\n",
    "\n",
    "\n",
    "class ModelSnapshotHandler:\n",
    "    def __init__(self, model, filepath='model_{count:06}.pt',\n",
    "                 interval=1, logger=None):\n",
    "        self.model = model\n",
    "        self.filepath: str = str(filepath)\n",
    "        self.interval = interval\n",
    "        self.logger = logger or getLogger(__name__)\n",
    "        self.count = 0\n",
    "\n",
    "    def __call__(self, engine: Engine):\n",
    "        self.count += 1\n",
    "        if self.count % self.interval == 0:\n",
    "            filepath = self.filepath.format(count=self.count)\n",
    "            torch.save(self.model.state_dict(), filepath)\n",
    "            # self.logger.warning(f'save model to {filepath}...')\n"
   ]
  },
  {
   "cell_type": "code",
   "execution_count": 28,
   "metadata": {
    "_kg_hide-input": true
   },
   "outputs": [],
   "source": [
    "import warnings\n",
    "\n",
    "import torch\n",
    "\n",
    "from ignite.metrics.metric import Metric\n",
    "\n",
    "\n",
    "class EpochMetric(Metric):\n",
    "    \"\"\"Class for metrics that should be computed on the entire output history of a model.\n",
    "    Model's output and targets are restricted to be of shape `(batch_size, n_classes)`. Output\n",
    "    datatype should be `float32`. Target datatype should be `long`.\n",
    "\n",
    "    .. warning::\n",
    "\n",
    "        Current implementation stores all input data (output and target) in as tensors before computing a metric.\n",
    "        This can potentially lead to a memory error if the input data is larger than available RAM.\n",
    "\n",
    "\n",
    "    - `update` must receive output of the form `(y_pred, y)`.\n",
    "\n",
    "    If target shape is `(batch_size, n_classes)` and `n_classes > 1` than it should be binary: e.g. `[[0, 1, 0, 1], ]`.\n",
    "\n",
    "    Args:\n",
    "        compute_fn (callable): a callable with the signature (`torch.tensor`, `torch.tensor`) takes as the input\n",
    "            `predictions` and `targets` and returns a scalar.\n",
    "        output_transform (callable, optional): a callable that is used to transform the\n",
    "            :class:`~ignite.engine.Engine`'s `process_function`'s output into the\n",
    "            form expected by the metric. This can be useful if, for example, you have a multi-output model and\n",
    "            you want to compute the metric with respect to one of the outputs.\n",
    "\n",
    "    \"\"\"\n",
    "\n",
    "    def __init__(self, compute_fn, output_transform=lambda x: x):\n",
    "\n",
    "        if not callable(compute_fn):\n",
    "            raise TypeError(\"Argument compute_fn should be callable.\")\n",
    "\n",
    "        super(EpochMetric, self).__init__(output_transform=output_transform)\n",
    "        self.compute_fn = compute_fn\n",
    "\n",
    "    def reset(self):\n",
    "        self._predictions = torch.tensor([], dtype=torch.float32)\n",
    "        self._targets = torch.tensor([], dtype=torch.long)\n",
    "\n",
    "    def update(self, output):\n",
    "        y_pred, y = output\n",
    "        self._predictions = torch.cat([self._predictions, y_pred], dim=0)\n",
    "        self._targets = torch.cat([self._targets, y], dim=0)\n",
    "\n",
    "        # Check once the signature and execution of compute_fn\n",
    "        if self._predictions.shape == y_pred.shape:\n",
    "            try:\n",
    "                self.compute_fn(self._predictions, self._targets)\n",
    "            except Exception as e:\n",
    "                warnings.warn(\"Probably, there can be a problem with `compute_fn`:\\n {}.\".format(e),\n",
    "                              RuntimeWarning)\n",
    "\n",
    "    def compute(self):\n",
    "        return self.compute_fn(self._predictions, self._targets)\n"
   ]
  },
  {
   "cell_type": "code",
   "execution_count": 29,
   "metadata": {
    "_kg_hide-input": true
   },
   "outputs": [],
   "source": [
    "import numpy as np\n",
    "import sklearn.metrics\n",
    "import torch\n",
    "\n",
    "\n",
    "def macro_recall(pred_y, y, n_grapheme=168, n_vowel=11, n_consonant=7):\n",
    "    pred_y = torch.split(pred_y, [n_grapheme, n_vowel, n_consonant], dim=1)\n",
    "    pred_labels = [torch.argmax(py, dim=1).cpu().numpy() for py in pred_y]\n",
    "\n",
    "    y = y.cpu().numpy()\n",
    "    # pred_y = [p.cpu().numpy() for p in pred_y]\n",
    "\n",
    "    recall_grapheme = sklearn.metrics.recall_score(pred_labels[0], y[:, 0], average='macro')\n",
    "    recall_vowel = sklearn.metrics.recall_score(pred_labels[1], y[:, 1], average='macro')\n",
    "    recall_consonant = sklearn.metrics.recall_score(pred_labels[2], y[:, 2], average='macro')\n",
    "    scores = [recall_grapheme, recall_vowel, recall_consonant]\n",
    "    final_score = np.average(scores, weights=[2, 1, 1])\n",
    "    # print(f'recall: grapheme {recall_grapheme}, vowel {recall_vowel}, consonant {recall_consonant}, '\n",
    "    #       f'total {final_score}, y {y.shape}')\n",
    "    return final_score\n",
    "\n",
    "\n",
    "def calc_macro_recall(solution, submission):\n",
    "    # solution df, submission df\n",
    "    scores = []\n",
    "    for component in ['grapheme_root', 'consonant_diacritic', 'vowel_diacritic']:\n",
    "        y_true_subset = solution[solution[component] == component]['target'].values\n",
    "        y_pred_subset = submission[submission[component] == component]['target'].values\n",
    "        scores.append(sklearn.metrics.recall_score(\n",
    "            y_true_subset, y_pred_subset, average='macro'))\n",
    "    final_score = np.average(scores, weights=[2, 1, 1])\n",
    "    return final_score\n"
   ]
  },
  {
   "cell_type": "code",
   "execution_count": 30,
   "metadata": {
    "_kg_hide-output": true
   },
   "outputs": [
    {
     "data": {
      "text/plain": [
       "<ignite.engine.events.RemovableEventHandle at 0x7fdadcfe2750>"
      ]
     },
     "execution_count": 30,
     "metadata": {},
     "output_type": "execute_result"
    }
   ],
   "source": [
    "import argparse\n",
    "from distutils.util import strtobool\n",
    "import os\n",
    "\n",
    "import torch\n",
    "from ignite.contrib.handlers import ProgressBar\n",
    "from ignite.engine import Events\n",
    "from numpy.random.mtrand import RandomState\n",
    "from torch.utils.data.dataloader import DataLoader\n",
    "\n",
    "# --- Training setting ---\n",
    "\n",
    "train_loader = DataLoader(train_dataset, batch_size=batch_size, shuffle=True, num_workers=8)\n",
    "valid_loader = DataLoader(valid_dataset, batch_size=batch_size, shuffle=False, num_workers=8)\n",
    "\n",
    "\n",
    "optimizer = torch.optim.Adam(classifier.parameters(), lr=0.001)\n",
    "scheduler = torch.optim.lr_scheduler.ReduceLROnPlateau(\n",
    "    optimizer, mode='max', factor=0.7, patience=5, min_lr=1e-10)\n",
    "\n",
    "trainer = create_trainer(classifier, optimizer, device)\n",
    "def output_transform(output):\n",
    "    metric, pred_y, y = output\n",
    "    return pred_y.cpu(), y.cpu()\n",
    "EpochMetric(\n",
    "    compute_fn=macro_recall,\n",
    "    output_transform=output_transform\n",
    ").attach(trainer, 'recall')\n",
    "\n",
    "pbar = ProgressBar()\n",
    "pbar.attach(trainer, metric_names='all')\n",
    "\n",
    "evaluator = create_evaluator(classifier, device)\n",
    "EpochMetric(\n",
    "    compute_fn=macro_recall,\n",
    "    output_transform=output_transform\n",
    ").attach(evaluator, 'recall')\n",
    "\n",
    "def run_evaluator(engine):\n",
    "    evaluator.run(valid_loader)\n",
    "\n",
    "def schedule_lr(engine):\n",
    "    metrics = evaluator.state.metrics\n",
    "    #metrics = engine.state.metrics\n",
    "    avg_mae = metrics['recall']\n",
    "\n",
    "    # --- update lr ---\n",
    "    lr = scheduler.optimizer.param_groups[0]['lr']\n",
    "    scheduler.step(avg_mae)\n",
    "    log_report.report('lr', lr)\n",
    "\n",
    "def score_fn(engine):\n",
    "    recall = evaluator.state.metrics['recall']\n",
    "    return recall\n",
    "\n",
    "trainer.add_event_handler(Events.EPOCH_COMPLETED, run_evaluator)\n",
    "trainer.add_event_handler(Events.EPOCH_COMPLETED, schedule_lr)\n",
    "log_report = LogReport(evaluator, outdir)\n",
    "trainer.add_event_handler(Events.EPOCH_COMPLETED, log_report)\n",
    "trainer.add_event_handler(\n",
    "    Events.EPOCH_COMPLETED,\n",
    "    ModelSnapshotHandler(predictor, filepath=outdir / '64_base_Cutout_v1_rotate_v2.pt'))\n",
    "\n",
    "from ignite.handlers import Checkpoint, DiskSaver, global_step_from_engine\n",
    "\n",
    "to_save = {'model': predictor}\n",
    "handler = Checkpoint(to_save, DiskSaver('../bengali/model/64_base_Cutout_v1_rotate_v2/', require_empty=False), \n",
    "                     n_saved=1, filename_prefix='best_64_base_Cutout_v1_rotate_v2', score_function=score_fn,\n",
    "                    score_name='recall', global_step_transform=global_step_from_engine(trainer))\n",
    "\n",
    "evaluator.add_event_handler(Events.COMPLETED, handler)\n"
   ]
  },
  {
   "cell_type": "code",
   "execution_count": 31,
   "metadata": {},
   "outputs": [
    {
     "name": "stderr",
     "output_type": "stream",
     "text": [
      "                                                     \r"
     ]
    },
    {
     "name": "stdout",
     "output_type": "stream",
     "text": [
      "epoch      1 train/loss  7.165123 train/loss_grapheme  4.456002 train/loss_vowel  1.377531 train/loss_consonant  1.331589 train/acc_grapheme  0.075275 train/acc_vowel  0.562583 train/acc_consonant  0.621535 train/recall  0.237206 valid/loss  4.344983 valid/loss_grapheme  3.052971 valid/loss_vowel  0.633133 valid/loss_consonant  0.658878 valid/acc_grapheme  0.255039 valid/acc_vowel  0.805021 valid/acc_consonant  0.853951 valid/recall  0.527162 lr  0.001000 elapsed_time  119.677340 \n"
     ]
    },
    {
     "name": "stderr",
     "output_type": "stream",
     "text": [
      "                                                                                                                                                                                                   \r"
     ]
    },
    {
     "name": "stdout",
     "output_type": "stream",
     "text": [
      "epoch      2 train/loss  4.891118 train/loss_grapheme  3.232455 train/loss_vowel  0.864334 train/loss_consonant  0.794329 train/acc_grapheme  0.237624 train/acc_vowel  0.721265 train/acc_consonant  0.781656 train/recall  0.486422 valid/loss  2.250212 valid/loss_grapheme  1.505020 valid/loss_vowel  0.349266 valid/loss_consonant  0.395926 valid/acc_grapheme  0.577054 valid/acc_vowel  0.899328 valid/acc_consonant  0.916862 valid/recall  0.755823 lr  0.001000 elapsed_time  243.062571 \n"
     ]
    },
    {
     "name": "stderr",
     "output_type": "stream",
     "text": [
      "                                                                                                                                                                                                    \r"
     ]
    },
    {
     "name": "stdout",
     "output_type": "stream",
     "text": [
      "epoch      3 train/loss  3.918113 train/loss_grapheme  2.599789 train/loss_vowel  0.695207 train/loss_consonant  0.623118 train/acc_grapheme  0.353621 train/acc_vowel  0.772213 train/acc_consonant  0.814140 train/recall  0.574989 valid/loss  1.686835 valid/loss_grapheme  1.058709 valid/loss_vowel  0.259206 valid/loss_consonant  0.368921 valid/acc_grapheme  0.694927 valid/acc_vowel  0.925540 valid/acc_consonant  0.907823 valid/recall  0.804287 lr  0.001000 elapsed_time  366.866566 \n"
     ]
    },
    {
     "name": "stderr",
     "output_type": "stream",
     "text": [
      "                                                                                                                                                                                                   \r"
     ]
    },
    {
     "name": "stdout",
     "output_type": "stream",
     "text": [
      "epoch      4 train/loss  3.429182 train/loss_grapheme  2.268525 train/loss_vowel  0.616707 train/loss_consonant  0.543950 train/acc_grapheme  0.424798 train/acc_vowel  0.795861 train/acc_consonant  0.828278 train/recall  0.619967 valid/loss  1.193877 valid/loss_grapheme  0.784612 valid/loss_vowel  0.192367 valid/loss_consonant  0.216898 valid/acc_grapheme  0.778749 valid/acc_vowel  0.946898 valid/acc_consonant  0.941465 valid/recall  0.844860 lr  0.001000 elapsed_time  489.742199 \n"
     ]
    },
    {
     "name": "stderr",
     "output_type": "stream",
     "text": [
      "                                                                                                                                                                                                   \r"
     ]
    },
    {
     "name": "stdout",
     "output_type": "stream",
     "text": [
      "epoch      5 train/loss  3.126261 train/loss_grapheme  2.075365 train/loss_vowel  0.560663 train/loss_consonant  0.490233 train/acc_grapheme  0.461895 train/acc_vowel  0.813625 train/acc_consonant  0.842191 train/recall  0.645399 valid/loss  0.916585 valid/loss_grapheme  0.611492 valid/loss_vowel  0.147341 valid/loss_consonant  0.157753 valid/acc_grapheme  0.825072 valid/acc_vowel  0.959292 valid/acc_consonant  0.959339 valid/recall  0.883065 lr  0.001000 elapsed_time  612.640927 \n"
     ]
    },
    {
     "name": "stderr",
     "output_type": "stream",
     "text": [
      "                                                                                                                                                                                                   \r"
     ]
    },
    {
     "name": "stdout",
     "output_type": "stream",
     "text": [
      "epoch      6 train/loss  2.916941 train/loss_grapheme  1.932765 train/loss_vowel  0.522481 train/loss_consonant  0.461695 train/acc_grapheme  0.493884 train/acc_vowel  0.824700 train/acc_consonant  0.848666 train/recall  0.670804 valid/loss  3.663099 valid/loss_grapheme  1.620669 valid/loss_vowel  1.506184 valid/loss_consonant  0.536246 valid/acc_grapheme  0.614146 valid/acc_vowel  0.633641 valid/acc_consonant  0.822237 valid/recall  0.737795 lr  0.001000 elapsed_time  733.957202 \n"
     ]
    },
    {
     "name": "stderr",
     "output_type": "stream",
     "text": [
      "                                                                                                                                                                                                    \r"
     ]
    },
    {
     "name": "stdout",
     "output_type": "stream",
     "text": [
      "epoch      7 train/loss  2.733010 train/loss_grapheme  1.802147 train/loss_vowel  0.496792 train/loss_consonant  0.434071 train/acc_grapheme  0.524194 train/acc_vowel  0.832442 train/acc_consonant  0.855520 train/recall  0.688473 valid/loss  0.723522 valid/loss_grapheme  0.469823 valid/loss_vowel  0.127722 valid/loss_consonant  0.125977 valid/acc_grapheme  0.863711 valid/acc_vowel  0.965037 valid/acc_consonant  0.965455 valid/recall  0.903701 lr  0.001000 elapsed_time  856.995582 \n"
     ]
    },
    {
     "name": "stderr",
     "output_type": "stream",
     "text": [
      "                                                                                                                                                                                                   \r"
     ]
    },
    {
     "name": "stdout",
     "output_type": "stream",
     "text": [
      "epoch      8 train/loss  2.590882 train/loss_grapheme  1.707566 train/loss_vowel  0.469189 train/loss_consonant  0.414127 train/acc_grapheme  0.546678 train/acc_vowel  0.842189 train/acc_consonant  0.861525 train/recall  0.705417 valid/loss  2.848846 valid/loss_grapheme  1.248999 valid/loss_vowel  1.136626 valid/loss_consonant  0.463220 valid/acc_grapheme  0.680258 valid/acc_vowel  0.679683 valid/acc_consonant  0.845844 valid/recall  0.766836 lr  0.001000 elapsed_time  981.422825 \n"
     ]
    },
    {
     "name": "stderr",
     "output_type": "stream",
     "text": [
      "                                                                                                                                                                                                    \r"
     ]
    },
    {
     "name": "stdout",
     "output_type": "stream",
     "text": [
      "epoch      9 train/loss  2.458846 train/loss_grapheme  1.612389 train/loss_vowel  0.450262 train/loss_consonant  0.396195 train/acc_grapheme  0.568874 train/acc_vowel  0.848526 train/acc_consonant  0.866442 train/recall  0.719078 valid/loss  0.882242 valid/loss_grapheme  0.522997 valid/loss_vowel  0.205728 valid/loss_consonant  0.153516 valid/acc_grapheme  0.850112 valid/acc_vowel  0.934854 valid/acc_consonant  0.955525 valid/recall  0.894017 lr  0.001000 elapsed_time  1107.503885 \n"
     ]
    },
    {
     "name": "stderr",
     "output_type": "stream",
     "text": [
      "                                                                                                                                                                                                    \r"
     ]
    },
    {
     "name": "stdout",
     "output_type": "stream",
     "text": [
      "epoch     10 train/loss  2.353978 train/loss_grapheme  1.544404 train/loss_vowel  0.430062 train/loss_consonant  0.379512 train/acc_grapheme  0.586266 train/acc_vowel  0.854242 train/acc_consonant  0.871763 train/recall  0.729296 valid/loss  0.530267 valid/loss_grapheme  0.344067 valid/loss_vowel  0.089856 valid/loss_consonant  0.096345 valid/acc_grapheme  0.902854 valid/acc_vowel  0.976542 valid/acc_consonant  0.973673 valid/recall  0.931069 lr  0.001000 elapsed_time  1233.451438 \n"
     ]
    },
    {
     "name": "stderr",
     "output_type": "stream",
     "text": [
      "                                                                                                                                                                                                   \r"
     ]
    },
    {
     "name": "stdout",
     "output_type": "stream",
     "text": [
      "epoch     11 train/loss  2.269770 train/loss_grapheme  1.485233 train/loss_vowel  0.415687 train/loss_consonant  0.368850 train/acc_grapheme  0.600425 train/acc_vowel  0.859074 train/acc_consonant  0.874409 train/recall  0.740295 valid/loss  0.519106 valid/loss_grapheme  0.345826 valid/loss_vowel  0.084022 valid/loss_consonant  0.089258 valid/acc_grapheme  0.901956 valid/acc_vowel  0.976584 valid/acc_consonant  0.974275 valid/recall  0.937182 lr  0.001000 elapsed_time  1359.691581 \n"
     ]
    },
    {
     "name": "stderr",
     "output_type": "stream",
     "text": [
      "                                                                                                                                                                                                  \r"
     ]
    },
    {
     "name": "stdout",
     "output_type": "stream",
     "text": [
      "epoch     12 train/loss  2.184208 train/loss_grapheme  1.425061 train/loss_vowel  0.405012 train/loss_consonant  0.354135 train/acc_grapheme  0.614008 train/acc_vowel  0.863846 train/acc_consonant  0.878990 train/recall  0.747098 valid/loss  2.254037 valid/loss_grapheme  0.909884 valid/loss_vowel  1.002725 valid/loss_consonant  0.341428 valid/acc_grapheme  0.764628 valid/acc_vowel  0.722395 valid/acc_consonant  0.881653 valid/recall  0.806294 lr  0.001000 elapsed_time  1484.551700 \n"
     ]
    },
    {
     "name": "stderr",
     "output_type": "stream",
     "text": [
      "                                                                                                                                                                                                     \r"
     ]
    },
    {
     "name": "stdout",
     "output_type": "stream",
     "text": [
      "epoch     13 train/loss  2.111401 train/loss_grapheme  1.373308 train/loss_vowel  0.392416 train/loss_consonant  0.345677 train/acc_grapheme  0.626361 train/acc_vowel  0.867092 train/acc_consonant  0.881353 train/recall  0.754531 valid/loss  0.460622 valid/loss_grapheme  0.296407 valid/loss_vowel  0.078899 valid/loss_consonant  0.085316 valid/acc_grapheme  0.916355 valid/acc_vowel  0.978477 valid/acc_consonant  0.975323 valid/recall  0.941103 lr  0.001000 elapsed_time  1610.079859 \n"
     ]
    },
    {
     "name": "stderr",
     "output_type": "stream",
     "text": [
      "                                                                                                                                                                                                     \r"
     ]
    },
    {
     "name": "stdout",
     "output_type": "stream",
     "text": [
      "epoch     14 train/loss  2.031572 train/loss_grapheme  1.316206 train/loss_vowel  0.379627 train/loss_consonant  0.335739 train/acc_grapheme  0.641947 train/acc_vowel  0.872085 train/acc_consonant  0.884589 train/recall  0.766597 valid/loss  2.586393 valid/loss_grapheme  0.986213 valid/loss_vowel  1.121948 valid/loss_consonant  0.478233 valid/acc_grapheme  0.743673 valid/acc_vowel  0.700713 valid/acc_consonant  0.834128 valid/recall  0.792610 lr  0.001000 elapsed_time  1735.650635 \n"
     ]
    },
    {
     "name": "stderr",
     "output_type": "stream",
     "text": [
      "                                                                                                                                                                                                    \r"
     ]
    },
    {
     "name": "stdout",
     "output_type": "stream",
     "text": [
      "epoch     15 train/loss  1.963192 train/loss_grapheme  1.269009 train/loss_vowel  0.370442 train/loss_consonant  0.323741 train/acc_grapheme  0.653142 train/acc_vowel  0.874677 train/acc_consonant  0.888505 train/recall  0.773311 valid/loss  0.378246 valid/loss_grapheme  0.239161 valid/loss_vowel  0.066596 valid/loss_consonant  0.072489 valid/acc_grapheme  0.931373 valid/acc_vowel  0.982784 valid/acc_consonant  0.979234 valid/recall  0.951612 lr  0.001000 elapsed_time  1861.126882 \n"
     ]
    },
    {
     "name": "stderr",
     "output_type": "stream",
     "text": [
      "                                                                                                                                                                                                    \r"
     ]
    },
    {
     "name": "stdout",
     "output_type": "stream",
     "text": [
      "epoch     16 train/loss  1.901033 train/loss_grapheme  1.226999 train/loss_vowel  0.356474 train/loss_consonant  0.317560 train/acc_grapheme  0.664213 train/acc_vowel  0.879435 train/acc_consonant  0.891078 train/recall  0.780288 valid/loss  0.421564 valid/loss_grapheme  0.255888 valid/loss_vowel  0.082387 valid/loss_consonant  0.083289 valid/acc_grapheme  0.925715 valid/acc_vowel  0.977706 valid/acc_consonant  0.975492 valid/recall  0.944703 lr  0.001000 elapsed_time  1986.585909 \n"
     ]
    },
    {
     "name": "stderr",
     "output_type": "stream",
     "text": [
      "                                                                                                                                                                                                   \r"
     ]
    },
    {
     "name": "stdout",
     "output_type": "stream",
     "text": [
      "epoch     17 train/loss  1.854591 train/loss_grapheme  1.190135 train/loss_vowel  0.354486 train/loss_consonant  0.309970 train/acc_grapheme  0.675062 train/acc_vowel  0.878941 train/acc_consonant  0.892858 train/recall  0.786031 valid/loss  0.961277 valid/loss_grapheme  0.432531 valid/loss_vowel  0.367282 valid/loss_consonant  0.161464 valid/acc_grapheme  0.878076 valid/acc_vowel  0.867469 valid/acc_consonant  0.946968 valid/recall  0.889389 lr  0.001000 elapsed_time  2112.845483 \n"
     ]
    },
    {
     "name": "stderr",
     "output_type": "stream",
     "text": [
      "                                                                                                                                                                                                    \r"
     ]
    },
    {
     "name": "stdout",
     "output_type": "stream",
     "text": [
      "epoch     18 train/loss  1.801989 train/loss_grapheme  1.152155 train/loss_vowel  0.345127 train/loss_consonant  0.304707 train/acc_grapheme  0.683946 train/acc_vowel  0.883278 train/acc_consonant  0.894362 train/recall  0.792510 valid/loss  0.351141 valid/loss_grapheme  0.223050 valid/loss_vowel  0.062253 valid/loss_consonant  0.065838 valid/acc_grapheme  0.935606 valid/acc_vowel  0.982742 valid/acc_consonant  0.980481 valid/recall  0.954170 lr  0.001000 elapsed_time  2238.723281 \n"
     ]
    },
    {
     "name": "stderr",
     "output_type": "stream",
     "text": [
      "                                                                                                                                                                                                    \r"
     ]
    },
    {
     "name": "stdout",
     "output_type": "stream",
     "text": [
      "epoch     19 train/loss  1.749662 train/loss_grapheme  1.119804 train/loss_vowel  0.337803 train/loss_consonant  0.292056 train/acc_grapheme  0.692063 train/acc_vowel  0.885573 train/acc_consonant  0.898262 train/recall  0.797632 valid/loss  3.117461 valid/loss_grapheme  1.298576 valid/loss_vowel  1.187481 valid/loss_consonant  0.631404 valid/acc_grapheme  0.694699 valid/acc_vowel  0.685056 valid/acc_consonant  0.783236 valid/recall  0.772552 lr  0.001000 elapsed_time  2361.868523 \n"
     ]
    },
    {
     "name": "stderr",
     "output_type": "stream",
     "text": [
      "                                                                                                                                                                                                     \r"
     ]
    },
    {
     "name": "stdout",
     "output_type": "stream",
     "text": [
      "epoch     20 train/loss  1.706467 train/loss_grapheme  1.088977 train/loss_vowel  0.329529 train/loss_consonant  0.287961 train/acc_grapheme  0.700262 train/acc_vowel  0.888070 train/acc_consonant  0.900301 train/recall  0.802673 valid/loss  0.348785 valid/loss_grapheme  0.227263 valid/loss_vowel  0.056885 valid/loss_consonant  0.064637 valid/acc_grapheme  0.934053 valid/acc_vowel  0.984752 valid/acc_consonant  0.981028 valid/recall  0.952480 lr  0.001000 elapsed_time  2485.486905 \n"
     ]
    },
    {
     "name": "stderr",
     "output_type": "stream",
     "text": [
      "                                                                                                                                                                                                \r"
     ]
    },
    {
     "name": "stdout",
     "output_type": "stream",
     "text": [
      "epoch     21 train/loss  1.680168 train/loss_grapheme  1.070867 train/loss_vowel  0.324432 train/loss_consonant  0.284869 train/acc_grapheme  0.706129 train/acc_vowel  0.890389 train/acc_consonant  0.901717 train/recall  0.807264 valid/loss  0.312813 valid/loss_grapheme  0.198529 valid/loss_vowel  0.056318 valid/loss_consonant  0.057967 valid/acc_grapheme  0.943772 valid/acc_vowel  0.984882 valid/acc_consonant  0.982864 valid/recall  0.957031 lr  0.001000 elapsed_time  2610.779095 \n"
     ]
    },
    {
     "name": "stderr",
     "output_type": "stream",
     "text": [
      "                                                                                                                                                                                                    \r"
     ]
    },
    {
     "name": "stdout",
     "output_type": "stream",
     "text": [
      "epoch     22 train/loss  1.633231 train/loss_grapheme  1.040879 train/loss_vowel  0.316114 train/loss_consonant  0.276237 train/acc_grapheme  0.712852 train/acc_vowel  0.891506 train/acc_consonant  0.904699 train/recall  0.810966 valid/loss  1.738439 valid/loss_grapheme  0.708417 valid/loss_vowel  0.745531 valid/loss_consonant  0.284491 valid/acc_grapheme  0.811240 valid/acc_vowel  0.776742 valid/acc_consonant  0.902078 valid/recall  0.831804 lr  0.001000 elapsed_time  2735.209020 \n"
     ]
    },
    {
     "name": "stderr",
     "output_type": "stream",
     "text": [
      "                                                                                                                                                                                                     \r"
     ]
    },
    {
     "name": "stdout",
     "output_type": "stream",
     "text": [
      "epoch     23 train/loss  1.602351 train/loss_grapheme  1.018702 train/loss_vowel  0.311231 train/loss_consonant  0.272418 train/acc_grapheme  0.718240 train/acc_vowel  0.893831 train/acc_consonant  0.905924 train/recall  0.814381 valid/loss  0.449688 valid/loss_grapheme  0.246826 valid/loss_vowel  0.114194 valid/loss_consonant  0.088668 valid/acc_grapheme  0.929970 valid/acc_vowel  0.964785 valid/acc_consonant  0.971232 valid/recall  0.939557 lr  0.001000 elapsed_time  2859.660915 \n"
     ]
    },
    {
     "name": "stderr",
     "output_type": "stream",
     "text": [
      "                                                                                                                                                                                                    \r"
     ]
    },
    {
     "name": "stdout",
     "output_type": "stream",
     "text": [
      "epoch     24 train/loss  1.574021 train/loss_grapheme  1.000120 train/loss_vowel  0.305849 train/loss_consonant  0.268053 train/acc_grapheme  0.722697 train/acc_vowel  0.896660 train/acc_consonant  0.907225 train/recall  0.815709 valid/loss  0.309163 valid/loss_grapheme  0.194179 valid/loss_vowel  0.057780 valid/loss_consonant  0.057205 valid/acc_grapheme  0.944965 valid/acc_vowel  0.984302 valid/acc_consonant  0.982115 valid/recall  0.959688 lr  0.001000 elapsed_time  2984.651439 \n"
     ]
    },
    {
     "name": "stderr",
     "output_type": "stream",
     "text": [
      "                                                                                                                                                                                                  \r"
     ]
    },
    {
     "name": "stdout",
     "output_type": "stream",
     "text": [
      "epoch     25 train/loss  1.540290 train/loss_grapheme  0.979340 train/loss_vowel  0.297426 train/loss_consonant  0.263524 train/acc_grapheme  0.728842 train/acc_vowel  0.898469 train/acc_consonant  0.908512 train/recall  0.821534 valid/loss  0.712510 valid/loss_grapheme  0.327864 valid/loss_vowel  0.262367 valid/loss_consonant  0.122280 valid/acc_grapheme  0.905390 valid/acc_vowel  0.907504 valid/acc_consonant  0.959566 valid/recall  0.911152 lr  0.001000 elapsed_time  3107.781512 \n"
     ]
    },
    {
     "name": "stderr",
     "output_type": "stream",
     "text": [
      "                                                                                                                                                                                                      \r"
     ]
    },
    {
     "name": "stdout",
     "output_type": "stream",
     "text": [
      "epoch     26 train/loss  1.525023 train/loss_grapheme  0.965705 train/loss_vowel  0.297570 train/loss_consonant  0.261748 train/acc_grapheme  0.733253 train/acc_vowel  0.898972 train/acc_consonant  0.908208 train/recall  0.823351 valid/loss  0.371015 valid/loss_grapheme  0.208345 valid/loss_vowel  0.096569 valid/loss_consonant  0.066100 valid/acc_grapheme  0.940366 valid/acc_vowel  0.970051 valid/acc_consonant  0.979652 valid/recall  0.951568 lr  0.001000 elapsed_time  3232.583787 \n"
     ]
    },
    {
     "name": "stderr",
     "output_type": "stream",
     "text": [
      "                                                                                                                                                                                                      \r"
     ]
    },
    {
     "name": "stdout",
     "output_type": "stream",
     "text": [
      "epoch     27 train/loss  1.496091 train/loss_grapheme  0.947522 train/loss_vowel  0.293402 train/loss_consonant  0.255168 train/acc_grapheme  0.736877 train/acc_vowel  0.900483 train/acc_consonant  0.911749 train/recall  0.825968 valid/loss  0.274092 valid/loss_grapheme  0.170272 valid/loss_vowel  0.051837 valid/loss_consonant  0.051983 valid/acc_grapheme  0.951039 valid/acc_vowel  0.986243 valid/acc_consonant  0.984287 valid/recall  0.964821 lr  0.001000 elapsed_time  3357.867648 \n"
     ]
    },
    {
     "name": "stderr",
     "output_type": "stream",
     "text": [
      "                                                                                                                                                                                                   \r"
     ]
    },
    {
     "name": "stdout",
     "output_type": "stream",
     "text": [
      "epoch     28 train/loss  1.468793 train/loss_grapheme  0.929774 train/loss_vowel  0.286606 train/loss_consonant  0.252414 train/acc_grapheme  0.742299 train/acc_vowel  0.902153 train/acc_consonant  0.911889 train/recall  0.829827 valid/loss  0.271670 valid/loss_grapheme  0.171895 valid/loss_vowel  0.049235 valid/loss_consonant  0.050541 valid/acc_grapheme  0.950044 valid/acc_vowel  0.987044 valid/acc_consonant  0.984108 valid/recall  0.962524 lr  0.001000 elapsed_time  3481.403148 \n"
     ]
    },
    {
     "name": "stderr",
     "output_type": "stream",
     "text": [
      "                                                                                                                                                                                                    \r"
     ]
    },
    {
     "name": "stdout",
     "output_type": "stream",
     "text": [
      "epoch     29 train/loss  1.447069 train/loss_grapheme  0.915243 train/loss_vowel  0.284229 train/loss_consonant  0.247597 train/acc_grapheme  0.745487 train/acc_vowel  0.903416 train/acc_consonant  0.914002 train/recall  0.832549 valid/loss  0.257835 valid/loss_grapheme  0.162796 valid/loss_vowel  0.046891 valid/loss_consonant  0.048148 valid/acc_grapheme  0.953102 valid/acc_vowel  0.987121 valid/acc_consonant  0.985258 valid/recall  0.964509 lr  0.001000 elapsed_time  3605.448753 \n"
     ]
    },
    {
     "name": "stderr",
     "output_type": "stream",
     "text": [
      "                                                                                                                                                                                                      \r"
     ]
    },
    {
     "name": "stdout",
     "output_type": "stream",
     "text": [
      "epoch     30 train/loss  1.438918 train/loss_grapheme  0.910313 train/loss_vowel  0.281090 train/loss_consonant  0.247515 train/acc_grapheme  0.746456 train/acc_vowel  0.904225 train/acc_consonant  0.913536 train/recall  0.834393 valid/loss  0.380334 valid/loss_grapheme  0.205563 valid/loss_vowel  0.101405 valid/loss_consonant  0.073366 valid/acc_grapheme  0.941731 valid/acc_vowel  0.969421 valid/acc_consonant  0.976229 valid/recall  0.950139 lr  0.001000 elapsed_time  3729.256970 \n"
     ]
    },
    {
     "data": {
      "text/plain": [
       "State:\n",
       "\titeration: 18840\n",
       "\tepoch: 30\n",
       "\tepoch_length: 628\n",
       "\tmax_epochs: 30\n",
       "\toutput: <class 'tuple'>\n",
       "\tbatch: <class 'list'>\n",
       "\tmetrics: <class 'dict'>\n",
       "\tdataloader: <class 'torch.utils.data.dataloader.DataLoader'>\n",
       "\tseed: 12"
      ]
     },
     "execution_count": 31,
     "metadata": {},
     "output_type": "execute_result"
    }
   ],
   "source": [
    "save_json('64_base_Cutout_v1_rotate_v2.json', {'image_size':64, 'threshold':20,'arch':'pretrained','model_name':'se_resnext50_32x4d'})\n",
    "trainer.run(train_loader, max_epochs=30)"
   ]
  },
  {
   "cell_type": "code",
   "execution_count": null,
   "metadata": {},
   "outputs": [],
   "source": []
  },
  {
   "cell_type": "code",
   "execution_count": null,
   "metadata": {},
   "outputs": [],
   "source": []
  },
  {
   "cell_type": "code",
   "execution_count": 31,
   "metadata": {
    "scrolled": true
   },
   "outputs": [
    {
     "name": "stderr",
     "output_type": "stream",
     "text": [
      "                                                     \r"
     ]
    },
    {
     "name": "stdout",
     "output_type": "stream",
     "text": [
      "epoch      1 train/loss  7.293473 train/loss_grapheme  4.512447 train/loss_vowel  1.410219 train/loss_consonant  1.370807 train/acc_grapheme  0.067966 train/acc_vowel  0.549270 train/acc_consonant  0.610257 train/recall  0.221970 valid/loss  5.791408 valid/loss_grapheme  3.828449 valid/loss_vowel  1.047808 valid/loss_consonant  0.915151 valid/acc_grapheme  0.150177 valid/acc_vowel  0.675150 valid/acc_consonant  0.756758 valid/recall  0.454128 lr  0.001000 elapsed_time  123.212711 \n"
     ]
    },
    {
     "name": "stderr",
     "output_type": "stream",
     "text": [
      "                                                                                                                                                                                                 \r"
     ]
    },
    {
     "name": "stdout",
     "output_type": "stream",
     "text": [
      "epoch      2 train/loss  5.066083 train/loss_grapheme  3.347683 train/loss_vowel  0.896529 train/loss_consonant  0.821871 train/acc_grapheme  0.216910 train/acc_vowel  0.708505 train/acc_consonant  0.772712 train/recall  0.470391 valid/loss  2.463226 valid/loss_grapheme  1.620330 valid/loss_vowel  0.345545 valid/loss_consonant  0.497351 valid/acc_grapheme  0.549749 valid/acc_vowel  0.901376 valid/acc_consonant  0.897114 valid/recall  0.733390 lr  0.001000 elapsed_time  247.789580 \n"
     ]
    },
    {
     "name": "stderr",
     "output_type": "stream",
     "text": [
      "                                                                                                                                                                                                   \r"
     ]
    },
    {
     "name": "stdout",
     "output_type": "stream",
     "text": [
      "epoch      3 train/loss  4.061535 train/loss_grapheme  2.695245 train/loss_vowel  0.722138 train/loss_consonant  0.644152 train/acc_grapheme  0.333489 train/acc_vowel  0.760977 train/acc_consonant  0.806873 train/recall  0.557267 valid/loss  1.827126 valid/loss_grapheme  1.143692 valid/loss_vowel  0.321563 valid/loss_consonant  0.361870 valid/acc_grapheme  0.681497 valid/acc_vowel  0.902530 valid/acc_consonant  0.910172 valid/recall  0.788366 lr  0.001000 elapsed_time  373.222702 \n"
     ]
    },
    {
     "name": "stderr",
     "output_type": "stream",
     "text": [
      "                                                                                                                                                                                                   \r"
     ]
    },
    {
     "name": "stdout",
     "output_type": "stream",
     "text": [
      "epoch      4 train/loss  3.537764 train/loss_grapheme  2.340286 train/loss_vowel  0.638329 train/loss_consonant  0.559149 train/acc_grapheme  0.406873 train/acc_vowel  0.786816 train/acc_consonant  0.823158 train/recall  0.608069 valid/loss  1.307341 valid/loss_grapheme  0.890123 valid/loss_vowel  0.193954 valid/loss_consonant  0.223264 valid/acc_grapheme  0.742717 valid/acc_vowel  0.944721 valid/acc_consonant  0.942281 valid/recall  0.842390 lr  0.001000 elapsed_time  500.285458 \n"
     ]
    },
    {
     "name": "stderr",
     "output_type": "stream",
     "text": [
      "                                                                                                                                                                                                    \r"
     ]
    },
    {
     "name": "stdout",
     "output_type": "stream",
     "text": [
      "epoch      5 train/loss  3.206434 train/loss_grapheme  2.129281 train/loss_vowel  0.577596 train/loss_consonant  0.499557 train/acc_grapheme  0.449514 train/acc_vowel  0.806575 train/acc_consonant  0.838960 train/recall  0.635722 valid/loss  3.489675 valid/loss_grapheme  1.568886 valid/loss_vowel  1.471003 valid/loss_consonant  0.449786 valid/acc_grapheme  0.605050 valid/acc_vowel  0.613818 valid/acc_consonant  0.864729 valid/recall  0.737903 lr  0.001000 elapsed_time  625.140963 \n"
     ]
    },
    {
     "name": "stderr",
     "output_type": "stream",
     "text": [
      "                                                                                                                                                                                                 \r"
     ]
    },
    {
     "name": "stdout",
     "output_type": "stream",
     "text": [
      "epoch      6 train/loss  3.000548 train/loss_grapheme  1.986049 train/loss_vowel  0.540040 train/loss_consonant  0.474459 train/acc_grapheme  0.481799 train/acc_vowel  0.818124 train/acc_consonant  0.843486 train/recall  0.660475 valid/loss  0.968526 valid/loss_grapheme  0.659668 valid/loss_vowel  0.163068 valid/loss_consonant  0.145790 valid/acc_grapheme  0.804332 valid/acc_vowel  0.951058 valid/acc_consonant  0.962474 valid/recall  0.860371 lr  0.001000 elapsed_time  750.876640 \n"
     ]
    },
    {
     "name": "stderr",
     "output_type": "stream",
     "text": [
      "                                                                                                                                                                                               \r"
     ]
    },
    {
     "name": "stdout",
     "output_type": "stream",
     "text": [
      "epoch      7 train/loss  2.819398 train/loss_grapheme  1.865420 train/loss_vowel  0.509815 train/loss_consonant  0.444163 train/acc_grapheme  0.508010 train/acc_vowel  0.827820 train/acc_consonant  0.853853 train/recall  0.677823 valid/loss  0.761106 valid/loss_grapheme  0.508830 valid/loss_vowel  0.124874 valid/loss_consonant  0.127402 valid/acc_grapheme  0.853395 valid/acc_vowel  0.964733 valid/acc_consonant  0.964412 valid/recall  0.898315 lr  0.001000 elapsed_time  877.308134 \n"
     ]
    },
    {
     "name": "stderr",
     "output_type": "stream",
     "text": [
      "                                                                                                                                                                                                   \r"
     ]
    },
    {
     "name": "stdout",
     "output_type": "stream",
     "text": [
      "epoch      8 train/loss  2.690642 train/loss_grapheme  1.776792 train/loss_vowel  0.486291 train/loss_consonant  0.427559 train/acc_grapheme  0.530293 train/acc_vowel  0.836046 train/acc_consonant  0.856897 train/recall  0.691153 valid/loss  0.882540 valid/loss_grapheme  0.514729 valid/loss_vowel  0.211082 valid/loss_consonant  0.156729 valid/acc_grapheme  0.852358 valid/acc_vowel  0.933674 valid/acc_consonant  0.955788 valid/recall  0.892069 lr  0.001000 elapsed_time  1000.544384 \n"
     ]
    },
    {
     "name": "stderr",
     "output_type": "stream",
     "text": [
      "                                                                                                                                                                                                   \r"
     ]
    },
    {
     "name": "stdout",
     "output_type": "stream",
     "text": [
      "epoch      9 train/loss  2.560858 train/loss_grapheme  1.688391 train/loss_vowel  0.464796 train/loss_consonant  0.407671 train/acc_grapheme  0.549204 train/acc_vowel  0.843387 train/acc_consonant  0.862196 train/recall  0.706550 valid/loss  0.639095 valid/loss_grapheme  0.423997 valid/loss_vowel  0.103631 valid/loss_consonant  0.111466 valid/acc_grapheme  0.876704 valid/acc_vowel  0.971495 valid/acc_consonant  0.969363 valid/recall  0.917245 lr  0.001000 elapsed_time  1124.629204 \n"
     ]
    },
    {
     "name": "stderr",
     "output_type": "stream",
     "text": [
      "                                                                                                                                                                                                     \r"
     ]
    },
    {
     "name": "stdout",
     "output_type": "stream",
     "text": [
      "epoch     10 train/loss  2.455791 train/loss_grapheme  1.615904 train/loss_vowel  0.446451 train/loss_consonant  0.393436 train/acc_grapheme  0.567581 train/acc_vowel  0.848461 train/acc_consonant  0.866095 train/recall  0.717177 valid/loss  0.572304 valid/loss_grapheme  0.373884 valid/loss_vowel  0.098213 valid/loss_consonant  0.100207 valid/acc_grapheme  0.891971 valid/acc_vowel  0.972971 valid/acc_consonant  0.971887 valid/recall  0.923205 lr  0.001000 elapsed_time  1250.611233 \n"
     ]
    },
    {
     "name": "stderr",
     "output_type": "stream",
     "text": [
      "                                                                                                                                                                                                     \r"
     ]
    },
    {
     "name": "stdout",
     "output_type": "stream",
     "text": [
      "epoch     11 train/loss  2.369607 train/loss_grapheme  1.552912 train/loss_vowel  0.433746 train/loss_consonant  0.382950 train/acc_grapheme  0.582299 train/acc_vowel  0.852486 train/acc_consonant  0.869076 train/recall  0.728278 valid/loss  0.534883 valid/loss_grapheme  0.348009 valid/loss_vowel  0.090502 valid/loss_consonant  0.096372 valid/acc_grapheme  0.899823 valid/acc_vowel  0.974096 valid/acc_consonant  0.972981 valid/recall  0.929980 lr  0.001000 elapsed_time  1376.143602 \n"
     ]
    },
    {
     "name": "stderr",
     "output_type": "stream",
     "text": [
      "                                                                                                                                                                                                     \r"
     ]
    },
    {
     "name": "stdout",
     "output_type": "stream",
     "text": [
      "epoch     12 train/loss  2.277649 train/loss_grapheme  1.491768 train/loss_vowel  0.419920 train/loss_consonant  0.365960 train/acc_grapheme  0.596581 train/acc_vowel  0.858301 train/acc_consonant  0.875906 train/recall  0.736179 valid/loss  0.665416 valid/loss_grapheme  0.385751 valid/loss_vowel  0.162519 valid/loss_consonant  0.117147 valid/acc_grapheme  0.890615 valid/acc_vowel  0.948690 valid/acc_consonant  0.966642 valid/recall  0.919449 lr  0.001000 elapsed_time  1500.256924 \n"
     ]
    },
    {
     "name": "stderr",
     "output_type": "stream",
     "text": [
      "                                                                                                                                                                                                    \r"
     ]
    },
    {
     "name": "stdout",
     "output_type": "stream",
     "text": [
      "epoch     13 train/loss  2.214652 train/loss_grapheme  1.445595 train/loss_vowel  0.408804 train/loss_consonant  0.360254 train/acc_grapheme  0.608240 train/acc_vowel  0.861108 train/acc_consonant  0.876074 train/recall  0.743837 valid/loss  0.489204 valid/loss_grapheme  0.316321 valid/loss_vowel  0.083600 valid/loss_consonant  0.089284 valid/acc_grapheme  0.908930 valid/acc_vowel  0.976581 valid/acc_consonant  0.972733 valid/recall  0.934778 lr  0.001000 elapsed_time  1625.338231 \n"
     ]
    },
    {
     "name": "stderr",
     "output_type": "stream",
     "text": [
      "                                                                                                                                                                                                    \r"
     ]
    },
    {
     "name": "stdout",
     "output_type": "stream",
     "text": [
      "epoch     14 train/loss  2.136312 train/loss_grapheme  1.392106 train/loss_vowel  0.394146 train/loss_consonant  0.350061 train/acc_grapheme  0.621287 train/acc_vowel  0.866084 train/acc_consonant  0.879939 train/recall  0.753234 valid/loss  0.492375 valid/loss_grapheme  0.324994 valid/loss_vowel  0.081047 valid/loss_consonant  0.086333 valid/acc_grapheme  0.908734 valid/acc_vowel  0.977515 valid/acc_consonant  0.975370 valid/recall  0.937658 lr  0.001000 elapsed_time  1750.450714 \n"
     ]
    },
    {
     "name": "stderr",
     "output_type": "stream",
     "text": [
      "                                                                                                                                                                                                   \r"
     ]
    },
    {
     "name": "stdout",
     "output_type": "stream",
     "text": [
      "epoch     15 train/loss  2.070416 train/loss_grapheme  1.345300 train/loss_vowel  0.386378 train/loss_consonant  0.338738 train/acc_grapheme  0.634071 train/acc_vowel  0.868807 train/acc_consonant  0.883591 train/recall  0.761557 valid/loss  0.408248 valid/loss_grapheme  0.258350 valid/loss_vowel  0.071371 valid/loss_consonant  0.078527 valid/acc_grapheme  0.926471 valid/acc_vowel  0.980734 valid/acc_consonant  0.976895 valid/recall  0.947019 lr  0.001000 elapsed_time  1875.212335 \n"
     ]
    },
    {
     "name": "stderr",
     "output_type": "stream",
     "text": [
      "                                                                                                                                                                                                     \r"
     ]
    },
    {
     "name": "stdout",
     "output_type": "stream",
     "text": [
      "epoch     16 train/loss  2.015210 train/loss_grapheme  1.306786 train/loss_vowel  0.374989 train/loss_consonant  0.333435 train/acc_grapheme  0.644153 train/acc_vowel  0.872135 train/acc_consonant  0.885426 train/recall  0.768618 valid/loss  2.482564 valid/loss_grapheme  1.015490 valid/loss_vowel  1.073244 valid/loss_consonant  0.393830 valid/acc_grapheme  0.738409 valid/acc_vowel  0.705985 valid/acc_consonant  0.859770 valid/recall  0.777183 lr  0.001000 elapsed_time  1999.734155 \n"
     ]
    },
    {
     "name": "stderr",
     "output_type": "stream",
     "text": [
      "                                                                                                                                                                                                     \r"
     ]
    },
    {
     "name": "stdout",
     "output_type": "stream",
     "text": [
      "epoch     17 train/loss  1.955919 train/loss_grapheme  1.262890 train/loss_vowel  0.369195 train/loss_consonant  0.323835 train/acc_grapheme  0.654551 train/acc_vowel  0.874385 train/acc_consonant  0.887901 train/recall  0.773034 valid/loss  0.646888 valid/loss_grapheme  0.349216 valid/loss_vowel  0.192574 valid/loss_consonant  0.105098 valid/acc_grapheme  0.898339 valid/acc_vowel  0.934802 valid/acc_consonant  0.968276 valid/recall  0.915844 lr  0.001000 elapsed_time  2125.344053 \n"
     ]
    },
    {
     "name": "stderr",
     "output_type": "stream",
     "text": [
      "                                                                                                                                                                                                     \r"
     ]
    },
    {
     "name": "stdout",
     "output_type": "stream",
     "text": [
      "epoch     18 train/loss  1.909109 train/loss_grapheme  1.228321 train/loss_vowel  0.360637 train/loss_consonant  0.320151 train/acc_grapheme  0.664043 train/acc_vowel  0.877417 train/acc_consonant  0.889101 train/recall  0.781114 valid/loss  0.367688 valid/loss_grapheme  0.230341 valid/loss_vowel  0.065074 valid/loss_consonant  0.072272 valid/acc_grapheme  0.933577 valid/acc_vowel  0.982190 valid/acc_consonant  0.977988 valid/recall  0.951441 lr  0.001000 elapsed_time  2249.671293 \n"
     ]
    },
    {
     "name": "stderr",
     "output_type": "stream",
     "text": [
      "                                                                                                                                                                                                    \r"
     ]
    },
    {
     "name": "stdout",
     "output_type": "stream",
     "text": [
      "epoch     19 train/loss  1.858829 train/loss_grapheme  1.197470 train/loss_vowel  0.352575 train/loss_consonant  0.308785 train/acc_grapheme  0.670964 train/acc_vowel  0.879965 train/acc_consonant  0.893065 train/recall  0.783854 valid/loss  0.568451 valid/loss_grapheme  0.309525 valid/loss_vowel  0.156547 valid/loss_consonant  0.102379 valid/acc_grapheme  0.911797 valid/acc_vowel  0.948683 valid/acc_consonant  0.968948 valid/recall  0.926140 lr  0.001000 elapsed_time  2375.527533 \n"
     ]
    },
    {
     "name": "stderr",
     "output_type": "stream",
     "text": [
      "                                                                                                                                                                                                   \r"
     ]
    },
    {
     "name": "stdout",
     "output_type": "stream",
     "text": [
      "epoch     20 train/loss  1.806871 train/loss_grapheme  1.158046 train/loss_vowel  0.345214 train/loss_consonant  0.303611 train/acc_grapheme  0.682315 train/acc_vowel  0.881902 train/acc_consonant  0.895298 train/recall  0.791243 valid/loss  0.348394 valid/loss_grapheme  0.222902 valid/loss_vowel  0.060438 valid/loss_consonant  0.065055 valid/acc_grapheme  0.937382 valid/acc_vowel  0.983807 valid/acc_consonant  0.981001 valid/recall  0.955487 lr  0.001000 elapsed_time  2501.653374 \n"
     ]
    },
    {
     "name": "stderr",
     "output_type": "stream",
     "text": [
      "                                                                                                                                                                                                     \r"
     ]
    },
    {
     "name": "stdout",
     "output_type": "stream",
     "text": [
      "epoch     21 train/loss  1.782924 train/loss_grapheme  1.141737 train/loss_vowel  0.341888 train/loss_consonant  0.299299 train/acc_grapheme  0.687094 train/acc_vowel  0.884222 train/acc_consonant  0.897019 train/recall  0.796450 valid/loss  0.331089 valid/loss_grapheme  0.208157 valid/loss_vowel  0.060084 valid/loss_consonant  0.062847 valid/acc_grapheme  0.939161 valid/acc_vowel  0.983339 valid/acc_consonant  0.981140 valid/recall  0.954684 lr  0.001000 elapsed_time  2623.468767 \n"
     ]
    },
    {
     "name": "stderr",
     "output_type": "stream",
     "text": [
      "                                                                                                                                                                                                     \r"
     ]
    },
    {
     "name": "stdout",
     "output_type": "stream",
     "text": [
      "epoch     22 train/loss  1.734096 train/loss_grapheme  1.110201 train/loss_vowel  0.331907 train/loss_consonant  0.291989 train/acc_grapheme  0.694784 train/acc_vowel  0.886273 train/acc_consonant  0.898735 train/recall  0.798675 valid/loss  0.428029 valid/loss_grapheme  0.243760 valid/loss_vowel  0.107060 valid/loss_consonant  0.077210 valid/acc_grapheme  0.929452 valid/acc_vowel  0.968022 valid/acc_consonant  0.976293 valid/recall  0.944500 lr  0.001000 elapsed_time  2747.776659 \n"
     ]
    },
    {
     "name": "stderr",
     "output_type": "stream",
     "text": [
      "                                                                                                                                                                                                     \r"
     ]
    },
    {
     "name": "stdout",
     "output_type": "stream",
     "text": [
      "epoch     23 train/loss  1.702600 train/loss_grapheme  1.084896 train/loss_vowel  0.329377 train/loss_consonant  0.288327 train/acc_grapheme  0.700947 train/acc_vowel  0.886902 train/acc_consonant  0.900213 train/recall  0.802454 valid/loss  0.325350 valid/loss_grapheme  0.203005 valid/loss_vowel  0.058655 valid/loss_consonant  0.063691 valid/acc_grapheme  0.941945 valid/acc_vowel  0.984330 valid/acc_consonant  0.980500 valid/recall  0.957137 lr  0.001000 elapsed_time  2873.485180 \n"
     ]
    },
    {
     "name": "stderr",
     "output_type": "stream",
     "text": [
      "                                                                                                                                                                                                  \r"
     ]
    },
    {
     "name": "stdout",
     "output_type": "stream",
     "text": [
      "epoch     24 train/loss  1.666885 train/loss_grapheme  1.062417 train/loss_vowel  0.322332 train/loss_consonant  0.282136 train/acc_grapheme  0.707123 train/acc_vowel  0.889923 train/acc_consonant  0.901472 train/recall  0.807880 valid/loss  0.328044 valid/loss_grapheme  0.202648 valid/loss_vowel  0.063271 valid/loss_consonant  0.062125 valid/acc_grapheme  0.941987 valid/acc_vowel  0.983058 valid/acc_consonant  0.980495 valid/recall  0.952813 lr  0.001000 elapsed_time  2999.207410 \n"
     ]
    },
    {
     "name": "stderr",
     "output_type": "stream",
     "text": [
      "                                                                                                                                                                                                    \r"
     ]
    },
    {
     "name": "stdout",
     "output_type": "stream",
     "text": [
      "epoch     25 train/loss  1.625825 train/loss_grapheme  1.034746 train/loss_vowel  0.313798 train/loss_consonant  0.277280 train/acc_grapheme  0.713720 train/acc_vowel  0.892596 train/acc_consonant  0.903405 train/recall  0.810367 valid/loss  0.580618 valid/loss_grapheme  0.296043 valid/loss_vowel  0.185996 valid/loss_consonant  0.098579 valid/acc_grapheme  0.916758 valid/acc_vowel  0.937840 valid/acc_consonant  0.967878 valid/recall  0.925854 lr  0.001000 elapsed_time  3124.475888 \n"
     ]
    },
    {
     "name": "stderr",
     "output_type": "stream",
     "text": [
      "                                                                                                                                                                                                    \r"
     ]
    },
    {
     "name": "stdout",
     "output_type": "stream",
     "text": [
      "epoch     26 train/loss  1.613199 train/loss_grapheme  1.024916 train/loss_vowel  0.313626 train/loss_consonant  0.274657 train/acc_grapheme  0.716914 train/acc_vowel  0.892470 train/acc_consonant  0.904623 train/recall  0.814733 valid/loss  0.287745 valid/loss_grapheme  0.185800 valid/loss_vowel  0.050543 valid/loss_consonant  0.051402 valid/acc_grapheme  0.946307 valid/acc_vowel  0.986178 valid/acc_consonant  0.984760 valid/recall  0.960928 lr  0.001000 elapsed_time  3248.019977 \n"
     ]
    },
    {
     "name": "stderr",
     "output_type": "stream",
     "text": [
      "                                                                                                                                                                                                     \r"
     ]
    },
    {
     "name": "stdout",
     "output_type": "stream",
     "text": [
      "epoch     27 train/loss  1.588475 train/loss_grapheme  1.008840 train/loss_vowel  0.310419 train/loss_consonant  0.269216 train/acc_grapheme  0.719918 train/acc_vowel  0.894576 train/acc_consonant  0.907350 train/recall  0.814596 valid/loss  0.380083 valid/loss_grapheme  0.220358 valid/loss_vowel  0.092585 valid/loss_consonant  0.067140 valid/acc_grapheme  0.937407 valid/acc_vowel  0.972163 valid/acc_consonant  0.979306 valid/recall  0.948838 lr  0.001000 elapsed_time  3371.045964 \n"
     ]
    },
    {
     "name": "stderr",
     "output_type": "stream",
     "text": [
      "                                                                                                                                                                                                   \r"
     ]
    },
    {
     "name": "stdout",
     "output_type": "stream",
     "text": [
      "epoch     28 train/loss  1.554826 train/loss_grapheme  0.988422 train/loss_vowel  0.301850 train/loss_consonant  0.264555 train/acc_grapheme  0.725789 train/acc_vowel  0.897615 train/acc_consonant  0.908652 train/recall  0.818769 valid/loss  0.289692 valid/loss_grapheme  0.183215 valid/loss_vowel  0.050920 valid/loss_consonant  0.055556 valid/acc_grapheme  0.947148 valid/acc_vowel  0.986181 valid/acc_consonant  0.983262 valid/recall  0.961172 lr  0.001000 elapsed_time  3494.293322 \n"
     ]
    },
    {
     "name": "stderr",
     "output_type": "stream",
     "text": [
      "                                                                                                                                                                                                      \r"
     ]
    },
    {
     "name": "stdout",
     "output_type": "stream",
     "text": [
      "epoch     29 train/loss  1.540121 train/loss_grapheme  0.976670 train/loss_vowel  0.301741 train/loss_consonant  0.261710 train/acc_grapheme  0.728563 train/acc_vowel  0.897072 train/acc_consonant  0.908509 train/recall  0.821867 valid/loss  0.281409 valid/loss_grapheme  0.180288 valid/loss_vowel  0.049229 valid/loss_consonant  0.051891 valid/acc_grapheme  0.948096 valid/acc_vowel  0.985681 valid/acc_consonant  0.985432 valid/recall  0.960220 lr  0.001000 elapsed_time  3619.245615 \n"
     ]
    },
    {
     "name": "stderr",
     "output_type": "stream",
     "text": [
      "                                                                                                                                                                                                      \r"
     ]
    },
    {
     "name": "stdout",
     "output_type": "stream",
     "text": [
      "epoch     30 train/loss  1.527313 train/loss_grapheme  0.971513 train/loss_vowel  0.295216 train/loss_consonant  0.260584 train/acc_grapheme  0.730150 train/acc_vowel  0.898787 train/acc_consonant  0.909129 train/recall  0.821811 valid/loss  0.285620 valid/loss_grapheme  0.181469 valid/loss_vowel  0.051833 valid/loss_consonant  0.052317 valid/acc_grapheme  0.948546 valid/acc_vowel  0.985170 valid/acc_consonant  0.983536 valid/recall  0.962163 lr  0.001000 elapsed_time  3744.699162 \n"
     ]
    },
    {
     "data": {
      "text/plain": [
       "State:\n",
       "\titeration: 18840\n",
       "\tepoch: 30\n",
       "\tepoch_length: 628\n",
       "\tmax_epochs: 30\n",
       "\toutput: <class 'tuple'>\n",
       "\tbatch: <class 'list'>\n",
       "\tmetrics: <class 'dict'>\n",
       "\tdataloader: <class 'torch.utils.data.dataloader.DataLoader'>\n",
       "\tseed: 12"
      ]
     },
     "execution_count": 31,
     "metadata": {},
     "output_type": "execute_result"
    }
   ],
   "source": [
    "save_json('64_base_Cutout_v1_rotate_v1.json', {'image_size':64, 'threshold':20,'arch':'pretrained','model_name':'se_resnext50_32x4d'})\n",
    "trainer.run(train_loader, max_epochs=30)"
   ]
  },
  {
   "cell_type": "code",
   "execution_count": null,
   "metadata": {},
   "outputs": [],
   "source": []
  },
  {
   "cell_type": "code",
   "execution_count": null,
   "metadata": {},
   "outputs": [],
   "source": []
  },
  {
   "cell_type": "code",
   "execution_count": 31,
   "metadata": {
    "scrolled": true
   },
   "outputs": [
    {
     "name": "stderr",
     "output_type": "stream",
     "text": [
      "                                                     \r"
     ]
    },
    {
     "name": "stdout",
     "output_type": "stream",
     "text": [
      "epoch      1 train/loss  6.918097 train/loss_grapheme  4.339515 train/loss_vowel  1.298491 train/loss_consonant  1.280091 train/acc_grapheme  0.090175 train/acc_vowel  0.592307 train/acc_consonant  0.646815 train/recall  0.257103 valid/loss  3.880045 valid/loss_grapheme  2.725903 valid/loss_vowel  0.553603 valid/loss_consonant  0.600538 valid/acc_grapheme  0.319274 valid/acc_vowel  0.842095 valid/acc_consonant  0.873888 valid/recall  0.594103 lr  0.001000 elapsed_time  122.987447 \n"
     ]
    },
    {
     "name": "stderr",
     "output_type": "stream",
     "text": [
      "                                                                                                                                                                                                  \r"
     ]
    },
    {
     "name": "stdout",
     "output_type": "stream",
     "text": [
      "epoch      2 train/loss  4.470985 train/loss_grapheme  2.956768 train/loss_vowel  0.775141 train/loss_consonant  0.739075 train/acc_grapheme  0.288484 train/acc_vowel  0.753319 train/acc_consonant  0.801305 train/recall  0.526328 valid/loss  2.359062 valid/loss_grapheme  1.538203 valid/loss_vowel  0.455269 valid/loss_consonant  0.365590 valid/acc_grapheme  0.578835 valid/acc_vowel  0.858869 valid/acc_consonant  0.913465 valid/recall  0.742294 lr  0.001000 elapsed_time  245.559123 \n"
     ]
    },
    {
     "name": "stderr",
     "output_type": "stream",
     "text": [
      "                                                                                                                                                                                                    \r"
     ]
    },
    {
     "name": "stdout",
     "output_type": "stream",
     "text": [
      "epoch      3 train/loss  3.557450 train/loss_grapheme  2.359398 train/loss_vowel  0.625566 train/loss_consonant  0.572487 train/acc_grapheme  0.405030 train/acc_vowel  0.796401 train/acc_consonant  0.831728 train/recall  0.612661 valid/loss  1.384595 valid/loss_grapheme  0.910390 valid/loss_vowel  0.226825 valid/loss_consonant  0.247380 valid/acc_grapheme  0.743175 valid/acc_vowel  0.935528 valid/acc_consonant  0.944492 valid/recall  0.836151 lr  0.001000 elapsed_time  369.028681 \n"
     ]
    },
    {
     "name": "stderr",
     "output_type": "stream",
     "text": [
      "                                                                                                                                                                                                    \r"
     ]
    },
    {
     "name": "stdout",
     "output_type": "stream",
     "text": [
      "epoch      4 train/loss  3.103094 train/loss_grapheme  2.059620 train/loss_vowel  0.547962 train/loss_consonant  0.495512 train/acc_grapheme  0.467640 train/acc_vowel  0.819386 train/acc_consonant  0.845804 train/recall  0.652043 valid/loss  1.063254 valid/loss_grapheme  0.694327 valid/loss_vowel  0.187199 valid/loss_consonant  0.181729 valid/acc_grapheme  0.800786 valid/acc_vowel  0.948187 valid/acc_consonant  0.954477 valid/recall  0.866600 lr  0.001000 elapsed_time  489.722700 \n"
     ]
    },
    {
     "name": "stderr",
     "output_type": "stream",
     "text": [
      "                                                                                                                                                                                                   \r"
     ]
    },
    {
     "name": "stdout",
     "output_type": "stream",
     "text": [
      "epoch      5 train/loss  2.846118 train/loss_grapheme  1.890774 train/loss_vowel  0.505482 train/loss_consonant  0.449862 train/acc_grapheme  0.505179 train/acc_vowel  0.831989 train/acc_consonant  0.856495 train/recall  0.678219 valid/loss  0.862204 valid/loss_grapheme  0.553161 valid/loss_vowel  0.137963 valid/loss_consonant  0.171080 valid/acc_grapheme  0.840017 valid/acc_vowel  0.962466 valid/acc_consonant  0.958986 valid/recall  0.893520 lr  0.001000 elapsed_time  611.505406 \n"
     ]
    },
    {
     "name": "stderr",
     "output_type": "stream",
     "text": [
      "                                                                                                                                                                                                   \r"
     ]
    },
    {
     "name": "stdout",
     "output_type": "stream",
     "text": [
      "epoch      6 train/loss  2.627461 train/loss_grapheme  1.746033 train/loss_vowel  0.467196 train/loss_consonant  0.414232 train/acc_grapheme  0.537062 train/acc_vowel  0.844929 train/acc_consonant  0.865494 train/recall  0.701417 valid/loss  0.825607 valid/loss_grapheme  0.556495 valid/loss_vowel  0.132614 valid/loss_consonant  0.136498 valid/acc_grapheme  0.843142 valid/acc_vowel  0.962130 valid/acc_consonant  0.961233 valid/recall  0.888561 lr  0.001000 elapsed_time  733.844408 \n"
     ]
    },
    {
     "name": "stderr",
     "output_type": "stream",
     "text": [
      "                                                                                                                                                                                                    \r"
     ]
    },
    {
     "name": "stdout",
     "output_type": "stream",
     "text": [
      "epoch      7 train/loss  2.470751 train/loss_grapheme  1.633395 train/loss_vowel  0.441430 train/loss_consonant  0.395926 train/acc_grapheme  0.565259 train/acc_vowel  0.851862 train/acc_consonant  0.870095 train/recall  0.719951 valid/loss  0.797081 valid/loss_grapheme  0.536968 valid/loss_vowel  0.129943 valid/loss_consonant  0.130170 valid/acc_grapheme  0.843125 valid/acc_vowel  0.961981 valid/acc_consonant  0.964459 valid/recall  0.908780 lr  0.001000 elapsed_time  856.481456 \n"
     ]
    },
    {
     "name": "stderr",
     "output_type": "stream",
     "text": [
      "                                                                                                                                                                                                  \r"
     ]
    },
    {
     "name": "stdout",
     "output_type": "stream",
     "text": [
      "epoch      8 train/loss  2.311241 train/loss_grapheme  1.516521 train/loss_vowel  0.418012 train/loss_consonant  0.376707 train/acc_grapheme  0.591915 train/acc_vowel  0.860185 train/acc_consonant  0.875156 train/recall  0.737896 valid/loss  0.649928 valid/loss_grapheme  0.424386 valid/loss_vowel  0.107645 valid/loss_consonant  0.117896 valid/acc_grapheme  0.879819 valid/acc_vowel  0.970737 valid/acc_consonant  0.968191 valid/recall  0.920976 lr  0.001000 elapsed_time  979.039432 \n"
     ]
    },
    {
     "name": "stderr",
     "output_type": "stream",
     "text": [
      "                                                                                                                                                                                                   \r"
     ]
    },
    {
     "name": "stdout",
     "output_type": "stream",
     "text": [
      "epoch      9 train/loss  2.185758 train/loss_grapheme  1.430539 train/loss_vowel  0.398715 train/loss_consonant  0.356504 train/acc_grapheme  0.614075 train/acc_vowel  0.866736 train/acc_consonant  0.880208 train/recall  0.752272 valid/loss  0.587793 valid/loss_grapheme  0.376366 valid/loss_vowel  0.106771 valid/loss_consonant  0.104657 valid/acc_grapheme  0.895213 valid/acc_vowel  0.969980 valid/acc_consonant  0.969361 valid/recall  0.929905 lr  0.001000 elapsed_time  1103.236530 \n"
     ]
    },
    {
     "name": "stderr",
     "output_type": "stream",
     "text": [
      "                                                                                                                                                                                                    \r"
     ]
    },
    {
     "name": "stdout",
     "output_type": "stream",
     "text": [
      "epoch     10 train/loss  2.093253 train/loss_grapheme  1.367164 train/loss_vowel  0.383240 train/loss_consonant  0.342849 train/acc_grapheme  0.629665 train/acc_vowel  0.872303 train/acc_consonant  0.884411 train/recall  0.758879 valid/loss  0.509228 valid/loss_grapheme  0.326182 valid/loss_vowel  0.088281 valid/loss_consonant  0.094765 valid/acc_grapheme  0.907317 valid/acc_vowel  0.976731 valid/acc_consonant  0.974329 valid/recall  0.935710 lr  0.001000 elapsed_time  1227.186676 \n"
     ]
    },
    {
     "name": "stderr",
     "output_type": "stream",
     "text": [
      "                                                                                                                                                                                                    \r"
     ]
    },
    {
     "name": "stdout",
     "output_type": "stream",
     "text": [
      "epoch     11 train/loss  2.006970 train/loss_grapheme  1.305271 train/loss_vowel  0.371942 train/loss_consonant  0.329757 train/acc_grapheme  0.645043 train/acc_vowel  0.875277 train/acc_consonant  0.888733 train/recall  0.770645 valid/loss  0.484530 valid/loss_grapheme  0.313553 valid/loss_vowel  0.083761 valid/loss_consonant  0.087216 valid/acc_grapheme  0.911941 valid/acc_vowel  0.976556 valid/acc_consonant  0.975638 valid/recall  0.939658 lr  0.001000 elapsed_time  1352.034423 \n"
     ]
    },
    {
     "name": "stderr",
     "output_type": "stream",
     "text": [
      "                                                                                                                                                                                                    \r"
     ]
    },
    {
     "name": "stdout",
     "output_type": "stream",
     "text": [
      "epoch     12 train/loss  1.913359 train/loss_grapheme  1.239021 train/loss_vowel  0.357739 train/loss_consonant  0.316599 train/acc_grapheme  0.660992 train/acc_vowel  0.879878 train/acc_consonant  0.891873 train/recall  0.781097 valid/loss  0.457387 valid/loss_grapheme  0.284261 valid/loss_vowel  0.087242 valid/loss_consonant  0.085884 valid/acc_grapheme  0.919490 valid/acc_vowel  0.975818 valid/acc_consonant  0.975218 valid/recall  0.942860 lr  0.001000 elapsed_time  1475.930473 \n"
     ]
    },
    {
     "name": "stderr",
     "output_type": "stream",
     "text": [
      "                                                                                                                                                                                                    \r"
     ]
    },
    {
     "name": "stdout",
     "output_type": "stream",
     "text": [
      "epoch     13 train/loss  1.820384 train/loss_grapheme  1.168885 train/loss_vowel  0.345927 train/loss_consonant  0.305572 train/acc_grapheme  0.680229 train/acc_vowel  0.883770 train/acc_consonant  0.895946 train/recall  0.791473 valid/loss  0.401064 valid/loss_grapheme  0.249209 valid/loss_vowel  0.072895 valid/loss_consonant  0.078960 valid/acc_grapheme  0.929198 valid/acc_vowel  0.980946 valid/acc_consonant  0.977753 valid/recall  0.947386 lr  0.001000 elapsed_time  1599.315364 \n"
     ]
    },
    {
     "name": "stderr",
     "output_type": "stream",
     "text": [
      "                                                                                                                                                                                                    \r"
     ]
    },
    {
     "name": "stdout",
     "output_type": "stream",
     "text": [
      "epoch     14 train/loss  1.729302 train/loss_grapheme  1.105246 train/loss_vowel  0.330100 train/loss_consonant  0.293956 train/acc_grapheme  0.696613 train/acc_vowel  0.889202 train/acc_consonant  0.899374 train/recall  0.802164 valid/loss  0.379425 valid/loss_grapheme  0.240022 valid/loss_vowel  0.071186 valid/loss_consonant  0.068216 valid/acc_grapheme  0.930818 valid/acc_vowel  0.981073 valid/acc_consonant  0.980199 valid/recall  0.950549 lr  0.001000 elapsed_time  1724.384426 \n"
     ]
    },
    {
     "name": "stderr",
     "output_type": "stream",
     "text": [
      "                                                                                                                                                                                                    \r"
     ]
    },
    {
     "name": "stdout",
     "output_type": "stream",
     "text": [
      "epoch     15 train/loss  1.663718 train/loss_grapheme  1.057361 train/loss_vowel  0.320931 train/loss_consonant  0.285426 train/acc_grapheme  0.708993 train/acc_vowel  0.892382 train/acc_consonant  0.901597 train/recall  0.810009 valid/loss  1.361539 valid/loss_grapheme  0.626364 valid/loss_vowel  0.513750 valid/loss_consonant  0.221425 valid/acc_grapheme  0.830306 valid/acc_vowel  0.829801 valid/acc_consonant  0.926056 valid/recall  0.851462 lr  0.001000 elapsed_time  1847.344073 \n"
     ]
    },
    {
     "name": "stderr",
     "output_type": "stream",
     "text": [
      "                                                                                                                                                                                                    \r"
     ]
    },
    {
     "name": "stdout",
     "output_type": "stream",
     "text": [
      "epoch     16 train/loss  1.598843 train/loss_grapheme  1.013298 train/loss_vowel  0.311646 train/loss_consonant  0.273899 train/acc_grapheme  0.720403 train/acc_vowel  0.894284 train/acc_consonant  0.905531 train/recall  0.815333 valid/loss  0.344381 valid/loss_grapheme  0.214477 valid/loss_vowel  0.060903 valid/loss_consonant  0.069002 valid/acc_grapheme  0.939412 valid/acc_vowel  0.984300 valid/acc_consonant  0.979605 valid/recall  0.955149 lr  0.001000 elapsed_time  1971.646718 \n"
     ]
    },
    {
     "name": "stderr",
     "output_type": "stream",
     "text": [
      "                                                                                                                                                                                                   \r"
     ]
    },
    {
     "name": "stdout",
     "output_type": "stream",
     "text": [
      "epoch     17 train/loss  1.542807 train/loss_grapheme  0.979117 train/loss_vowel  0.299880 train/loss_consonant  0.263809 train/acc_grapheme  0.730877 train/acc_vowel  0.898751 train/acc_consonant  0.908833 train/recall  0.823416 valid/loss  0.322927 valid/loss_grapheme  0.204851 valid/loss_vowel  0.058555 valid/loss_consonant  0.059520 valid/acc_grapheme  0.940522 valid/acc_vowel  0.984426 valid/acc_consonant  0.982757 valid/recall  0.956362 lr  0.001000 elapsed_time  2095.421035 \n"
     ]
    },
    {
     "name": "stderr",
     "output_type": "stream",
     "text": [
      "                                                                                                                                                                                                    \r"
     ]
    },
    {
     "name": "stdout",
     "output_type": "stream",
     "text": [
      "epoch     18 train/loss  1.497751 train/loss_grapheme  0.946897 train/loss_vowel  0.293218 train/loss_consonant  0.257636 train/acc_grapheme  0.738669 train/acc_vowel  0.901681 train/acc_consonant  0.911588 train/recall  0.827696 valid/loss  0.369723 valid/loss_grapheme  0.225636 valid/loss_vowel  0.074972 valid/loss_consonant  0.069115 valid/acc_grapheme  0.936959 valid/acc_vowel  0.977674 valid/acc_consonant  0.978851 valid/recall  0.948771 lr  0.001000 elapsed_time  2219.113845 \n"
     ]
    },
    {
     "name": "stderr",
     "output_type": "stream",
     "text": [
      "                                                                                                                                                                                                     \r"
     ]
    },
    {
     "name": "stdout",
     "output_type": "stream",
     "text": [
      "epoch     19 train/loss  1.454188 train/loss_grapheme  0.916885 train/loss_vowel  0.285569 train/loss_consonant  0.251735 train/acc_grapheme  0.746060 train/acc_vowel  0.903288 train/acc_consonant  0.913273 train/recall  0.832818 valid/loss  1.140472 valid/loss_grapheme  0.491857 valid/loss_vowel  0.426407 valid/loss_consonant  0.222208 valid/acc_grapheme  0.866009 valid/acc_vowel  0.860126 valid/acc_consonant  0.925284 valid/recall  0.865713 lr  0.001000 elapsed_time  2344.270328 \n"
     ]
    },
    {
     "name": "stderr",
     "output_type": "stream",
     "text": [
      "                                                                                                                                                                                                      \r"
     ]
    },
    {
     "name": "stdout",
     "output_type": "stream",
     "text": [
      "epoch     20 train/loss  1.422931 train/loss_grapheme  0.897137 train/loss_vowel  0.279801 train/loss_consonant  0.245993 train/acc_grapheme  0.751075 train/acc_vowel  0.905624 train/acc_consonant  0.915053 train/recall  0.835566 valid/loss  0.356504 valid/loss_grapheme  0.220741 valid/loss_vowel  0.070105 valid/loss_consonant  0.065658 valid/acc_grapheme  0.937685 valid/acc_vowel  0.980205 valid/acc_consonant  0.980122 valid/recall  0.952343 lr  0.001000 elapsed_time  2467.161445 \n"
     ]
    },
    {
     "name": "stderr",
     "output_type": "stream",
     "text": [
      "                                                                                                                                                                                                     \r"
     ]
    },
    {
     "name": "stdout",
     "output_type": "stream",
     "text": [
      "epoch     21 train/loss  1.389439 train/loss_grapheme  0.871980 train/loss_vowel  0.274580 train/loss_consonant  0.242879 train/acc_grapheme  0.757816 train/acc_vowel  0.907245 train/acc_consonant  0.915925 train/recall  0.839998 valid/loss  0.289774 valid/loss_grapheme  0.181698 valid/loss_vowel  0.054240 valid/loss_consonant  0.053835 valid/acc_grapheme  0.947548 valid/acc_vowel  0.985153 valid/acc_consonant  0.984173 valid/recall  0.962248 lr  0.001000 elapsed_time  2589.573886 \n"
     ]
    },
    {
     "name": "stderr",
     "output_type": "stream",
     "text": [
      "                                                                                                                                                                                                     \r"
     ]
    },
    {
     "name": "stdout",
     "output_type": "stream",
     "text": [
      "epoch     22 train/loss  1.346016 train/loss_grapheme  0.843895 train/loss_vowel  0.267372 train/loss_consonant  0.234749 train/acc_grapheme  0.765503 train/acc_vowel  0.909797 train/acc_consonant  0.919111 train/recall  0.845737 valid/loss  1.430508 valid/loss_grapheme  0.594143 valid/loss_vowel  0.611531 valid/loss_consonant  0.224833 valid/acc_grapheme  0.840676 valid/acc_vowel  0.812785 valid/acc_consonant  0.922814 valid/recall  0.853795 lr  0.001000 elapsed_time  2711.899440 \n"
     ]
    },
    {
     "name": "stderr",
     "output_type": "stream",
     "text": [
      "                                                                                                                                                                                                     \r"
     ]
    },
    {
     "name": "stdout",
     "output_type": "stream",
     "text": [
      "epoch     23 train/loss  1.313245 train/loss_grapheme  0.824209 train/loss_vowel  0.260570 train/loss_consonant  0.228465 train/acc_grapheme  0.770388 train/acc_vowel  0.911915 train/acc_consonant  0.921212 train/recall  0.848676 valid/loss  0.365473 valid/loss_grapheme  0.219198 valid/loss_vowel  0.082463 valid/loss_consonant  0.063811 valid/acc_grapheme  0.937337 valid/acc_vowel  0.974823 valid/acc_consonant  0.980346 valid/recall  0.952279 lr  0.001000 elapsed_time  2837.882026 \n"
     ]
    },
    {
     "name": "stderr",
     "output_type": "stream",
     "text": [
      "                                                                                                                                                                                                     \r"
     ]
    },
    {
     "name": "stdout",
     "output_type": "stream",
     "text": [
      "epoch     24 train/loss  1.282316 train/loss_grapheme  0.803458 train/loss_vowel  0.255097 train/loss_consonant  0.223762 train/acc_grapheme  0.775335 train/acc_vowel  0.912944 train/acc_consonant  0.922822 train/recall  0.851430 valid/loss  0.286410 valid/loss_grapheme  0.186049 valid/loss_vowel  0.049444 valid/loss_consonant  0.050917 valid/acc_grapheme  0.947354 valid/acc_vowel  0.986626 valid/acc_consonant  0.984504 valid/recall  0.960667 lr  0.001000 elapsed_time  2962.707792 \n"
     ]
    },
    {
     "name": "stderr",
     "output_type": "stream",
     "text": [
      "                                                                                                                                                                                                      \r"
     ]
    },
    {
     "name": "stdout",
     "output_type": "stream",
     "text": [
      "epoch     25 train/loss  1.260232 train/loss_grapheme  0.788759 train/loss_vowel  0.251534 train/loss_consonant  0.219939 train/acc_grapheme  0.779345 train/acc_vowel  0.916009 train/acc_consonant  0.923734 train/recall  0.853558 valid/loss  0.284897 valid/loss_grapheme  0.183735 valid/loss_vowel  0.050927 valid/loss_consonant  0.050235 valid/acc_grapheme  0.947715 valid/acc_vowel  0.985449 valid/acc_consonant  0.984656 valid/recall  0.962925 lr  0.001000 elapsed_time  3087.862443 \n"
     ]
    },
    {
     "name": "stderr",
     "output_type": "stream",
     "text": [
      "                                                                                                                                                                                                     \r"
     ]
    },
    {
     "name": "stdout",
     "output_type": "stream",
     "text": [
      "epoch     26 train/loss  1.233936 train/loss_grapheme  0.770734 train/loss_vowel  0.247496 train/loss_consonant  0.215706 train/acc_grapheme  0.784338 train/acc_vowel  0.916477 train/acc_consonant  0.925337 train/recall  0.855361 valid/loss  0.252503 valid/loss_grapheme  0.158425 valid/loss_vowel  0.045722 valid/loss_consonant  0.048356 valid/acc_grapheme  0.954373 valid/acc_vowel  0.986795 valid/acc_consonant  0.984788 valid/recall  0.965106 lr  0.001000 elapsed_time  3212.644060 \n"
     ]
    },
    {
     "name": "stderr",
     "output_type": "stream",
     "text": [
      "                                                                                                                                                                                                      \r"
     ]
    },
    {
     "name": "stdout",
     "output_type": "stream",
     "text": [
      "epoch     27 train/loss  1.214845 train/loss_grapheme  0.758050 train/loss_vowel  0.245698 train/loss_consonant  0.211097 train/acc_grapheme  0.787709 train/acc_vowel  0.916370 train/acc_consonant  0.926041 train/recall  0.859214 valid/loss  0.258095 valid/loss_grapheme  0.162431 valid/loss_vowel  0.046646 valid/loss_consonant  0.049018 valid/acc_grapheme  0.952527 valid/acc_vowel  0.987390 valid/acc_consonant  0.984487 valid/recall  0.962949 lr  0.001000 elapsed_time  3337.724718 \n"
     ]
    },
    {
     "name": "stderr",
     "output_type": "stream",
     "text": [
      "                                                                                                                                                                                                      \r"
     ]
    },
    {
     "name": "stdout",
     "output_type": "stream",
     "text": [
      "epoch     28 train/loss  1.184432 train/loss_grapheme  0.739299 train/loss_vowel  0.237248 train/loss_consonant  0.207884 train/acc_grapheme  0.792806 train/acc_vowel  0.919692 train/acc_consonant  0.927224 train/recall  0.863117 valid/loss  0.235701 valid/loss_grapheme  0.147067 valid/loss_vowel  0.044147 valid/loss_consonant  0.044488 valid/acc_grapheme  0.957205 valid/acc_vowel  0.988244 valid/acc_consonant  0.986372 valid/recall  0.968351 lr  0.001000 elapsed_time  3462.138059 \n"
     ]
    },
    {
     "name": "stderr",
     "output_type": "stream",
     "text": [
      "                                                                                                                                                                                                     \r"
     ]
    },
    {
     "name": "stdout",
     "output_type": "stream",
     "text": [
      "epoch     29 train/loss  1.168572 train/loss_grapheme  0.728457 train/loss_vowel  0.234439 train/loss_consonant  0.205677 train/acc_grapheme  0.794673 train/acc_vowel  0.919765 train/acc_consonant  0.927992 train/recall  0.864098 valid/loss  0.283127 valid/loss_grapheme  0.182675 valid/loss_vowel  0.048130 valid/loss_consonant  0.052322 valid/acc_grapheme  0.947056 valid/acc_vowel  0.986753 valid/acc_consonant  0.983337 valid/recall  0.959658 lr  0.001000 elapsed_time  3586.188868 \n"
     ]
    },
    {
     "name": "stderr",
     "output_type": "stream",
     "text": [
      "                                                                                                                                                                                                     \r"
     ]
    },
    {
     "name": "stdout",
     "output_type": "stream",
     "text": [
      "epoch     30 train/loss  1.144471 train/loss_grapheme  0.713026 train/loss_vowel  0.230944 train/loss_consonant  0.200501 train/acc_grapheme  0.799016 train/acc_vowel  0.921922 train/acc_consonant  0.930980 train/recall  0.866955 valid/loss  0.236488 valid/loss_grapheme  0.149877 valid/loss_vowel  0.043260 valid/loss_consonant  0.043350 valid/acc_grapheme  0.956757 valid/acc_vowel  0.987810 valid/acc_consonant  0.986275 valid/recall  0.966948 lr  0.001000 elapsed_time  3711.584748 \n"
     ]
    },
    {
     "data": {
      "text/plain": [
       "State:\n",
       "\titeration: 18840\n",
       "\tepoch: 30\n",
       "\tepoch_length: 628\n",
       "\tmax_epochs: 30\n",
       "\toutput: <class 'tuple'>\n",
       "\tbatch: <class 'list'>\n",
       "\tmetrics: <class 'dict'>\n",
       "\tdataloader: <class 'torch.utils.data.dataloader.DataLoader'>\n",
       "\tseed: 12"
      ]
     },
     "execution_count": 31,
     "metadata": {},
     "output_type": "execute_result"
    }
   ],
   "source": [
    "save_json('64_base_Cutout_v1.json', {'image_size':64, 'threshold':20,'arch':'pretrained','model_name':'se_resnext50_32x4d'})\n",
    "trainer.run(train_loader, max_epochs=30)"
   ]
  },
  {
   "cell_type": "code",
   "execution_count": null,
   "metadata": {},
   "outputs": [],
   "source": []
  },
  {
   "cell_type": "code",
   "execution_count": null,
   "metadata": {},
   "outputs": [],
   "source": []
  },
  {
   "cell_type": "code",
   "execution_count": 31,
   "metadata": {
    "scrolled": true
   },
   "outputs": [
    {
     "name": "stderr",
     "output_type": "stream",
     "text": [
      "                                                     \r"
     ]
    },
    {
     "name": "stdout",
     "output_type": "stream",
     "text": [
      "epoch      1 train/loss  7.803825 train/loss_grapheme  4.770954 train/loss_vowel  1.616934 train/loss_consonant  1.415936 train/acc_grapheme  0.041543 train/acc_vowel  0.471339 train/acc_consonant  0.602777 train/recall  0.186982 valid/loss  5.926058 valid/loss_grapheme  4.080241 valid/loss_vowel  0.852660 valid/loss_consonant  0.993157 valid/acc_grapheme  0.097211 valid/acc_vowel  0.724992 valid/acc_consonant  0.741295 valid/recall  0.361428 lr  0.001000 elapsed_time  122.204459 \n"
     ]
    },
    {
     "name": "stderr",
     "output_type": "stream",
     "text": [
      "                                                                                                                                                                                                  \r"
     ]
    },
    {
     "name": "stdout",
     "output_type": "stream",
     "text": [
      "epoch      2 train/loss  6.414638 train/loss_grapheme  4.194132 train/loss_vowel  1.221037 train/loss_consonant  0.999468 train/acc_grapheme  0.084971 train/acc_vowel  0.587730 train/acc_consonant  0.717394 train/recall  0.334424 valid/loss  4.052573 valid/loss_grapheme  2.980132 valid/loss_vowel  0.549312 valid/loss_consonant  0.523129 valid/acc_grapheme  0.247766 valid/acc_vowel  0.819038 valid/acc_consonant  0.851388 valid/recall  0.547155 lr  0.001000 elapsed_time  244.002113 \n"
     ]
    },
    {
     "name": "stderr",
     "output_type": "stream",
     "text": [
      "                                                                                                                                                                                                   \r"
     ]
    },
    {
     "name": "stdout",
     "output_type": "stream",
     "text": [
      "epoch      3 train/loss  5.728765 train/loss_grapheme  3.804916 train/loss_vowel  1.079000 train/loss_consonant  0.844850 train/acc_grapheme  0.129717 train/acc_vowel  0.629266 train/acc_consonant  0.742951 train/recall  0.400224 valid/loss  4.420756 valid/loss_grapheme  2.708060 valid/loss_vowel  1.034343 valid/loss_consonant  0.678353 valid/acc_grapheme  0.325382 valid/acc_vowel  0.671751 valid/acc_consonant  0.779701 valid/recall  0.592301 lr  0.001000 elapsed_time  367.369016 \n"
     ]
    },
    {
     "name": "stderr",
     "output_type": "stream",
     "text": [
      "                                                                                                                                                                                               \r"
     ]
    },
    {
     "name": "stdout",
     "output_type": "stream",
     "text": [
      "epoch      4 train/loss  5.248644 train/loss_grapheme  3.490509 train/loss_vowel  0.993063 train/loss_consonant  0.765072 train/acc_grapheme  0.176397 train/acc_vowel  0.656876 train/acc_consonant  0.757983 train/recall  0.456240 valid/loss  2.188198 valid/loss_grapheme  1.538526 valid/loss_vowel  0.329994 valid/loss_consonant  0.319677 valid/acc_grapheme  0.565377 valid/acc_vowel  0.902117 valid/acc_consonant  0.911961 valid/recall  0.760440 lr  0.001000 elapsed_time  490.545779 \n"
     ]
    },
    {
     "name": "stderr",
     "output_type": "stream",
     "text": [
      "                                                                                                                                                                                                    \r"
     ]
    },
    {
     "name": "stdout",
     "output_type": "stream",
     "text": [
      "epoch      5 train/loss  4.909870 train/loss_grapheme  3.256871 train/loss_vowel  0.940171 train/loss_consonant  0.712828 train/acc_grapheme  0.216042 train/acc_vowel  0.671926 train/acc_consonant  0.768055 train/recall  0.479279 valid/loss  1.789010 valid/loss_grapheme  1.246820 valid/loss_vowel  0.286938 valid/loss_consonant  0.255252 valid/acc_grapheme  0.651088 valid/acc_vowel  0.916434 valid/acc_consonant  0.926322 valid/recall  0.786259 lr  0.001000 elapsed_time  613.659064 \n"
     ]
    },
    {
     "name": "stderr",
     "output_type": "stream",
     "text": [
      "                                                                                                                                                                                                   \r"
     ]
    },
    {
     "name": "stdout",
     "output_type": "stream",
     "text": [
      "epoch      6 train/loss  4.634896 train/loss_grapheme  3.060397 train/loss_vowel  0.894963 train/loss_consonant  0.679536 train/acc_grapheme  0.251982 train/acc_vowel  0.688285 train/acc_consonant  0.776834 train/recall  0.507775 valid/loss  1.515633 valid/loss_grapheme  1.049293 valid/loss_vowel  0.235478 valid/loss_consonant  0.230862 valid/acc_grapheme  0.699491 valid/acc_vowel  0.929651 valid/acc_consonant  0.937125 valid/recall  0.807020 lr  0.001000 elapsed_time  738.056558 \n"
     ]
    },
    {
     "name": "stderr",
     "output_type": "stream",
     "text": [
      "                                                                                                                                                                                                   \r"
     ]
    },
    {
     "name": "stdout",
     "output_type": "stream",
     "text": [
      "epoch      7 train/loss  4.367469 train/loss_grapheme  2.861676 train/loss_vowel  0.858045 train/loss_consonant  0.647748 train/acc_grapheme  0.291487 train/acc_vowel  0.698954 train/acc_consonant  0.784111 train/recall  0.531310 valid/loss  1.293536 valid/loss_grapheme  0.867871 valid/loss_vowel  0.200868 valid/loss_consonant  0.224797 valid/acc_grapheme  0.750716 valid/acc_vowel  0.940222 valid/acc_consonant  0.938725 valid/recall  0.829770 lr  0.001000 elapsed_time  860.929996 \n"
     ]
    },
    {
     "name": "stderr",
     "output_type": "stream",
     "text": [
      "                                                                                                                                                                                                    \r"
     ]
    },
    {
     "name": "stdout",
     "output_type": "stream",
     "text": [
      "epoch      8 train/loss  4.129506 train/loss_grapheme  2.677419 train/loss_vowel  0.823867 train/loss_consonant  0.628221 train/acc_grapheme  0.328843 train/acc_vowel  0.710264 train/acc_consonant  0.788071 train/recall  0.553723 valid/loss  1.133311 valid/loss_grapheme  0.736872 valid/loss_vowel  0.202111 valid/loss_consonant  0.194328 valid/acc_grapheme  0.786488 valid/acc_vowel  0.940586 valid/acc_consonant  0.943657 valid/recall  0.849819 lr  0.001000 elapsed_time  983.516791 \n"
     ]
    },
    {
     "name": "stderr",
     "output_type": "stream",
     "text": [
      "                                                                                                                                                                                                   \r"
     ]
    },
    {
     "name": "stdout",
     "output_type": "stream",
     "text": [
      "epoch      9 train/loss  3.929726 train/loss_grapheme  2.524473 train/loss_vowel  0.800937 train/loss_consonant  0.604315 train/acc_grapheme  0.361482 train/acc_vowel  0.719947 train/acc_consonant  0.795070 train/recall  0.573539 valid/loss  0.948627 valid/loss_grapheme  0.614378 valid/loss_vowel  0.168716 valid/loss_consonant  0.165532 valid/acc_grapheme  0.824036 valid/acc_vowel  0.952133 valid/acc_consonant  0.957401 valid/recall  0.879432 lr  0.001000 elapsed_time  1107.541264 \n"
     ]
    },
    {
     "name": "stderr",
     "output_type": "stream",
     "text": [
      "                                                                                                                                                                                                    \r"
     ]
    },
    {
     "name": "stdout",
     "output_type": "stream",
     "text": [
      "epoch     10 train/loss  3.766860 train/loss_grapheme  2.401291 train/loss_vowel  0.779009 train/loss_consonant  0.586560 train/acc_grapheme  0.387377 train/acc_vowel  0.727270 train/acc_consonant  0.799424 train/recall  0.588899 valid/loss  3.215265 valid/loss_grapheme  1.520088 valid/loss_vowel  1.200167 valid/loss_consonant  0.495010 valid/acc_grapheme  0.630534 valid/acc_vowel  0.680305 valid/acc_consonant  0.828831 valid/recall  0.742966 lr  0.001000 elapsed_time  1231.037538 \n"
     ]
    },
    {
     "name": "stderr",
     "output_type": "stream",
     "text": [
      "                                                                                                                                                                                                    \r"
     ]
    },
    {
     "name": "stdout",
     "output_type": "stream",
     "text": [
      "epoch     11 train/loss  3.617224 train/loss_grapheme  2.292604 train/loss_vowel  0.756837 train/loss_consonant  0.567783 train/acc_grapheme  0.411790 train/acc_vowel  0.733984 train/acc_consonant  0.805499 train/recall  0.603904 valid/loss  4.006358 valid/loss_grapheme  2.082837 valid/loss_vowel  1.289691 valid/loss_consonant  0.633830 valid/acc_grapheme  0.563255 valid/acc_vowel  0.655472 valid/acc_consonant  0.805377 valid/recall  0.728725 lr  0.001000 elapsed_time  1354.796289 \n"
     ]
    },
    {
     "name": "stderr",
     "output_type": "stream",
     "text": [
      "                                                                                                                                                                                                     \r"
     ]
    },
    {
     "name": "stdout",
     "output_type": "stream",
     "text": [
      "epoch     12 train/loss  3.493229 train/loss_grapheme  2.202507 train/loss_vowel  0.734639 train/loss_consonant  0.556083 train/acc_grapheme  0.431377 train/acc_vowel  0.741931 train/acc_consonant  0.809680 train/recall  0.614224 valid/loss  0.940455 valid/loss_grapheme  0.559793 valid/loss_vowel  0.214470 valid/loss_consonant  0.166191 valid/acc_grapheme  0.838801 valid/acc_vowel  0.932043 valid/acc_consonant  0.948453 valid/recall  0.889117 lr  0.001000 elapsed_time  1478.935129 \n"
     ]
    },
    {
     "name": "stderr",
     "output_type": "stream",
     "text": [
      "                                                                                                                                                                                                   \r"
     ]
    },
    {
     "name": "stdout",
     "output_type": "stream",
     "text": [
      "epoch     13 train/loss  3.388760 train/loss_grapheme  2.127908 train/loss_vowel  0.719040 train/loss_consonant  0.541812 train/acc_grapheme  0.447720 train/acc_vowel  0.747910 train/acc_consonant  0.813154 train/recall  0.628445 valid/loss  1.076995 valid/loss_grapheme  0.609438 valid/loss_vowel  0.277048 valid/loss_consonant  0.190509 valid/acc_grapheme  0.825403 valid/acc_vowel  0.903481 valid/acc_consonant  0.939576 valid/recall  0.870388 lr  0.001000 elapsed_time  1603.268523 \n"
     ]
    },
    {
     "name": "stderr",
     "output_type": "stream",
     "text": [
      "                                                                                                                                                                                                     \r"
     ]
    },
    {
     "name": "stdout",
     "output_type": "stream",
     "text": [
      "epoch     14 train/loss  3.291749 train/loss_grapheme  2.057403 train/loss_vowel  0.704784 train/loss_consonant  0.529562 train/acc_grapheme  0.463363 train/acc_vowel  0.751901 train/acc_consonant  0.816828 train/recall  0.635775 valid/loss  0.631033 valid/loss_grapheme  0.396085 valid/loss_vowel  0.115385 valid/loss_consonant  0.119564 valid/acc_grapheme  0.884622 valid/acc_vowel  0.967943 valid/acc_consonant  0.964594 valid/recall  0.918048 lr  0.001000 elapsed_time  1726.682513 \n"
     ]
    },
    {
     "name": "stderr",
     "output_type": "stream",
     "text": [
      "                                                                                                                                                                                                    \r"
     ]
    },
    {
     "name": "stdout",
     "output_type": "stream",
     "text": [
      "epoch     15 train/loss  3.192006 train/loss_grapheme  1.986141 train/loss_vowel  0.686612 train/loss_consonant  0.519252 train/acc_grapheme  0.478954 train/acc_vowel  0.758318 train/acc_consonant  0.819753 train/recall  0.646048 valid/loss  0.584795 valid/loss_grapheme  0.365663 valid/loss_vowel  0.106170 valid/loss_consonant  0.112962 valid/acc_grapheme  0.893280 valid/acc_vowel  0.971038 valid/acc_consonant  0.966863 valid/recall  0.922622 lr  0.001000 elapsed_time  1850.531583 \n"
     ]
    },
    {
     "name": "stderr",
     "output_type": "stream",
     "text": [
      "                                                                                                                                                                                                    \r"
     ]
    },
    {
     "name": "stdout",
     "output_type": "stream",
     "text": [
      "epoch     16 train/loss  3.128225 train/loss_grapheme  1.941938 train/loss_vowel  0.674887 train/loss_consonant  0.511400 train/acc_grapheme  0.490081 train/acc_vowel  0.762550 train/acc_consonant  0.822079 train/recall  0.652578 valid/loss  0.674784 valid/loss_grapheme  0.437715 valid/loss_vowel  0.123306 valid/loss_consonant  0.113763 valid/acc_grapheme  0.869954 valid/acc_vowel  0.964592 valid/acc_consonant  0.966853 valid/recall  0.907198 lr  0.001000 elapsed_time  1975.071867 \n"
     ]
    },
    {
     "name": "stderr",
     "output_type": "stream",
     "text": [
      "                                                                                                                                                                                                    \r"
     ]
    },
    {
     "name": "stdout",
     "output_type": "stream",
     "text": [
      "epoch     17 train/loss  3.049215 train/loss_grapheme  1.888255 train/loss_vowel  0.663225 train/loss_consonant  0.497736 train/acc_grapheme  0.502028 train/acc_vowel  0.766144 train/acc_consonant  0.825870 train/recall  0.657966 valid/loss  0.513043 valid/loss_grapheme  0.319690 valid/loss_vowel  0.097190 valid/loss_consonant  0.096163 valid/acc_grapheme  0.904860 valid/acc_vowel  0.973850 valid/acc_consonant  0.972133 valid/recall  0.934474 lr  0.001000 elapsed_time  2099.428351 \n"
     ]
    },
    {
     "name": "stderr",
     "output_type": "stream",
     "text": [
      "                                                                                                                                                                                                     \r"
     ]
    },
    {
     "name": "stdout",
     "output_type": "stream",
     "text": [
      "epoch     18 train/loss  2.979359 train/loss_grapheme  1.839251 train/loss_vowel  0.651721 train/loss_consonant  0.488386 train/acc_grapheme  0.511961 train/acc_vowel  0.771068 train/acc_consonant  0.829406 train/recall  0.665382 valid/loss  0.510540 valid/loss_grapheme  0.309642 valid/loss_vowel  0.096950 valid/loss_consonant  0.103949 valid/acc_grapheme  0.908955 valid/acc_vowel  0.973775 valid/acc_consonant  0.969249 valid/recall  0.932349 lr  0.001000 elapsed_time  2223.517712 \n"
     ]
    },
    {
     "name": "stderr",
     "output_type": "stream",
     "text": [
      "                                                                                                                                                                                                     \r"
     ]
    },
    {
     "name": "stdout",
     "output_type": "stream",
     "text": [
      "epoch     19 train/loss  2.922037 train/loss_grapheme  1.803021 train/loss_vowel  0.637484 train/loss_consonant  0.481533 train/acc_grapheme  0.521896 train/acc_vowel  0.774318 train/acc_consonant  0.832130 train/recall  0.670641 valid/loss  3.007698 valid/loss_grapheme  1.457944 valid/loss_vowel  1.065941 valid/loss_consonant  0.483813 valid/acc_grapheme  0.667638 valid/acc_vowel  0.716565 valid/acc_consonant  0.833909 valid/recall  0.767690 lr  0.001000 elapsed_time  2347.408546 \n"
     ]
    },
    {
     "name": "stderr",
     "output_type": "stream",
     "text": [
      "                                                                                                                                                                                                    \r"
     ]
    },
    {
     "name": "stdout",
     "output_type": "stream",
     "text": [
      "epoch     20 train/loss  2.867531 train/loss_grapheme  1.761634 train/loss_vowel  0.631440 train/loss_consonant  0.474458 train/acc_grapheme  0.532395 train/acc_vowel  0.777895 train/acc_consonant  0.834066 train/recall  0.677859 valid/loss  0.484777 valid/loss_grapheme  0.300417 valid/loss_vowel  0.089914 valid/loss_consonant  0.094446 valid/acc_grapheme  0.909612 valid/acc_vowel  0.975278 valid/acc_consonant  0.972539 valid/recall  0.932674 lr  0.001000 elapsed_time  2471.481497 \n"
     ]
    },
    {
     "name": "stderr",
     "output_type": "stream",
     "text": [
      "                                                                                                                                                                                                     \r"
     ]
    },
    {
     "name": "stdout",
     "output_type": "stream",
     "text": [
      "epoch     21 train/loss  2.823370 train/loss_grapheme  1.731067 train/loss_vowel  0.624679 train/loss_consonant  0.467624 train/acc_grapheme  0.538032 train/acc_vowel  0.779125 train/acc_consonant  0.835910 train/recall  0.682095 valid/loss  0.887878 valid/loss_grapheme  0.500313 valid/loss_vowel  0.243371 valid/loss_consonant  0.144194 valid/acc_grapheme  0.854570 valid/acc_vowel  0.913871 valid/acc_consonant  0.954751 valid/recall  0.887390 lr  0.001000 elapsed_time  2595.442738 \n"
     ]
    },
    {
     "name": "stderr",
     "output_type": "stream",
     "text": [
      "                                                                                                                                                                                                     \r"
     ]
    },
    {
     "name": "stdout",
     "output_type": "stream",
     "text": [
      "epoch     22 train/loss  2.750442 train/loss_grapheme  1.680250 train/loss_vowel  0.611089 train/loss_consonant  0.459102 train/acc_grapheme  0.551630 train/acc_vowel  0.783707 train/acc_consonant  0.838555 train/recall  0.691501 valid/loss  0.442137 valid/loss_grapheme  0.276688 valid/loss_vowel  0.082374 valid/loss_consonant  0.083075 valid/acc_grapheme  0.918191 valid/acc_vowel  0.978557 valid/acc_consonant  0.974947 valid/recall  0.940644 lr  0.001000 elapsed_time  2718.887976 \n"
     ]
    },
    {
     "name": "stderr",
     "output_type": "stream",
     "text": [
      "                                                                                                                                                                                                     \r"
     ]
    },
    {
     "name": "stdout",
     "output_type": "stream",
     "text": [
      "epoch     23 train/loss  2.705959 train/loss_grapheme  1.650834 train/loss_vowel  0.603498 train/loss_consonant  0.451627 train/acc_grapheme  0.557458 train/acc_vowel  0.786843 train/acc_consonant  0.841987 train/recall  0.693941 valid/loss  0.414694 valid/loss_grapheme  0.259930 valid/loss_vowel  0.077598 valid/loss_consonant  0.077165 valid/acc_grapheme  0.921351 valid/acc_vowel  0.979027 valid/acc_consonant  0.977786 valid/recall  0.940416 lr  0.001000 elapsed_time  2841.430966 \n"
     ]
    },
    {
     "name": "stderr",
     "output_type": "stream",
     "text": [
      "                                                                                                                                                                                                     \r"
     ]
    },
    {
     "name": "stdout",
     "output_type": "stream",
     "text": [
      "epoch     24 train/loss  2.669458 train/loss_grapheme  1.628105 train/loss_vowel  0.597347 train/loss_consonant  0.444005 train/acc_grapheme  0.562010 train/acc_vowel  0.789390 train/acc_consonant  0.844111 train/recall  0.697739 valid/loss  2.689449 valid/loss_grapheme  1.178718 valid/loss_vowel  1.109832 valid/loss_consonant  0.400898 valid/acc_grapheme  0.711686 valid/acc_vowel  0.715256 valid/acc_consonant  0.859256 valid/recall  0.784916 lr  0.001000 elapsed_time  2962.811162 \n"
     ]
    },
    {
     "name": "stderr",
     "output_type": "stream",
     "text": [
      "                                                                                                                                                                                                     \r"
     ]
    },
    {
     "name": "stdout",
     "output_type": "stream",
     "text": [
      "epoch     25 train/loss  2.627145 train/loss_grapheme  1.596485 train/loss_vowel  0.588801 train/loss_consonant  0.441859 train/acc_grapheme  0.570540 train/acc_vowel  0.791873 train/acc_consonant  0.845092 train/recall  0.703310 valid/loss  0.444538 valid/loss_grapheme  0.275025 valid/loss_vowel  0.087968 valid/loss_consonant  0.081544 valid/acc_grapheme  0.918254 valid/acc_vowel  0.975077 valid/acc_consonant  0.975373 valid/recall  0.939987 lr  0.001000 elapsed_time  3081.487351 \n"
     ]
    },
    {
     "name": "stderr",
     "output_type": "stream",
     "text": [
      "                                                                                                                                                                                                    \r"
     ]
    },
    {
     "name": "stdout",
     "output_type": "stream",
     "text": [
      "epoch     26 train/loss  2.597711 train/loss_grapheme  1.573352 train/loss_vowel  0.586912 train/loss_consonant  0.437447 train/acc_grapheme  0.577232 train/acc_vowel  0.792097 train/acc_consonant  0.846440 train/recall  0.706076 valid/loss  0.468049 valid/loss_grapheme  0.300364 valid/loss_vowel  0.082743 valid/loss_consonant  0.084942 valid/acc_grapheme  0.910428 valid/acc_vowel  0.977371 valid/acc_consonant  0.974358 valid/recall  0.934705 lr  0.001000 elapsed_time  3202.771158 \n"
     ]
    },
    {
     "name": "stderr",
     "output_type": "stream",
     "text": [
      "                                                                                                                                                                                                    \r"
     ]
    },
    {
     "name": "stdout",
     "output_type": "stream",
     "text": [
      "epoch     27 train/loss  2.557870 train/loss_grapheme  1.550849 train/loss_vowel  0.575627 train/loss_consonant  0.431395 train/acc_grapheme  0.579630 train/acc_vowel  0.796432 train/acc_consonant  0.848491 train/recall  0.709036 valid/loss  0.543465 valid/loss_grapheme  0.369789 valid/loss_vowel  0.085147 valid/loss_consonant  0.088529 valid/acc_grapheme  0.892036 valid/acc_vowel  0.974382 valid/acc_consonant  0.973136 valid/recall  0.927819 lr  0.001000 elapsed_time  3323.355878 \n"
     ]
    },
    {
     "name": "stderr",
     "output_type": "stream",
     "text": [
      "                                                                                                                                                                                                    \r"
     ]
    },
    {
     "name": "stdout",
     "output_type": "stream",
     "text": [
      "epoch     28 train/loss  2.501160 train/loss_grapheme  1.512216 train/loss_vowel  0.567566 train/loss_consonant  0.421378 train/acc_grapheme  0.591607 train/acc_vowel  0.799953 train/acc_consonant  0.851926 train/recall  0.716980 valid/loss  0.639386 valid/loss_grapheme  0.352446 valid/loss_vowel  0.175991 valid/loss_consonant  0.110949 valid/acc_grapheme  0.897456 valid/acc_vowel  0.939693 valid/acc_consonant  0.964649 valid/recall  0.917277 lr  0.001000 elapsed_time  3443.340005 \n"
     ]
    },
    {
     "name": "stderr",
     "output_type": "stream",
     "text": [
      "                                                                                                                                                                                                  \r"
     ]
    },
    {
     "name": "stdout",
     "output_type": "stream",
     "text": [
      "epoch     29 train/loss  2.356102 train/loss_grapheme  1.415540 train/loss_vowel  0.538524 train/loss_consonant  0.402037 train/acc_grapheme  0.614104 train/acc_vowel  0.809800 train/acc_consonant  0.857864 train/recall  0.731389 valid/loss  0.364998 valid/loss_grapheme  0.232654 valid/loss_vowel  0.065824 valid/loss_consonant  0.066520 valid/acc_grapheme  0.929826 valid/acc_vowel  0.981394 valid/acc_consonant  0.979876 valid/recall  0.945558 lr  0.000700 elapsed_time  3564.188750 \n"
     ]
    },
    {
     "name": "stderr",
     "output_type": "stream",
     "text": [
      "                                                                                                                                                                                                    \r"
     ]
    },
    {
     "name": "stdout",
     "output_type": "stream",
     "text": [
      "epoch     30 train/loss  2.293343 train/loss_grapheme  1.374453 train/loss_vowel  0.527388 train/loss_consonant  0.391503 train/acc_grapheme  0.624905 train/acc_vowel  0.813147 train/acc_consonant  0.861913 train/recall  0.740312 valid/loss  0.411115 valid/loss_grapheme  0.266453 valid/loss_vowel  0.071712 valid/loss_consonant  0.072950 valid/acc_grapheme  0.920779 valid/acc_vowel  0.979801 valid/acc_consonant  0.977938 valid/recall  0.943464 lr  0.000700 elapsed_time  3686.647771 \n"
     ]
    },
    {
     "data": {
      "text/plain": [
       "State:\n",
       "\titeration: 18840\n",
       "\tepoch: 30\n",
       "\tepoch_length: 628\n",
       "\tmax_epochs: 30\n",
       "\toutput: <class 'tuple'>\n",
       "\tbatch: <class 'list'>\n",
       "\tmetrics: <class 'dict'>\n",
       "\tdataloader: <class 'torch.utils.data.dataloader.DataLoader'>\n",
       "\tseed: 12"
      ]
     },
     "execution_count": 31,
     "metadata": {},
     "output_type": "execute_result"
    }
   ],
   "source": [
    "save_json('64_base_CoarseDropout_v1.json', {'image_size':64, 'threshold':20,'arch':'pretrained','model_name':'se_resnext50_32x4d'})\n",
    "trainer.run(train_loader, max_epochs=30)"
   ]
  },
  {
   "cell_type": "raw",
   "metadata": {},
   "source": []
  },
  {
   "cell_type": "markdown",
   "metadata": {},
   "source": []
  },
  {
   "cell_type": "code",
   "execution_count": null,
   "metadata": {},
   "outputs": [],
   "source": []
  },
  {
   "cell_type": "code",
   "execution_count": null,
   "metadata": {},
   "outputs": [],
   "source": []
  },
  {
   "cell_type": "code",
   "execution_count": 31,
   "metadata": {
    "scrolled": true
   },
   "outputs": [
    {
     "name": "stderr",
     "output_type": "stream",
     "text": [
      "                                                     \r"
     ]
    },
    {
     "name": "stdout",
     "output_type": "stream",
     "text": [
      "epoch      1 train/loss  4.171247 train/loss_grapheme  2.606211 train/loss_vowel  0.715511 train/loss_consonant  0.849525 train/acc_grapheme  0.419847 train/acc_vowel  0.825901 train/acc_consonant  0.812347 train/recall  0.553260 valid/loss  1.979157 valid/loss_grapheme  1.227248 valid/loss_vowel  0.335061 valid/loss_consonant  0.416848 valid/acc_grapheme  0.692539 valid/acc_vowel  0.928070 valid/acc_consonant  0.935060 valid/recall  0.801647 lr  0.001000 elapsed_time  124.222851 \n"
     ]
    },
    {
     "name": "stderr",
     "output_type": "stream",
     "text": [
      "                                                                                                                                                                                                  \r"
     ]
    },
    {
     "name": "stdout",
     "output_type": "stream",
     "text": [
      "epoch      2 train/loss  1.323989 train/loss_grapheme  0.795397 train/loss_vowel  0.234398 train/loss_consonant  0.294193 train/acc_grapheme  0.792643 train/acc_vowel  0.951571 train/acc_consonant  0.951291 train/recall  0.854566 valid/loss  1.153544 valid/loss_grapheme  0.714464 valid/loss_vowel  0.184244 valid/loss_consonant  0.254836 valid/acc_grapheme  0.807913 valid/acc_vowel  0.956415 valid/acc_consonant  0.947197 valid/recall  0.875536 lr  0.001000 elapsed_time  246.806119 \n"
     ]
    },
    {
     "name": "stderr",
     "output_type": "stream",
     "text": [
      "                                                                                                                                                                                                     \r"
     ]
    },
    {
     "name": "stdout",
     "output_type": "stream",
     "text": [
      "epoch      3 train/loss  0.849020 train/loss_grapheme  0.528502 train/loss_vowel  0.147884 train/loss_consonant  0.172634 train/acc_grapheme  0.858755 train/acc_vowel  0.966460 train/acc_consonant  0.966401 train/recall  0.902738 valid/loss  0.857606 valid/loss_grapheme  0.527559 valid/loss_vowel  0.145069 valid/loss_consonant  0.184978 valid/acc_grapheme  0.857071 valid/acc_vowel  0.963788 valid/acc_consonant  0.958179 valid/recall  0.895327 lr  0.001000 elapsed_time  370.508769 \n"
     ]
    },
    {
     "name": "stderr",
     "output_type": "stream",
     "text": [
      "                                                                                                                                                                                                      \r"
     ]
    },
    {
     "name": "stdout",
     "output_type": "stream",
     "text": [
      "epoch      4 train/loss  0.639853 train/loss_grapheme  0.407201 train/loss_vowel  0.109346 train/loss_consonant  0.123306 train/acc_grapheme  0.888483 train/acc_vowel  0.974270 train/acc_consonant  0.973395 train/recall  0.922328 valid/loss  0.989925 valid/loss_grapheme  0.633759 valid/loss_vowel  0.157213 valid/loss_consonant  0.198953 valid/acc_grapheme  0.828766 valid/acc_vowel  0.957184 valid/acc_consonant  0.944727 valid/recall  0.904787 lr  0.001000 elapsed_time  495.201016 \n"
     ]
    },
    {
     "name": "stderr",
     "output_type": "stream",
     "text": [
      "                                                                                                                                                                                                     \r"
     ]
    },
    {
     "name": "stdout",
     "output_type": "stream",
     "text": [
      "epoch      5 train/loss  0.523077 train/loss_grapheme  0.337315 train/loss_vowel  0.089925 train/loss_consonant  0.095838 train/acc_grapheme  0.907141 train/acc_vowel  0.978155 train/acc_consonant  0.977610 train/recall  0.935990 valid/loss  0.696807 valid/loss_grapheme  0.465893 valid/loss_vowel  0.114271 valid/loss_consonant  0.116643 valid/acc_grapheme  0.872467 valid/acc_vowel  0.969620 valid/acc_consonant  0.970620 valid/recall  0.915160 lr  0.001000 elapsed_time  619.827661 \n"
     ]
    },
    {
     "name": "stderr",
     "output_type": "stream",
     "text": [
      "                                                                                                                                                                                                        \r"
     ]
    },
    {
     "name": "stdout",
     "output_type": "stream",
     "text": [
      "epoch      6 train/loss  0.444749 train/loss_grapheme  0.291037 train/loss_vowel  0.074810 train/loss_consonant  0.078902 train/acc_grapheme  0.918460 train/acc_vowel  0.981307 train/acc_consonant  0.980295 train/recall  0.943460 valid/loss  0.658851 valid/loss_grapheme  0.444238 valid/loss_vowel  0.102828 valid/loss_consonant  0.111785 valid/acc_grapheme  0.881051 valid/acc_vowel  0.973175 valid/acc_consonant  0.970311 valid/recall  0.924558 lr  0.001000 elapsed_time  741.950512 \n"
     ]
    },
    {
     "name": "stderr",
     "output_type": "stream",
     "text": [
      "                                                                                                                                                                                                       \r"
     ]
    },
    {
     "name": "stdout",
     "output_type": "stream",
     "text": [
      "epoch      7 train/loss  0.378765 train/loss_grapheme  0.251463 train/loss_vowel  0.063450 train/loss_consonant  0.063852 train/acc_grapheme  0.928389 train/acc_vowel  0.983917 train/acc_consonant  0.983760 train/recall  0.950714 valid/loss  0.609301 valid/loss_grapheme  0.393577 valid/loss_vowel  0.103198 valid/loss_consonant  0.112526 valid/acc_grapheme  0.893086 valid/acc_vowel  0.972760 valid/acc_consonant  0.969839 valid/recall  0.922688 lr  0.001000 elapsed_time  866.523161 \n"
     ]
    },
    {
     "name": "stderr",
     "output_type": "stream",
     "text": [
      "                                                                                                                                                                                                        \r"
     ]
    },
    {
     "name": "stdout",
     "output_type": "stream",
     "text": [
      "epoch      8 train/loss  0.328133 train/loss_grapheme  0.218408 train/loss_vowel  0.054772 train/loss_consonant  0.054953 train/acc_grapheme  0.937969 train/acc_vowel  0.985944 train/acc_consonant  0.985600 train/recall  0.957769 valid/loss  0.667150 valid/loss_grapheme  0.434908 valid/loss_vowel  0.115669 valid/loss_consonant  0.116573 valid/acc_grapheme  0.886373 valid/acc_vowel  0.969236 valid/acc_consonant  0.968553 valid/recall  0.927064 lr  0.001000 elapsed_time  989.407627 \n"
     ]
    },
    {
     "name": "stderr",
     "output_type": "stream",
     "text": [
      "                                                                                                                                                                                                       \r"
     ]
    },
    {
     "name": "stdout",
     "output_type": "stream",
     "text": [
      "epoch      9 train/loss  0.292715 train/loss_grapheme  0.194084 train/loss_vowel  0.049702 train/loss_consonant  0.048929 train/acc_grapheme  0.943862 train/acc_vowel  0.987170 train/acc_consonant  0.986451 train/recall  0.961675 valid/loss  0.625757 valid/loss_grapheme  0.421800 valid/loss_vowel  0.101039 valid/loss_consonant  0.102918 valid/acc_grapheme  0.890478 valid/acc_vowel  0.972492 valid/acc_consonant  0.971832 valid/recall  0.925489 lr  0.001000 elapsed_time  1113.473213 \n"
     ]
    },
    {
     "name": "stderr",
     "output_type": "stream",
     "text": [
      "                                                                                                                                                                                                         \r"
     ]
    },
    {
     "name": "stdout",
     "output_type": "stream",
     "text": [
      "epoch     10 train/loss  0.252589 train/loss_grapheme  0.167942 train/loss_vowel  0.042241 train/loss_consonant  0.042406 train/acc_grapheme  0.951319 train/acc_vowel  0.988703 train/acc_consonant  0.988031 train/recall  0.966499 valid/loss  0.609609 valid/loss_grapheme  0.408459 valid/loss_vowel  0.098648 valid/loss_consonant  0.102501 valid/acc_grapheme  0.895071 valid/acc_vowel  0.974168 valid/acc_consonant  0.972937 valid/recall  0.926809 lr  0.001000 elapsed_time  1237.891136 \n"
     ]
    },
    {
     "name": "stderr",
     "output_type": "stream",
     "text": [
      "                                                                                                                                                                                                         \r"
     ]
    },
    {
     "name": "stdout",
     "output_type": "stream",
     "text": [
      "epoch     11 train/loss  0.222485 train/loss_grapheme  0.149059 train/loss_vowel  0.037441 train/loss_consonant  0.035985 train/acc_grapheme  0.956669 train/acc_vowel  0.989945 train/acc_consonant  0.989945 train/recall  0.970282 valid/loss  0.668133 valid/loss_grapheme  0.453456 valid/loss_vowel  0.104325 valid/loss_consonant  0.110353 valid/acc_grapheme  0.886335 valid/acc_vowel  0.972262 valid/acc_consonant  0.970792 valid/recall  0.927792 lr  0.001000 elapsed_time  1358.458842 \n"
     ]
    },
    {
     "name": "stderr",
     "output_type": "stream",
     "text": [
      "                                                                                                                                                                                                     \r"
     ]
    },
    {
     "name": "stdout",
     "output_type": "stream",
     "text": [
      "epoch     12 train/loss  0.203811 train/loss_grapheme  0.134987 train/loss_vowel  0.034257 train/loss_consonant  0.034567 train/acc_grapheme  0.960447 train/acc_vowel  0.990488 train/acc_consonant  0.990280 train/recall  0.972716 valid/loss  0.588050 valid/loss_grapheme  0.395452 valid/loss_vowel  0.091844 valid/loss_consonant  0.100753 valid/acc_grapheme  0.899778 valid/acc_vowel  0.976569 valid/acc_consonant  0.973150 valid/recall  0.931244 lr  0.001000 elapsed_time  1479.180334 \n"
     ]
    },
    {
     "name": "stderr",
     "output_type": "stream",
     "text": [
      "                                                                                                                                                                                                      \r"
     ]
    },
    {
     "name": "stdout",
     "output_type": "stream",
     "text": [
      "epoch     13 train/loss  0.177116 train/loss_grapheme  0.117306 train/loss_vowel  0.029870 train/loss_consonant  0.029940 train/acc_grapheme  0.966068 train/acc_vowel  0.991782 train/acc_consonant  0.991376 train/recall  0.976747 valid/loss  0.619649 valid/loss_grapheme  0.416909 valid/loss_vowel  0.095680 valid/loss_consonant  0.107060 valid/acc_grapheme  0.896571 valid/acc_vowel  0.976141 valid/acc_consonant  0.972066 valid/recall  0.926203 lr  0.001000 elapsed_time  1598.275456 \n"
     ]
    },
    {
     "name": "stderr",
     "output_type": "stream",
     "text": [
      "                                                                                                                                                                                                         \r"
     ]
    },
    {
     "name": "stdout",
     "output_type": "stream",
     "text": [
      "epoch     14 train/loss  0.153689 train/loss_grapheme  0.102771 train/loss_vowel  0.026225 train/loss_consonant  0.024693 train/acc_grapheme  0.969902 train/acc_vowel  0.992601 train/acc_consonant  0.992868 train/recall  0.979294 valid/loss  0.586068 valid/loss_grapheme  0.393702 valid/loss_vowel  0.097969 valid/loss_consonant  0.094397 valid/acc_grapheme  0.904076 valid/acc_vowel  0.975524 valid/acc_consonant  0.974447 valid/recall  0.937540 lr  0.001000 elapsed_time  1722.930275 \n"
     ]
    },
    {
     "name": "stderr",
     "output_type": "stream",
     "text": [
      "                                                                                                                                                                                                        \r"
     ]
    },
    {
     "name": "stdout",
     "output_type": "stream",
     "text": [
      "epoch     15 train/loss  0.139874 train/loss_grapheme  0.092866 train/loss_vowel  0.023582 train/loss_consonant  0.023426 train/acc_grapheme  0.973334 train/acc_vowel  0.993225 train/acc_consonant  0.993218 train/recall  0.981491 valid/loss  0.608636 valid/loss_grapheme  0.416498 valid/loss_vowel  0.092277 valid/loss_consonant  0.099861 valid/acc_grapheme  0.900804 valid/acc_vowel  0.978303 valid/acc_consonant  0.974424 valid/recall  0.935495 lr  0.001000 elapsed_time  1845.138172 \n"
     ]
    },
    {
     "name": "stderr",
     "output_type": "stream",
     "text": [
      "                                                                                                                                                                                                         \r"
     ]
    },
    {
     "name": "stdout",
     "output_type": "stream",
     "text": [
      "epoch     16 train/loss  0.129514 train/loss_grapheme  0.086139 train/loss_vowel  0.022039 train/loss_consonant  0.021336 train/acc_grapheme  0.974752 train/acc_vowel  0.993427 train/acc_consonant  0.993648 train/recall  0.981884 valid/loss  0.584558 valid/loss_grapheme  0.394238 valid/loss_vowel  0.093871 valid/loss_consonant  0.096449 valid/acc_grapheme  0.906698 valid/acc_vowel  0.977958 valid/acc_consonant  0.976072 valid/recall  0.936345 lr  0.001000 elapsed_time  1968.242862 \n"
     ]
    },
    {
     "name": "stderr",
     "output_type": "stream",
     "text": [
      "                                                                                                                                                                                                        \r"
     ]
    },
    {
     "name": "stdout",
     "output_type": "stream",
     "text": [
      "epoch     17 train/loss  0.122296 train/loss_grapheme  0.081170 train/loss_vowel  0.020331 train/loss_consonant  0.020795 train/acc_grapheme  0.975949 train/acc_vowel  0.994108 train/acc_consonant  0.993580 train/recall  0.983294 valid/loss  0.599373 valid/loss_grapheme  0.408977 valid/loss_vowel  0.094123 valid/loss_consonant  0.096274 valid/acc_grapheme  0.906339 valid/acc_vowel  0.978550 valid/acc_consonant  0.976987 valid/recall  0.938923 lr  0.001000 elapsed_time  2093.253569 \n"
     ]
    },
    {
     "name": "stderr",
     "output_type": "stream",
     "text": [
      "                                                                                                                                                                                                          \r"
     ]
    },
    {
     "name": "stdout",
     "output_type": "stream",
     "text": [
      "epoch     18 train/loss  0.105862 train/loss_grapheme  0.070081 train/loss_vowel  0.017615 train/loss_consonant  0.018165 train/acc_grapheme  0.980096 train/acc_vowel  0.994880 train/acc_consonant  0.994450 train/recall  0.986217 valid/loss  0.615788 valid/loss_grapheme  0.413025 valid/loss_vowel  0.101621 valid/loss_consonant  0.101143 valid/acc_grapheme  0.904787 valid/acc_vowel  0.976134 valid/acc_consonant  0.975447 valid/recall  0.933055 lr  0.001000 elapsed_time  2218.507318 \n"
     ]
    },
    {
     "name": "stderr",
     "output_type": "stream",
     "text": [
      "                                                                                                                                                                                                         \r"
     ]
    },
    {
     "name": "stdout",
     "output_type": "stream",
     "text": [
      "epoch     19 train/loss  0.095738 train/loss_grapheme  0.064747 train/loss_vowel  0.015818 train/loss_consonant  0.015173 train/acc_grapheme  0.981109 train/acc_vowel  0.995434 train/acc_consonant  0.995182 train/recall  0.986678 valid/loss  0.593870 valid/loss_grapheme  0.400005 valid/loss_vowel  0.090964 valid/loss_consonant  0.102902 valid/acc_grapheme  0.907092 valid/acc_vowel  0.978679 valid/acc_consonant  0.975248 valid/recall  0.938214 lr  0.001000 elapsed_time  2340.042962 \n"
     ]
    },
    {
     "name": "stderr",
     "output_type": "stream",
     "text": [
      "                                                                                                                                                                                                           \r"
     ]
    },
    {
     "name": "stdout",
     "output_type": "stream",
     "text": [
      "epoch     20 train/loss  0.087586 train/loss_grapheme  0.058938 train/loss_vowel  0.014418 train/loss_consonant  0.014229 train/acc_grapheme  0.983101 train/acc_vowel  0.995739 train/acc_consonant  0.995503 train/recall  0.988395 valid/loss  0.590084 valid/loss_grapheme  0.394011 valid/loss_vowel  0.089481 valid/loss_consonant  0.106592 valid/acc_grapheme  0.912740 valid/acc_vowel  0.980172 valid/acc_consonant  0.975843 valid/recall  0.940651 lr  0.001000 elapsed_time  2461.031195 \n"
     ]
    },
    {
     "name": "stderr",
     "output_type": "stream",
     "text": [
      "                                                                                                                                                                                                           \r"
     ]
    },
    {
     "name": "stdout",
     "output_type": "stream",
     "text": [
      "epoch     21 train/loss  0.087789 train/loss_grapheme  0.058446 train/loss_vowel  0.015271 train/loss_consonant  0.014073 train/acc_grapheme  0.982780 train/acc_vowel  0.995368 train/acc_consonant  0.995833 train/recall  0.988207 valid/loss  0.616022 valid/loss_grapheme  0.411925 valid/loss_vowel  0.097722 valid/loss_consonant  0.106376 valid/acc_grapheme  0.904550 valid/acc_vowel  0.978157 valid/acc_consonant  0.975104 valid/recall  0.929894 lr  0.001000 elapsed_time  2582.655378 \n"
     ]
    },
    {
     "name": "stderr",
     "output_type": "stream",
     "text": [
      "                                                                                                                                                                                                           \r"
     ]
    },
    {
     "name": "stdout",
     "output_type": "stream",
     "text": [
      "epoch     22 train/loss  0.080199 train/loss_grapheme  0.052375 train/loss_vowel  0.013755 train/loss_consonant  0.014070 train/acc_grapheme  0.984575 train/acc_vowel  0.995997 train/acc_consonant  0.995551 train/recall  0.989075 valid/loss  0.585088 valid/loss_grapheme  0.381456 valid/loss_vowel  0.095249 valid/loss_consonant  0.108382 valid/acc_grapheme  0.914764 valid/acc_vowel  0.979453 valid/acc_consonant  0.976037 valid/recall  0.941885 lr  0.001000 elapsed_time  2701.554813 \n"
     ]
    },
    {
     "name": "stderr",
     "output_type": "stream",
     "text": [
      "                                                                                                                                                                                                           \r"
     ]
    },
    {
     "name": "stdout",
     "output_type": "stream",
     "text": [
      "epoch     23 train/loss  0.069756 train/loss_grapheme  0.046109 train/loss_vowel  0.011550 train/loss_consonant  0.012097 train/acc_grapheme  0.986704 train/acc_vowel  0.996741 train/acc_consonant  0.996233 train/recall  0.990551 valid/loss  0.594338 valid/loss_grapheme  0.385617 valid/loss_vowel  0.110562 valid/loss_consonant  0.098159 valid/acc_grapheme  0.915601 valid/acc_vowel  0.976484 valid/acc_consonant  0.976863 valid/recall  0.943516 lr  0.001000 elapsed_time  2826.514899 \n"
     ]
    },
    {
     "name": "stderr",
     "output_type": "stream",
     "text": [
      "                                                                                                                                                                                                           \r"
     ]
    },
    {
     "name": "stdout",
     "output_type": "stream",
     "text": [
      "epoch     24 train/loss  0.075261 train/loss_grapheme  0.049596 train/loss_vowel  0.013064 train/loss_consonant  0.012601 train/acc_grapheme  0.985421 train/acc_vowel  0.996075 train/acc_consonant  0.996050 train/recall  0.990094 valid/loss  0.596405 valid/loss_grapheme  0.396532 valid/loss_vowel  0.099895 valid/loss_consonant  0.099978 valid/acc_grapheme  0.914608 valid/acc_vowel  0.977452 valid/acc_consonant  0.977689 valid/recall  0.944310 lr  0.001000 elapsed_time  2949.750659 \n"
     ]
    },
    {
     "name": "stderr",
     "output_type": "stream",
     "text": [
      "                                                                                                                                                                                                          \r"
     ]
    },
    {
     "name": "stdout",
     "output_type": "stream",
     "text": [
      "epoch     25 train/loss  0.059885 train/loss_grapheme  0.040329 train/loss_vowel  0.010576 train/loss_consonant  0.008980 train/acc_grapheme  0.988223 train/acc_vowel  0.996747 train/acc_consonant  0.997191 train/recall  0.991863 valid/loss  0.609427 valid/loss_grapheme  0.402004 valid/loss_vowel  0.107200 valid/loss_consonant  0.100223 valid/acc_grapheme  0.914993 valid/acc_vowel  0.977233 valid/acc_consonant  0.977316 valid/recall  0.938855 lr  0.001000 elapsed_time  3074.632080 \n"
     ]
    },
    {
     "name": "stderr",
     "output_type": "stream",
     "text": [
      "                                                                                                                                                                                                            \r"
     ]
    },
    {
     "name": "stdout",
     "output_type": "stream",
     "text": [
      "epoch     26 train/loss  0.062800 train/loss_grapheme  0.041299 train/loss_vowel  0.010608 train/loss_consonant  0.010892 train/acc_grapheme  0.988036 train/acc_vowel  0.996899 train/acc_consonant  0.996473 train/recall  0.991616 valid/loss  0.610151 valid/loss_grapheme  0.405911 valid/loss_vowel  0.099436 valid/loss_consonant  0.104804 valid/acc_grapheme  0.913257 valid/acc_vowel  0.979898 valid/acc_consonant  0.976711 valid/recall  0.939547 lr  0.001000 elapsed_time  3195.948447 \n"
     ]
    },
    {
     "name": "stderr",
     "output_type": "stream",
     "text": [
      "                                                                                                                                                                                                           \r"
     ]
    },
    {
     "name": "stdout",
     "output_type": "stream",
     "text": [
      "epoch     27 train/loss  0.065504 train/loss_grapheme  0.043674 train/loss_vowel  0.009916 train/loss_consonant  0.011914 train/acc_grapheme  0.987153 train/acc_vowel  0.997101 train/acc_consonant  0.996264 train/recall  0.991360 valid/loss  0.587627 valid/loss_grapheme  0.383460 valid/loss_vowel  0.102996 valid/loss_consonant  0.101172 valid/acc_grapheme  0.918039 valid/acc_vowel  0.978209 valid/acc_consonant  0.978065 valid/recall  0.944686 lr  0.001000 elapsed_time  3321.230770 \n"
     ]
    },
    {
     "name": "stderr",
     "output_type": "stream",
     "text": [
      "                                                                                                                                                                                                            \r"
     ]
    },
    {
     "name": "stdout",
     "output_type": "stream",
     "text": [
      "epoch     28 train/loss  0.054339 train/loss_grapheme  0.035179 train/loss_vowel  0.010038 train/loss_consonant  0.009122 train/acc_grapheme  0.989843 train/acc_vowel  0.997064 train/acc_consonant  0.997278 train/recall  0.992654 valid/loss  0.588444 valid/loss_grapheme  0.390590 valid/loss_vowel  0.095156 valid/loss_consonant  0.102699 valid/acc_grapheme  0.918429 valid/acc_vowel  0.980167 valid/acc_consonant  0.977910 valid/recall  0.943588 lr  0.001000 elapsed_time  3446.146600 \n"
     ]
    },
    {
     "name": "stderr",
     "output_type": "stream",
     "text": [
      "                                                                                                                                                                                                         \r"
     ]
    },
    {
     "name": "stdout",
     "output_type": "stream",
     "text": [
      "epoch     29 train/loss  0.049509 train/loss_grapheme  0.033363 train/loss_vowel  0.008113 train/loss_consonant  0.008033 train/acc_grapheme  0.990168 train/acc_vowel  0.997636 train/acc_consonant  0.997425 train/recall  0.993068 valid/loss  0.570967 valid/loss_grapheme  0.376788 valid/loss_vowel  0.093466 valid/loss_consonant  0.100712 valid/acc_grapheme  0.921841 valid/acc_vowel  0.980918 valid/acc_consonant  0.979105 valid/recall  0.944964 lr  0.001000 elapsed_time  3570.623273 \n"
     ]
    },
    {
     "name": "stderr",
     "output_type": "stream",
     "text": [
      "                                                                                                                                                                                                            \r"
     ]
    },
    {
     "name": "stdout",
     "output_type": "stream",
     "text": [
      "epoch     30 train/loss  0.057095 train/loss_grapheme  0.036917 train/loss_vowel  0.010689 train/loss_consonant  0.009490 train/acc_grapheme  0.989354 train/acc_vowel  0.996896 train/acc_consonant  0.997232 train/recall  0.992549 valid/loss  0.609704 valid/loss_grapheme  0.402507 valid/loss_vowel  0.096742 valid/loss_consonant  0.110455 valid/acc_grapheme  0.914509 valid/acc_vowel  0.978801 valid/acc_consonant  0.976144 valid/recall  0.941744 lr  0.001000 elapsed_time  3696.575355 \n"
     ]
    },
    {
     "name": "stderr",
     "output_type": "stream",
     "text": [
      "Exception ignored in: <function _releaseLock at 0x7fda2b4a5440>\n",
      "Traceback (most recent call last):\n",
      "  File \"/home/yilgukseo/anaconda3/envs/pytorch/lib/python3.7/logging/__init__.py\", line 221, in _releaseLock\n",
      "    def _releaseLock():\n",
      "KeyboardInterrupt: \n",
      "Current run is terminating due to exception: DataLoader worker (pid(s) 5893) exited unexpectedly.\n",
      "Engine run is terminating due to exception: DataLoader worker (pid(s) 5893) exited unexpectedly.\n"
     ]
    },
    {
     "ename": "RuntimeError",
     "evalue": "DataLoader worker (pid(s) 5893) exited unexpectedly",
     "output_type": "error",
     "traceback": [
      "\u001b[0;31m---------------------------------------------------------------------------\u001b[0m",
      "\u001b[0;31mEmpty\u001b[0m                                     Traceback (most recent call last)",
      "\u001b[0;32m~/anaconda3/envs/pytorch/lib/python3.7/site-packages/torch/utils/data/dataloader.py\u001b[0m in \u001b[0;36m_try_get_data\u001b[0;34m(self, timeout)\u001b[0m\n\u001b[1;32m    723\u001b[0m         \u001b[0;32mtry\u001b[0m\u001b[0;34m:\u001b[0m\u001b[0;34m\u001b[0m\u001b[0;34m\u001b[0m\u001b[0m\n\u001b[0;32m--> 724\u001b[0;31m             \u001b[0mdata\u001b[0m \u001b[0;34m=\u001b[0m \u001b[0mself\u001b[0m\u001b[0;34m.\u001b[0m\u001b[0m_data_queue\u001b[0m\u001b[0;34m.\u001b[0m\u001b[0mget\u001b[0m\u001b[0;34m(\u001b[0m\u001b[0mtimeout\u001b[0m\u001b[0;34m=\u001b[0m\u001b[0mtimeout\u001b[0m\u001b[0;34m)\u001b[0m\u001b[0;34m\u001b[0m\u001b[0;34m\u001b[0m\u001b[0m\n\u001b[0m\u001b[1;32m    725\u001b[0m             \u001b[0;32mreturn\u001b[0m \u001b[0;34m(\u001b[0m\u001b[0;32mTrue\u001b[0m\u001b[0;34m,\u001b[0m \u001b[0mdata\u001b[0m\u001b[0;34m)\u001b[0m\u001b[0;34m\u001b[0m\u001b[0;34m\u001b[0m\u001b[0m\n",
      "\u001b[0;32m~/anaconda3/envs/pytorch/lib/python3.7/multiprocessing/queues.py\u001b[0m in \u001b[0;36mget\u001b[0;34m(self, block, timeout)\u001b[0m\n\u001b[1;32m    104\u001b[0m                     \u001b[0;32mif\u001b[0m \u001b[0;32mnot\u001b[0m \u001b[0mself\u001b[0m\u001b[0;34m.\u001b[0m\u001b[0m_poll\u001b[0m\u001b[0;34m(\u001b[0m\u001b[0mtimeout\u001b[0m\u001b[0;34m)\u001b[0m\u001b[0;34m:\u001b[0m\u001b[0;34m\u001b[0m\u001b[0;34m\u001b[0m\u001b[0m\n\u001b[0;32m--> 105\u001b[0;31m                         \u001b[0;32mraise\u001b[0m \u001b[0mEmpty\u001b[0m\u001b[0;34m\u001b[0m\u001b[0;34m\u001b[0m\u001b[0m\n\u001b[0m\u001b[1;32m    106\u001b[0m                 \u001b[0;32melif\u001b[0m \u001b[0;32mnot\u001b[0m \u001b[0mself\u001b[0m\u001b[0;34m.\u001b[0m\u001b[0m_poll\u001b[0m\u001b[0;34m(\u001b[0m\u001b[0;34m)\u001b[0m\u001b[0;34m:\u001b[0m\u001b[0;34m\u001b[0m\u001b[0;34m\u001b[0m\u001b[0m\n",
      "\u001b[0;31mEmpty\u001b[0m: ",
      "\nDuring handling of the above exception, another exception occurred:\n",
      "\u001b[0;31mRuntimeError\u001b[0m                              Traceback (most recent call last)",
      "\u001b[0;32m<ipython-input-31-85b85f0e911f>\u001b[0m in \u001b[0;36m<module>\u001b[0;34m\u001b[0m\n\u001b[1;32m      1\u001b[0m \u001b[0msave_json\u001b[0m\u001b[0;34m(\u001b[0m\u001b[0;34m'64_base.json'\u001b[0m\u001b[0;34m,\u001b[0m \u001b[0;34m{\u001b[0m\u001b[0;34m'image_size'\u001b[0m\u001b[0;34m:\u001b[0m\u001b[0;36m64\u001b[0m\u001b[0;34m,\u001b[0m \u001b[0;34m'threshold'\u001b[0m\u001b[0;34m:\u001b[0m\u001b[0;36m20\u001b[0m\u001b[0;34m,\u001b[0m\u001b[0;34m'arch'\u001b[0m\u001b[0;34m:\u001b[0m\u001b[0;34m'pretrained'\u001b[0m\u001b[0;34m,\u001b[0m\u001b[0;34m'model_name'\u001b[0m\u001b[0;34m:\u001b[0m\u001b[0;34m'se_resnext50_32x4d'\u001b[0m\u001b[0;34m}\u001b[0m\u001b[0;34m)\u001b[0m\u001b[0;34m\u001b[0m\u001b[0;34m\u001b[0m\u001b[0m\n\u001b[0;32m----> 2\u001b[0;31m \u001b[0mtrainer\u001b[0m\u001b[0;34m.\u001b[0m\u001b[0mrun\u001b[0m\u001b[0;34m(\u001b[0m\u001b[0mtrain_loader\u001b[0m\u001b[0;34m,\u001b[0m \u001b[0mmax_epochs\u001b[0m\u001b[0;34m=\u001b[0m\u001b[0;36m50\u001b[0m\u001b[0;34m)\u001b[0m\u001b[0;34m\u001b[0m\u001b[0;34m\u001b[0m\u001b[0m\n\u001b[0m",
      "\u001b[0;32m~/anaconda3/envs/pytorch/lib/python3.7/site-packages/ignite/engine/engine.py\u001b[0m in \u001b[0;36mrun\u001b[0;34m(self, data, max_epochs, epoch_length, seed)\u001b[0m\n\u001b[1;32m    620\u001b[0m \u001b[0;34m\u001b[0m\u001b[0m\n\u001b[1;32m    621\u001b[0m         \u001b[0mself\u001b[0m\u001b[0;34m.\u001b[0m\u001b[0mstate\u001b[0m\u001b[0;34m.\u001b[0m\u001b[0mdataloader\u001b[0m \u001b[0;34m=\u001b[0m \u001b[0mdata\u001b[0m\u001b[0;34m\u001b[0m\u001b[0;34m\u001b[0m\u001b[0m\n\u001b[0;32m--> 622\u001b[0;31m         \u001b[0;32mreturn\u001b[0m \u001b[0mself\u001b[0m\u001b[0;34m.\u001b[0m\u001b[0m_internal_run\u001b[0m\u001b[0;34m(\u001b[0m\u001b[0;34m)\u001b[0m\u001b[0;34m\u001b[0m\u001b[0;34m\u001b[0m\u001b[0m\n\u001b[0m\u001b[1;32m    623\u001b[0m \u001b[0;34m\u001b[0m\u001b[0m\n\u001b[1;32m    624\u001b[0m     \u001b[0;32mdef\u001b[0m \u001b[0m_setup_engine\u001b[0m\u001b[0;34m(\u001b[0m\u001b[0mself\u001b[0m\u001b[0;34m)\u001b[0m \u001b[0;34m->\u001b[0m \u001b[0;32mNone\u001b[0m\u001b[0;34m:\u001b[0m\u001b[0;34m\u001b[0m\u001b[0;34m\u001b[0m\u001b[0m\n",
      "\u001b[0;32m~/anaconda3/envs/pytorch/lib/python3.7/site-packages/ignite/engine/engine.py\u001b[0m in \u001b[0;36m_internal_run\u001b[0;34m(self)\u001b[0m\n\u001b[1;32m    732\u001b[0m             \u001b[0mself\u001b[0m\u001b[0;34m.\u001b[0m\u001b[0m_dataloader_iter\u001b[0m \u001b[0;34m=\u001b[0m \u001b[0mself\u001b[0m\u001b[0;34m.\u001b[0m\u001b[0m_dataloader_len\u001b[0m \u001b[0;34m=\u001b[0m \u001b[0;32mNone\u001b[0m\u001b[0;34m\u001b[0m\u001b[0;34m\u001b[0m\u001b[0m\n\u001b[1;32m    733\u001b[0m             \u001b[0mself\u001b[0m\u001b[0;34m.\u001b[0m\u001b[0mlogger\u001b[0m\u001b[0;34m.\u001b[0m\u001b[0merror\u001b[0m\u001b[0;34m(\u001b[0m\u001b[0;34m\"Engine run is terminating due to exception: %s.\"\u001b[0m\u001b[0;34m,\u001b[0m \u001b[0mstr\u001b[0m\u001b[0;34m(\u001b[0m\u001b[0me\u001b[0m\u001b[0;34m)\u001b[0m\u001b[0;34m)\u001b[0m\u001b[0;34m\u001b[0m\u001b[0;34m\u001b[0m\u001b[0m\n\u001b[0;32m--> 734\u001b[0;31m             \u001b[0mself\u001b[0m\u001b[0;34m.\u001b[0m\u001b[0m_handle_exception\u001b[0m\u001b[0;34m(\u001b[0m\u001b[0me\u001b[0m\u001b[0;34m)\u001b[0m\u001b[0;34m\u001b[0m\u001b[0;34m\u001b[0m\u001b[0m\n\u001b[0m\u001b[1;32m    735\u001b[0m \u001b[0;34m\u001b[0m\u001b[0m\n\u001b[1;32m    736\u001b[0m         \u001b[0mself\u001b[0m\u001b[0;34m.\u001b[0m\u001b[0m_dataloader_iter\u001b[0m \u001b[0;34m=\u001b[0m \u001b[0mself\u001b[0m\u001b[0;34m.\u001b[0m\u001b[0m_dataloader_len\u001b[0m \u001b[0;34m=\u001b[0m \u001b[0;32mNone\u001b[0m\u001b[0;34m\u001b[0m\u001b[0;34m\u001b[0m\u001b[0m\n",
      "\u001b[0;32m~/anaconda3/envs/pytorch/lib/python3.7/site-packages/ignite/engine/engine.py\u001b[0m in \u001b[0;36m_handle_exception\u001b[0;34m(self, e)\u001b[0m\n\u001b[1;32m    472\u001b[0m             \u001b[0mself\u001b[0m\u001b[0;34m.\u001b[0m\u001b[0m_fire_event\u001b[0m\u001b[0;34m(\u001b[0m\u001b[0mEvents\u001b[0m\u001b[0;34m.\u001b[0m\u001b[0mEXCEPTION_RAISED\u001b[0m\u001b[0;34m,\u001b[0m \u001b[0me\u001b[0m\u001b[0;34m)\u001b[0m\u001b[0;34m\u001b[0m\u001b[0;34m\u001b[0m\u001b[0m\n\u001b[1;32m    473\u001b[0m         \u001b[0;32melse\u001b[0m\u001b[0;34m:\u001b[0m\u001b[0;34m\u001b[0m\u001b[0;34m\u001b[0m\u001b[0m\n\u001b[0;32m--> 474\u001b[0;31m             \u001b[0;32mraise\u001b[0m \u001b[0me\u001b[0m\u001b[0;34m\u001b[0m\u001b[0;34m\u001b[0m\u001b[0m\n\u001b[0m\u001b[1;32m    475\u001b[0m \u001b[0;34m\u001b[0m\u001b[0m\n\u001b[1;32m    476\u001b[0m     \u001b[0;32mdef\u001b[0m \u001b[0mstate_dict\u001b[0m\u001b[0;34m(\u001b[0m\u001b[0mself\u001b[0m\u001b[0;34m)\u001b[0m \u001b[0;34m->\u001b[0m \u001b[0mOrderedDict\u001b[0m\u001b[0;34m:\u001b[0m\u001b[0;34m\u001b[0m\u001b[0;34m\u001b[0m\u001b[0m\n",
      "\u001b[0;32m~/anaconda3/envs/pytorch/lib/python3.7/site-packages/ignite/engine/engine.py\u001b[0m in \u001b[0;36m_internal_run\u001b[0;34m(self)\u001b[0m\n\u001b[1;32m    717\u001b[0m                     \u001b[0mself\u001b[0m\u001b[0;34m.\u001b[0m\u001b[0m_setup_engine\u001b[0m\u001b[0;34m(\u001b[0m\u001b[0;34m)\u001b[0m\u001b[0;34m\u001b[0m\u001b[0;34m\u001b[0m\u001b[0m\n\u001b[1;32m    718\u001b[0m \u001b[0;34m\u001b[0m\u001b[0m\n\u001b[0;32m--> 719\u001b[0;31m                 \u001b[0mhours\u001b[0m\u001b[0;34m,\u001b[0m \u001b[0mmins\u001b[0m\u001b[0;34m,\u001b[0m \u001b[0msecs\u001b[0m \u001b[0;34m=\u001b[0m \u001b[0mself\u001b[0m\u001b[0;34m.\u001b[0m\u001b[0m_run_once_on_dataset\u001b[0m\u001b[0;34m(\u001b[0m\u001b[0;34m)\u001b[0m\u001b[0;34m\u001b[0m\u001b[0;34m\u001b[0m\u001b[0m\n\u001b[0m\u001b[1;32m    720\u001b[0m \u001b[0;34m\u001b[0m\u001b[0m\n\u001b[1;32m    721\u001b[0m                 \u001b[0mself\u001b[0m\u001b[0;34m.\u001b[0m\u001b[0mlogger\u001b[0m\u001b[0;34m.\u001b[0m\u001b[0minfo\u001b[0m\u001b[0;34m(\u001b[0m\u001b[0;34m\"Epoch[%s] Complete. Time taken: %02d:%02d:%02d\"\u001b[0m\u001b[0;34m,\u001b[0m \u001b[0mself\u001b[0m\u001b[0;34m.\u001b[0m\u001b[0mstate\u001b[0m\u001b[0;34m.\u001b[0m\u001b[0mepoch\u001b[0m\u001b[0;34m,\u001b[0m \u001b[0mhours\u001b[0m\u001b[0;34m,\u001b[0m \u001b[0mmins\u001b[0m\u001b[0;34m,\u001b[0m \u001b[0msecs\u001b[0m\u001b[0;34m)\u001b[0m\u001b[0;34m\u001b[0m\u001b[0;34m\u001b[0m\u001b[0m\n",
      "\u001b[0;32m~/anaconda3/envs/pytorch/lib/python3.7/site-packages/ignite/engine/engine.py\u001b[0m in \u001b[0;36m_run_once_on_dataset\u001b[0;34m(self)\u001b[0m\n\u001b[1;32m    461\u001b[0m         \u001b[0;32mexcept\u001b[0m \u001b[0mBaseException\u001b[0m \u001b[0;32mas\u001b[0m \u001b[0me\u001b[0m\u001b[0;34m:\u001b[0m\u001b[0;34m\u001b[0m\u001b[0;34m\u001b[0m\u001b[0m\n\u001b[1;32m    462\u001b[0m             \u001b[0mself\u001b[0m\u001b[0;34m.\u001b[0m\u001b[0mlogger\u001b[0m\u001b[0;34m.\u001b[0m\u001b[0merror\u001b[0m\u001b[0;34m(\u001b[0m\u001b[0;34m\"Current run is terminating due to exception: %s.\"\u001b[0m\u001b[0;34m,\u001b[0m \u001b[0mstr\u001b[0m\u001b[0;34m(\u001b[0m\u001b[0me\u001b[0m\u001b[0;34m)\u001b[0m\u001b[0;34m)\u001b[0m\u001b[0;34m\u001b[0m\u001b[0;34m\u001b[0m\u001b[0m\n\u001b[0;32m--> 463\u001b[0;31m             \u001b[0mself\u001b[0m\u001b[0;34m.\u001b[0m\u001b[0m_handle_exception\u001b[0m\u001b[0;34m(\u001b[0m\u001b[0me\u001b[0m\u001b[0;34m)\u001b[0m\u001b[0;34m\u001b[0m\u001b[0;34m\u001b[0m\u001b[0m\n\u001b[0m\u001b[1;32m    464\u001b[0m \u001b[0;34m\u001b[0m\u001b[0m\n\u001b[1;32m    465\u001b[0m         \u001b[0mtime_taken\u001b[0m \u001b[0;34m=\u001b[0m \u001b[0mtime\u001b[0m\u001b[0;34m.\u001b[0m\u001b[0mtime\u001b[0m\u001b[0;34m(\u001b[0m\u001b[0;34m)\u001b[0m \u001b[0;34m-\u001b[0m \u001b[0mstart_time\u001b[0m\u001b[0;34m\u001b[0m\u001b[0;34m\u001b[0m\u001b[0m\n",
      "\u001b[0;32m~/anaconda3/envs/pytorch/lib/python3.7/site-packages/ignite/engine/engine.py\u001b[0m in \u001b[0;36m_handle_exception\u001b[0;34m(self, e)\u001b[0m\n\u001b[1;32m    472\u001b[0m             \u001b[0mself\u001b[0m\u001b[0;34m.\u001b[0m\u001b[0m_fire_event\u001b[0m\u001b[0;34m(\u001b[0m\u001b[0mEvents\u001b[0m\u001b[0;34m.\u001b[0m\u001b[0mEXCEPTION_RAISED\u001b[0m\u001b[0;34m,\u001b[0m \u001b[0me\u001b[0m\u001b[0;34m)\u001b[0m\u001b[0;34m\u001b[0m\u001b[0;34m\u001b[0m\u001b[0m\n\u001b[1;32m    473\u001b[0m         \u001b[0;32melse\u001b[0m\u001b[0;34m:\u001b[0m\u001b[0;34m\u001b[0m\u001b[0;34m\u001b[0m\u001b[0m\n\u001b[0;32m--> 474\u001b[0;31m             \u001b[0;32mraise\u001b[0m \u001b[0me\u001b[0m\u001b[0;34m\u001b[0m\u001b[0;34m\u001b[0m\u001b[0m\n\u001b[0m\u001b[1;32m    475\u001b[0m \u001b[0;34m\u001b[0m\u001b[0m\n\u001b[1;32m    476\u001b[0m     \u001b[0;32mdef\u001b[0m \u001b[0mstate_dict\u001b[0m\u001b[0;34m(\u001b[0m\u001b[0mself\u001b[0m\u001b[0;34m)\u001b[0m \u001b[0;34m->\u001b[0m \u001b[0mOrderedDict\u001b[0m\u001b[0;34m:\u001b[0m\u001b[0;34m\u001b[0m\u001b[0;34m\u001b[0m\u001b[0m\n",
      "\u001b[0;32m~/anaconda3/envs/pytorch/lib/python3.7/site-packages/ignite/engine/engine.py\u001b[0m in \u001b[0;36m_run_once_on_dataset\u001b[0;34m(self)\u001b[0m\n\u001b[1;32m    409\u001b[0m                 \u001b[0;32mtry\u001b[0m\u001b[0;34m:\u001b[0m\u001b[0;34m\u001b[0m\u001b[0;34m\u001b[0m\u001b[0m\n\u001b[1;32m    410\u001b[0m                     \u001b[0mself\u001b[0m\u001b[0;34m.\u001b[0m\u001b[0m_fire_event\u001b[0m\u001b[0;34m(\u001b[0m\u001b[0mEvents\u001b[0m\u001b[0;34m.\u001b[0m\u001b[0mGET_BATCH_STARTED\u001b[0m\u001b[0;34m)\u001b[0m\u001b[0;34m\u001b[0m\u001b[0;34m\u001b[0m\u001b[0m\n\u001b[0;32m--> 411\u001b[0;31m                     \u001b[0mbatch\u001b[0m \u001b[0;34m=\u001b[0m \u001b[0mnext\u001b[0m\u001b[0;34m(\u001b[0m\u001b[0mself\u001b[0m\u001b[0;34m.\u001b[0m\u001b[0m_dataloader_iter\u001b[0m\u001b[0;34m)\u001b[0m\u001b[0;34m\u001b[0m\u001b[0;34m\u001b[0m\u001b[0m\n\u001b[0m\u001b[1;32m    412\u001b[0m                     \u001b[0mself\u001b[0m\u001b[0;34m.\u001b[0m\u001b[0m_fire_event\u001b[0m\u001b[0;34m(\u001b[0m\u001b[0mEvents\u001b[0m\u001b[0;34m.\u001b[0m\u001b[0mGET_BATCH_COMPLETED\u001b[0m\u001b[0;34m)\u001b[0m\u001b[0;34m\u001b[0m\u001b[0;34m\u001b[0m\u001b[0m\n\u001b[1;32m    413\u001b[0m                     \u001b[0miter_counter\u001b[0m \u001b[0;34m+=\u001b[0m \u001b[0;36m1\u001b[0m\u001b[0;34m\u001b[0m\u001b[0;34m\u001b[0m\u001b[0m\n",
      "\u001b[0;32m~/anaconda3/envs/pytorch/lib/python3.7/site-packages/torch/utils/data/dataloader.py\u001b[0m in \u001b[0;36m__next__\u001b[0;34m(self)\u001b[0m\n\u001b[1;32m    802\u001b[0m \u001b[0;34m\u001b[0m\u001b[0m\n\u001b[1;32m    803\u001b[0m             \u001b[0;32massert\u001b[0m \u001b[0;32mnot\u001b[0m \u001b[0mself\u001b[0m\u001b[0;34m.\u001b[0m\u001b[0m_shutdown\u001b[0m \u001b[0;32mand\u001b[0m \u001b[0mself\u001b[0m\u001b[0;34m.\u001b[0m\u001b[0m_tasks_outstanding\u001b[0m \u001b[0;34m>\u001b[0m \u001b[0;36m0\u001b[0m\u001b[0;34m\u001b[0m\u001b[0;34m\u001b[0m\u001b[0m\n\u001b[0;32m--> 804\u001b[0;31m             \u001b[0midx\u001b[0m\u001b[0;34m,\u001b[0m \u001b[0mdata\u001b[0m \u001b[0;34m=\u001b[0m \u001b[0mself\u001b[0m\u001b[0;34m.\u001b[0m\u001b[0m_get_data\u001b[0m\u001b[0;34m(\u001b[0m\u001b[0;34m)\u001b[0m\u001b[0;34m\u001b[0m\u001b[0;34m\u001b[0m\u001b[0m\n\u001b[0m\u001b[1;32m    805\u001b[0m             \u001b[0mself\u001b[0m\u001b[0;34m.\u001b[0m\u001b[0m_tasks_outstanding\u001b[0m \u001b[0;34m-=\u001b[0m \u001b[0;36m1\u001b[0m\u001b[0;34m\u001b[0m\u001b[0;34m\u001b[0m\u001b[0m\n\u001b[1;32m    806\u001b[0m \u001b[0;34m\u001b[0m\u001b[0m\n",
      "\u001b[0;32m~/anaconda3/envs/pytorch/lib/python3.7/site-packages/torch/utils/data/dataloader.py\u001b[0m in \u001b[0;36m_get_data\u001b[0;34m(self)\u001b[0m\n\u001b[1;32m    769\u001b[0m         \u001b[0;32melse\u001b[0m\u001b[0;34m:\u001b[0m\u001b[0;34m\u001b[0m\u001b[0;34m\u001b[0m\u001b[0m\n\u001b[1;32m    770\u001b[0m             \u001b[0;32mwhile\u001b[0m \u001b[0;32mTrue\u001b[0m\u001b[0;34m:\u001b[0m\u001b[0;34m\u001b[0m\u001b[0;34m\u001b[0m\u001b[0m\n\u001b[0;32m--> 771\u001b[0;31m                 \u001b[0msuccess\u001b[0m\u001b[0;34m,\u001b[0m \u001b[0mdata\u001b[0m \u001b[0;34m=\u001b[0m \u001b[0mself\u001b[0m\u001b[0;34m.\u001b[0m\u001b[0m_try_get_data\u001b[0m\u001b[0;34m(\u001b[0m\u001b[0;34m)\u001b[0m\u001b[0;34m\u001b[0m\u001b[0;34m\u001b[0m\u001b[0m\n\u001b[0m\u001b[1;32m    772\u001b[0m                 \u001b[0;32mif\u001b[0m \u001b[0msuccess\u001b[0m\u001b[0;34m:\u001b[0m\u001b[0;34m\u001b[0m\u001b[0;34m\u001b[0m\u001b[0m\n\u001b[1;32m    773\u001b[0m                     \u001b[0;32mreturn\u001b[0m \u001b[0mdata\u001b[0m\u001b[0;34m\u001b[0m\u001b[0;34m\u001b[0m\u001b[0m\n",
      "\u001b[0;32m~/anaconda3/envs/pytorch/lib/python3.7/site-packages/torch/utils/data/dataloader.py\u001b[0m in \u001b[0;36m_try_get_data\u001b[0;34m(self, timeout)\u001b[0m\n\u001b[1;32m    735\u001b[0m             \u001b[0;32mif\u001b[0m \u001b[0mlen\u001b[0m\u001b[0;34m(\u001b[0m\u001b[0mfailed_workers\u001b[0m\u001b[0;34m)\u001b[0m \u001b[0;34m>\u001b[0m \u001b[0;36m0\u001b[0m\u001b[0;34m:\u001b[0m\u001b[0;34m\u001b[0m\u001b[0;34m\u001b[0m\u001b[0m\n\u001b[1;32m    736\u001b[0m                 \u001b[0mpids_str\u001b[0m \u001b[0;34m=\u001b[0m \u001b[0;34m', '\u001b[0m\u001b[0;34m.\u001b[0m\u001b[0mjoin\u001b[0m\u001b[0;34m(\u001b[0m\u001b[0mstr\u001b[0m\u001b[0;34m(\u001b[0m\u001b[0mw\u001b[0m\u001b[0;34m.\u001b[0m\u001b[0mpid\u001b[0m\u001b[0;34m)\u001b[0m \u001b[0;32mfor\u001b[0m \u001b[0mw\u001b[0m \u001b[0;32min\u001b[0m \u001b[0mfailed_workers\u001b[0m\u001b[0;34m)\u001b[0m\u001b[0;34m\u001b[0m\u001b[0;34m\u001b[0m\u001b[0m\n\u001b[0;32m--> 737\u001b[0;31m                 \u001b[0;32mraise\u001b[0m \u001b[0mRuntimeError\u001b[0m\u001b[0;34m(\u001b[0m\u001b[0;34m'DataLoader worker (pid(s) {}) exited unexpectedly'\u001b[0m\u001b[0;34m.\u001b[0m\u001b[0mformat\u001b[0m\u001b[0;34m(\u001b[0m\u001b[0mpids_str\u001b[0m\u001b[0;34m)\u001b[0m\u001b[0;34m)\u001b[0m\u001b[0;34m\u001b[0m\u001b[0;34m\u001b[0m\u001b[0m\n\u001b[0m\u001b[1;32m    738\u001b[0m             \u001b[0;32mif\u001b[0m \u001b[0misinstance\u001b[0m\u001b[0;34m(\u001b[0m\u001b[0me\u001b[0m\u001b[0;34m,\u001b[0m \u001b[0mqueue\u001b[0m\u001b[0;34m.\u001b[0m\u001b[0mEmpty\u001b[0m\u001b[0;34m)\u001b[0m\u001b[0;34m:\u001b[0m\u001b[0;34m\u001b[0m\u001b[0;34m\u001b[0m\u001b[0m\n\u001b[1;32m    739\u001b[0m                 \u001b[0;32mreturn\u001b[0m \u001b[0;34m(\u001b[0m\u001b[0;32mFalse\u001b[0m\u001b[0;34m,\u001b[0m \u001b[0;32mNone\u001b[0m\u001b[0;34m)\u001b[0m\u001b[0;34m\u001b[0m\u001b[0;34m\u001b[0m\u001b[0m\n",
      "\u001b[0;31mRuntimeError\u001b[0m: DataLoader worker (pid(s) 5893) exited unexpectedly"
     ]
    }
   ],
   "source": [
    "save_json('64_base.json', {'image_size':64, 'threshold':20,'arch':'pretrained','model_name':'se_resnext50_32x4d'})\n",
    "trainer.run(train_loader, max_epochs=30)"
   ]
  },
  {
   "cell_type": "code",
   "execution_count": null,
   "metadata": {},
   "outputs": [],
   "source": []
  },
  {
   "cell_type": "code",
   "execution_count": null,
   "metadata": {},
   "outputs": [],
   "source": []
  },
  {
   "cell_type": "code",
   "execution_count": null,
   "metadata": {},
   "outputs": [],
   "source": []
  },
  {
   "cell_type": "code",
   "execution_count": null,
   "metadata": {},
   "outputs": [],
   "source": []
  },
  {
   "cell_type": "code",
   "execution_count": 31,
   "metadata": {
    "scrolled": true
   },
   "outputs": [
    {
     "name": "stderr",
     "output_type": "stream",
     "text": [
      "                                                        \r"
     ]
    },
    {
     "name": "stdout",
     "output_type": "stream",
     "text": [
      "epoch      1 train/loss  3.022022 train/loss_grapheme  1.974821 train/loss_vowel  0.512035 train/loss_consonant  0.535166 train/acc_grapheme  0.555985 train/acc_vowel  0.865890 train/acc_consonant  0.865666 train/recall  0.672736 valid/loss  0.904060 valid/loss_grapheme  0.575169 valid/loss_vowel  0.160677 valid/loss_consonant  0.168214 valid/acc_grapheme  0.850463 valid/acc_vowel  0.960082 valid/acc_consonant  0.959440 valid/recall  0.907979 lr  0.001000 elapsed_time  1117.822727 \n"
     ]
    },
    {
     "name": "stderr",
     "output_type": "stream",
     "text": [
      "                                                                                                                                                                                                       \r"
     ]
    },
    {
     "name": "stdout",
     "output_type": "stream",
     "text": [
      "epoch      2 train/loss  1.054836 train/loss_grapheme  0.711713 train/loss_vowel  0.175143 train/loss_consonant  0.167979 train/acc_grapheme  0.823595 train/acc_vowel  0.953604 train/acc_consonant  0.953847 train/recall  0.881407 valid/loss  0.566144 valid/loss_grapheme  0.342734 valid/loss_vowel  0.120870 valid/loss_consonant  0.102539 valid/acc_grapheme  0.908564 valid/acc_vowel  0.968894 valid/acc_consonant  0.972890 valid/recall  0.927318 lr  0.001000 elapsed_time  2259.994708 \n"
     ]
    },
    {
     "name": "stderr",
     "output_type": "stream",
     "text": [
      "                                                                                                                                                                                                        \r"
     ]
    },
    {
     "name": "stdout",
     "output_type": "stream",
     "text": [
      "epoch      3 train/loss  0.770951 train/loss_grapheme  0.521427 train/loss_vowel  0.126825 train/loss_consonant  0.122699 train/acc_grapheme  0.868323 train/acc_vowel  0.965676 train/acc_consonant  0.964425 train/recall  0.912850 valid/loss  0.460101 valid/loss_grapheme  0.285622 valid/loss_vowel  0.089533 valid/loss_consonant  0.084947 valid/acc_grapheme  0.924179 valid/acc_vowel  0.975522 valid/acc_consonant  0.976458 valid/recall  0.938076 lr  0.001000 elapsed_time  3398.423077 \n"
     ]
    },
    {
     "name": "stderr",
     "output_type": "stream",
     "text": [
      "                                                                                                                                                                                                         \r"
     ]
    },
    {
     "name": "stdout",
     "output_type": "stream",
     "text": [
      "epoch      4 train/loss  0.617681 train/loss_grapheme  0.416650 train/loss_vowel  0.102481 train/loss_consonant  0.098550 train/acc_grapheme  0.893599 train/acc_vowel  0.972216 train/acc_consonant  0.971003 train/recall  0.928458 valid/loss  0.379167 valid/loss_grapheme  0.237802 valid/loss_vowel  0.073195 valid/loss_consonant  0.068171 valid/acc_grapheme  0.937157 valid/acc_vowel  0.980359 valid/acc_consonant  0.981061 valid/recall  0.953530 lr  0.001000 elapsed_time  4540.553047 \n"
     ]
    },
    {
     "name": "stderr",
     "output_type": "stream",
     "text": [
      "                                                                                                                                                                                                          \r"
     ]
    },
    {
     "name": "stdout",
     "output_type": "stream",
     "text": [
      "epoch      5 train/loss  0.510320 train/loss_grapheme  0.342116 train/loss_vowel  0.085042 train/loss_consonant  0.083161 train/acc_grapheme  0.911402 train/acc_vowel  0.977088 train/acc_consonant  0.975321 train/recall  0.940937 valid/loss  0.338946 valid/loss_grapheme  0.210881 valid/loss_vowel  0.067580 valid/loss_consonant  0.060484 valid/acc_grapheme  0.943964 valid/acc_vowel  0.982315 valid/acc_consonant  0.982589 valid/recall  0.959850 lr  0.001000 elapsed_time  5670.801397 \n"
     ]
    },
    {
     "name": "stderr",
     "output_type": "stream",
     "text": [
      "                                                                                                                                                                                                         \r"
     ]
    },
    {
     "name": "stdout",
     "output_type": "stream",
     "text": [
      "epoch      6 train/loss  0.438593 train/loss_grapheme  0.291251 train/loss_vowel  0.075465 train/loss_consonant  0.071876 train/acc_grapheme  0.923941 train/acc_vowel  0.979422 train/acc_consonant  0.978625 train/recall  0.949313 valid/loss  0.296707 valid/loss_grapheme  0.190089 valid/loss_vowel  0.049700 valid/loss_consonant  0.056917 valid/acc_grapheme  0.949587 valid/acc_vowel  0.987391 valid/acc_consonant  0.985017 valid/recall  0.959713 lr  0.001000 elapsed_time  6782.725905 \n"
     ]
    },
    {
     "name": "stderr",
     "output_type": "stream",
     "text": [
      "                                                                                                                                                                                                           \r"
     ]
    },
    {
     "name": "stdout",
     "output_type": "stream",
     "text": [
      "epoch      7 train/loss  0.377796 train/loss_grapheme  0.249208 train/loss_vowel  0.065599 train/loss_consonant  0.062988 train/acc_grapheme  0.934302 train/acc_vowel  0.981886 train/acc_consonant  0.981177 train/recall  0.956709 valid/loss  0.298230 valid/loss_grapheme  0.179845 valid/loss_vowel  0.056874 valid/loss_consonant  0.061511 valid/acc_grapheme  0.952050 valid/acc_vowel  0.985261 valid/acc_consonant  0.982554 valid/recall  0.964609 lr  0.001000 elapsed_time  7888.204337 \n"
     ]
    },
    {
     "name": "stderr",
     "output_type": "stream",
     "text": [
      "                                                                                                                                                                                                          \r"
     ]
    },
    {
     "name": "stdout",
     "output_type": "stream",
     "text": [
      "epoch      8 train/loss  0.333463 train/loss_grapheme  0.218425 train/loss_vowel  0.057530 train/loss_consonant  0.057509 train/acc_grapheme  0.942123 train/acc_vowel  0.983815 train/acc_consonant  0.982888 train/recall  0.961396 valid/loss  0.276906 valid/loss_grapheme  0.171797 valid/loss_vowel  0.051837 valid/loss_consonant  0.053272 valid/acc_grapheme  0.953657 valid/acc_vowel  0.986495 valid/acc_consonant  0.984544 valid/recall  0.964081 lr  0.001000 elapsed_time  9023.410197 \n"
     ]
    },
    {
     "name": "stderr",
     "output_type": "stream",
     "text": [
      "                                                                                                                                                                                                           \r"
     ]
    },
    {
     "name": "stdout",
     "output_type": "stream",
     "text": [
      "epoch      9 train/loss  0.299840 train/loss_grapheme  0.195313 train/loss_vowel  0.052497 train/loss_consonant  0.052030 train/acc_grapheme  0.948029 train/acc_vowel  0.985209 train/acc_consonant  0.984555 train/recall  0.966107 valid/loss  0.240641 valid/loss_grapheme  0.143566 valid/loss_vowel  0.048177 valid/loss_consonant  0.048898 valid/acc_grapheme  0.961987 valid/acc_vowel  0.988187 valid/acc_consonant  0.987167 valid/recall  0.970577 lr  0.001000 elapsed_time  10157.062454 \n"
     ]
    },
    {
     "name": "stderr",
     "output_type": "stream",
     "text": [
      "                                                                                                                                                                                                         \r"
     ]
    },
    {
     "name": "stdout",
     "output_type": "stream",
     "text": [
      "epoch     10 train/loss  0.268203 train/loss_grapheme  0.174248 train/loss_vowel  0.047102 train/loss_consonant  0.046853 train/acc_grapheme  0.953380 train/acc_vowel  0.986671 train/acc_consonant  0.985893 train/recall  0.968703 valid/loss  0.235570 valid/loss_grapheme  0.138037 valid/loss_vowel  0.048603 valid/loss_consonant  0.048930 valid/acc_grapheme  0.963197 valid/acc_vowel  0.987823 valid/acc_consonant  0.985987 valid/recall  0.970762 lr  0.001000 elapsed_time  11270.228462 \n"
     ]
    },
    {
     "name": "stderr",
     "output_type": "stream",
     "text": [
      "                                                                                                                                                                                                            \r"
     ]
    },
    {
     "name": "stdout",
     "output_type": "stream",
     "text": [
      "epoch     11 train/loss  0.243195 train/loss_grapheme  0.156828 train/loss_vowel  0.043043 train/loss_consonant  0.043325 train/acc_grapheme  0.958184 train/acc_vowel  0.987835 train/acc_consonant  0.986957 train/recall  0.971971 valid/loss  0.235556 valid/loss_grapheme  0.142624 valid/loss_vowel  0.046799 valid/loss_consonant  0.046133 valid/acc_grapheme  0.962799 valid/acc_vowel  0.988839 valid/acc_consonant  0.987246 valid/recall  0.971130 lr  0.001000 elapsed_time  12409.650738 \n"
     ]
    },
    {
     "name": "stderr",
     "output_type": "stream",
     "text": [
      "                                                                                                                                                                                                           \r"
     ]
    },
    {
     "name": "stdout",
     "output_type": "stream",
     "text": [
      "epoch     12 train/loss  0.220622 train/loss_grapheme  0.141009 train/loss_vowel  0.039899 train/loss_consonant  0.039714 train/acc_grapheme  0.962198 train/acc_vowel  0.988600 train/acc_consonant  0.987692 train/recall  0.974862 valid/loss  0.239722 valid/loss_grapheme  0.142327 valid/loss_vowel  0.048481 valid/loss_consonant  0.048915 valid/acc_grapheme  0.962600 valid/acc_vowel  0.988137 valid/acc_consonant  0.986694 valid/recall  0.973065 lr  0.001000 elapsed_time  13549.687789 \n"
     ]
    },
    {
     "name": "stderr",
     "output_type": "stream",
     "text": [
      "                                                                                                                                                                                                            \r"
     ]
    },
    {
     "name": "stdout",
     "output_type": "stream",
     "text": [
      "epoch     13 train/loss  0.207942 train/loss_grapheme  0.132451 train/loss_vowel  0.037769 train/loss_consonant  0.037721 train/acc_grapheme  0.964058 train/acc_vowel  0.988886 train/acc_consonant  0.988488 train/recall  0.976458 valid/loss  0.213920 valid/loss_grapheme  0.123783 valid/loss_vowel  0.045945 valid/loss_consonant  0.044192 valid/acc_grapheme  0.967466 valid/acc_vowel  0.989058 valid/acc_consonant  0.987978 valid/recall  0.975350 lr  0.001000 elapsed_time  14660.137070 \n"
     ]
    },
    {
     "name": "stderr",
     "output_type": "stream",
     "text": [
      "                                                                                                                                                                                                            \r"
     ]
    },
    {
     "name": "stdout",
     "output_type": "stream",
     "text": [
      "epoch     14 train/loss  0.185893 train/loss_grapheme  0.118239 train/loss_vowel  0.034197 train/loss_consonant  0.033456 train/acc_grapheme  0.967817 train/acc_vowel  0.990143 train/acc_consonant  0.989863 train/recall  0.978614 valid/loss  0.212456 valid/loss_grapheme  0.125079 valid/loss_vowel  0.043868 valid/loss_consonant  0.043508 valid/acc_grapheme  0.967924 valid/acc_vowel  0.989555 valid/acc_consonant  0.987828 valid/recall  0.974313 lr  0.001000 elapsed_time  15791.300091 \n"
     ]
    },
    {
     "name": "stderr",
     "output_type": "stream",
     "text": [
      "                                                                                                                                                                                                          \r"
     ]
    },
    {
     "name": "stdout",
     "output_type": "stream",
     "text": [
      "epoch     15 train/loss  0.178880 train/loss_grapheme  0.114121 train/loss_vowel  0.032252 train/loss_consonant  0.032507 train/acc_grapheme  0.968912 train/acc_vowel  0.990417 train/acc_consonant  0.989957 train/recall  0.979162 valid/loss  0.213349 valid/loss_grapheme  0.123371 valid/loss_vowel  0.046103 valid/loss_consonant  0.043875 valid/acc_grapheme  0.967859 valid/acc_vowel  0.989207 valid/acc_consonant  0.988177 valid/recall  0.975202 lr  0.001000 elapsed_time  16924.805071 \n"
     ]
    },
    {
     "name": "stderr",
     "output_type": "stream",
     "text": [
      "                                                                                                                                                                                                          \r"
     ]
    },
    {
     "name": "stdout",
     "output_type": "stream",
     "text": [
      "epoch     16 train/loss  0.165399 train/loss_grapheme  0.104167 train/loss_vowel  0.030963 train/loss_consonant  0.030269 train/acc_grapheme  0.971631 train/acc_vowel  0.990834 train/acc_consonant  0.990579 train/recall  0.981594 valid/loss  0.218521 valid/loss_grapheme  0.131665 valid/loss_vowel  0.044553 valid/loss_consonant  0.042303 valid/acc_grapheme  0.966197 valid/acc_vowel  0.989331 valid/acc_consonant  0.988485 valid/recall  0.973553 lr  0.001000 elapsed_time  18067.544748 \n"
     ]
    },
    {
     "name": "stderr",
     "output_type": "stream",
     "text": [
      "                                                                                                                                                                                                           \r"
     ]
    },
    {
     "name": "stdout",
     "output_type": "stream",
     "text": [
      "epoch     17 train/loss  0.154696 train/loss_grapheme  0.098059 train/loss_vowel  0.027781 train/loss_consonant  0.028856 train/acc_grapheme  0.973361 train/acc_vowel  0.991886 train/acc_consonant  0.991145 train/recall  0.981850 valid/loss  0.209440 valid/loss_grapheme  0.118813 valid/loss_vowel  0.047557 valid/loss_consonant  0.043069 valid/acc_grapheme  0.970387 valid/acc_vowel  0.988734 valid/acc_consonant  0.988898 valid/recall  0.977319 lr  0.001000 elapsed_time  19191.423414 \n"
     ]
    },
    {
     "name": "stderr",
     "output_type": "stream",
     "text": [
      "                                                                                                                                                                                                             \r"
     ]
    },
    {
     "name": "stdout",
     "output_type": "stream",
     "text": [
      "epoch     18 train/loss  0.152316 train/loss_grapheme  0.095699 train/loss_vowel  0.028637 train/loss_consonant  0.027979 train/acc_grapheme  0.974394 train/acc_vowel  0.991226 train/acc_consonant  0.991207 train/recall  0.982735 valid/loss  0.216022 valid/loss_grapheme  0.129326 valid/loss_vowel  0.044587 valid/loss_consonant  0.042108 valid/acc_grapheme  0.967441 valid/acc_vowel  0.989331 valid/acc_consonant  0.988600 valid/recall  0.975630 lr  0.001000 elapsed_time  20301.486000 \n"
     ]
    },
    {
     "name": "stderr",
     "output_type": "stream",
     "text": [
      "                                                                                                                                                                                                            \r"
     ]
    },
    {
     "name": "stdout",
     "output_type": "stream",
     "text": [
      "epoch     19 train/loss  0.142823 train/loss_grapheme  0.091037 train/loss_vowel  0.025383 train/loss_consonant  0.026404 train/acc_grapheme  0.974960 train/acc_vowel  0.992203 train/acc_consonant  0.991855 train/recall  0.983502 valid/loss  0.204600 valid/loss_grapheme  0.116348 valid/loss_vowel  0.041320 valid/loss_consonant  0.046933 valid/acc_grapheme  0.970387 valid/acc_vowel  0.990127 valid/acc_consonant  0.987779 valid/recall  0.977034 lr  0.001000 elapsed_time  21409.887346 \n"
     ]
    },
    {
     "name": "stderr",
     "output_type": "stream",
     "text": [
      "                                                                                                                                                                                                            \r"
     ]
    },
    {
     "name": "stdout",
     "output_type": "stream",
     "text": [
      "epoch     20 train/loss  0.135463 train/loss_grapheme  0.085606 train/loss_vowel  0.024720 train/loss_consonant  0.025138 train/acc_grapheme  0.976578 train/acc_vowel  0.992664 train/acc_consonant  0.992047 train/recall  0.984139 valid/loss  0.198222 valid/loss_grapheme  0.114387 valid/loss_vowel  0.041291 valid/loss_consonant  0.042544 valid/acc_grapheme  0.970163 valid/acc_vowel  0.990461 valid/acc_consonant  0.988749 valid/recall  0.977708 lr  0.001000 elapsed_time  22512.914019 \n"
     ]
    },
    {
     "name": "stderr",
     "output_type": "stream",
     "text": [
      "                                                                                                                                                                                                             \r"
     ]
    },
    {
     "name": "stdout",
     "output_type": "stream",
     "text": [
      "epoch     21 train/loss  0.128882 train/loss_grapheme  0.081079 train/loss_vowel  0.023316 train/loss_consonant  0.024488 train/acc_grapheme  0.977935 train/acc_vowel  0.993217 train/acc_consonant  0.992545 train/recall  0.985239 valid/loss  0.203475 valid/loss_grapheme  0.117543 valid/loss_vowel  0.042816 valid/loss_consonant  0.043116 valid/acc_grapheme  0.971148 valid/acc_vowel  0.989854 valid/acc_consonant  0.988973 valid/recall  0.976580 lr  0.001000 elapsed_time  23622.190543 \n"
     ]
    },
    {
     "name": "stderr",
     "output_type": "stream",
     "text": [
      "                                                                                                                                                                                                             \r"
     ]
    },
    {
     "name": "stdout",
     "output_type": "stream",
     "text": [
      "epoch     22 train/loss  0.124705 train/loss_grapheme  0.078382 train/loss_vowel  0.023090 train/loss_consonant  0.023233 train/acc_grapheme  0.978445 train/acc_vowel  0.993080 train/acc_consonant  0.992682 train/recall  0.985843 valid/loss  0.195654 valid/loss_grapheme  0.111534 valid/loss_vowel  0.043762 valid/loss_consonant  0.040358 valid/acc_grapheme  0.971746 valid/acc_vowel  0.990103 valid/acc_consonant  0.989620 valid/recall  0.979380 lr  0.001000 elapsed_time  24736.645336 \n"
     ]
    },
    {
     "name": "stderr",
     "output_type": "stream",
     "text": [
      "                                                                                                                                                                                                             \r"
     ]
    },
    {
     "name": "stdout",
     "output_type": "stream",
     "text": [
      "epoch     23 train/loss  0.121651 train/loss_grapheme  0.075601 train/loss_vowel  0.022566 train/loss_consonant  0.023485 train/acc_grapheme  0.978924 train/acc_vowel  0.993367 train/acc_consonant  0.992788 train/recall  0.985778 valid/loss  0.186817 valid/loss_grapheme  0.105950 valid/loss_vowel  0.041882 valid/loss_consonant  0.038984 valid/acc_grapheme  0.973124 valid/acc_vowel  0.990665 valid/acc_consonant  0.990331 valid/recall  0.977911 lr  0.001000 elapsed_time  25848.341155 \n"
     ]
    },
    {
     "name": "stderr",
     "output_type": "stream",
     "text": [
      "                                                                                                                                                                                                             \r"
     ]
    },
    {
     "name": "stdout",
     "output_type": "stream",
     "text": [
      "epoch     24 train/loss  0.119432 train/loss_grapheme  0.074755 train/loss_vowel  0.022609 train/loss_consonant  0.022068 train/acc_grapheme  0.979658 train/acc_vowel  0.993354 train/acc_consonant  0.993161 train/recall  0.986234 valid/loss  0.194663 valid/loss_grapheme  0.107802 valid/loss_vowel  0.046095 valid/loss_consonant  0.040765 valid/acc_grapheme  0.973671 valid/acc_vowel  0.989306 valid/acc_consonant  0.989371 valid/recall  0.979587 lr  0.001000 elapsed_time  26955.582114 \n"
     ]
    },
    {
     "name": "stderr",
     "output_type": "stream",
     "text": [
      "                                                                                                                                                                                                            \r"
     ]
    },
    {
     "name": "stdout",
     "output_type": "stream",
     "text": [
      "epoch     25 train/loss  0.114288 train/loss_grapheme  0.071944 train/loss_vowel  0.020484 train/loss_consonant  0.021860 train/acc_grapheme  0.980455 train/acc_vowel  0.993864 train/acc_consonant  0.993211 train/recall  0.987043 valid/loss  0.197376 valid/loss_grapheme  0.109787 valid/loss_vowel  0.044653 valid/loss_consonant  0.042937 valid/acc_grapheme  0.972129 valid/acc_vowel  0.989655 valid/acc_consonant  0.988401 valid/recall  0.978259 lr  0.001000 elapsed_time  28066.940493 \n"
     ]
    },
    {
     "name": "stderr",
     "output_type": "stream",
     "text": [
      "                                                                                                                                                                                                            \r"
     ]
    },
    {
     "name": "stdout",
     "output_type": "stream",
     "text": [
      "epoch     26 train/loss  0.107459 train/loss_grapheme  0.066835 train/loss_vowel  0.019739 train/loss_consonant  0.020885 train/acc_grapheme  0.981855 train/acc_vowel  0.994076 train/acc_consonant  0.993541 train/recall  0.988072 valid/loss  0.192311 valid/loss_grapheme  0.105466 valid/loss_vowel  0.046119 valid/loss_consonant  0.040726 valid/acc_grapheme  0.973174 valid/acc_vowel  0.989879 valid/acc_consonant  0.989769 valid/recall  0.979244 lr  0.001000 elapsed_time  29177.263354 \n"
     ]
    },
    {
     "name": "stderr",
     "output_type": "stream",
     "text": [
      "                                                                                                                                                                                                             \r"
     ]
    },
    {
     "name": "stdout",
     "output_type": "stream",
     "text": [
      "epoch     27 train/loss  0.111147 train/loss_grapheme  0.070542 train/loss_vowel  0.020264 train/loss_consonant  0.020341 train/acc_grapheme  0.980660 train/acc_vowel  0.993690 train/acc_consonant  0.993591 train/recall  0.987198 valid/loss  0.186271 valid/loss_grapheme  0.103039 valid/loss_vowel  0.040761 valid/loss_consonant  0.042471 valid/acc_grapheme  0.973248 valid/acc_vowel  0.990864 valid/acc_consonant  0.989411 valid/recall  0.980741 lr  0.001000 elapsed_time  30285.364133 \n"
     ]
    },
    {
     "name": "stderr",
     "output_type": "stream",
     "text": [
      "                                                                                                                                                                                                             \r"
     ]
    },
    {
     "name": "stdout",
     "output_type": "stream",
     "text": [
      "epoch     28 train/loss  0.102606 train/loss_grapheme  0.064093 train/loss_vowel  0.019203 train/loss_consonant  0.019310 train/acc_grapheme  0.982197 train/acc_vowel  0.994039 train/acc_consonant  0.993995 train/recall  0.988395 valid/loss  0.205732 valid/loss_grapheme  0.113876 valid/loss_vowel  0.047971 valid/loss_consonant  0.043885 valid/acc_grapheme  0.971298 valid/acc_vowel  0.989207 valid/acc_consonant  0.988475 valid/recall  0.978701 lr  0.001000 elapsed_time  31392.105450 \n"
     ]
    },
    {
     "name": "stderr",
     "output_type": "stream",
     "text": [
      "                                                                                                                                                                                                             \r"
     ]
    },
    {
     "name": "stdout",
     "output_type": "stream",
     "text": [
      "epoch     29 train/loss  0.099532 train/loss_grapheme  0.060921 train/loss_vowel  0.019219 train/loss_consonant  0.019392 train/acc_grapheme  0.983323 train/acc_vowel  0.994387 train/acc_consonant  0.994026 train/recall  0.988624 valid/loss  0.194434 valid/loss_grapheme  0.109290 valid/loss_vowel  0.043257 valid/loss_consonant  0.041886 valid/acc_grapheme  0.973935 valid/acc_vowel  0.991237 valid/acc_consonant  0.989635 valid/recall  0.980688 lr  0.001000 elapsed_time  32501.554780 \n"
     ]
    },
    {
     "name": "stderr",
     "output_type": "stream",
     "text": [
      "                                                                                                                                                                                                              \r"
     ]
    },
    {
     "name": "stdout",
     "output_type": "stream",
     "text": [
      "epoch     30 train/loss  0.101904 train/loss_grapheme  0.062173 train/loss_vowel  0.019258 train/loss_consonant  0.020473 train/acc_grapheme  0.982857 train/acc_vowel  0.994356 train/acc_consonant  0.993472 train/recall  0.988296 valid/loss  0.181180 valid/loss_grapheme  0.100542 valid/loss_vowel  0.043618 valid/loss_consonant  0.037020 valid/acc_grapheme  0.974920 valid/acc_vowel  0.990521 valid/acc_consonant  0.991118 valid/recall  0.981933 lr  0.001000 elapsed_time  33603.176636 \n"
     ]
    },
    {
     "name": "stderr",
     "output_type": "stream",
     "text": [
      "                                                                                                                                                                                                             \r"
     ]
    },
    {
     "name": "stdout",
     "output_type": "stream",
     "text": [
      "epoch     31 train/loss  0.096076 train/loss_grapheme  0.060527 train/loss_vowel  0.017547 train/loss_consonant  0.018002 train/acc_grapheme  0.982994 train/acc_vowel  0.994537 train/acc_consonant  0.994425 train/recall  0.988707 valid/loss  0.184344 valid/loss_grapheme  0.100752 valid/loss_vowel  0.043278 valid/loss_consonant  0.040314 valid/acc_grapheme  0.974632 valid/acc_vowel  0.990257 valid/acc_consonant  0.989973 valid/recall  0.979888 lr  0.001000 elapsed_time  34703.990870 \n"
     ]
    },
    {
     "name": "stderr",
     "output_type": "stream",
     "text": [
      "                                                                                                                                                                                                             \r"
     ]
    },
    {
     "name": "stdout",
     "output_type": "stream",
     "text": [
      "epoch     32 train/loss  0.092434 train/loss_grapheme  0.057643 train/loss_vowel  0.017123 train/loss_consonant  0.017668 train/acc_grapheme  0.983697 train/acc_vowel  0.995003 train/acc_consonant  0.994462 train/recall  0.988918 valid/loss  0.183835 valid/loss_grapheme  0.100169 valid/loss_vowel  0.044671 valid/loss_consonant  0.038995 valid/acc_grapheme  0.975264 valid/acc_vowel  0.990202 valid/acc_consonant  0.990267 valid/recall  0.980911 lr  0.001000 elapsed_time  35804.675794 \n"
     ]
    },
    {
     "name": "stderr",
     "output_type": "stream",
     "text": [
      "                                                                                                                                                                                                              \r"
     ]
    },
    {
     "name": "stdout",
     "output_type": "stream",
     "text": [
      "epoch     33 train/loss  0.095430 train/loss_grapheme  0.059051 train/loss_vowel  0.018677 train/loss_consonant  0.017702 train/acc_grapheme  0.983790 train/acc_vowel  0.994344 train/acc_consonant  0.994493 train/recall  0.989229 valid/loss  0.179390 valid/loss_grapheme  0.099575 valid/loss_vowel  0.040289 valid/loss_consonant  0.039525 valid/acc_grapheme  0.975940 valid/acc_vowel  0.990948 valid/acc_consonant  0.990456 valid/recall  0.981963 lr  0.001000 elapsed_time  36905.470608 \n"
     ]
    },
    {
     "name": "stderr",
     "output_type": "stream",
     "text": [
      "                                                                                                                                                                                                              \r"
     ]
    },
    {
     "name": "stdout",
     "output_type": "stream",
     "text": [
      "epoch     34 train/loss  0.091064 train/loss_grapheme  0.056716 train/loss_vowel  0.017250 train/loss_consonant  0.017098 train/acc_grapheme  0.984425 train/acc_vowel  0.994717 train/acc_consonant  0.994792 train/recall  0.989614 valid/loss  0.182419 valid/loss_grapheme  0.098307 valid/loss_vowel  0.045348 valid/loss_consonant  0.038764 valid/acc_grapheme  0.975727 valid/acc_vowel  0.990152 valid/acc_consonant  0.990093 valid/recall  0.981914 lr  0.001000 elapsed_time  38003.059529 \n"
     ]
    },
    {
     "name": "stderr",
     "output_type": "stream",
     "text": [
      "                                                                                                                                                                                                             \r"
     ]
    },
    {
     "name": "stdout",
     "output_type": "stream",
     "text": [
      "epoch     35 train/loss  0.089178 train/loss_grapheme  0.055490 train/loss_vowel  0.016231 train/loss_consonant  0.017457 train/acc_grapheme  0.984618 train/acc_vowel  0.995078 train/acc_consonant  0.994761 train/recall  0.989743 valid/loss  0.182873 valid/loss_grapheme  0.101047 valid/loss_vowel  0.042241 valid/loss_consonant  0.039584 valid/acc_grapheme  0.975363 valid/acc_vowel  0.991347 valid/acc_consonant  0.990466 valid/recall  0.982056 lr  0.001000 elapsed_time  39103.852503 \n"
     ]
    },
    {
     "name": "stderr",
     "output_type": "stream",
     "text": [
      "                                                                                                                                                                                                             \r"
     ]
    },
    {
     "name": "stdout",
     "output_type": "stream",
     "text": [
      "epoch     36 train/loss  0.087502 train/loss_grapheme  0.054836 train/loss_vowel  0.015641 train/loss_consonant  0.017025 train/acc_grapheme  0.984555 train/acc_vowel  0.995296 train/acc_consonant  0.994661 train/recall  0.990062 valid/loss  0.179916 valid/loss_grapheme  0.099447 valid/loss_vowel  0.040613 valid/loss_consonant  0.039856 valid/acc_grapheme  0.974497 valid/acc_vowel  0.991028 valid/acc_consonant  0.990197 valid/recall  0.980961 lr  0.001000 elapsed_time  40201.023810 \n"
     ]
    },
    {
     "name": "stderr",
     "output_type": "stream",
     "text": [
      "                                                                                                                                                                                                            \r"
     ]
    },
    {
     "name": "stdout",
     "output_type": "stream",
     "text": [
      "epoch     37 train/loss  0.088056 train/loss_grapheme  0.053928 train/loss_vowel  0.016420 train/loss_consonant  0.017708 train/acc_grapheme  0.985059 train/acc_vowel  0.995283 train/acc_consonant  0.994593 train/recall  0.989604 valid/loss  0.182306 valid/loss_grapheme  0.101920 valid/loss_vowel  0.042377 valid/loss_consonant  0.038010 valid/acc_grapheme  0.975015 valid/acc_vowel  0.991162 valid/acc_consonant  0.990307 valid/recall  0.980224 lr  0.001000 elapsed_time  41302.991533 \n"
     ]
    },
    {
     "name": "stderr",
     "output_type": "stream",
     "text": [
      "                                                                                                                                                                                                             \r"
     ]
    },
    {
     "name": "stdout",
     "output_type": "stream",
     "text": [
      "epoch     38 train/loss  0.085835 train/loss_grapheme  0.053729 train/loss_vowel  0.016431 train/loss_consonant  0.015675 train/acc_grapheme  0.985240 train/acc_vowel  0.994854 train/acc_consonant  0.995090 train/recall  0.990003 valid/loss  0.181605 valid/loss_grapheme  0.098579 valid/loss_vowel  0.043642 valid/loss_consonant  0.039384 valid/acc_grapheme  0.974746 valid/acc_vowel  0.990600 valid/acc_consonant  0.990406 valid/recall  0.981069 lr  0.001000 elapsed_time  42402.390973 \n"
     ]
    },
    {
     "name": "stderr",
     "output_type": "stream",
     "text": [
      "                                                                                                                                                                                                             \r"
     ]
    },
    {
     "name": "stdout",
     "output_type": "stream",
     "text": [
      "epoch     39 train/loss  0.082077 train/loss_grapheme  0.051725 train/loss_vowel  0.014947 train/loss_consonant  0.015404 train/acc_grapheme  0.985887 train/acc_vowel  0.995663 train/acc_consonant  0.994978 train/recall  0.990553 valid/loss  0.178276 valid/loss_grapheme  0.095013 valid/loss_vowel  0.042318 valid/loss_consonant  0.040946 valid/acc_grapheme  0.976622 valid/acc_vowel  0.991138 valid/acc_consonant  0.990406 valid/recall  0.982889 lr  0.001000 elapsed_time  43502.862482 \n"
     ]
    },
    {
     "name": "stderr",
     "output_type": "stream",
     "text": [
      "                                                                                                                                                                                                              \r"
     ]
    },
    {
     "name": "stdout",
     "output_type": "stream",
     "text": [
      "epoch     40 train/loss  0.084419 train/loss_grapheme  0.051863 train/loss_vowel  0.015831 train/loss_consonant  0.016725 train/acc_grapheme  0.985694 train/acc_vowel  0.995171 train/acc_consonant  0.994785 train/recall  0.990273 valid/loss  0.186533 valid/loss_grapheme  0.101921 valid/loss_vowel  0.042151 valid/loss_consonant  0.042462 valid/acc_grapheme  0.975617 valid/acc_vowel  0.990759 valid/acc_consonant  0.990078 valid/recall  0.981617 lr  0.001000 elapsed_time  44602.453570 \n"
     ]
    },
    {
     "name": "stderr",
     "output_type": "stream",
     "text": [
      "                                                                                                                                                                                                             \r"
     ]
    },
    {
     "name": "stdout",
     "output_type": "stream",
     "text": [
      "epoch     41 train/loss  0.081294 train/loss_grapheme  0.049581 train/loss_vowel  0.015657 train/loss_consonant  0.016057 train/acc_grapheme  0.986354 train/acc_vowel  0.995277 train/acc_consonant  0.995078 train/recall  0.990930 valid/loss  0.173957 valid/loss_grapheme  0.095182 valid/loss_vowel  0.041344 valid/loss_consonant  0.037431 valid/acc_grapheme  0.975677 valid/acc_vowel  0.991521 valid/acc_consonant  0.991262 valid/recall  0.981536 lr  0.001000 elapsed_time  45693.914055 \n"
     ]
    },
    {
     "name": "stderr",
     "output_type": "stream",
     "text": [
      "                                                                                                                                                                                                              \r"
     ]
    },
    {
     "name": "stdout",
     "output_type": "stream",
     "text": [
      "epoch     42 train/loss  0.079818 train/loss_grapheme  0.049262 train/loss_vowel  0.014890 train/loss_consonant  0.015666 train/acc_grapheme  0.986117 train/acc_vowel  0.995526 train/acc_consonant  0.995109 train/recall  0.990937 valid/loss  0.186697 valid/loss_grapheme  0.099170 valid/loss_vowel  0.043606 valid/loss_consonant  0.043920 valid/acc_grapheme  0.974955 valid/acc_vowel  0.991048 valid/acc_consonant  0.989943 valid/recall  0.980571 lr  0.001000 elapsed_time  46791.761338 \n"
     ]
    },
    {
     "name": "stderr",
     "output_type": "stream",
     "text": [
      "                                                                                                                                                                                                              \r"
     ]
    },
    {
     "name": "stdout",
     "output_type": "stream",
     "text": [
      "epoch     43 train/loss  0.078739 train/loss_grapheme  0.048471 train/loss_vowel  0.014352 train/loss_consonant  0.015917 train/acc_grapheme  0.986080 train/acc_vowel  0.995762 train/acc_consonant  0.995202 train/recall  0.990803 valid/loss  0.172644 valid/loss_grapheme  0.092414 valid/loss_vowel  0.041346 valid/loss_consonant  0.038883 valid/acc_grapheme  0.977916 valid/acc_vowel  0.991570 valid/acc_consonant  0.990690 valid/recall  0.982944 lr  0.001000 elapsed_time  47890.772278 \n"
     ]
    },
    {
     "name": "stderr",
     "output_type": "stream",
     "text": [
      "                                                                                                                                                                                                              \r"
     ]
    },
    {
     "name": "stdout",
     "output_type": "stream",
     "text": [
      "epoch     44 train/loss  0.076966 train/loss_grapheme  0.046801 train/loss_vowel  0.014737 train/loss_consonant  0.015427 train/acc_grapheme  0.986839 train/acc_vowel  0.995489 train/acc_consonant  0.995190 train/recall  0.991333 valid/loss  0.171751 valid/loss_grapheme  0.092886 valid/loss_vowel  0.041494 valid/loss_consonant  0.037371 valid/acc_grapheme  0.977070 valid/acc_vowel  0.991322 valid/acc_consonant  0.990580 valid/recall  0.983088 lr  0.001000 elapsed_time  48991.339464 \n"
     ]
    },
    {
     "name": "stderr",
     "output_type": "stream",
     "text": [
      "                                                                                                                                                                                                             \r"
     ]
    },
    {
     "name": "stdout",
     "output_type": "stream",
     "text": [
      "epoch     45 train/loss  0.078363 train/loss_grapheme  0.047057 train/loss_vowel  0.015659 train/loss_consonant  0.015647 train/acc_grapheme  0.987337 train/acc_vowel  0.995314 train/acc_consonant  0.995053 train/recall  0.991174 valid/loss  0.176184 valid/loss_grapheme  0.096368 valid/loss_vowel  0.041383 valid/loss_consonant  0.038434 valid/acc_grapheme  0.976712 valid/acc_vowel  0.991486 valid/acc_consonant  0.990580 valid/recall  0.982243 lr  0.001000 elapsed_time  50089.945245 \n"
     ]
    },
    {
     "name": "stderr",
     "output_type": "stream",
     "text": [
      "                                                                                                                                                                                                              \r"
     ]
    },
    {
     "name": "stdout",
     "output_type": "stream",
     "text": [
      "epoch     46 train/loss  0.075115 train/loss_grapheme  0.046831 train/loss_vowel  0.014042 train/loss_consonant  0.014242 train/acc_grapheme  0.986746 train/acc_vowel  0.995738 train/acc_consonant  0.995762 train/recall  0.991327 valid/loss  0.177961 valid/loss_grapheme  0.097427 valid/loss_vowel  0.040912 valid/loss_consonant  0.039622 valid/acc_grapheme  0.975642 valid/acc_vowel  0.991371 valid/acc_consonant  0.990665 valid/recall  0.982346 lr  0.001000 elapsed_time  51189.915323 \n"
     ]
    },
    {
     "name": "stderr",
     "output_type": "stream",
     "text": [
      "                                                                                                                                                                                                             \r"
     ]
    },
    {
     "name": "stdout",
     "output_type": "stream",
     "text": [
      "epoch     47 train/loss  0.075153 train/loss_grapheme  0.045816 train/loss_vowel  0.014514 train/loss_consonant  0.014823 train/acc_grapheme  0.987250 train/acc_vowel  0.995644 train/acc_consonant  0.995377 train/recall  0.991393 valid/loss  0.180115 valid/loss_grapheme  0.099040 valid/loss_vowel  0.042359 valid/loss_consonant  0.038716 valid/acc_grapheme  0.975453 valid/acc_vowel  0.991247 valid/acc_consonant  0.990167 valid/recall  0.981955 lr  0.001000 elapsed_time  52288.942158 \n"
     ]
    },
    {
     "name": "stderr",
     "output_type": "stream",
     "text": [
      "                                                                                                                                                                                                              \r"
     ]
    },
    {
     "name": "stdout",
     "output_type": "stream",
     "text": [
      "epoch     48 train/loss  0.073806 train/loss_grapheme  0.044815 train/loss_vowel  0.014277 train/loss_consonant  0.014714 train/acc_grapheme  0.987611 train/acc_vowel  0.995750 train/acc_consonant  0.995314 train/recall  0.991800 valid/loss  0.174369 valid/loss_grapheme  0.094614 valid/loss_vowel  0.039816 valid/loss_consonant  0.039939 valid/acc_grapheme  0.976980 valid/acc_vowel  0.991272 valid/acc_consonant  0.990739 valid/recall  0.981598 lr  0.001000 elapsed_time  53388.726285 \n"
     ]
    },
    {
     "name": "stderr",
     "output_type": "stream",
     "text": [
      "                                                                                                                                                                                                              \r"
     ]
    },
    {
     "name": "stdout",
     "output_type": "stream",
     "text": [
      "epoch     49 train/loss  0.074257 train/loss_grapheme  0.045326 train/loss_vowel  0.014708 train/loss_consonant  0.014224 train/acc_grapheme  0.987020 train/acc_vowel  0.995333 train/acc_consonant  0.995601 train/recall  0.991417 valid/loss  0.189022 valid/loss_grapheme  0.102334 valid/loss_vowel  0.044956 valid/loss_consonant  0.041732 valid/acc_grapheme  0.974881 valid/acc_vowel  0.990351 valid/acc_consonant  0.989759 valid/recall  0.980680 lr  0.001000 elapsed_time  54488.393924 \n"
     ]
    },
    {
     "name": "stderr",
     "output_type": "stream",
     "text": [
      "                                                                                                                                                                                                              \r"
     ]
    },
    {
     "name": "stdout",
     "output_type": "stream",
     "text": [
      "epoch     50 train/loss  0.071916 train/loss_grapheme  0.043025 train/loss_vowel  0.014193 train/loss_consonant  0.014698 train/acc_grapheme  0.987648 train/acc_vowel  0.995738 train/acc_consonant  0.995072 train/recall  0.991149 valid/loss  0.180385 valid/loss_grapheme  0.095955 valid/loss_vowel  0.044112 valid/loss_consonant  0.040318 valid/acc_grapheme  0.976383 valid/acc_vowel  0.990700 valid/acc_consonant  0.990456 valid/recall  0.981465 lr  0.001000 elapsed_time  55589.212156 \n"
     ]
    },
    {
     "name": "stderr",
     "output_type": "stream",
     "text": [
      "                                                                                                                                                                                                             \r"
     ]
    },
    {
     "name": "stdout",
     "output_type": "stream",
     "text": [
      "epoch     51 train/loss  0.056056 train/loss_grapheme  0.034038 train/loss_vowel  0.010701 train/loss_consonant  0.011316 train/acc_grapheme  0.990691 train/acc_vowel  0.996839 train/acc_consonant  0.996565 train/recall  0.993476 valid/loss  0.167027 valid/loss_grapheme  0.089424 valid/loss_vowel  0.039671 valid/loss_consonant  0.037933 valid/acc_grapheme  0.978886 valid/acc_vowel  0.991660 valid/acc_consonant  0.991277 valid/recall  0.984623 lr  0.000700 elapsed_time  56690.374930 \n"
     ]
    },
    {
     "name": "stderr",
     "output_type": "stream",
     "text": [
      "                                                                                                                                                                                                             \r"
     ]
    },
    {
     "name": "stdout",
     "output_type": "stream",
     "text": [
      "epoch     52 train/loss  0.052039 train/loss_grapheme  0.031667 train/loss_vowel  0.009728 train/loss_consonant  0.010644 train/acc_grapheme  0.990927 train/acc_vowel  0.997169 train/acc_consonant  0.996851 train/recall  0.993989 valid/loss  0.170261 valid/loss_grapheme  0.093377 valid/loss_vowel  0.039272 valid/loss_consonant  0.037612 valid/acc_grapheme  0.978016 valid/acc_vowel  0.991386 valid/acc_consonant  0.991327 valid/recall  0.983110 lr  0.000700 elapsed_time  57793.715168 \n"
     ]
    },
    {
     "name": "stderr",
     "output_type": "stream",
     "text": [
      "                                                                                                                                                                                                              \r"
     ]
    },
    {
     "name": "stdout",
     "output_type": "stream",
     "text": [
      "epoch     53 train/loss  0.053265 train/loss_grapheme  0.032634 train/loss_vowel  0.009818 train/loss_consonant  0.010813 train/acc_grapheme  0.990722 train/acc_vowel  0.997138 train/acc_consonant  0.996646 train/recall  0.993809 valid/loss  0.167642 valid/loss_grapheme  0.088553 valid/loss_vowel  0.040454 valid/loss_consonant  0.038635 valid/acc_grapheme  0.978951 valid/acc_vowel  0.991650 valid/acc_consonant  0.991068 valid/recall  0.983775 lr  0.000700 elapsed_time  58895.967967 \n"
     ]
    },
    {
     "name": "stderr",
     "output_type": "stream",
     "text": [
      "                                                                                                                                                                                                               \r"
     ]
    },
    {
     "name": "stdout",
     "output_type": "stream",
     "text": [
      "epoch     54 train/loss  0.051269 train/loss_grapheme  0.031372 train/loss_vowel  0.009860 train/loss_consonant  0.010036 train/acc_grapheme  0.991207 train/acc_vowel  0.997069 train/acc_consonant  0.996938 train/recall  0.994058 valid/loss  0.167326 valid/loss_grapheme  0.093256 valid/loss_vowel  0.038645 valid/loss_consonant  0.035424 valid/acc_grapheme  0.978180 valid/acc_vowel  0.991710 valid/acc_consonant  0.992262 valid/recall  0.984516 lr  0.000700 elapsed_time  60000.493882 \n"
     ]
    },
    {
     "name": "stderr",
     "output_type": "stream",
     "text": [
      "                                                                                                                                                                                                             \r"
     ]
    },
    {
     "name": "stdout",
     "output_type": "stream",
     "text": [
      "epoch     55 train/loss  0.049955 train/loss_grapheme  0.030715 train/loss_vowel  0.009218 train/loss_consonant  0.010022 train/acc_grapheme  0.991407 train/acc_vowel  0.997330 train/acc_consonant  0.997150 train/recall  0.994635 valid/loss  0.163800 valid/loss_grapheme  0.088042 valid/loss_vowel  0.039659 valid/loss_consonant  0.036100 valid/acc_grapheme  0.979459 valid/acc_vowel  0.992372 valid/acc_consonant  0.991590 valid/recall  0.984168 lr  0.000700 elapsed_time  61108.807261 \n"
     ]
    },
    {
     "name": "stderr",
     "output_type": "stream",
     "text": [
      "                                                                                                                                                                                                           \r"
     ]
    },
    {
     "name": "stdout",
     "output_type": "stream",
     "text": [
      "epoch     56 train/loss  0.050111 train/loss_grapheme  0.030728 train/loss_vowel  0.009300 train/loss_consonant  0.010083 train/acc_grapheme  0.991313 train/acc_vowel  0.997287 train/acc_consonant  0.997007 train/recall  0.994334 valid/loss  0.169528 valid/loss_grapheme  0.093662 valid/loss_vowel  0.040092 valid/loss_consonant  0.035774 valid/acc_grapheme  0.978662 valid/acc_vowel  0.991834 valid/acc_consonant  0.991342 valid/recall  0.983155 lr  0.000700 elapsed_time  62216.574199 \n"
     ]
    },
    {
     "name": "stderr",
     "output_type": "stream",
     "text": [
      "                                                                                                                                                                                                              \r"
     ]
    },
    {
     "name": "stdout",
     "output_type": "stream",
     "text": [
      "epoch     57 train/loss  0.049256 train/loss_grapheme  0.030062 train/loss_vowel  0.009414 train/loss_consonant  0.009780 train/acc_grapheme  0.991506 train/acc_vowel  0.997312 train/acc_consonant  0.997044 train/recall  0.994152 valid/loss  0.166800 valid/loss_grapheme  0.088012 valid/loss_vowel  0.040837 valid/loss_consonant  0.037950 valid/acc_grapheme  0.979523 valid/acc_vowel  0.991809 valid/acc_consonant  0.991501 valid/recall  0.985161 lr  0.000700 elapsed_time  63327.225822 \n"
     ]
    },
    {
     "name": "stderr",
     "output_type": "stream",
     "text": [
      "                                                                                                                                                                                                                \r"
     ]
    },
    {
     "name": "stdout",
     "output_type": "stream",
     "text": [
      "epoch     58 train/loss  0.047472 train/loss_grapheme  0.028601 train/loss_vowel  0.008864 train/loss_consonant  0.010007 train/acc_grapheme  0.992035 train/acc_vowel  0.997281 train/acc_consonant  0.996901 train/recall  0.994680 valid/loss  0.173155 valid/loss_grapheme  0.091891 valid/loss_vowel  0.041256 valid/loss_consonant  0.040008 valid/acc_grapheme  0.978304 valid/acc_vowel  0.991809 valid/acc_consonant  0.991401 valid/recall  0.983080 lr  0.000700 elapsed_time  64435.689985 \n"
     ]
    },
    {
     "name": "stderr",
     "output_type": "stream",
     "text": [
      "                                                                                                                                                                                                             \r"
     ]
    },
    {
     "name": "stdout",
     "output_type": "stream",
     "text": [
      "epoch     59 train/loss  0.047013 train/loss_grapheme  0.028443 train/loss_vowel  0.008825 train/loss_consonant  0.009745 train/acc_grapheme  0.992047 train/acc_vowel  0.997156 train/acc_consonant  0.996963 train/recall  0.994365 valid/loss  0.166650 valid/loss_grapheme  0.085597 valid/loss_vowel  0.041952 valid/loss_consonant  0.039101 valid/acc_grapheme  0.979916 valid/acc_vowel  0.991446 valid/acc_consonant  0.991386 valid/recall  0.984454 lr  0.000700 elapsed_time  65532.365675 \n"
     ]
    },
    {
     "name": "stderr",
     "output_type": "stream",
     "text": [
      "                                                                                                                                                                                                               \r"
     ]
    },
    {
     "name": "stdout",
     "output_type": "stream",
     "text": [
      "epoch     60 train/loss  0.047557 train/loss_grapheme  0.029071 train/loss_vowel  0.008991 train/loss_consonant  0.009495 train/acc_grapheme  0.991842 train/acc_vowel  0.997362 train/acc_consonant  0.997113 train/recall  0.994762 valid/loss  0.167868 valid/loss_grapheme  0.088038 valid/loss_vowel  0.040912 valid/loss_consonant  0.038918 valid/acc_grapheme  0.978926 valid/acc_vowel  0.992257 valid/acc_consonant  0.990929 valid/recall  0.983002 lr  0.000700 elapsed_time  66623.630286 \n"
     ]
    },
    {
     "name": "stderr",
     "output_type": "stream",
     "text": [
      "                                                                                                                                                                                                                \r"
     ]
    },
    {
     "name": "stdout",
     "output_type": "stream",
     "text": [
      "epoch     61 train/loss  0.045062 train/loss_grapheme  0.026285 train/loss_vowel  0.008648 train/loss_consonant  0.010129 train/acc_grapheme  0.992508 train/acc_vowel  0.997536 train/acc_consonant  0.996864 train/recall  0.995010 valid/loss  0.169100 valid/loss_grapheme  0.090689 valid/loss_vowel  0.039560 valid/loss_consonant  0.038850 valid/acc_grapheme  0.978538 valid/acc_vowel  0.992367 valid/acc_consonant  0.991486 valid/recall  0.982839 lr  0.000700 elapsed_time  67728.881448 \n"
     ]
    },
    {
     "name": "stderr",
     "output_type": "stream",
     "text": [
      "Epoch [62/100]: [1573/2511]  63%|██████▎   , acc_consonant=0.997, acc_grapheme=0.993, acc_vowel=0.998, loss=0.0451, loss_consonant=0.0101, loss_grapheme=0.0263, loss_vowel=0.00865, recall=0.995 [10:39<06:36]Current run is terminating due to exception: .\n",
      "Engine run is terminating due to exception: .\n"
     ]
    },
    {
     "ename": "KeyboardInterrupt",
     "evalue": "",
     "output_type": "error",
     "traceback": [
      "\u001b[0;31m---------------------------------------------------------------------------\u001b[0m",
      "\u001b[0;31mKeyboardInterrupt\u001b[0m                         Traceback (most recent call last)",
      "\u001b[0;32m<ipython-input-31-d87440c57964>\u001b[0m in \u001b[0;36m<module>\u001b[0;34m\u001b[0m\n\u001b[1;32m      1\u001b[0m \u001b[0msave_json\u001b[0m\u001b[0;34m(\u001b[0m\u001b[0;34m'msss_224_grid_mode_2.json'\u001b[0m\u001b[0;34m,\u001b[0m \u001b[0;34m{\u001b[0m\u001b[0;34m'image_size'\u001b[0m\u001b[0;34m:\u001b[0m\u001b[0;36m224\u001b[0m\u001b[0;34m,\u001b[0m \u001b[0;34m'threshold'\u001b[0m\u001b[0;34m:\u001b[0m\u001b[0;36m20\u001b[0m\u001b[0;34m,\u001b[0m\u001b[0;34m'arch'\u001b[0m\u001b[0;34m:\u001b[0m\u001b[0;34m'pretrained'\u001b[0m\u001b[0;34m,\u001b[0m\u001b[0;34m'model_name'\u001b[0m\u001b[0;34m:\u001b[0m\u001b[0;34m'se_resnext50_32x4d'\u001b[0m\u001b[0;34m}\u001b[0m\u001b[0;34m)\u001b[0m\u001b[0;34m\u001b[0m\u001b[0;34m\u001b[0m\u001b[0m\n\u001b[0;32m----> 2\u001b[0;31m \u001b[0mtrainer\u001b[0m\u001b[0;34m.\u001b[0m\u001b[0mrun\u001b[0m\u001b[0;34m(\u001b[0m\u001b[0mtrain_loader\u001b[0m\u001b[0;34m,\u001b[0m \u001b[0mmax_epochs\u001b[0m\u001b[0;34m=\u001b[0m\u001b[0;36m100\u001b[0m\u001b[0;34m)\u001b[0m\u001b[0;34m\u001b[0m\u001b[0;34m\u001b[0m\u001b[0m\n\u001b[0m",
      "\u001b[0;32m~/anaconda3/envs/pytorch/lib/python3.7/site-packages/ignite/engine/engine.py\u001b[0m in \u001b[0;36mrun\u001b[0;34m(self, data, max_epochs, epoch_length, seed)\u001b[0m\n\u001b[1;32m    620\u001b[0m \u001b[0;34m\u001b[0m\u001b[0m\n\u001b[1;32m    621\u001b[0m         \u001b[0mself\u001b[0m\u001b[0;34m.\u001b[0m\u001b[0mstate\u001b[0m\u001b[0;34m.\u001b[0m\u001b[0mdataloader\u001b[0m \u001b[0;34m=\u001b[0m \u001b[0mdata\u001b[0m\u001b[0;34m\u001b[0m\u001b[0;34m\u001b[0m\u001b[0m\n\u001b[0;32m--> 622\u001b[0;31m         \u001b[0;32mreturn\u001b[0m \u001b[0mself\u001b[0m\u001b[0;34m.\u001b[0m\u001b[0m_internal_run\u001b[0m\u001b[0;34m(\u001b[0m\u001b[0;34m)\u001b[0m\u001b[0;34m\u001b[0m\u001b[0;34m\u001b[0m\u001b[0m\n\u001b[0m\u001b[1;32m    623\u001b[0m \u001b[0;34m\u001b[0m\u001b[0m\n\u001b[1;32m    624\u001b[0m     \u001b[0;32mdef\u001b[0m \u001b[0m_setup_engine\u001b[0m\u001b[0;34m(\u001b[0m\u001b[0mself\u001b[0m\u001b[0;34m)\u001b[0m \u001b[0;34m->\u001b[0m \u001b[0;32mNone\u001b[0m\u001b[0;34m:\u001b[0m\u001b[0;34m\u001b[0m\u001b[0;34m\u001b[0m\u001b[0m\n",
      "\u001b[0;32m~/anaconda3/envs/pytorch/lib/python3.7/site-packages/ignite/engine/engine.py\u001b[0m in \u001b[0;36m_internal_run\u001b[0;34m(self)\u001b[0m\n\u001b[1;32m    732\u001b[0m             \u001b[0mself\u001b[0m\u001b[0;34m.\u001b[0m\u001b[0m_dataloader_iter\u001b[0m \u001b[0;34m=\u001b[0m \u001b[0mself\u001b[0m\u001b[0;34m.\u001b[0m\u001b[0m_dataloader_len\u001b[0m \u001b[0;34m=\u001b[0m \u001b[0;32mNone\u001b[0m\u001b[0;34m\u001b[0m\u001b[0;34m\u001b[0m\u001b[0m\n\u001b[1;32m    733\u001b[0m             \u001b[0mself\u001b[0m\u001b[0;34m.\u001b[0m\u001b[0mlogger\u001b[0m\u001b[0;34m.\u001b[0m\u001b[0merror\u001b[0m\u001b[0;34m(\u001b[0m\u001b[0;34m\"Engine run is terminating due to exception: %s.\"\u001b[0m\u001b[0;34m,\u001b[0m \u001b[0mstr\u001b[0m\u001b[0;34m(\u001b[0m\u001b[0me\u001b[0m\u001b[0;34m)\u001b[0m\u001b[0;34m)\u001b[0m\u001b[0;34m\u001b[0m\u001b[0;34m\u001b[0m\u001b[0m\n\u001b[0;32m--> 734\u001b[0;31m             \u001b[0mself\u001b[0m\u001b[0;34m.\u001b[0m\u001b[0m_handle_exception\u001b[0m\u001b[0;34m(\u001b[0m\u001b[0me\u001b[0m\u001b[0;34m)\u001b[0m\u001b[0;34m\u001b[0m\u001b[0;34m\u001b[0m\u001b[0m\n\u001b[0m\u001b[1;32m    735\u001b[0m \u001b[0;34m\u001b[0m\u001b[0m\n\u001b[1;32m    736\u001b[0m         \u001b[0mself\u001b[0m\u001b[0;34m.\u001b[0m\u001b[0m_dataloader_iter\u001b[0m \u001b[0;34m=\u001b[0m \u001b[0mself\u001b[0m\u001b[0;34m.\u001b[0m\u001b[0m_dataloader_len\u001b[0m \u001b[0;34m=\u001b[0m \u001b[0;32mNone\u001b[0m\u001b[0;34m\u001b[0m\u001b[0;34m\u001b[0m\u001b[0m\n",
      "\u001b[0;32m~/anaconda3/envs/pytorch/lib/python3.7/site-packages/ignite/engine/engine.py\u001b[0m in \u001b[0;36m_handle_exception\u001b[0;34m(self, e)\u001b[0m\n\u001b[1;32m    472\u001b[0m             \u001b[0mself\u001b[0m\u001b[0;34m.\u001b[0m\u001b[0m_fire_event\u001b[0m\u001b[0;34m(\u001b[0m\u001b[0mEvents\u001b[0m\u001b[0;34m.\u001b[0m\u001b[0mEXCEPTION_RAISED\u001b[0m\u001b[0;34m,\u001b[0m \u001b[0me\u001b[0m\u001b[0;34m)\u001b[0m\u001b[0;34m\u001b[0m\u001b[0;34m\u001b[0m\u001b[0m\n\u001b[1;32m    473\u001b[0m         \u001b[0;32melse\u001b[0m\u001b[0;34m:\u001b[0m\u001b[0;34m\u001b[0m\u001b[0;34m\u001b[0m\u001b[0m\n\u001b[0;32m--> 474\u001b[0;31m             \u001b[0;32mraise\u001b[0m \u001b[0me\u001b[0m\u001b[0;34m\u001b[0m\u001b[0;34m\u001b[0m\u001b[0m\n\u001b[0m\u001b[1;32m    475\u001b[0m \u001b[0;34m\u001b[0m\u001b[0m\n\u001b[1;32m    476\u001b[0m     \u001b[0;32mdef\u001b[0m \u001b[0mstate_dict\u001b[0m\u001b[0;34m(\u001b[0m\u001b[0mself\u001b[0m\u001b[0;34m)\u001b[0m \u001b[0;34m->\u001b[0m \u001b[0mOrderedDict\u001b[0m\u001b[0;34m:\u001b[0m\u001b[0;34m\u001b[0m\u001b[0;34m\u001b[0m\u001b[0m\n",
      "\u001b[0;32m~/anaconda3/envs/pytorch/lib/python3.7/site-packages/ignite/engine/engine.py\u001b[0m in \u001b[0;36m_internal_run\u001b[0;34m(self)\u001b[0m\n\u001b[1;32m    717\u001b[0m                     \u001b[0mself\u001b[0m\u001b[0;34m.\u001b[0m\u001b[0m_setup_engine\u001b[0m\u001b[0;34m(\u001b[0m\u001b[0;34m)\u001b[0m\u001b[0;34m\u001b[0m\u001b[0;34m\u001b[0m\u001b[0m\n\u001b[1;32m    718\u001b[0m \u001b[0;34m\u001b[0m\u001b[0m\n\u001b[0;32m--> 719\u001b[0;31m                 \u001b[0mhours\u001b[0m\u001b[0;34m,\u001b[0m \u001b[0mmins\u001b[0m\u001b[0;34m,\u001b[0m \u001b[0msecs\u001b[0m \u001b[0;34m=\u001b[0m \u001b[0mself\u001b[0m\u001b[0;34m.\u001b[0m\u001b[0m_run_once_on_dataset\u001b[0m\u001b[0;34m(\u001b[0m\u001b[0;34m)\u001b[0m\u001b[0;34m\u001b[0m\u001b[0;34m\u001b[0m\u001b[0m\n\u001b[0m\u001b[1;32m    720\u001b[0m \u001b[0;34m\u001b[0m\u001b[0m\n\u001b[1;32m    721\u001b[0m                 \u001b[0mself\u001b[0m\u001b[0;34m.\u001b[0m\u001b[0mlogger\u001b[0m\u001b[0;34m.\u001b[0m\u001b[0minfo\u001b[0m\u001b[0;34m(\u001b[0m\u001b[0;34m\"Epoch[%s] Complete. Time taken: %02d:%02d:%02d\"\u001b[0m\u001b[0;34m,\u001b[0m \u001b[0mself\u001b[0m\u001b[0;34m.\u001b[0m\u001b[0mstate\u001b[0m\u001b[0;34m.\u001b[0m\u001b[0mepoch\u001b[0m\u001b[0;34m,\u001b[0m \u001b[0mhours\u001b[0m\u001b[0;34m,\u001b[0m \u001b[0mmins\u001b[0m\u001b[0;34m,\u001b[0m \u001b[0msecs\u001b[0m\u001b[0;34m)\u001b[0m\u001b[0;34m\u001b[0m\u001b[0;34m\u001b[0m\u001b[0m\n",
      "\u001b[0;32m~/anaconda3/envs/pytorch/lib/python3.7/site-packages/ignite/engine/engine.py\u001b[0m in \u001b[0;36m_run_once_on_dataset\u001b[0;34m(self)\u001b[0m\n\u001b[1;32m    461\u001b[0m         \u001b[0;32mexcept\u001b[0m \u001b[0mBaseException\u001b[0m \u001b[0;32mas\u001b[0m \u001b[0me\u001b[0m\u001b[0;34m:\u001b[0m\u001b[0;34m\u001b[0m\u001b[0;34m\u001b[0m\u001b[0m\n\u001b[1;32m    462\u001b[0m             \u001b[0mself\u001b[0m\u001b[0;34m.\u001b[0m\u001b[0mlogger\u001b[0m\u001b[0;34m.\u001b[0m\u001b[0merror\u001b[0m\u001b[0;34m(\u001b[0m\u001b[0;34m\"Current run is terminating due to exception: %s.\"\u001b[0m\u001b[0;34m,\u001b[0m \u001b[0mstr\u001b[0m\u001b[0;34m(\u001b[0m\u001b[0me\u001b[0m\u001b[0;34m)\u001b[0m\u001b[0;34m)\u001b[0m\u001b[0;34m\u001b[0m\u001b[0;34m\u001b[0m\u001b[0m\n\u001b[0;32m--> 463\u001b[0;31m             \u001b[0mself\u001b[0m\u001b[0;34m.\u001b[0m\u001b[0m_handle_exception\u001b[0m\u001b[0;34m(\u001b[0m\u001b[0me\u001b[0m\u001b[0;34m)\u001b[0m\u001b[0;34m\u001b[0m\u001b[0;34m\u001b[0m\u001b[0m\n\u001b[0m\u001b[1;32m    464\u001b[0m \u001b[0;34m\u001b[0m\u001b[0m\n\u001b[1;32m    465\u001b[0m         \u001b[0mtime_taken\u001b[0m \u001b[0;34m=\u001b[0m \u001b[0mtime\u001b[0m\u001b[0;34m.\u001b[0m\u001b[0mtime\u001b[0m\u001b[0;34m(\u001b[0m\u001b[0;34m)\u001b[0m \u001b[0;34m-\u001b[0m \u001b[0mstart_time\u001b[0m\u001b[0;34m\u001b[0m\u001b[0;34m\u001b[0m\u001b[0m\n",
      "\u001b[0;32m~/anaconda3/envs/pytorch/lib/python3.7/site-packages/ignite/engine/engine.py\u001b[0m in \u001b[0;36m_handle_exception\u001b[0;34m(self, e)\u001b[0m\n\u001b[1;32m    472\u001b[0m             \u001b[0mself\u001b[0m\u001b[0;34m.\u001b[0m\u001b[0m_fire_event\u001b[0m\u001b[0;34m(\u001b[0m\u001b[0mEvents\u001b[0m\u001b[0;34m.\u001b[0m\u001b[0mEXCEPTION_RAISED\u001b[0m\u001b[0;34m,\u001b[0m \u001b[0me\u001b[0m\u001b[0;34m)\u001b[0m\u001b[0;34m\u001b[0m\u001b[0;34m\u001b[0m\u001b[0m\n\u001b[1;32m    473\u001b[0m         \u001b[0;32melse\u001b[0m\u001b[0;34m:\u001b[0m\u001b[0;34m\u001b[0m\u001b[0;34m\u001b[0m\u001b[0m\n\u001b[0;32m--> 474\u001b[0;31m             \u001b[0;32mraise\u001b[0m \u001b[0me\u001b[0m\u001b[0;34m\u001b[0m\u001b[0;34m\u001b[0m\u001b[0m\n\u001b[0m\u001b[1;32m    475\u001b[0m \u001b[0;34m\u001b[0m\u001b[0m\n\u001b[1;32m    476\u001b[0m     \u001b[0;32mdef\u001b[0m \u001b[0mstate_dict\u001b[0m\u001b[0;34m(\u001b[0m\u001b[0mself\u001b[0m\u001b[0;34m)\u001b[0m \u001b[0;34m->\u001b[0m \u001b[0mOrderedDict\u001b[0m\u001b[0;34m:\u001b[0m\u001b[0;34m\u001b[0m\u001b[0;34m\u001b[0m\u001b[0m\n",
      "\u001b[0;32m~/anaconda3/envs/pytorch/lib/python3.7/site-packages/ignite/engine/engine.py\u001b[0m in \u001b[0;36m_run_once_on_dataset\u001b[0;34m(self)\u001b[0m\n\u001b[1;32m    445\u001b[0m                 \u001b[0mself\u001b[0m\u001b[0;34m.\u001b[0m\u001b[0m_fire_event\u001b[0m\u001b[0;34m(\u001b[0m\u001b[0mEvents\u001b[0m\u001b[0;34m.\u001b[0m\u001b[0mITERATION_STARTED\u001b[0m\u001b[0;34m)\u001b[0m\u001b[0;34m\u001b[0m\u001b[0;34m\u001b[0m\u001b[0m\n\u001b[1;32m    446\u001b[0m                 \u001b[0mself\u001b[0m\u001b[0;34m.\u001b[0m\u001b[0mstate\u001b[0m\u001b[0;34m.\u001b[0m\u001b[0moutput\u001b[0m \u001b[0;34m=\u001b[0m \u001b[0mself\u001b[0m\u001b[0;34m.\u001b[0m\u001b[0m_process_function\u001b[0m\u001b[0;34m(\u001b[0m\u001b[0mself\u001b[0m\u001b[0;34m,\u001b[0m \u001b[0mself\u001b[0m\u001b[0;34m.\u001b[0m\u001b[0mstate\u001b[0m\u001b[0;34m.\u001b[0m\u001b[0mbatch\u001b[0m\u001b[0;34m)\u001b[0m\u001b[0;34m\u001b[0m\u001b[0;34m\u001b[0m\u001b[0m\n\u001b[0;32m--> 447\u001b[0;31m                 \u001b[0mself\u001b[0m\u001b[0;34m.\u001b[0m\u001b[0m_fire_event\u001b[0m\u001b[0;34m(\u001b[0m\u001b[0mEvents\u001b[0m\u001b[0;34m.\u001b[0m\u001b[0mITERATION_COMPLETED\u001b[0m\u001b[0;34m)\u001b[0m\u001b[0;34m\u001b[0m\u001b[0;34m\u001b[0m\u001b[0m\n\u001b[0m\u001b[1;32m    448\u001b[0m \u001b[0;34m\u001b[0m\u001b[0m\n\u001b[1;32m    449\u001b[0m                 \u001b[0;31m# TODO: remove refs on batch to avoid high mem consumption ? -> need verification\u001b[0m\u001b[0;34m\u001b[0m\u001b[0;34m\u001b[0m\u001b[0;34m\u001b[0m\u001b[0m\n",
      "\u001b[0;32m~/anaconda3/envs/pytorch/lib/python3.7/site-packages/ignite/engine/engine.py\u001b[0m in \u001b[0;36m_fire_event\u001b[0;34m(self, event_name, *event_args, **event_kwargs)\u001b[0m\n\u001b[1;32m    359\u001b[0m             \u001b[0;32mfor\u001b[0m \u001b[0mfunc\u001b[0m\u001b[0;34m,\u001b[0m \u001b[0margs\u001b[0m\u001b[0;34m,\u001b[0m \u001b[0mkwargs\u001b[0m \u001b[0;32min\u001b[0m \u001b[0mself\u001b[0m\u001b[0;34m.\u001b[0m\u001b[0m_event_handlers\u001b[0m\u001b[0;34m[\u001b[0m\u001b[0mevent_name\u001b[0m\u001b[0;34m]\u001b[0m\u001b[0;34m:\u001b[0m\u001b[0;34m\u001b[0m\u001b[0;34m\u001b[0m\u001b[0m\n\u001b[1;32m    360\u001b[0m                 \u001b[0mkwargs\u001b[0m\u001b[0;34m.\u001b[0m\u001b[0mupdate\u001b[0m\u001b[0;34m(\u001b[0m\u001b[0mevent_kwargs\u001b[0m\u001b[0;34m)\u001b[0m\u001b[0;34m\u001b[0m\u001b[0;34m\u001b[0m\u001b[0m\n\u001b[0;32m--> 361\u001b[0;31m                 \u001b[0mfunc\u001b[0m\u001b[0;34m(\u001b[0m\u001b[0mself\u001b[0m\u001b[0;34m,\u001b[0m \u001b[0;34m*\u001b[0m\u001b[0;34m(\u001b[0m\u001b[0mevent_args\u001b[0m \u001b[0;34m+\u001b[0m \u001b[0margs\u001b[0m\u001b[0;34m)\u001b[0m\u001b[0;34m,\u001b[0m \u001b[0;34m**\u001b[0m\u001b[0mkwargs\u001b[0m\u001b[0;34m)\u001b[0m\u001b[0;34m\u001b[0m\u001b[0;34m\u001b[0m\u001b[0m\n\u001b[0m\u001b[1;32m    362\u001b[0m \u001b[0;34m\u001b[0m\u001b[0m\n\u001b[1;32m    363\u001b[0m     \u001b[0;32mdef\u001b[0m \u001b[0mfire_event\u001b[0m\u001b[0;34m(\u001b[0m\u001b[0mself\u001b[0m\u001b[0;34m,\u001b[0m \u001b[0mevent_name\u001b[0m\u001b[0;34m:\u001b[0m \u001b[0mstr\u001b[0m\u001b[0;34m)\u001b[0m \u001b[0;34m->\u001b[0m \u001b[0;32mNone\u001b[0m\u001b[0;34m:\u001b[0m\u001b[0;34m\u001b[0m\u001b[0;34m\u001b[0m\u001b[0m\n",
      "\u001b[0;32m~/anaconda3/envs/pytorch/lib/python3.7/site-packages/torch/autograd/grad_mode.py\u001b[0m in \u001b[0;36mdecorate_no_grad\u001b[0;34m(*args, **kwargs)\u001b[0m\n\u001b[1;32m     47\u001b[0m         \u001b[0;32mdef\u001b[0m \u001b[0mdecorate_no_grad\u001b[0m\u001b[0;34m(\u001b[0m\u001b[0;34m*\u001b[0m\u001b[0margs\u001b[0m\u001b[0;34m,\u001b[0m \u001b[0;34m**\u001b[0m\u001b[0mkwargs\u001b[0m\u001b[0;34m)\u001b[0m\u001b[0;34m:\u001b[0m\u001b[0;34m\u001b[0m\u001b[0;34m\u001b[0m\u001b[0m\n\u001b[1;32m     48\u001b[0m             \u001b[0;32mwith\u001b[0m \u001b[0mself\u001b[0m\u001b[0;34m:\u001b[0m\u001b[0;34m\u001b[0m\u001b[0;34m\u001b[0m\u001b[0m\n\u001b[0;32m---> 49\u001b[0;31m                 \u001b[0;32mreturn\u001b[0m \u001b[0mfunc\u001b[0m\u001b[0;34m(\u001b[0m\u001b[0;34m*\u001b[0m\u001b[0margs\u001b[0m\u001b[0;34m,\u001b[0m \u001b[0;34m**\u001b[0m\u001b[0mkwargs\u001b[0m\u001b[0;34m)\u001b[0m\u001b[0;34m\u001b[0m\u001b[0;34m\u001b[0m\u001b[0m\n\u001b[0m\u001b[1;32m     50\u001b[0m         \u001b[0;32mreturn\u001b[0m \u001b[0mdecorate_no_grad\u001b[0m\u001b[0;34m\u001b[0m\u001b[0;34m\u001b[0m\u001b[0m\n\u001b[1;32m     51\u001b[0m \u001b[0;34m\u001b[0m\u001b[0m\n",
      "\u001b[0;32m~/anaconda3/envs/pytorch/lib/python3.7/site-packages/ignite/metrics/metric.py\u001b[0m in \u001b[0;36miteration_completed\u001b[0;34m(self, engine)\u001b[0m\n\u001b[1;32m    134\u001b[0m                 )\n\u001b[1;32m    135\u001b[0m             \u001b[0moutput\u001b[0m \u001b[0;34m=\u001b[0m \u001b[0mtuple\u001b[0m\u001b[0;34m(\u001b[0m\u001b[0moutput\u001b[0m\u001b[0;34m[\u001b[0m\u001b[0mk\u001b[0m\u001b[0;34m]\u001b[0m \u001b[0;32mfor\u001b[0m \u001b[0mk\u001b[0m \u001b[0;32min\u001b[0m \u001b[0mself\u001b[0m\u001b[0;34m.\u001b[0m\u001b[0m_required_output_keys\u001b[0m\u001b[0;34m)\u001b[0m\u001b[0;34m\u001b[0m\u001b[0;34m\u001b[0m\u001b[0m\n\u001b[0;32m--> 136\u001b[0;31m         \u001b[0mself\u001b[0m\u001b[0;34m.\u001b[0m\u001b[0mupdate\u001b[0m\u001b[0;34m(\u001b[0m\u001b[0moutput\u001b[0m\u001b[0;34m)\u001b[0m\u001b[0;34m\u001b[0m\u001b[0;34m\u001b[0m\u001b[0m\n\u001b[0m\u001b[1;32m    137\u001b[0m \u001b[0;34m\u001b[0m\u001b[0m\n\u001b[1;32m    138\u001b[0m     \u001b[0;32mdef\u001b[0m \u001b[0mcompleted\u001b[0m\u001b[0;34m(\u001b[0m\u001b[0mself\u001b[0m\u001b[0;34m,\u001b[0m \u001b[0mengine\u001b[0m\u001b[0;34m:\u001b[0m \u001b[0mEngine\u001b[0m\u001b[0;34m,\u001b[0m \u001b[0mname\u001b[0m\u001b[0;34m:\u001b[0m \u001b[0mstr\u001b[0m\u001b[0;34m)\u001b[0m \u001b[0;34m->\u001b[0m \u001b[0;32mNone\u001b[0m\u001b[0;34m:\u001b[0m\u001b[0;34m\u001b[0m\u001b[0;34m\u001b[0m\u001b[0m\n",
      "\u001b[0;32m<ipython-input-28-d3042289ba4f>\u001b[0m in \u001b[0;36mupdate\u001b[0;34m(self, output)\u001b[0m\n\u001b[1;32m     45\u001b[0m     \u001b[0;32mdef\u001b[0m \u001b[0mupdate\u001b[0m\u001b[0;34m(\u001b[0m\u001b[0mself\u001b[0m\u001b[0;34m,\u001b[0m \u001b[0moutput\u001b[0m\u001b[0;34m)\u001b[0m\u001b[0;34m:\u001b[0m\u001b[0;34m\u001b[0m\u001b[0;34m\u001b[0m\u001b[0m\n\u001b[1;32m     46\u001b[0m         \u001b[0my_pred\u001b[0m\u001b[0;34m,\u001b[0m \u001b[0my\u001b[0m \u001b[0;34m=\u001b[0m \u001b[0moutput\u001b[0m\u001b[0;34m\u001b[0m\u001b[0;34m\u001b[0m\u001b[0m\n\u001b[0;32m---> 47\u001b[0;31m         \u001b[0mself\u001b[0m\u001b[0;34m.\u001b[0m\u001b[0m_predictions\u001b[0m \u001b[0;34m=\u001b[0m \u001b[0mtorch\u001b[0m\u001b[0;34m.\u001b[0m\u001b[0mcat\u001b[0m\u001b[0;34m(\u001b[0m\u001b[0;34m[\u001b[0m\u001b[0mself\u001b[0m\u001b[0;34m.\u001b[0m\u001b[0m_predictions\u001b[0m\u001b[0;34m,\u001b[0m \u001b[0my_pred\u001b[0m\u001b[0;34m]\u001b[0m\u001b[0;34m,\u001b[0m \u001b[0mdim\u001b[0m\u001b[0;34m=\u001b[0m\u001b[0;36m0\u001b[0m\u001b[0;34m)\u001b[0m\u001b[0;34m\u001b[0m\u001b[0;34m\u001b[0m\u001b[0m\n\u001b[0m\u001b[1;32m     48\u001b[0m         \u001b[0mself\u001b[0m\u001b[0;34m.\u001b[0m\u001b[0m_targets\u001b[0m \u001b[0;34m=\u001b[0m \u001b[0mtorch\u001b[0m\u001b[0;34m.\u001b[0m\u001b[0mcat\u001b[0m\u001b[0;34m(\u001b[0m\u001b[0;34m[\u001b[0m\u001b[0mself\u001b[0m\u001b[0;34m.\u001b[0m\u001b[0m_targets\u001b[0m\u001b[0;34m,\u001b[0m \u001b[0my\u001b[0m\u001b[0;34m]\u001b[0m\u001b[0;34m,\u001b[0m \u001b[0mdim\u001b[0m\u001b[0;34m=\u001b[0m\u001b[0;36m0\u001b[0m\u001b[0;34m)\u001b[0m\u001b[0;34m\u001b[0m\u001b[0;34m\u001b[0m\u001b[0m\n\u001b[1;32m     49\u001b[0m \u001b[0;34m\u001b[0m\u001b[0m\n",
      "\u001b[0;31mKeyboardInterrupt\u001b[0m: "
     ]
    }
   ],
   "source": [
    "save_json('msss_224_grid_mode_2.json', {'image_size':224, 'threshold':20,'arch':'pretrained','model_name':'se_resnext50_32x4d'})\n",
    "trainer.run(train_loader, max_epochs=100)"
   ]
  },
  {
   "cell_type": "code",
   "execution_count": null,
   "metadata": {},
   "outputs": [],
   "source": []
  },
  {
   "cell_type": "code",
   "execution_count": null,
   "metadata": {},
   "outputs": [],
   "source": []
  },
  {
   "cell_type": "code",
   "execution_count": null,
   "metadata": {},
   "outputs": [],
   "source": []
  },
  {
   "cell_type": "code",
   "execution_count": 32,
   "metadata": {
    "scrolled": true
   },
   "outputs": [
    {
     "name": "stderr",
     "output_type": "stream",
     "text": [
      "                                                        \r"
     ]
    },
    {
     "name": "stdout",
     "output_type": "stream",
     "text": [
      "epoch      1 train/loss  3.563295 train/loss_grapheme  2.276719 train/loss_vowel  0.608276 train/loss_consonant  0.678299 train/acc_grapheme  0.494657 train/acc_vowel  0.845206 train/acc_consonant  0.845436 train/recall  0.617920 valid/loss  1.372783 valid/loss_grapheme  0.869732 valid/loss_vowel  0.220886 valid/loss_consonant  0.282165 valid/acc_grapheme  0.774423 valid/acc_vowel  0.947912 valid/acc_consonant  0.947125 valid/recall  0.859391 lr  0.001000 elapsed_time  385.120160 \n"
     ]
    },
    {
     "name": "stderr",
     "output_type": "stream",
     "text": [
      "                                                                                                                                                                                                       \r"
     ]
    },
    {
     "name": "stdout",
     "output_type": "stream",
     "text": [
      "epoch      2 train/loss  1.265257 train/loss_grapheme  0.820875 train/loss_vowel  0.217984 train/loss_consonant  0.226399 train/acc_grapheme  0.793883 train/acc_vowel  0.943938 train/acc_consonant  0.945624 train/recall  0.861591 valid/loss  0.640386 valid/loss_grapheme  0.396924 valid/loss_vowel  0.115720 valid/loss_consonant  0.127741 valid/acc_grapheme  0.893037 valid/acc_vowel  0.971303 valid/acc_consonant  0.971198 valid/recall  0.922169 lr  0.001000 elapsed_time  771.924695 \n"
     ]
    },
    {
     "name": "stderr",
     "output_type": "stream",
     "text": [
      "                                                                                                                                                                                                        \r"
     ]
    },
    {
     "name": "stdout",
     "output_type": "stream",
     "text": [
      "epoch      3 train/loss  0.911043 train/loss_grapheme  0.606802 train/loss_vowel  0.151571 train/loss_consonant  0.152670 train/acc_grapheme  0.843632 train/acc_vowel  0.959127 train/acc_consonant  0.958704 train/recall  0.893775 valid/loss  0.579820 valid/loss_grapheme  0.369511 valid/loss_vowel  0.102825 valid/loss_consonant  0.107484 valid/acc_grapheme  0.900307 valid/acc_vowel  0.971806 valid/acc_consonant  0.971433 valid/recall  0.928116 lr  0.001000 elapsed_time  1159.936905 \n"
     ]
    },
    {
     "name": "stderr",
     "output_type": "stream",
     "text": [
      "                                                                                                                                                                                                         \r"
     ]
    },
    {
     "name": "stdout",
     "output_type": "stream",
     "text": [
      "epoch      4 train/loss  0.747602 train/loss_grapheme  0.503174 train/loss_vowel  0.123693 train/loss_consonant  0.120735 train/acc_grapheme  0.869271 train/acc_vowel  0.966044 train/acc_consonant  0.965677 train/recall  0.912464 valid/loss  0.461435 valid/loss_grapheme  0.287614 valid/loss_vowel  0.079672 valid/loss_consonant  0.094149 valid/acc_grapheme  0.921865 valid/acc_vowel  0.979550 valid/acc_consonant  0.973822 valid/recall  0.943225 lr  0.001000 elapsed_time  1546.186937 \n"
     ]
    },
    {
     "name": "stderr",
     "output_type": "stream",
     "text": [
      "                                                                                                                                                                                                         \r"
     ]
    },
    {
     "name": "stdout",
     "output_type": "stream",
     "text": [
      "epoch      5 train/loss  0.626498 train/loss_grapheme  0.423079 train/loss_vowel  0.102300 train/loss_consonant  0.101118 train/acc_grapheme  0.888914 train/acc_vowel  0.971879 train/acc_consonant  0.970504 train/recall  0.925809 valid/loss  0.394958 valid/loss_grapheme  0.255480 valid/loss_vowel  0.067645 valid/loss_consonant  0.071833 valid/acc_grapheme  0.929251 valid/acc_vowel  0.982823 valid/acc_consonant  0.979674 valid/recall  0.948019 lr  0.001000 elapsed_time  1930.590385 \n"
     ]
    },
    {
     "name": "stderr",
     "output_type": "stream",
     "text": [
      "                                                                                                                                                                                                         \r"
     ]
    },
    {
     "name": "stdout",
     "output_type": "stream",
     "text": [
      "epoch      6 train/loss  0.545859 train/loss_grapheme  0.365890 train/loss_vowel  0.090960 train/loss_consonant  0.089009 train/acc_grapheme  0.903538 train/acc_vowel  0.975001 train/acc_consonant  0.973645 train/recall  0.937068 valid/loss  0.376041 valid/loss_grapheme  0.232124 valid/loss_vowel  0.066184 valid/loss_consonant  0.077733 valid/acc_grapheme  0.937378 valid/acc_vowel  0.981988 valid/acc_consonant  0.977784 valid/recall  0.947696 lr  0.001000 elapsed_time  2318.504446 \n"
     ]
    },
    {
     "name": "stderr",
     "output_type": "stream",
     "text": [
      "                                                                                                                                                                                                         \r"
     ]
    },
    {
     "name": "stdout",
     "output_type": "stream",
     "text": [
      "epoch      7 train/loss  0.486346 train/loss_grapheme  0.324830 train/loss_vowel  0.081024 train/loss_consonant  0.080492 train/acc_grapheme  0.912563 train/acc_vowel  0.977104 train/acc_consonant  0.975586 train/recall  0.942199 valid/loss  0.333510 valid/loss_grapheme  0.204951 valid/loss_vowel  0.062344 valid/loss_consonant  0.066215 valid/acc_grapheme  0.943379 valid/acc_vowel  0.983581 valid/acc_consonant  0.982411 valid/recall  0.958922 lr  0.001000 elapsed_time  2706.934494 \n"
     ]
    },
    {
     "name": "stderr",
     "output_type": "stream",
     "text": [
      "                                                                                                                                                                                                          \r"
     ]
    },
    {
     "name": "stdout",
     "output_type": "stream",
     "text": [
      "epoch      8 train/loss  0.430240 train/loss_grapheme  0.287385 train/loss_vowel  0.072171 train/loss_consonant  0.070683 train/acc_grapheme  0.923747 train/acc_vowel  0.979380 train/acc_consonant  0.978684 train/recall  0.949609 valid/loss  0.316596 valid/loss_grapheme  0.195856 valid/loss_vowel  0.059347 valid/loss_consonant  0.061394 valid/acc_grapheme  0.947642 valid/acc_vowel  0.983606 valid/acc_consonant  0.982398 valid/recall  0.960915 lr  0.001000 elapsed_time  3094.388029 \n"
     ]
    },
    {
     "name": "stderr",
     "output_type": "stream",
     "text": [
      "                                                                                                                                                                                                         \r"
     ]
    },
    {
     "name": "stdout",
     "output_type": "stream",
     "text": [
      "epoch      9 train/loss  0.383792 train/loss_grapheme  0.256605 train/loss_vowel  0.063337 train/loss_consonant  0.063850 train/acc_grapheme  0.930726 train/acc_vowel  0.982279 train/acc_consonant  0.980351 train/recall  0.954819 valid/loss  0.296268 valid/loss_grapheme  0.180686 valid/loss_vowel  0.057309 valid/loss_consonant  0.058273 valid/acc_grapheme  0.951261 valid/acc_vowel  0.984788 valid/acc_consonant  0.983313 valid/recall  0.959536 lr  0.001000 elapsed_time  3481.969019 \n"
     ]
    },
    {
     "name": "stderr",
     "output_type": "stream",
     "text": [
      "                                                                                                                                                                                                           \r"
     ]
    },
    {
     "name": "stdout",
     "output_type": "stream",
     "text": [
      "epoch     10 train/loss  0.353095 train/loss_grapheme  0.235673 train/loss_vowel  0.059272 train/loss_consonant  0.058150 train/acc_grapheme  0.936623 train/acc_vowel  0.983000 train/acc_consonant  0.982198 train/recall  0.958370 valid/loss  0.303349 valid/loss_grapheme  0.182813 valid/loss_vowel  0.057841 valid/loss_consonant  0.062695 valid/acc_grapheme  0.951167 valid/acc_vowel  0.985621 valid/acc_consonant  0.982256 valid/recall  0.963626 lr  0.001000 elapsed_time  3867.402277 \n"
     ]
    },
    {
     "name": "stderr",
     "output_type": "stream",
     "text": [
      "                                                                                                                                                                                                            \r"
     ]
    },
    {
     "name": "stdout",
     "output_type": "stream",
     "text": [
      "epoch     11 train/loss  0.324317 train/loss_grapheme  0.217375 train/loss_vowel  0.054099 train/loss_consonant  0.052843 train/acc_grapheme  0.941120 train/acc_vowel  0.984531 train/acc_consonant  0.983467 train/recall  0.961796 valid/loss  0.281567 valid/loss_grapheme  0.175087 valid/loss_vowel  0.051873 valid/loss_consonant  0.054608 valid/acc_grapheme  0.952536 valid/acc_vowel  0.986224 valid/acc_consonant  0.984463 valid/recall  0.961783 lr  0.001000 elapsed_time  4252.356278 \n"
     ]
    },
    {
     "name": "stderr",
     "output_type": "stream",
     "text": [
      "                                                                                                                                                                                                            \r"
     ]
    },
    {
     "name": "stdout",
     "output_type": "stream",
     "text": [
      "epoch     12 train/loss  0.295984 train/loss_grapheme  0.197908 train/loss_vowel  0.048723 train/loss_consonant  0.049354 train/acc_grapheme  0.946594 train/acc_vowel  0.985482 train/acc_consonant  0.985159 train/recall  0.965393 valid/loss  0.284706 valid/loss_grapheme  0.169308 valid/loss_vowel  0.055387 valid/loss_consonant  0.060011 valid/acc_grapheme  0.954781 valid/acc_vowel  0.985615 valid/acc_consonant  0.982917 valid/recall  0.964119 lr  0.001000 elapsed_time  4636.604722 \n"
     ]
    },
    {
     "name": "stderr",
     "output_type": "stream",
     "text": [
      "                                                                                                                                                                                                            \r"
     ]
    },
    {
     "name": "stdout",
     "output_type": "stream",
     "text": [
      "epoch     13 train/loss  0.279879 train/loss_grapheme  0.185500 train/loss_vowel  0.046820 train/loss_consonant  0.047559 train/acc_grapheme  0.950177 train/acc_vowel  0.986110 train/acc_consonant  0.985134 train/recall  0.966993 valid/loss  0.269748 valid/loss_grapheme  0.162750 valid/loss_vowel  0.055873 valid/loss_consonant  0.051125 valid/acc_grapheme  0.957108 valid/acc_vowel  0.985516 valid/acc_consonant  0.986094 valid/recall  0.966662 lr  0.001000 elapsed_time  5023.117830 \n"
     ]
    },
    {
     "name": "stderr",
     "output_type": "stream",
     "text": [
      "                                                                                                                                                                                                          \r"
     ]
    },
    {
     "name": "stdout",
     "output_type": "stream",
     "text": [
      "epoch     14 train/loss  0.255397 train/loss_grapheme  0.170474 train/loss_vowel  0.042759 train/loss_consonant  0.042164 train/acc_grapheme  0.953374 train/acc_vowel  0.987286 train/acc_consonant  0.986583 train/recall  0.970174 valid/loss  0.257369 valid/loss_grapheme  0.158802 valid/loss_vowel  0.049848 valid/loss_consonant  0.048719 valid/acc_grapheme  0.957257 valid/acc_vowel  0.987437 valid/acc_consonant  0.986677 valid/recall  0.967179 lr  0.001000 elapsed_time  5408.139337 \n"
     ]
    },
    {
     "name": "stderr",
     "output_type": "stream",
     "text": [
      "                                                                                                                                                                                                          \r"
     ]
    },
    {
     "name": "stdout",
     "output_type": "stream",
     "text": [
      "epoch     15 train/loss  0.240304 train/loss_grapheme  0.160593 train/loss_vowel  0.039624 train/loss_consonant  0.040087 train/acc_grapheme  0.956160 train/acc_vowel  0.988188 train/acc_consonant  0.987529 train/recall  0.971803 valid/loss  0.269294 valid/loss_grapheme  0.164009 valid/loss_vowel  0.050705 valid/loss_consonant  0.054580 valid/acc_grapheme  0.956361 valid/acc_vowel  0.987954 valid/acc_consonant  0.985049 valid/recall  0.966903 lr  0.001000 elapsed_time  5794.485603 \n"
     ]
    },
    {
     "name": "stderr",
     "output_type": "stream",
     "text": [
      "                                                                                                                                                                                                           \r"
     ]
    },
    {
     "name": "stdout",
     "output_type": "stream",
     "text": [
      "epoch     16 train/loss  0.223910 train/loss_grapheme  0.148620 train/loss_vowel  0.037289 train/loss_consonant  0.038001 train/acc_grapheme  0.959743 train/acc_vowel  0.989208 train/acc_consonant  0.987945 train/recall  0.974130 valid/loss  0.245438 valid/loss_grapheme  0.146345 valid/loss_vowel  0.051913 valid/loss_consonant  0.047181 valid/acc_grapheme  0.961871 valid/acc_vowel  0.987033 valid/acc_consonant  0.986989 valid/recall  0.970367 lr  0.001000 elapsed_time  6177.131665 \n"
     ]
    },
    {
     "name": "stderr",
     "output_type": "stream",
     "text": [
      "                                                                                                                                                                                                          \r"
     ]
    },
    {
     "name": "stdout",
     "output_type": "stream",
     "text": [
      "epoch     17 train/loss  0.207124 train/loss_grapheme  0.136479 train/loss_vowel  0.034445 train/loss_consonant  0.036200 train/acc_grapheme  0.962598 train/acc_vowel  0.989556 train/acc_consonant  0.988735 train/recall  0.975343 valid/loss  0.265342 valid/loss_grapheme  0.161493 valid/loss_vowel  0.052331 valid/loss_consonant  0.051517 valid/acc_grapheme  0.957357 valid/acc_vowel  0.987437 valid/acc_consonant  0.986354 valid/recall  0.968629 lr  0.001000 elapsed_time  6564.843337 \n"
     ]
    },
    {
     "name": "stderr",
     "output_type": "stream",
     "text": [
      "                                                                                                                                                                                                           \r"
     ]
    },
    {
     "name": "stdout",
     "output_type": "stream",
     "text": [
      "epoch     18 train/loss  0.204351 train/loss_grapheme  0.134284 train/loss_vowel  0.034378 train/loss_consonant  0.035690 train/acc_grapheme  0.962853 train/acc_vowel  0.989494 train/acc_consonant  0.988903 train/recall  0.975169 valid/loss  0.247151 valid/loss_grapheme  0.145046 valid/loss_vowel  0.050297 valid/loss_consonant  0.051808 valid/acc_grapheme  0.961449 valid/acc_vowel  0.987313 valid/acc_consonant  0.986254 valid/recall  0.969557 lr  0.001000 elapsed_time  6947.597203 \n"
     ]
    },
    {
     "name": "stderr",
     "output_type": "stream",
     "text": [
      "                                                                                                                                                                                                            \r"
     ]
    },
    {
     "name": "stdout",
     "output_type": "stream",
     "text": [
      "epoch     19 train/loss  0.186719 train/loss_grapheme  0.123166 train/loss_vowel  0.031361 train/loss_consonant  0.032191 train/acc_grapheme  0.966473 train/acc_vowel  0.990502 train/acc_consonant  0.989849 train/recall  0.978256 valid/loss  0.249226 valid/loss_grapheme  0.145639 valid/loss_vowel  0.050148 valid/loss_consonant  0.053439 valid/acc_grapheme  0.961050 valid/acc_vowel  0.987766 valid/acc_consonant  0.986099 valid/recall  0.969582 lr  0.001000 elapsed_time  7331.097597 \n"
     ]
    },
    {
     "name": "stderr",
     "output_type": "stream",
     "text": [
      "                                                                                                                                                                                                           \r"
     ]
    },
    {
     "name": "stdout",
     "output_type": "stream",
     "text": [
      "epoch     20 train/loss  0.178549 train/loss_grapheme  0.118635 train/loss_vowel  0.029851 train/loss_consonant  0.030063 train/acc_grapheme  0.967413 train/acc_vowel  0.990832 train/acc_consonant  0.990639 train/recall  0.979255 valid/loss  0.252555 valid/loss_grapheme  0.146752 valid/loss_vowel  0.054567 valid/loss_consonant  0.051236 valid/acc_grapheme  0.961996 valid/acc_vowel  0.986840 valid/acc_consonant  0.986230 valid/recall  0.969463 lr  0.001000 elapsed_time  7711.861307 \n"
     ]
    },
    {
     "name": "stderr",
     "output_type": "stream",
     "text": [
      "                                                                                                                                                                                                            \r"
     ]
    },
    {
     "name": "stdout",
     "output_type": "stream",
     "text": [
      "epoch     21 train/loss  0.171200 train/loss_grapheme  0.111057 train/loss_vowel  0.029719 train/loss_consonant  0.030424 train/acc_grapheme  0.969795 train/acc_vowel  0.991080 train/acc_consonant  0.990396 train/recall  0.979986 valid/loss  0.239024 valid/loss_grapheme  0.143039 valid/loss_vowel  0.046744 valid/loss_consonant  0.049241 valid/acc_grapheme  0.963018 valid/acc_vowel  0.989179 valid/acc_consonant  0.986746 valid/recall  0.972614 lr  0.001000 elapsed_time  8092.604812 \n"
     ]
    },
    {
     "name": "stderr",
     "output_type": "stream",
     "text": [
      "                                                                                                                                                                                                         \r"
     ]
    },
    {
     "name": "stdout",
     "output_type": "stream",
     "text": [
      "epoch     22 train/loss  0.163210 train/loss_grapheme  0.106792 train/loss_vowel  0.027872 train/loss_consonant  0.028546 train/acc_grapheme  0.970653 train/acc_vowel  0.991765 train/acc_consonant  0.991043 train/recall  0.981429 valid/loss  0.242522 valid/loss_grapheme  0.139166 valid/loss_vowel  0.052374 valid/loss_consonant  0.050982 valid/acc_grapheme  0.963787 valid/acc_vowel  0.987885 valid/acc_consonant  0.986478 valid/recall  0.973788 lr  0.001000 elapsed_time  8480.453405 \n"
     ]
    },
    {
     "name": "stderr",
     "output_type": "stream",
     "text": [
      "                                                                                                                                                                                                            \r"
     ]
    },
    {
     "name": "stdout",
     "output_type": "stream",
     "text": [
      "epoch     23 train/loss  0.156747 train/loss_grapheme  0.102852 train/loss_vowel  0.026205 train/loss_consonant  0.027689 train/acc_grapheme  0.972034 train/acc_vowel  0.992262 train/acc_consonant  0.991118 train/recall  0.980830 valid/loss  0.249085 valid/loss_grapheme  0.145414 valid/loss_vowel  0.049623 valid/loss_consonant  0.054048 valid/acc_grapheme  0.963359 valid/acc_vowel  0.988308 valid/acc_consonant  0.985278 valid/recall  0.972852 lr  0.001000 elapsed_time  8864.159495 \n"
     ]
    },
    {
     "name": "stderr",
     "output_type": "stream",
     "text": [
      "                                                                                                                                                                                                            \r"
     ]
    },
    {
     "name": "stdout",
     "output_type": "stream",
     "text": [
      "epoch     24 train/loss  0.157152 train/loss_grapheme  0.101460 train/loss_vowel  0.027866 train/loss_consonant  0.027826 train/acc_grapheme  0.972208 train/acc_vowel  0.991796 train/acc_consonant  0.991174 train/recall  0.981606 valid/loss  0.245565 valid/loss_grapheme  0.142993 valid/loss_vowel  0.052406 valid/loss_consonant  0.050166 valid/acc_grapheme  0.963378 valid/acc_vowel  0.987736 valid/acc_consonant  0.986635 valid/recall  0.972530 lr  0.001000 elapsed_time  9250.281909 \n"
     ]
    },
    {
     "name": "stderr",
     "output_type": "stream",
     "text": [
      "                                                                                                                                                                                                            \r"
     ]
    },
    {
     "name": "stdout",
     "output_type": "stream",
     "text": [
      "epoch     25 train/loss  0.147302 train/loss_grapheme  0.096348 train/loss_vowel  0.025037 train/loss_consonant  0.025917 train/acc_grapheme  0.973714 train/acc_vowel  0.992038 train/acc_consonant  0.991858 train/recall  0.982889 valid/loss  0.227388 valid/loss_grapheme  0.131079 valid/loss_vowel  0.049211 valid/loss_consonant  0.047099 valid/acc_grapheme  0.966059 valid/acc_vowel  0.988209 valid/acc_consonant  0.987636 valid/recall  0.973059 lr  0.001000 elapsed_time  9633.999490 \n"
     ]
    },
    {
     "name": "stderr",
     "output_type": "stream",
     "text": [
      "                                                                                                                                                                                                            \r"
     ]
    },
    {
     "name": "stdout",
     "output_type": "stream",
     "text": [
      "epoch     26 train/loss  0.139293 train/loss_grapheme  0.090151 train/loss_vowel  0.024189 train/loss_consonant  0.024953 train/acc_grapheme  0.975636 train/acc_vowel  0.992710 train/acc_consonant  0.991926 train/recall  0.984097 valid/loss  0.248075 valid/loss_grapheme  0.147871 valid/loss_vowel  0.047510 valid/loss_consonant  0.052694 valid/acc_grapheme  0.961542 valid/acc_vowel  0.988836 valid/acc_consonant  0.986415 valid/recall  0.970855 lr  0.001000 elapsed_time  10019.292324 \n"
     ]
    },
    {
     "name": "stderr",
     "output_type": "stream",
     "text": [
      "                                                                                                                                                                                                            \r"
     ]
    },
    {
     "name": "stdout",
     "output_type": "stream",
     "text": [
      "epoch     27 train/loss  0.138431 train/loss_grapheme  0.090436 train/loss_vowel  0.023189 train/loss_consonant  0.024806 train/acc_grapheme  0.975138 train/acc_vowel  0.992977 train/acc_consonant  0.992169 train/recall  0.983560 valid/loss  0.218082 valid/loss_grapheme  0.126346 valid/loss_vowel  0.044734 valid/loss_consonant  0.047002 valid/acc_grapheme  0.966867 valid/acc_vowel  0.989060 valid/acc_consonant  0.987996 valid/recall  0.974322 lr  0.001000 elapsed_time  10407.355886 \n"
     ]
    },
    {
     "name": "stderr",
     "output_type": "stream",
     "text": [
      "                                                                                                                                                                                                             \r"
     ]
    },
    {
     "name": "stdout",
     "output_type": "stream",
     "text": [
      "epoch     28 train/loss  0.130914 train/loss_grapheme  0.084692 train/loss_vowel  0.022870 train/loss_consonant  0.023352 train/acc_grapheme  0.976923 train/acc_vowel  0.993077 train/acc_consonant  0.992598 train/recall  0.984544 valid/loss  0.232773 valid/loss_grapheme  0.135206 valid/loss_vowel  0.048592 valid/loss_consonant  0.048976 valid/acc_grapheme  0.964882 valid/acc_vowel  0.989054 valid/acc_consonant  0.987617 valid/recall  0.974142 lr  0.001000 elapsed_time  10795.389117 \n"
     ]
    },
    {
     "name": "stderr",
     "output_type": "stream",
     "text": [
      "                                                                                                                                                                                                             \r"
     ]
    },
    {
     "name": "stdout",
     "output_type": "stream",
     "text": [
      "epoch     29 train/loss  0.125299 train/loss_grapheme  0.080688 train/loss_vowel  0.021448 train/loss_consonant  0.023164 train/acc_grapheme  0.977632 train/acc_vowel  0.993245 train/acc_consonant  0.992859 train/recall  0.985251 valid/loss  0.230832 valid/loss_grapheme  0.132569 valid/loss_vowel  0.049054 valid/loss_consonant  0.049208 valid/acc_grapheme  0.966480 valid/acc_vowel  0.988861 valid/acc_consonant  0.987374 valid/recall  0.974712 lr  0.001000 elapsed_time  11183.880779 \n"
     ]
    },
    {
     "name": "stderr",
     "output_type": "stream",
     "text": [
      "                                                                                                                                                                                                             \r"
     ]
    },
    {
     "name": "stdout",
     "output_type": "stream",
     "text": [
      "epoch     30 train/loss  0.124568 train/loss_grapheme  0.080068 train/loss_vowel  0.021911 train/loss_consonant  0.022589 train/acc_grapheme  0.977869 train/acc_vowel  0.993394 train/acc_consonant  0.992897 train/recall  0.985152 valid/loss  0.214724 valid/loss_grapheme  0.121249 valid/loss_vowel  0.047552 valid/loss_consonant  0.045923 valid/acc_grapheme  0.969236 valid/acc_vowel  0.989453 valid/acc_consonant  0.988742 valid/recall  0.976972 lr  0.001000 elapsed_time  11571.600008 \n"
     ]
    },
    {
     "name": "stderr",
     "output_type": "stream",
     "text": [
      "                                                                                                                                                                                                             \r"
     ]
    },
    {
     "name": "stdout",
     "output_type": "stream",
     "text": [
      "epoch     31 train/loss  0.124353 train/loss_grapheme  0.080249 train/loss_vowel  0.021529 train/loss_consonant  0.022575 train/acc_grapheme  0.977869 train/acc_vowel  0.993320 train/acc_consonant  0.992859 train/recall  0.985491 valid/loss  0.243430 valid/loss_grapheme  0.141392 valid/loss_vowel  0.053350 valid/loss_consonant  0.048688 valid/acc_grapheme  0.963912 valid/acc_vowel  0.987686 valid/acc_consonant  0.987183 valid/recall  0.971000 lr  0.001000 elapsed_time  11959.973752 \n"
     ]
    },
    {
     "name": "stderr",
     "output_type": "stream",
     "text": [
      "                                                                                                                                                                                                             \r"
     ]
    },
    {
     "name": "stdout",
     "output_type": "stream",
     "text": [
      "epoch     32 train/loss  0.122271 train/loss_grapheme  0.079196 train/loss_vowel  0.021593 train/loss_consonant  0.021482 train/acc_grapheme  0.978310 train/acc_vowel  0.993201 train/acc_consonant  0.993077 train/recall  0.985881 valid/loss  0.214606 valid/loss_grapheme  0.124766 valid/loss_vowel  0.046842 valid/loss_consonant  0.042998 valid/acc_grapheme  0.967644 valid/acc_vowel  0.989514 valid/acc_consonant  0.988729 valid/recall  0.975563 lr  0.001000 elapsed_time  12346.753258 \n"
     ]
    },
    {
     "name": "stderr",
     "output_type": "stream",
     "text": [
      "                                                                                                                                                                                                             \r"
     ]
    },
    {
     "name": "stdout",
     "output_type": "stream",
     "text": [
      "epoch     33 train/loss  0.115908 train/loss_grapheme  0.073841 train/loss_vowel  0.021126 train/loss_consonant  0.020941 train/acc_grapheme  0.979579 train/acc_vowel  0.993724 train/acc_consonant  0.993164 train/recall  0.986562 valid/loss  0.217858 valid/loss_grapheme  0.122070 valid/loss_vowel  0.048138 valid/loss_consonant  0.047650 valid/acc_grapheme  0.969280 valid/acc_vowel  0.988742 valid/acc_consonant  0.988350 valid/recall  0.975565 lr  0.001000 elapsed_time  12733.527186 \n"
     ]
    },
    {
     "name": "stderr",
     "output_type": "stream",
     "text": [
      "                                                                                                                                                                                                            \r"
     ]
    },
    {
     "name": "stdout",
     "output_type": "stream",
     "text": [
      "epoch     34 train/loss  0.114781 train/loss_grapheme  0.073772 train/loss_vowel  0.020381 train/loss_consonant  0.020628 train/acc_grapheme  0.979697 train/acc_vowel  0.993743 train/acc_consonant  0.993475 train/recall  0.986962 valid/loss  0.223995 valid/loss_grapheme  0.127863 valid/loss_vowel  0.047241 valid/loss_consonant  0.048891 valid/acc_grapheme  0.967295 valid/acc_vowel  0.989483 valid/acc_consonant  0.988369 valid/recall  0.975572 lr  0.001000 elapsed_time  13121.946598 \n"
     ]
    },
    {
     "name": "stderr",
     "output_type": "stream",
     "text": [
      "                                                                                                                                                                                                            \r"
     ]
    },
    {
     "name": "stdout",
     "output_type": "stream",
     "text": [
      "epoch     35 train/loss  0.112564 train/loss_grapheme  0.071806 train/loss_vowel  0.019498 train/loss_consonant  0.021260 train/acc_grapheme  0.980394 train/acc_vowel  0.994085 train/acc_consonant  0.993164 train/recall  0.986435 valid/loss  0.219485 valid/loss_grapheme  0.127075 valid/loss_vowel  0.045980 valid/loss_consonant  0.046430 valid/acc_grapheme  0.968185 valid/acc_vowel  0.990011 valid/acc_consonant  0.988718 valid/recall  0.976309 lr  0.001000 elapsed_time  13509.943645 \n"
     ]
    },
    {
     "name": "stderr",
     "output_type": "stream",
     "text": [
      "                                                                                                                                                                                                            \r"
     ]
    },
    {
     "name": "stdout",
     "output_type": "stream",
     "text": [
      "epoch     36 train/loss  0.107392 train/loss_grapheme  0.069517 train/loss_vowel  0.018629 train/loss_consonant  0.019246 train/acc_grapheme  0.980948 train/acc_vowel  0.994209 train/acc_consonant  0.993823 train/recall  0.987381 valid/loss  0.218186 valid/loss_grapheme  0.122312 valid/loss_vowel  0.046091 valid/loss_consonant  0.049783 valid/acc_grapheme  0.969385 valid/acc_vowel  0.989843 valid/acc_consonant  0.988300 valid/recall  0.976942 lr  0.001000 elapsed_time  13894.000277 \n"
     ]
    },
    {
     "name": "stderr",
     "output_type": "stream",
     "text": [
      "                                                                                                                                                                                                             \r"
     ]
    },
    {
     "name": "stdout",
     "output_type": "stream",
     "text": [
      "epoch     37 train/loss  0.085086 train/loss_grapheme  0.054621 train/loss_vowel  0.014893 train/loss_consonant  0.015572 train/acc_grapheme  0.984618 train/acc_vowel  0.995447 train/acc_consonant  0.995092 train/recall  0.989978 valid/loss  0.202321 valid/loss_grapheme  0.112399 valid/loss_vowel  0.044327 valid/loss_consonant  0.045595 valid/acc_grapheme  0.972769 valid/acc_vowel  0.989987 valid/acc_consonant  0.989221 valid/recall  0.978527 lr  0.000700 elapsed_time  14280.957194 \n"
     ]
    },
    {
     "name": "stderr",
     "output_type": "stream",
     "text": [
      "                                                                                                                                                                                                             \r"
     ]
    },
    {
     "name": "stdout",
     "output_type": "stream",
     "text": [
      "epoch     38 train/loss  0.079376 train/loss_grapheme  0.051000 train/loss_vowel  0.014120 train/loss_consonant  0.014256 train/acc_grapheme  0.985911 train/acc_vowel  0.995833 train/acc_consonant  0.995621 train/recall  0.991163 valid/loss  0.202942 valid/loss_grapheme  0.113474 valid/loss_vowel  0.044646 valid/loss_consonant  0.044821 valid/acc_grapheme  0.970997 valid/acc_vowel  0.990235 valid/acc_consonant  0.989165 valid/recall  0.979363 lr  0.000700 elapsed_time  14669.139646 \n"
     ]
    },
    {
     "name": "stderr",
     "output_type": "stream",
     "text": [
      "                                                                                                                                                                                                             \r"
     ]
    },
    {
     "name": "stdout",
     "output_type": "stream",
     "text": [
      "epoch     39 train/loss  0.077416 train/loss_grapheme  0.049900 train/loss_vowel  0.012813 train/loss_consonant  0.014702 train/acc_grapheme  0.986154 train/acc_vowel  0.996349 train/acc_consonant  0.995459 train/recall  0.991192 valid/loss  0.200266 valid/loss_grapheme  0.111437 valid/loss_vowel  0.043454 valid/loss_consonant  0.045376 valid/acc_grapheme  0.972570 valid/acc_vowel  0.990653 valid/acc_consonant  0.989072 valid/recall  0.980388 lr  0.000700 elapsed_time  15055.413543 \n"
     ]
    },
    {
     "name": "stderr",
     "output_type": "stream",
     "text": [
      "                                                                                                                                                                                                              \r"
     ]
    },
    {
     "name": "stdout",
     "output_type": "stream",
     "text": [
      "epoch     40 train/loss  0.078180 train/loss_grapheme  0.050444 train/loss_vowel  0.012433 train/loss_consonant  0.015302 train/acc_grapheme  0.985781 train/acc_vowel  0.996243 train/acc_consonant  0.995136 train/recall  0.990749 valid/loss  0.197058 valid/loss_grapheme  0.110671 valid/loss_vowel  0.042417 valid/loss_consonant  0.043970 valid/acc_grapheme  0.972495 valid/acc_vowel  0.991374 valid/acc_consonant  0.989196 valid/recall  0.980055 lr  0.000700 elapsed_time  15435.578672 \n"
     ]
    },
    {
     "name": "stderr",
     "output_type": "stream",
     "text": [
      "                                                                                                                                                                                                              \r"
     ]
    },
    {
     "name": "stdout",
     "output_type": "stream",
     "text": [
      "epoch     41 train/loss  0.076044 train/loss_grapheme  0.048566 train/loss_vowel  0.013178 train/loss_consonant  0.014301 train/acc_grapheme  0.986596 train/acc_vowel  0.996032 train/acc_consonant  0.995565 train/recall  0.991401 valid/loss  0.206213 valid/loss_grapheme  0.113393 valid/loss_vowel  0.046676 valid/loss_consonant  0.046143 valid/acc_grapheme  0.971357 valid/acc_vowel  0.990429 valid/acc_consonant  0.989215 valid/recall  0.979522 lr  0.000700 elapsed_time  15819.612987 \n"
     ]
    },
    {
     "name": "stderr",
     "output_type": "stream",
     "text": [
      "                                                                                                                                                                                                             \r"
     ]
    },
    {
     "name": "stdout",
     "output_type": "stream",
     "text": [
      "epoch     42 train/loss  0.075724 train/loss_grapheme  0.048338 train/loss_vowel  0.013058 train/loss_consonant  0.014328 train/acc_grapheme  0.986564 train/acc_vowel  0.996038 train/acc_consonant  0.995702 train/recall  0.991369 valid/loss  0.217528 valid/loss_grapheme  0.123265 valid/loss_vowel  0.046768 valid/loss_consonant  0.047495 valid/acc_grapheme  0.969504 valid/acc_vowel  0.990061 valid/acc_consonant  0.988649 valid/recall  0.975349 lr  0.000700 elapsed_time  16204.744676 \n"
     ]
    },
    {
     "name": "stderr",
     "output_type": "stream",
     "text": [
      "                                                                                                                                                                                                              \r"
     ]
    },
    {
     "name": "stdout",
     "output_type": "stream",
     "text": [
      "epoch     43 train/loss  0.072750 train/loss_grapheme  0.045237 train/loss_vowel  0.013062 train/loss_consonant  0.014451 train/acc_grapheme  0.987703 train/acc_vowel  0.995882 train/acc_consonant  0.995490 train/recall  0.991904 valid/loss  0.196176 valid/loss_grapheme  0.110250 valid/loss_vowel  0.043429 valid/loss_consonant  0.042498 valid/acc_grapheme  0.972371 valid/acc_vowel  0.990857 valid/acc_consonant  0.990067 valid/recall  0.980209 lr  0.000700 elapsed_time  16587.394661 \n"
     ]
    },
    {
     "name": "stderr",
     "output_type": "stream",
     "text": [
      "                                                                                                                                                                                                              \r"
     ]
    },
    {
     "name": "stdout",
     "output_type": "stream",
     "text": [
      "epoch     44 train/loss  0.071370 train/loss_grapheme  0.044984 train/loss_vowel  0.013181 train/loss_consonant  0.013206 train/acc_grapheme  0.987491 train/acc_vowel  0.996125 train/acc_consonant  0.995845 train/recall  0.991694 valid/loss  0.190829 valid/loss_grapheme  0.107834 valid/loss_vowel  0.042735 valid/loss_consonant  0.040260 valid/acc_grapheme  0.974088 valid/acc_vowel  0.990721 valid/acc_consonant  0.989981 valid/recall  0.979754 lr  0.000700 elapsed_time  16972.691470 \n"
     ]
    },
    {
     "name": "stderr",
     "output_type": "stream",
     "text": [
      "                                                                                                                                                                                                             \r"
     ]
    },
    {
     "name": "stdout",
     "output_type": "stream",
     "text": [
      "epoch     45 train/loss  0.072334 train/loss_grapheme  0.045721 train/loss_vowel  0.012977 train/loss_consonant  0.013636 train/acc_grapheme  0.987199 train/acc_vowel  0.996019 train/acc_consonant  0.995640 train/recall  0.991257 valid/loss  0.205597 valid/loss_grapheme  0.115771 valid/loss_vowel  0.044799 valid/loss_consonant  0.045026 valid/acc_grapheme  0.971251 valid/acc_vowel  0.990423 valid/acc_consonant  0.989743 valid/recall  0.978331 lr  0.000700 elapsed_time  17361.086565 \n"
     ]
    },
    {
     "name": "stderr",
     "output_type": "stream",
     "text": [
      "                                                                                                                                                                                                             \r"
     ]
    },
    {
     "name": "stdout",
     "output_type": "stream",
     "text": [
      "epoch     46 train/loss  0.055894 train/loss_grapheme  0.035925 train/loss_vowel  0.009270 train/loss_consonant  0.010699 train/acc_grapheme  0.989973 train/acc_vowel  0.997356 train/acc_consonant  0.996691 train/recall  0.993640 valid/loss  0.184791 valid/loss_grapheme  0.103518 valid/loss_vowel  0.041381 valid/loss_consonant  0.039892 valid/acc_grapheme  0.974853 valid/acc_vowel  0.991076 valid/acc_consonant  0.991112 valid/recall  0.980817 lr  0.000490 elapsed_time  17751.588007 \n"
     ]
    },
    {
     "name": "stderr",
     "output_type": "stream",
     "text": [
      "                                                                                                                                                                                                              \r"
     ]
    },
    {
     "name": "stdout",
     "output_type": "stream",
     "text": [
      "epoch     47 train/loss  0.056197 train/loss_grapheme  0.036446 train/loss_vowel  0.009560 train/loss_consonant  0.010191 train/acc_grapheme  0.989718 train/acc_vowel  0.997263 train/acc_consonant  0.996840 train/recall  0.993521 valid/loss  0.187555 valid/loss_grapheme  0.105953 valid/loss_vowel  0.040504 valid/loss_consonant  0.041098 valid/acc_grapheme  0.973864 valid/acc_vowel  0.991604 valid/acc_consonant  0.989973 valid/recall  0.979996 lr  0.000490 elapsed_time  18138.205625 \n"
     ]
    },
    {
     "name": "stderr",
     "output_type": "stream",
     "text": [
      "                                                                                                                                                                                                              \r"
     ]
    },
    {
     "name": "stdout",
     "output_type": "stream",
     "text": [
      "epoch     48 train/loss  0.053209 train/loss_grapheme  0.033257 train/loss_vowel  0.009692 train/loss_consonant  0.010260 train/acc_grapheme  0.990813 train/acc_vowel  0.997195 train/acc_consonant  0.996940 train/recall  0.994121 valid/loss  0.192258 valid/loss_grapheme  0.110437 valid/loss_vowel  0.041403 valid/loss_consonant  0.040419 valid/acc_grapheme  0.973391 valid/acc_vowel  0.991380 valid/acc_consonant  0.991032 valid/recall  0.980059 lr  0.000490 elapsed_time  18526.447472 \n"
     ]
    },
    {
     "name": "stderr",
     "output_type": "stream",
     "text": [
      "                                                                                                                                                                                                               \r"
     ]
    },
    {
     "name": "stdout",
     "output_type": "stream",
     "text": [
      "epoch     49 train/loss  0.051550 train/loss_grapheme  0.033456 train/loss_vowel  0.008217 train/loss_consonant  0.009877 train/acc_grapheme  0.990489 train/acc_vowel  0.997493 train/acc_consonant  0.996965 train/recall  0.993843 valid/loss  0.189396 valid/loss_grapheme  0.106292 valid/loss_vowel  0.042014 valid/loss_consonant  0.041090 valid/acc_grapheme  0.974834 valid/acc_vowel  0.991001 valid/acc_consonant  0.991430 valid/recall  0.981170 lr  0.000490 elapsed_time  18915.236414 \n"
     ]
    },
    {
     "name": "stderr",
     "output_type": "stream",
     "text": [
      "                                                                                                                                                                                                               \r"
     ]
    },
    {
     "name": "stdout",
     "output_type": "stream",
     "text": [
      "epoch     50 train/loss  0.053488 train/loss_grapheme  0.033562 train/loss_vowel  0.009015 train/loss_consonant  0.010911 train/acc_grapheme  0.990583 train/acc_vowel  0.997257 train/acc_consonant  0.996529 train/recall  0.993840 valid/loss  0.186723 valid/loss_grapheme  0.104803 valid/loss_vowel  0.041829 valid/loss_consonant  0.040092 valid/acc_grapheme  0.974492 valid/acc_vowel  0.991803 valid/acc_consonant  0.990739 valid/recall  0.981375 lr  0.000490 elapsed_time  19303.077243 \n"
     ]
    },
    {
     "name": "stderr",
     "output_type": "stream",
     "text": [
      "                                                                                                                                                                                                               \r"
     ]
    },
    {
     "name": "stdout",
     "output_type": "stream",
     "text": [
      "epoch     51 train/loss  0.051726 train/loss_grapheme  0.032759 train/loss_vowel  0.009050 train/loss_consonant  0.009917 train/acc_grapheme  0.990776 train/acc_vowel  0.997232 train/acc_consonant  0.996834 train/recall  0.993817 valid/loss  0.186998 valid/loss_grapheme  0.106067 valid/loss_vowel  0.040896 valid/loss_consonant  0.040036 valid/acc_grapheme  0.975207 valid/acc_vowel  0.991485 valid/acc_consonant  0.990869 valid/recall  0.981480 lr  0.000490 elapsed_time  19688.357588 \n"
     ]
    },
    {
     "name": "stderr",
     "output_type": "stream",
     "text": [
      "                                                                                                                                                                                                                \r"
     ]
    },
    {
     "name": "stdout",
     "output_type": "stream",
     "text": [
      "epoch     52 train/loss  0.050879 train/loss_grapheme  0.032705 train/loss_vowel  0.008306 train/loss_consonant  0.009868 train/acc_grapheme  0.990887 train/acc_vowel  0.997593 train/acc_consonant  0.997027 train/recall  0.994335 valid/loss  0.195485 valid/loss_grapheme  0.110192 valid/loss_vowel  0.045605 valid/loss_consonant  0.039688 valid/acc_grapheme  0.973646 valid/acc_vowel  0.990932 valid/acc_consonant  0.990614 valid/recall  0.982365 lr  0.000490 elapsed_time  20076.605856 \n"
     ]
    },
    {
     "name": "stderr",
     "output_type": "stream",
     "text": [
      "                                                                                                                                                                                                                \r"
     ]
    },
    {
     "name": "stdout",
     "output_type": "stream",
     "text": [
      "epoch     53 train/loss  0.050173 train/loss_grapheme  0.032038 train/loss_vowel  0.008679 train/loss_consonant  0.009456 train/acc_grapheme  0.991080 train/acc_vowel  0.997406 train/acc_consonant  0.997108 train/recall  0.994322 valid/loss  0.188818 valid/loss_grapheme  0.104731 valid/loss_vowel  0.042795 valid/loss_consonant  0.041292 valid/acc_grapheme  0.974430 valid/acc_vowel  0.991698 valid/acc_consonant  0.989981 valid/recall  0.981521 lr  0.000490 elapsed_time  20465.238179 \n"
     ]
    },
    {
     "name": "stderr",
     "output_type": "stream",
     "text": [
      "                                                                                                                                                                                                               \r"
     ]
    },
    {
     "name": "stdout",
     "output_type": "stream",
     "text": [
      "epoch     54 train/loss  0.048871 train/loss_grapheme  0.031079 train/loss_vowel  0.008553 train/loss_consonant  0.009238 train/acc_grapheme  0.991254 train/acc_vowel  0.997450 train/acc_consonant  0.997201 train/recall  0.994374 valid/loss  0.189195 valid/loss_grapheme  0.105119 valid/loss_vowel  0.044296 valid/loss_consonant  0.039781 valid/acc_grapheme  0.974953 valid/acc_vowel  0.991460 valid/acc_consonant  0.990993 valid/recall  0.982095 lr  0.000490 elapsed_time  20852.298857 \n"
     ]
    },
    {
     "name": "stderr",
     "output_type": "stream",
     "text": [
      "                                                                                                                                                                                                                \r"
     ]
    },
    {
     "name": "stdout",
     "output_type": "stream",
     "text": [
      "epoch     55 train/loss  0.047482 train/loss_grapheme  0.030354 train/loss_vowel  0.008298 train/loss_consonant  0.008829 train/acc_grapheme  0.991466 train/acc_vowel  0.997468 train/acc_consonant  0.997294 train/recall  0.994490 valid/loss  0.190093 valid/loss_grapheme  0.103891 valid/loss_vowel  0.044782 valid/loss_consonant  0.041419 valid/acc_grapheme  0.974381 valid/acc_vowel  0.991977 valid/acc_consonant  0.990341 valid/recall  0.981463 lr  0.000490 elapsed_time  21240.673210 \n"
     ]
    },
    {
     "name": "stderr",
     "output_type": "stream",
     "text": [
      "                                                                                                                                                                                                               \r"
     ]
    },
    {
     "name": "stdout",
     "output_type": "stream",
     "text": [
      "epoch     56 train/loss  0.047408 train/loss_grapheme  0.029901 train/loss_vowel  0.008196 train/loss_consonant  0.009311 train/acc_grapheme  0.991677 train/acc_vowel  0.997475 train/acc_consonant  0.997008 train/recall  0.994667 valid/loss  0.191928 valid/loss_grapheme  0.105968 valid/loss_vowel  0.044178 valid/loss_consonant  0.041782 valid/acc_grapheme  0.974660 valid/acc_vowel  0.991523 valid/acc_consonant  0.990329 valid/recall  0.981328 lr  0.000490 elapsed_time  21627.515531 \n"
     ]
    },
    {
     "name": "stderr",
     "output_type": "stream",
     "text": [
      "                                                                                                                                                                                                               \r"
     ]
    },
    {
     "name": "stdout",
     "output_type": "stream",
     "text": [
      "epoch     57 train/loss  0.046858 train/loss_grapheme  0.029448 train/loss_vowel  0.007974 train/loss_consonant  0.009436 train/acc_grapheme  0.991634 train/acc_vowel  0.997711 train/acc_consonant  0.997108 train/recall  0.994761 valid/loss  0.194326 valid/loss_grapheme  0.108027 valid/loss_vowel  0.045045 valid/loss_consonant  0.041255 valid/acc_grapheme  0.973709 valid/acc_vowel  0.991280 valid/acc_consonant  0.990434 valid/recall  0.980156 lr  0.000490 elapsed_time  22012.762983 \n"
     ]
    },
    {
     "name": "stderr",
     "output_type": "stream",
     "text": [
      "                                                                                                                                                                                                                \r"
     ]
    },
    {
     "name": "stdout",
     "output_type": "stream",
     "text": [
      "epoch     58 train/loss  0.047873 train/loss_grapheme  0.030251 train/loss_vowel  0.008060 train/loss_consonant  0.009561 train/acc_grapheme  0.991696 train/acc_vowel  0.997605 train/acc_consonant  0.997064 train/recall  0.994223 valid/loss  0.183869 valid/loss_grapheme  0.101579 valid/loss_vowel  0.043660 valid/loss_consonant  0.038630 valid/acc_grapheme  0.975575 valid/acc_vowel  0.991734 valid/acc_consonant  0.991112 valid/recall  0.981683 lr  0.000490 elapsed_time  22400.368437 \n"
     ]
    },
    {
     "name": "stderr",
     "output_type": "stream",
     "text": [
      "                                                                                                                                                                                                                \r"
     ]
    },
    {
     "name": "stdout",
     "output_type": "stream",
     "text": [
      "epoch     59 train/loss  0.039286 train/loss_grapheme  0.024689 train/loss_vowel  0.007125 train/loss_consonant  0.007472 train/acc_grapheme  0.993089 train/acc_vowel  0.997922 train/acc_consonant  0.997686 train/recall  0.995702 valid/loss  0.179232 valid/loss_grapheme  0.099567 valid/loss_vowel  0.042651 valid/loss_consonant  0.037014 valid/acc_grapheme  0.976103 valid/acc_vowel  0.991927 valid/acc_consonant  0.991728 valid/recall  0.982187 lr  0.000343 elapsed_time  22787.680078 \n"
     ]
    },
    {
     "name": "stderr",
     "output_type": "stream",
     "text": [
      "                                                                                                                                                                                                                \r"
     ]
    },
    {
     "name": "stdout",
     "output_type": "stream",
     "text": [
      "epoch     60 train/loss  0.037673 train/loss_grapheme  0.023878 train/loss_vowel  0.006560 train/loss_consonant  0.007235 train/acc_grapheme  0.993195 train/acc_vowel  0.998003 train/acc_consonant  0.997910 train/recall  0.995650 valid/loss  0.181210 valid/loss_grapheme  0.102188 valid/loss_vowel  0.041204 valid/loss_consonant  0.037818 valid/acc_grapheme  0.976147 valid/acc_vowel  0.992157 valid/acc_consonant  0.991342 valid/recall  0.982567 lr  0.000343 elapsed_time  23176.386074 \n"
     ]
    },
    {
     "name": "stderr",
     "output_type": "stream",
     "text": [
      "                                                                                                                                                                                                                \r"
     ]
    },
    {
     "name": "stdout",
     "output_type": "stream",
     "text": [
      "epoch     61 train/loss  0.037987 train/loss_grapheme  0.023321 train/loss_vowel  0.007009 train/loss_consonant  0.007657 train/acc_grapheme  0.993083 train/acc_vowel  0.997898 train/acc_consonant  0.997555 train/recall  0.995563 valid/loss  0.181060 valid/loss_grapheme  0.098283 valid/loss_vowel  0.043329 valid/loss_consonant  0.039449 valid/acc_grapheme  0.977098 valid/acc_vowel  0.991883 valid/acc_consonant  0.990819 valid/recall  0.982782 lr  0.000343 elapsed_time  23561.580731 \n"
     ]
    },
    {
     "name": "stderr",
     "output_type": "stream",
     "text": [
      "                                                                                                                                                                                                               \r"
     ]
    },
    {
     "name": "stdout",
     "output_type": "stream",
     "text": [
      "epoch     62 train/loss  0.035796 train/loss_grapheme  0.023167 train/loss_vowel  0.005745 train/loss_consonant  0.006884 train/acc_grapheme  0.993432 train/acc_vowel  0.998271 train/acc_consonant  0.997885 train/recall  0.996120 valid/loss  0.179672 valid/loss_grapheme  0.098100 valid/loss_vowel  0.042227 valid/loss_consonant  0.039345 valid/acc_grapheme  0.977317 valid/acc_vowel  0.992057 valid/acc_consonant  0.990963 valid/recall  0.983250 lr  0.000343 elapsed_time  23946.021260 \n"
     ]
    },
    {
     "name": "stderr",
     "output_type": "stream",
     "text": [
      "                                                                                                                                                                                                                \r"
     ]
    },
    {
     "name": "stdout",
     "output_type": "stream",
     "text": [
      "epoch     63 train/loss  0.036299 train/loss_grapheme  0.022664 train/loss_vowel  0.006556 train/loss_consonant  0.007078 train/acc_grapheme  0.993562 train/acc_vowel  0.998159 train/acc_consonant  0.997835 train/recall  0.995852 valid/loss  0.181138 valid/loss_grapheme  0.097953 valid/loss_vowel  0.042398 valid/loss_consonant  0.040787 valid/acc_grapheme  0.976719 valid/acc_vowel  0.991797 valid/acc_consonant  0.991131 valid/recall  0.983477 lr  0.000343 elapsed_time  24333.739350 \n"
     ]
    },
    {
     "name": "stderr",
     "output_type": "stream",
     "text": [
      "                                                                                                                                                                                                                \r"
     ]
    },
    {
     "name": "stdout",
     "output_type": "stream",
     "text": [
      "epoch     64 train/loss  0.035366 train/loss_grapheme  0.022077 train/loss_vowel  0.005937 train/loss_consonant  0.007352 train/acc_grapheme  0.993935 train/acc_vowel  0.998252 train/acc_consonant  0.997817 train/recall  0.996251 valid/loss  0.181089 valid/loss_grapheme  0.098428 valid/loss_vowel  0.043216 valid/loss_consonant  0.039445 valid/acc_grapheme  0.976178 valid/acc_vowel  0.991766 valid/acc_consonant  0.991056 valid/recall  0.982874 lr  0.000343 elapsed_time  24717.758675 \n"
     ]
    },
    {
     "name": "stderr",
     "output_type": "stream",
     "text": [
      "                                                                                                                                                                                                                \r"
     ]
    },
    {
     "name": "stdout",
     "output_type": "stream",
     "text": [
      "epoch     65 train/loss  0.037180 train/loss_grapheme  0.023177 train/loss_vowel  0.006538 train/loss_consonant  0.007465 train/acc_grapheme  0.993245 train/acc_vowel  0.998034 train/acc_consonant  0.997767 train/recall  0.995944 valid/loss  0.180147 valid/loss_grapheme  0.099115 valid/loss_vowel  0.041930 valid/loss_consonant  0.039102 valid/acc_grapheme  0.976476 valid/acc_vowel  0.991753 valid/acc_consonant  0.991187 valid/recall  0.983189 lr  0.000343 elapsed_time  25103.787762 \n"
     ]
    },
    {
     "name": "stderr",
     "output_type": "stream",
     "text": [
      "                                                                                                                                                                                                                \r"
     ]
    },
    {
     "name": "stdout",
     "output_type": "stream",
     "text": [
      "epoch     66 train/loss  0.035625 train/loss_grapheme  0.022271 train/loss_vowel  0.006088 train/loss_consonant  0.007266 train/acc_grapheme  0.993836 train/acc_vowel  0.998146 train/acc_consonant  0.997817 train/recall  0.995931 valid/loss  0.184372 valid/loss_grapheme  0.100012 valid/loss_vowel  0.043182 valid/loss_consonant  0.041179 valid/acc_grapheme  0.975755 valid/acc_vowel  0.991927 valid/acc_consonant  0.990683 valid/recall  0.983183 lr  0.000343 elapsed_time  25491.987489 \n"
     ]
    },
    {
     "name": "stderr",
     "output_type": "stream",
     "text": [
      "                                                                                                                                                                                                                \r"
     ]
    },
    {
     "name": "stdout",
     "output_type": "stream",
     "text": [
      "epoch     67 train/loss  0.035385 train/loss_grapheme  0.022485 train/loss_vowel  0.005960 train/loss_consonant  0.006940 train/acc_grapheme  0.993481 train/acc_vowel  0.998140 train/acc_consonant  0.998022 train/recall  0.995791 valid/loss  0.182098 valid/loss_grapheme  0.099833 valid/loss_vowel  0.041740 valid/loss_consonant  0.040526 valid/acc_grapheme  0.976004 valid/acc_vowel  0.992126 valid/acc_consonant  0.991007 valid/recall  0.983184 lr  0.000343 elapsed_time  25878.180258 \n"
     ]
    },
    {
     "name": "stderr",
     "output_type": "stream",
     "text": [
      "                                                                                                                                                                                                                \r"
     ]
    },
    {
     "name": "stdout",
     "output_type": "stream",
     "text": [
      "epoch     68 train/loss  0.035695 train/loss_grapheme  0.022381 train/loss_vowel  0.006092 train/loss_consonant  0.007222 train/acc_grapheme  0.993867 train/acc_vowel  0.998184 train/acc_consonant  0.997723 train/recall  0.996140 valid/loss  0.182188 valid/loss_grapheme  0.098184 valid/loss_vowel  0.041054 valid/loss_consonant  0.042950 valid/acc_grapheme  0.977192 valid/acc_vowel  0.992027 valid/acc_consonant  0.990360 valid/recall  0.983508 lr  0.000343 elapsed_time  26265.283264 \n"
     ]
    },
    {
     "name": "stderr",
     "output_type": "stream",
     "text": [
      "                                                                                                                                                                                                                \r"
     ]
    },
    {
     "name": "stdout",
     "output_type": "stream",
     "text": [
      "epoch     69 train/loss  0.032343 train/loss_grapheme  0.020236 train/loss_vowel  0.005667 train/loss_consonant  0.006440 train/acc_grapheme  0.994358 train/acc_vowel  0.998358 train/acc_consonant  0.998097 train/recall  0.996266 valid/loss  0.185214 valid/loss_grapheme  0.101261 valid/loss_vowel  0.042606 valid/loss_consonant  0.041347 valid/acc_grapheme  0.975960 valid/acc_vowel  0.992157 valid/acc_consonant  0.990739 valid/recall  0.982243 lr  0.000343 elapsed_time  26652.098388 \n"
     ]
    },
    {
     "name": "stderr",
     "output_type": "stream",
     "text": [
      "                                                                                                                                                                                                                \r"
     ]
    },
    {
     "name": "stdout",
     "output_type": "stream",
     "text": [
      "epoch     70 train/loss  0.030069 train/loss_grapheme  0.018655 train/loss_vowel  0.005566 train/loss_consonant  0.005848 train/acc_grapheme  0.994700 train/acc_vowel  0.998414 train/acc_consonant  0.998177 train/recall  0.996606 valid/loss  0.178448 valid/loss_grapheme  0.097441 valid/loss_vowel  0.041328 valid/loss_consonant  0.039678 valid/acc_grapheme  0.976775 valid/acc_vowel  0.991883 valid/acc_consonant  0.991366 valid/recall  0.983139 lr  0.000240 elapsed_time  27037.497407 \n"
     ]
    },
    {
     "name": "stderr",
     "output_type": "stream",
     "text": [
      "                                                                                                                                                                                                                \r"
     ]
    },
    {
     "name": "stdout",
     "output_type": "stream",
     "text": [
      "epoch     71 train/loss  0.028374 train/loss_grapheme  0.017654 train/loss_vowel  0.005155 train/loss_consonant  0.005565 train/acc_grapheme  0.995117 train/acc_vowel  0.998389 train/acc_consonant  0.998196 train/recall  0.996855 valid/loss  0.184131 valid/loss_grapheme  0.100578 valid/loss_vowel  0.041838 valid/loss_consonant  0.041716 valid/acc_grapheme  0.976781 valid/acc_vowel  0.992182 valid/acc_consonant  0.990888 valid/recall  0.983268 lr  0.000240 elapsed_time  27425.738034 \n"
     ]
    },
    {
     "name": "stderr",
     "output_type": "stream",
     "text": [
      "                                                                                                                                                                                                                \r"
     ]
    },
    {
     "name": "stdout",
     "output_type": "stream",
     "text": [
      "epoch     72 train/loss  0.027290 train/loss_grapheme  0.017197 train/loss_vowel  0.004782 train/loss_consonant  0.005311 train/acc_grapheme  0.995391 train/acc_vowel  0.998551 train/acc_consonant  0.998389 train/recall  0.997015 valid/loss  0.180706 valid/loss_grapheme  0.099157 valid/loss_vowel  0.043059 valid/loss_consonant  0.038490 valid/acc_grapheme  0.976706 valid/acc_vowel  0.992002 valid/acc_consonant  0.991541 valid/recall  0.983647 lr  0.000240 elapsed_time  27814.683856 \n"
     ]
    },
    {
     "name": "stderr",
     "output_type": "stream",
     "text": [
      "                                                                                                                                                                                                                \r"
     ]
    },
    {
     "name": "stdout",
     "output_type": "stream",
     "text": [
      "epoch     73 train/loss  0.027543 train/loss_grapheme  0.016441 train/loss_vowel  0.005273 train/loss_consonant  0.005829 train/acc_grapheme  0.995279 train/acc_vowel  0.998327 train/acc_consonant  0.998196 train/recall  0.996805 valid/loss  0.173746 valid/loss_grapheme  0.095057 valid/loss_vowel  0.040135 valid/loss_consonant  0.038554 valid/acc_grapheme  0.977776 valid/acc_vowel  0.992207 valid/acc_consonant  0.991466 valid/recall  0.985012 lr  0.000240 elapsed_time  28203.364406 \n"
     ]
    },
    {
     "name": "stderr",
     "output_type": "stream",
     "text": [
      "                                                                                                                                                                                                                \r"
     ]
    },
    {
     "name": "stdout",
     "output_type": "stream",
     "text": [
      "epoch     74 train/loss  0.026612 train/loss_grapheme  0.016772 train/loss_vowel  0.004287 train/loss_consonant  0.005553 train/acc_grapheme  0.995210 train/acc_vowel  0.998700 train/acc_consonant  0.998289 train/recall  0.996805 valid/loss  0.176668 valid/loss_grapheme  0.097584 valid/loss_vowel  0.041603 valid/loss_consonant  0.037481 valid/acc_grapheme  0.977696 valid/acc_vowel  0.991908 valid/acc_consonant  0.991460 valid/recall  0.984121 lr  0.000240 elapsed_time  28590.420028 \n"
     ]
    },
    {
     "name": "stderr",
     "output_type": "stream",
     "text": [
      "                                                                                                                                                                                                                \r"
     ]
    },
    {
     "name": "stdout",
     "output_type": "stream",
     "text": [
      "epoch     75 train/loss  0.026054 train/loss_grapheme  0.016530 train/loss_vowel  0.004470 train/loss_consonant  0.005054 train/acc_grapheme  0.995223 train/acc_vowel  0.998712 train/acc_consonant  0.998383 train/recall  0.997183 valid/loss  0.183160 valid/loss_grapheme  0.102027 valid/loss_vowel  0.042425 valid/loss_consonant  0.038708 valid/acc_grapheme  0.976725 valid/acc_vowel  0.992232 valid/acc_consonant  0.991261 valid/recall  0.983924 lr  0.000240 elapsed_time  28978.213071 \n"
     ]
    },
    {
     "name": "stderr",
     "output_type": "stream",
     "text": [
      "                                                                                                                                                                                                                \r"
     ]
    },
    {
     "name": "stdout",
     "output_type": "stream",
     "text": [
      "epoch     76 train/loss  0.027155 train/loss_grapheme  0.016531 train/loss_vowel  0.004774 train/loss_consonant  0.005849 train/acc_grapheme  0.995242 train/acc_vowel  0.998576 train/acc_consonant  0.998333 train/recall  0.996925 valid/loss  0.176908 valid/loss_grapheme  0.098107 valid/loss_vowel  0.040793 valid/loss_consonant  0.038008 valid/acc_grapheme  0.977726 valid/acc_vowel  0.992207 valid/acc_consonant  0.991292 valid/recall  0.984581 lr  0.000240 elapsed_time  29366.587579 \n"
     ]
    },
    {
     "name": "stderr",
     "output_type": "stream",
     "text": [
      "                                                                                                                                                                                                                \r"
     ]
    },
    {
     "name": "stdout",
     "output_type": "stream",
     "text": [
      "epoch     77 train/loss  0.026204 train/loss_grapheme  0.016692 train/loss_vowel  0.004361 train/loss_consonant  0.005151 train/acc_grapheme  0.995354 train/acc_vowel  0.998688 train/acc_consonant  0.998389 train/recall  0.997113 valid/loss  0.175500 valid/loss_grapheme  0.096742 valid/loss_vowel  0.041368 valid/loss_consonant  0.037390 valid/acc_grapheme  0.977502 valid/acc_vowel  0.992289 valid/acc_consonant  0.991380 valid/recall  0.983990 lr  0.000240 elapsed_time  29754.901114 \n"
     ]
    },
    {
     "name": "stderr",
     "output_type": "stream",
     "text": [
      "                                                                                                                                                                                                                \r"
     ]
    },
    {
     "name": "stdout",
     "output_type": "stream",
     "text": [
      "epoch     78 train/loss  0.027143 train/loss_grapheme  0.016920 train/loss_vowel  0.005092 train/loss_consonant  0.005131 train/acc_grapheme  0.995217 train/acc_vowel  0.998563 train/acc_consonant  0.998501 train/recall  0.996921 valid/loss  0.184883 valid/loss_grapheme  0.103038 valid/loss_vowel  0.042828 valid/loss_consonant  0.039017 valid/acc_grapheme  0.976178 valid/acc_vowel  0.991778 valid/acc_consonant  0.991051 valid/recall  0.982782 lr  0.000240 elapsed_time  30140.156652 \n"
     ]
    },
    {
     "name": "stderr",
     "output_type": "stream",
     "text": [
      "                                                                                                                                                                                                                \r"
     ]
    },
    {
     "name": "stdout",
     "output_type": "stream",
     "text": [
      "epoch     79 train/loss  0.026467 train/loss_grapheme  0.016686 train/loss_vowel  0.004658 train/loss_consonant  0.005123 train/acc_grapheme  0.995372 train/acc_vowel  0.998613 train/acc_consonant  0.998439 train/recall  0.997062 valid/loss  0.181139 valid/loss_grapheme  0.101002 valid/loss_vowel  0.042730 valid/loss_consonant  0.037406 valid/acc_grapheme  0.976159 valid/acc_vowel  0.992052 valid/acc_consonant  0.991778 valid/recall  0.982836 lr  0.000240 elapsed_time  30528.969631 \n"
     ]
    },
    {
     "name": "stderr",
     "output_type": "stream",
     "text": [
      "                                                                                                                                                                                                                \r"
     ]
    },
    {
     "name": "stdout",
     "output_type": "stream",
     "text": [
      "epoch     80 train/loss  0.022997 train/loss_grapheme  0.014275 train/loss_vowel  0.003994 train/loss_consonant  0.004728 train/acc_grapheme  0.995951 train/acc_vowel  0.998787 train/acc_consonant  0.998594 train/recall  0.997461 valid/loss  0.173554 valid/loss_grapheme  0.094907 valid/loss_vowel  0.041339 valid/loss_consonant  0.037309 valid/acc_grapheme  0.978124 valid/acc_vowel  0.992021 valid/acc_consonant  0.991523 valid/recall  0.985358 lr  0.000168 elapsed_time  30917.279711 \n"
     ]
    },
    {
     "name": "stderr",
     "output_type": "stream",
     "text": [
      "                                                                                                                                                                                                               \r"
     ]
    },
    {
     "name": "stdout",
     "output_type": "stream",
     "text": [
      "epoch     81 train/loss  0.022020 train/loss_grapheme  0.013725 train/loss_vowel  0.003859 train/loss_consonant  0.004436 train/acc_grapheme  0.996125 train/acc_vowel  0.998930 train/acc_consonant  0.998650 train/recall  0.997524 valid/loss  0.178114 valid/loss_grapheme  0.096643 valid/loss_vowel  0.042528 valid/loss_consonant  0.038943 valid/acc_grapheme  0.977751 valid/acc_vowel  0.992165 valid/acc_consonant  0.991275 valid/recall  0.984151 lr  0.000168 elapsed_time  31306.228689 \n"
     ]
    },
    {
     "name": "stderr",
     "output_type": "stream",
     "text": [
      "                                                                                                                                                                                                               \r"
     ]
    },
    {
     "name": "stdout",
     "output_type": "stream",
     "text": [
      "epoch     82 train/loss  0.020257 train/loss_grapheme  0.012946 train/loss_vowel  0.003245 train/loss_consonant  0.004066 train/acc_grapheme  0.996336 train/acc_vowel  0.998992 train/acc_consonant  0.998731 train/recall  0.997741 valid/loss  0.180697 valid/loss_grapheme  0.096809 valid/loss_vowel  0.044029 valid/loss_consonant  0.039859 valid/acc_grapheme  0.977328 valid/acc_vowel  0.992444 valid/acc_consonant  0.991623 valid/recall  0.984489 lr  0.000168 elapsed_time  31696.741478 \n"
     ]
    },
    {
     "name": "stderr",
     "output_type": "stream",
     "text": [
      "                                                                                                                                                                                                                \r"
     ]
    },
    {
     "name": "stdout",
     "output_type": "stream",
     "text": [
      "epoch     83 train/loss  0.020823 train/loss_grapheme  0.012773 train/loss_vowel  0.003611 train/loss_consonant  0.004440 train/acc_grapheme  0.996374 train/acc_vowel  0.998936 train/acc_consonant  0.998563 train/recall  0.997487 valid/loss  0.177254 valid/loss_grapheme  0.096182 valid/loss_vowel  0.042401 valid/loss_consonant  0.038671 valid/acc_grapheme  0.977627 valid/acc_vowel  0.992549 valid/acc_consonant  0.991554 valid/recall  0.984180 lr  0.000168 elapsed_time  32087.356346 \n"
     ]
    },
    {
     "name": "stderr",
     "output_type": "stream",
     "text": [
      "                                                                                                                                                                                                                \r"
     ]
    },
    {
     "name": "stdout",
     "output_type": "stream",
     "text": [
      "epoch     84 train/loss  0.020272 train/loss_grapheme  0.012410 train/loss_vowel  0.003712 train/loss_consonant  0.004149 train/acc_grapheme  0.996237 train/acc_vowel  0.998849 train/acc_consonant  0.998806 train/recall  0.997622 valid/loss  0.177698 valid/loss_grapheme  0.096948 valid/loss_vowel  0.042578 valid/loss_consonant  0.038172 valid/acc_grapheme  0.977372 valid/acc_vowel  0.992668 valid/acc_consonant  0.991778 valid/recall  0.983897 lr  0.000168 elapsed_time  32471.172301 \n"
     ]
    },
    {
     "name": "stderr",
     "output_type": "stream",
     "text": [
      "                                                                                                                                                                                                                \r"
     ]
    },
    {
     "name": "stdout",
     "output_type": "stream",
     "text": [
      "epoch     85 train/loss  0.020412 train/loss_grapheme  0.012511 train/loss_vowel  0.003281 train/loss_consonant  0.004620 train/acc_grapheme  0.996299 train/acc_vowel  0.998992 train/acc_consonant  0.998619 train/recall  0.997491 valid/loss  0.176996 valid/loss_grapheme  0.097592 valid/loss_vowel  0.041455 valid/loss_consonant  0.037949 valid/acc_grapheme  0.977397 valid/acc_vowel  0.992637 valid/acc_consonant  0.991598 valid/recall  0.983978 lr  0.000168 elapsed_time  32854.776783 \n"
     ]
    },
    {
     "name": "stderr",
     "output_type": "stream",
     "text": [
      "                                                                                                                                                                                                                \r"
     ]
    },
    {
     "name": "stdout",
     "output_type": "stream",
     "text": [
      "epoch     86 train/loss  0.019445 train/loss_grapheme  0.011826 train/loss_vowel  0.003337 train/loss_consonant  0.004283 train/acc_grapheme  0.996548 train/acc_vowel  0.998874 train/acc_consonant  0.998650 train/recall  0.997919 valid/loss  0.182525 valid/loss_grapheme  0.100513 valid/loss_vowel  0.043164 valid/loss_consonant  0.038847 valid/acc_grapheme  0.977148 valid/acc_vowel  0.992823 valid/acc_consonant  0.991485 valid/recall  0.983543 lr  0.000168 elapsed_time  33238.019128 \n"
     ]
    },
    {
     "name": "stderr",
     "output_type": "stream",
     "text": [
      "                                                                                                                                                                                                                \r"
     ]
    },
    {
     "name": "stdout",
     "output_type": "stream",
     "text": [
      "epoch     87 train/loss  0.018560 train/loss_grapheme  0.011281 train/loss_vowel  0.003427 train/loss_consonant  0.003852 train/acc_grapheme  0.996940 train/acc_vowel  0.998974 train/acc_consonant  0.998806 train/recall  0.998103 valid/loss  0.178534 valid/loss_grapheme  0.098148 valid/loss_vowel  0.042321 valid/loss_consonant  0.038065 valid/acc_grapheme  0.977851 valid/acc_vowel  0.992513 valid/acc_consonant  0.991883 valid/recall  0.984422 lr  0.000118 elapsed_time  33621.586025 \n"
     ]
    },
    {
     "name": "stderr",
     "output_type": "stream",
     "text": [
      "                                                                                                                                                                                                                \r"
     ]
    },
    {
     "name": "stdout",
     "output_type": "stream",
     "text": [
      "epoch     88 train/loss  0.018092 train/loss_grapheme  0.011387 train/loss_vowel  0.003046 train/loss_consonant  0.003659 train/acc_grapheme  0.996766 train/acc_vowel  0.999086 train/acc_consonant  0.998899 train/recall  0.998038 valid/loss  0.174869 valid/loss_grapheme  0.095948 valid/loss_vowel  0.041534 valid/loss_consonant  0.037386 valid/acc_grapheme  0.977428 valid/acc_vowel  0.992519 valid/acc_consonant  0.991709 valid/recall  0.984504 lr  0.000118 elapsed_time  34004.209166 \n"
     ]
    },
    {
     "name": "stderr",
     "output_type": "stream",
     "text": [
      "                                                                                                                                                                                                                \r"
     ]
    },
    {
     "name": "stdout",
     "output_type": "stream",
     "text": [
      "epoch     89 train/loss  0.017138 train/loss_grapheme  0.010688 train/loss_vowel  0.002946 train/loss_consonant  0.003504 train/acc_grapheme  0.996933 train/acc_vowel  0.999160 train/acc_consonant  0.998961 train/recall  0.997984 valid/loss  0.176091 valid/loss_grapheme  0.096142 valid/loss_vowel  0.042047 valid/loss_consonant  0.037902 valid/acc_grapheme  0.977602 valid/acc_vowel  0.992524 valid/acc_consonant  0.991983 valid/recall  0.984534 lr  0.000118 elapsed_time  34384.543085 \n"
     ]
    },
    {
     "name": "stderr",
     "output_type": "stream",
     "text": [
      "                                                                                                                                                                                                               \r"
     ]
    },
    {
     "name": "stdout",
     "output_type": "stream",
     "text": [
      "epoch     90 train/loss  0.017721 train/loss_grapheme  0.010761 train/loss_vowel  0.003127 train/loss_consonant  0.003832 train/acc_grapheme  0.996822 train/acc_vowel  0.999129 train/acc_consonant  0.998824 train/recall  0.997982 valid/loss  0.179362 valid/loss_grapheme  0.097316 valid/loss_vowel  0.042256 valid/loss_consonant  0.039790 valid/acc_grapheme  0.977353 valid/acc_vowel  0.992574 valid/acc_consonant  0.991286 valid/recall  0.984159 lr  0.000118 elapsed_time  34768.194112 \n"
     ]
    },
    {
     "name": "stderr",
     "output_type": "stream",
     "text": [
      "                                                                                                                                                                                                                \r"
     ]
    },
    {
     "name": "stdout",
     "output_type": "stream",
     "text": [
      "epoch     91 train/loss  0.016865 train/loss_grapheme  0.010755 train/loss_vowel  0.002861 train/loss_consonant  0.003249 train/acc_grapheme  0.997157 train/acc_vowel  0.999167 train/acc_consonant  0.999030 train/recall  0.998136 valid/loss  0.178788 valid/loss_grapheme  0.098867 valid/loss_vowel  0.042049 valid/loss_consonant  0.037873 valid/acc_grapheme  0.977565 valid/acc_vowel  0.992693 valid/acc_consonant  0.991454 valid/recall  0.984890 lr  0.000118 elapsed_time  35154.420539 \n"
     ]
    },
    {
     "name": "stderr",
     "output_type": "stream",
     "text": [
      "                                                                                                                                                                                                                \r"
     ]
    },
    {
     "name": "stdout",
     "output_type": "stream",
     "text": [
      "epoch     92 train/loss  0.016423 train/loss_grapheme  0.010173 train/loss_vowel  0.002817 train/loss_consonant  0.003433 train/acc_grapheme  0.997139 train/acc_vowel  0.999160 train/acc_consonant  0.999017 train/recall  0.998228 valid/loss  0.174910 valid/loss_grapheme  0.096748 valid/loss_vowel  0.041301 valid/loss_consonant  0.036861 valid/acc_grapheme  0.978094 valid/acc_vowel  0.992873 valid/acc_consonant  0.991858 valid/recall  0.984902 lr  0.000118 elapsed_time  35540.495460 \n"
     ]
    },
    {
     "name": "stderr",
     "output_type": "stream",
     "text": [
      "                                                                                                                                                                                                                \r"
     ]
    },
    {
     "name": "stdout",
     "output_type": "stream",
     "text": [
      "epoch     93 train/loss  0.016068 train/loss_grapheme  0.010309 train/loss_vowel  0.002509 train/loss_consonant  0.003250 train/acc_grapheme  0.997108 train/acc_vowel  0.999272 train/acc_consonant  0.999023 train/recall  0.998248 valid/loss  0.173579 valid/loss_grapheme  0.094961 valid/loss_vowel  0.041186 valid/loss_consonant  0.037432 valid/acc_grapheme  0.978373 valid/acc_vowel  0.993072 valid/acc_consonant  0.991908 valid/recall  0.985203 lr  0.000082 elapsed_time  35927.441170 \n"
     ]
    },
    {
     "name": "stderr",
     "output_type": "stream",
     "text": [
      "                                                                                                                                                                                                                \r"
     ]
    },
    {
     "name": "stdout",
     "output_type": "stream",
     "text": [
      "epoch     94 train/loss  0.015866 train/loss_grapheme  0.009922 train/loss_vowel  0.002441 train/loss_consonant  0.003503 train/acc_grapheme  0.997108 train/acc_vowel  0.999322 train/acc_consonant  0.998986 train/recall  0.998239 valid/loss  0.174878 valid/loss_grapheme  0.094121 valid/loss_vowel  0.042186 valid/loss_consonant  0.038570 valid/acc_grapheme  0.978373 valid/acc_vowel  0.992748 valid/acc_consonant  0.991864 valid/recall  0.984838 lr  0.000082 elapsed_time  36311.980785 \n"
     ]
    },
    {
     "name": "stderr",
     "output_type": "stream",
     "text": [
      "                                                                                                                                                                                                                \r"
     ]
    },
    {
     "name": "stdout",
     "output_type": "stream",
     "text": [
      "epoch     95 train/loss  0.014868 train/loss_grapheme  0.009432 train/loss_vowel  0.002385 train/loss_consonant  0.003051 train/acc_grapheme  0.997325 train/acc_vowel  0.999278 train/acc_consonant  0.999030 train/recall  0.998393 valid/loss  0.177842 valid/loss_grapheme  0.096266 valid/loss_vowel  0.042072 valid/loss_consonant  0.039504 valid/acc_grapheme  0.978000 valid/acc_vowel  0.992823 valid/acc_consonant  0.991386 valid/recall  0.984649 lr  0.000082 elapsed_time  36699.194793 \n"
     ]
    },
    {
     "name": "stderr",
     "output_type": "stream",
     "text": [
      "                                                                                                                                                                                                                 \r"
     ]
    },
    {
     "name": "stdout",
     "output_type": "stream",
     "text": [
      "epoch     96 train/loss  0.014939 train/loss_grapheme  0.009155 train/loss_vowel  0.002516 train/loss_consonant  0.003269 train/acc_grapheme  0.997356 train/acc_vowel  0.999198 train/acc_consonant  0.999030 train/recall  0.998377 valid/loss  0.173590 valid/loss_grapheme  0.095502 valid/loss_vowel  0.040562 valid/loss_consonant  0.037526 valid/acc_grapheme  0.978099 valid/acc_vowel  0.992817 valid/acc_consonant  0.991778 valid/recall  0.985367 lr  0.000082 elapsed_time  37086.478426 \n"
     ]
    },
    {
     "name": "stderr",
     "output_type": "stream",
     "text": [
      "                                                                                                                                                                                                                 \r"
     ]
    },
    {
     "name": "stdout",
     "output_type": "stream",
     "text": [
      "epoch     97 train/loss  0.015357 train/loss_grapheme  0.009609 train/loss_vowel  0.002464 train/loss_consonant  0.003285 train/acc_grapheme  0.997282 train/acc_vowel  0.999247 train/acc_consonant  0.998992 train/recall  0.998297 valid/loss  0.176136 valid/loss_grapheme  0.095969 valid/loss_vowel  0.041153 valid/loss_consonant  0.039014 valid/acc_grapheme  0.978323 valid/acc_vowel  0.992991 valid/acc_consonant  0.991560 valid/recall  0.985192 lr  0.000082 elapsed_time  37473.931967 \n"
     ]
    },
    {
     "name": "stderr",
     "output_type": "stream",
     "text": [
      "                                                                                                                                                                                                                 \r"
     ]
    },
    {
     "name": "stdout",
     "output_type": "stream",
     "text": [
      "epoch     98 train/loss  0.014264 train/loss_grapheme  0.008671 train/loss_vowel  0.002488 train/loss_consonant  0.003105 train/acc_grapheme  0.997462 train/acc_vowel  0.999297 train/acc_consonant  0.999098 train/recall  0.998313 valid/loss  0.173684 valid/loss_grapheme  0.094992 valid/loss_vowel  0.041394 valid/loss_consonant  0.037298 valid/acc_grapheme  0.978884 valid/acc_vowel  0.992668 valid/acc_consonant  0.991822 valid/recall  0.985533 lr  0.000082 elapsed_time  37863.477981 \n"
     ]
    },
    {
     "name": "stderr",
     "output_type": "stream",
     "text": [
      "                                                                                                                                                                                                                \r"
     ]
    },
    {
     "name": "stdout",
     "output_type": "stream",
     "text": [
      "epoch     99 train/loss  0.014380 train/loss_grapheme  0.009089 train/loss_vowel  0.002282 train/loss_consonant  0.003009 train/acc_grapheme  0.997462 train/acc_vowel  0.999316 train/acc_consonant  0.999073 train/recall  0.998320 valid/loss  0.178121 valid/loss_grapheme  0.097923 valid/loss_vowel  0.041911 valid/loss_consonant  0.038287 valid/acc_grapheme  0.978069 valid/acc_vowel  0.992748 valid/acc_consonant  0.991759 valid/recall  0.984927 lr  0.000082 elapsed_time  38247.930853 \n"
     ]
    },
    {
     "name": "stderr",
     "output_type": "stream",
     "text": [
      "                                                                                                                                                                                                                  \r"
     ]
    },
    {
     "name": "stdout",
     "output_type": "stream",
     "text": [
      "epoch    100 train/loss  0.014493 train/loss_grapheme  0.009040 train/loss_vowel  0.002479 train/loss_consonant  0.002974 train/acc_grapheme  0.997524 train/acc_vowel  0.999322 train/acc_consonant  0.999123 train/recall  0.998551 valid/loss  0.178479 valid/loss_grapheme  0.097154 valid/loss_vowel  0.041869 valid/loss_consonant  0.039457 valid/acc_grapheme  0.978274 valid/acc_vowel  0.992649 valid/acc_consonant  0.991187 valid/recall  0.984967 lr  0.000082 elapsed_time  38632.950807 \n"
     ]
    },
    {
     "data": {
      "text/plain": [
       "State:\n",
       "\titeration: 125600\n",
       "\tepoch: 100\n",
       "\tepoch_length: 1256\n",
       "\tmax_epochs: 100\n",
       "\toutput: <class 'tuple'>\n",
       "\tbatch: <class 'list'>\n",
       "\tmetrics: <class 'dict'>\n",
       "\tdataloader: <class 'torch.utils.data.dataloader.DataLoader'>\n",
       "\tseed: 12"
      ]
     },
     "execution_count": 32,
     "metadata": {},
     "output_type": "execute_result"
    }
   ],
   "source": [
    "save_json('msss_grid_mode_2.json', {'image_size':128, 'threshold':20,'arch':'pretrained','model_name':'se_resnext50_32x4d'})\n",
    "trainer.run(train_loader, max_epochs=100)"
   ]
  },
  {
   "cell_type": "code",
   "execution_count": null,
   "metadata": {},
   "outputs": [],
   "source": []
  },
  {
   "cell_type": "code",
   "execution_count": null,
   "metadata": {},
   "outputs": [],
   "source": []
  },
  {
   "cell_type": "code",
   "execution_count": 27,
   "metadata": {
    "scrolled": true
   },
   "outputs": [
    {
     "name": "stderr",
     "output_type": "stream",
     "text": [
      "                                                        \r"
     ]
    },
    {
     "name": "stdout",
     "output_type": "stream",
     "text": [
      "epoch      1 train/loss  3.584928 train/loss_grapheme  2.288273 train/loss_vowel  0.610913 train/loss_consonant  0.685742 train/acc_grapheme  0.489768 train/acc_vowel  0.843414 train/acc_consonant  0.849777 train/recall  0.615093 valid/loss  1.548024 valid/loss_grapheme  1.001705 valid/loss_vowel  0.265492 valid/loss_consonant  0.280827 valid/acc_grapheme  0.745633 valid/acc_vowel  0.934928 valid/acc_consonant  0.938845 valid/recall  0.855216 lr  0.001000 elapsed_time  407.175129 \n"
     ]
    },
    {
     "name": "stderr",
     "output_type": "stream",
     "text": [
      "                                                                                                                                                                                                     \r"
     ]
    },
    {
     "name": "stdout",
     "output_type": "stream",
     "text": [
      "epoch      2 train/loss  1.260545 train/loss_grapheme  0.819732 train/loss_vowel  0.216081 train/loss_consonant  0.224733 train/acc_grapheme  0.793547 train/acc_vowel  0.944404 train/acc_consonant  0.946693 train/recall  0.860919 valid/loss  1.279086 valid/loss_grapheme  0.791014 valid/loss_vowel  0.246319 valid/loss_consonant  0.241754 valid/acc_grapheme  0.794203 valid/acc_vowel  0.928884 valid/acc_consonant  0.935598 valid/recall  0.870070 lr  0.001000 elapsed_time  809.413784 \n"
     ]
    },
    {
     "name": "stderr",
     "output_type": "stream",
     "text": [
      "                                                                                                                                                                                                       \r"
     ]
    },
    {
     "name": "stdout",
     "output_type": "stream",
     "text": [
      "epoch      3 train/loss  0.903315 train/loss_grapheme  0.600129 train/loss_vowel  0.151613 train/loss_consonant  0.151572 train/acc_grapheme  0.845952 train/acc_vowel  0.960042 train/acc_consonant  0.959065 train/recall  0.895812 valid/loss  0.840121 valid/loss_grapheme  0.553514 valid/loss_vowel  0.149072 valid/loss_consonant  0.137535 valid/acc_grapheme  0.852912 valid/acc_vowel  0.958490 valid/acc_consonant  0.961902 valid/recall  0.900351 lr  0.001000 elapsed_time  1216.151267 \n"
     ]
    },
    {
     "name": "stderr",
     "output_type": "stream",
     "text": [
      "                                                                                                                                                                                                      \r"
     ]
    },
    {
     "name": "stdout",
     "output_type": "stream",
     "text": [
      "epoch      4 train/loss  0.730620 train/loss_grapheme  0.487727 train/loss_vowel  0.122904 train/loss_consonant  0.119989 train/acc_grapheme  0.872997 train/acc_vowel  0.966287 train/acc_consonant  0.966100 train/recall  0.914604 valid/loss  0.696896 valid/loss_grapheme  0.463357 valid/loss_vowel  0.119141 valid/loss_consonant  0.114397 valid/acc_grapheme  0.875272 valid/acc_vowel  0.965119 valid/acc_consonant  0.966469 valid/recall  0.920578 lr  0.001000 elapsed_time  1621.663126 \n"
     ]
    },
    {
     "name": "stderr",
     "output_type": "stream",
     "text": [
      "                                                                                                                                                                                                        \r"
     ]
    },
    {
     "name": "stdout",
     "output_type": "stream",
     "text": [
      "epoch      5 train/loss  0.620513 train/loss_grapheme  0.412519 train/loss_vowel  0.105146 train/loss_consonant  0.102848 train/acc_grapheme  0.891521 train/acc_vowel  0.971064 train/acc_consonant  0.969714 train/recall  0.927972 valid/loss  0.577840 valid/loss_grapheme  0.382133 valid/loss_vowel  0.098083 valid/loss_consonant  0.097625 valid/acc_grapheme  0.896755 valid/acc_vowel  0.972074 valid/acc_consonant  0.971606 valid/recall  0.931747 lr  0.001000 elapsed_time  2030.018710 \n"
     ]
    },
    {
     "name": "stderr",
     "output_type": "stream",
     "text": [
      "                                                                                                                                                                                                        \r"
     ]
    },
    {
     "name": "stdout",
     "output_type": "stream",
     "text": [
      "epoch      6 train/loss  0.539447 train/loss_grapheme  0.360050 train/loss_vowel  0.091393 train/loss_consonant  0.088004 train/acc_grapheme  0.905547 train/acc_vowel  0.974423 train/acc_consonant  0.973546 train/recall  0.938149 valid/loss  0.594210 valid/loss_grapheme  0.384142 valid/loss_vowel  0.107207 valid/loss_consonant  0.102861 valid/acc_grapheme  0.898168 valid/acc_vowel  0.968639 valid/acc_consonant  0.968739 valid/recall  0.935441 lr  0.001000 elapsed_time  2434.563009 \n"
     ]
    },
    {
     "name": "stderr",
     "output_type": "stream",
     "text": [
      "                                                                                                                                                                                                         \r"
     ]
    },
    {
     "name": "stdout",
     "output_type": "stream",
     "text": [
      "epoch      7 train/loss  0.479814 train/loss_grapheme  0.320013 train/loss_vowel  0.080596 train/loss_consonant  0.079205 train/acc_grapheme  0.914274 train/acc_vowel  0.977334 train/acc_consonant  0.975741 train/recall  0.942973 valid/loss  0.519918 valid/loss_grapheme  0.339068 valid/loss_vowel  0.093310 valid/loss_consonant  0.087541 valid/acc_grapheme  0.908244 valid/acc_vowel  0.973280 valid/acc_consonant  0.973590 valid/recall  0.937735 lr  0.001000 elapsed_time  2843.240404 \n"
     ]
    },
    {
     "name": "stderr",
     "output_type": "stream",
     "text": [
      "                                                                                                                                                                                                         \r"
     ]
    },
    {
     "name": "stdout",
     "output_type": "stream",
     "text": [
      "epoch      8 train/loss  0.427695 train/loss_grapheme  0.285995 train/loss_vowel  0.070395 train/loss_consonant  0.071305 train/acc_grapheme  0.923554 train/acc_vowel  0.980133 train/acc_consonant  0.977962 train/recall  0.949911 valid/loss  0.477906 valid/loss_grapheme  0.310866 valid/loss_vowel  0.086446 valid/loss_consonant  0.080594 valid/acc_grapheme  0.914899 valid/acc_vowel  0.974524 valid/acc_consonant  0.975052 valid/recall  0.938552 lr  0.001000 elapsed_time  3244.908998 \n"
     ]
    },
    {
     "name": "stderr",
     "output_type": "stream",
     "text": [
      "                                                                                                                                                                                                         \r"
     ]
    },
    {
     "name": "stdout",
     "output_type": "stream",
     "text": [
      "epoch      9 train/loss  0.388380 train/loss_grapheme  0.257972 train/loss_vowel  0.065343 train/loss_consonant  0.065065 train/acc_grapheme  0.930882 train/acc_vowel  0.981296 train/acc_consonant  0.980357 train/recall  0.953799 valid/loss  0.453007 valid/loss_grapheme  0.289362 valid/loss_vowel  0.084725 valid/loss_consonant  0.078919 valid/acc_grapheme  0.921716 valid/acc_vowel  0.975569 valid/acc_consonant  0.975785 valid/recall  0.943253 lr  0.001000 elapsed_time  3652.127299 \n"
     ]
    },
    {
     "name": "stderr",
     "output_type": "stream",
     "text": [
      "                                                                                                                                                                                                           \r"
     ]
    },
    {
     "name": "stdout",
     "output_type": "stream",
     "text": [
      "epoch     10 train/loss  0.349521 train/loss_grapheme  0.233761 train/loss_vowel  0.057608 train/loss_consonant  0.058152 train/acc_grapheme  0.937183 train/acc_vowel  0.983517 train/acc_consonant  0.981881 train/recall  0.958679 valid/loss  0.425490 valid/loss_grapheme  0.274498 valid/loss_vowel  0.076402 valid/loss_consonant  0.074590 valid/acc_grapheme  0.925523 valid/acc_vowel  0.978492 valid/acc_consonant  0.977204 valid/recall  0.947026 lr  0.001000 elapsed_time  4061.938094 \n"
     ]
    },
    {
     "name": "stderr",
     "output_type": "stream",
     "text": [
      "                                                                                                                                                                                                           \r"
     ]
    },
    {
     "name": "stdout",
     "output_type": "stream",
     "text": [
      "epoch     11 train/loss  0.322263 train/loss_grapheme  0.215608 train/loss_vowel  0.053664 train/loss_consonant  0.052991 train/acc_grapheme  0.941767 train/acc_vowel  0.984213 train/acc_consonant  0.983722 train/recall  0.961504 valid/loss  0.460456 valid/loss_grapheme  0.287765 valid/loss_vowel  0.091710 valid/loss_consonant  0.080981 valid/acc_grapheme  0.922468 valid/acc_vowel  0.974406 valid/acc_consonant  0.975188 valid/recall  0.944053 lr  0.001000 elapsed_time  4470.595802 \n"
     ]
    },
    {
     "name": "stderr",
     "output_type": "stream",
     "text": [
      "                                                                                                                                                                                                           \r"
     ]
    },
    {
     "name": "stdout",
     "output_type": "stream",
     "text": [
      "epoch     12 train/loss  0.297761 train/loss_grapheme  0.198439 train/loss_vowel  0.049512 train/loss_consonant  0.049810 train/acc_grapheme  0.946824 train/acc_vowel  0.985551 train/acc_consonant  0.984916 train/recall  0.964727 valid/loss  0.402339 valid/loss_grapheme  0.256337 valid/loss_vowel  0.074691 valid/loss_consonant  0.071311 valid/acc_grapheme  0.931288 valid/acc_vowel  0.979288 valid/acc_consonant  0.979772 valid/recall  0.955425 lr  0.001000 elapsed_time  4870.598608 \n"
     ]
    },
    {
     "name": "stderr",
     "output_type": "stream",
     "text": [
      "                                                                                                                                                                                                            \r"
     ]
    },
    {
     "name": "stdout",
     "output_type": "stream",
     "text": [
      "epoch     13 train/loss  0.274440 train/loss_grapheme  0.183811 train/loss_vowel  0.045277 train/loss_consonant  0.045352 train/acc_grapheme  0.950326 train/acc_vowel  0.986571 train/acc_consonant  0.985974 train/recall  0.967276 valid/loss  0.410316 valid/loss_grapheme  0.257448 valid/loss_vowel  0.075461 valid/loss_consonant  0.077407 valid/acc_grapheme  0.930643 valid/acc_vowel  0.979033 valid/acc_consonant  0.976943 valid/recall  0.951368 lr  0.001000 elapsed_time  5273.764014 \n"
     ]
    },
    {
     "name": "stderr",
     "output_type": "stream",
     "text": [
      "                                                                                                                                                                                                           \r"
     ]
    },
    {
     "name": "stdout",
     "output_type": "stream",
     "text": [
      "epoch     14 train/loss  0.261554 train/loss_grapheme  0.173127 train/loss_vowel  0.043405 train/loss_consonant  0.045022 train/acc_grapheme  0.952777 train/acc_vowel  0.986969 train/acc_consonant  0.985911 train/recall  0.969049 valid/loss  0.406770 valid/loss_grapheme  0.258552 valid/loss_vowel  0.076610 valid/loss_consonant  0.071608 valid/acc_grapheme  0.930107 valid/acc_vowel  0.979003 valid/acc_consonant  0.978522 valid/recall  0.945441 lr  0.001000 elapsed_time  5678.549187 \n"
     ]
    },
    {
     "name": "stderr",
     "output_type": "stream",
     "text": [
      "                                                                                                                                                                                                           \r"
     ]
    },
    {
     "name": "stdout",
     "output_type": "stream",
     "text": [
      "epoch     15 train/loss  0.244074 train/loss_grapheme  0.163691 train/loss_vowel  0.039426 train/loss_consonant  0.040956 train/acc_grapheme  0.955283 train/acc_vowel  0.988455 train/acc_consonant  0.987267 train/recall  0.970680 valid/loss  0.404111 valid/loss_grapheme  0.255823 valid/loss_vowel  0.074208 valid/loss_consonant  0.074080 valid/acc_grapheme  0.931351 valid/acc_vowel  0.979077 valid/acc_consonant  0.979014 valid/recall  0.952543 lr  0.001000 elapsed_time  6083.036293 \n"
     ]
    },
    {
     "name": "stderr",
     "output_type": "stream",
     "text": [
      "                                                                                                                                                                                                           \r"
     ]
    },
    {
     "name": "stdout",
     "output_type": "stream",
     "text": [
      "epoch     16 train/loss  0.229675 train/loss_grapheme  0.151032 train/loss_vowel  0.039289 train/loss_consonant  0.039354 train/acc_grapheme  0.959302 train/acc_vowel  0.988157 train/acc_consonant  0.987516 train/recall  0.973098 valid/loss  0.363096 valid/loss_grapheme  0.228545 valid/loss_vowel  0.067368 valid/loss_consonant  0.067182 valid/acc_grapheme  0.937439 valid/acc_vowel  0.982237 valid/acc_consonant  0.981359 valid/recall  0.959193 lr  0.001000 elapsed_time  6485.600867 \n"
     ]
    },
    {
     "name": "stderr",
     "output_type": "stream",
     "text": [
      "                                                                                                                                                                                                           \r"
     ]
    },
    {
     "name": "stdout",
     "output_type": "stream",
     "text": [
      "epoch     17 train/loss  0.215834 train/loss_grapheme  0.145054 train/loss_vowel  0.034768 train/loss_consonant  0.036012 train/acc_grapheme  0.960745 train/acc_vowel  0.989587 train/acc_consonant  0.988959 train/recall  0.974408 valid/loss  0.380791 valid/loss_grapheme  0.243131 valid/loss_vowel  0.068298 valid/loss_consonant  0.069362 valid/acc_grapheme  0.936040 valid/acc_vowel  0.981433 valid/acc_consonant  0.980289 valid/recall  0.958082 lr  0.001000 elapsed_time  6888.662261 \n"
     ]
    },
    {
     "name": "stderr",
     "output_type": "stream",
     "text": [
      "                                                                                                                                                                                                          \r"
     ]
    },
    {
     "name": "stdout",
     "output_type": "stream",
     "text": [
      "epoch     18 train/loss  0.201736 train/loss_grapheme  0.133431 train/loss_vowel  0.033520 train/loss_consonant  0.034785 train/acc_grapheme  0.963861 train/acc_vowel  0.990265 train/acc_consonant  0.989021 train/recall  0.977015 valid/loss  0.379817 valid/loss_grapheme  0.237730 valid/loss_vowel  0.071304 valid/loss_consonant  0.070783 valid/acc_grapheme  0.937718 valid/acc_vowel  0.981215 valid/acc_consonant  0.980593 valid/recall  0.954663 lr  0.001000 elapsed_time  7291.522558 \n"
     ]
    },
    {
     "name": "stderr",
     "output_type": "stream",
     "text": [
      "                                                                                                                                                                                                           \r"
     ]
    },
    {
     "name": "stdout",
     "output_type": "stream",
     "text": [
      "epoch     19 train/loss  0.197397 train/loss_grapheme  0.131766 train/loss_vowel  0.032450 train/loss_consonant  0.033180 train/acc_grapheme  0.963712 train/acc_vowel  0.990166 train/acc_consonant  0.989264 train/recall  0.976389 valid/loss  0.383171 valid/loss_grapheme  0.235790 valid/loss_vowel  0.074792 valid/loss_consonant  0.072589 valid/acc_grapheme  0.937341 valid/acc_vowel  0.979785 valid/acc_consonant  0.979119 valid/recall  0.957292 lr  0.001000 elapsed_time  7693.786641 \n"
     ]
    },
    {
     "name": "stderr",
     "output_type": "stream",
     "text": [
      "                                                                                                                                                                                                           \r"
     ]
    },
    {
     "name": "stdout",
     "output_type": "stream",
     "text": [
      "epoch     20 train/loss  0.184900 train/loss_grapheme  0.121751 train/loss_vowel  0.031357 train/loss_consonant  0.031792 train/acc_grapheme  0.966648 train/acc_vowel  0.990353 train/acc_consonant  0.989898 train/recall  0.978534 valid/loss  0.370254 valid/loss_grapheme  0.235082 valid/loss_vowel  0.070973 valid/loss_consonant  0.064199 valid/acc_grapheme  0.938099 valid/acc_vowel  0.982105 valid/acc_consonant  0.981608 valid/recall  0.957737 lr  0.001000 elapsed_time  8098.589009 \n"
     ]
    },
    {
     "name": "stderr",
     "output_type": "stream",
     "text": [
      "                                                                                                                                                                                                          \r"
     ]
    },
    {
     "name": "stdout",
     "output_type": "stream",
     "text": [
      "epoch     21 train/loss  0.179812 train/loss_grapheme  0.118831 train/loss_vowel  0.030773 train/loss_consonant  0.030207 train/acc_grapheme  0.967338 train/acc_vowel  0.990682 train/acc_consonant  0.990409 train/recall  0.978603 valid/loss  0.371481 valid/loss_grapheme  0.232513 valid/loss_vowel  0.070723 valid/loss_consonant  0.068245 valid/acc_grapheme  0.937085 valid/acc_vowel  0.981364 valid/acc_consonant  0.980917 valid/recall  0.957358 lr  0.001000 elapsed_time  8502.766673 \n"
     ]
    },
    {
     "name": "stderr",
     "output_type": "stream",
     "text": [
      "                                                                                                                                                                                                          \r"
     ]
    },
    {
     "name": "stdout",
     "output_type": "stream",
     "text": [
      "epoch     22 train/loss  0.166342 train/loss_grapheme  0.110155 train/loss_vowel  0.027416 train/loss_consonant  0.028771 train/acc_grapheme  0.969198 train/acc_vowel  0.991733 train/acc_consonant  0.990707 train/recall  0.980295 valid/loss  0.364477 valid/loss_grapheme  0.225761 valid/loss_vowel  0.069488 valid/loss_consonant  0.069228 valid/acc_grapheme  0.941638 valid/acc_vowel  0.982274 valid/acc_consonant  0.980612 valid/recall  0.962783 lr  0.001000 elapsed_time  8907.019409 \n"
     ]
    },
    {
     "name": "stderr",
     "output_type": "stream",
     "text": [
      "                                                                                                                                                                                                          \r"
     ]
    },
    {
     "name": "stdout",
     "output_type": "stream",
     "text": [
      "epoch     23 train/loss  0.162954 train/loss_grapheme  0.107526 train/loss_vowel  0.027729 train/loss_consonant  0.027699 train/acc_grapheme  0.970131 train/acc_vowel  0.991646 train/acc_consonant  0.991155 train/recall  0.980612 valid/loss  0.346642 valid/loss_grapheme  0.210047 valid/loss_vowel  0.068678 valid/loss_consonant  0.067918 valid/acc_grapheme  0.945439 valid/acc_vowel  0.982547 valid/acc_consonant  0.981776 valid/recall  0.963083 lr  0.001000 elapsed_time  9307.017769 \n"
     ]
    },
    {
     "name": "stderr",
     "output_type": "stream",
     "text": [
      "                                                                                                                                                                                                           \r"
     ]
    },
    {
     "name": "stdout",
     "output_type": "stream",
     "text": [
      "epoch     24 train/loss  0.156965 train/loss_grapheme  0.102525 train/loss_vowel  0.026732 train/loss_consonant  0.027708 train/acc_grapheme  0.971841 train/acc_vowel  0.991876 train/acc_consonant  0.991553 train/recall  0.981871 valid/loss  0.336540 valid/loss_grapheme  0.208047 valid/loss_vowel  0.063220 valid/loss_consonant  0.065274 valid/acc_grapheme  0.946202 valid/acc_vowel  0.983971 valid/acc_consonant  0.982105 valid/recall  0.959555 lr  0.001000 elapsed_time  9711.153771 \n"
     ]
    },
    {
     "name": "stderr",
     "output_type": "stream",
     "text": [
      "                                                                                                                                                                                                            \r"
     ]
    },
    {
     "name": "stdout",
     "output_type": "stream",
     "text": [
      "epoch     25 train/loss  0.148911 train/loss_grapheme  0.098713 train/loss_vowel  0.024369 train/loss_consonant  0.025830 train/acc_grapheme  0.973359 train/acc_vowel  0.992735 train/acc_consonant  0.991858 train/recall  0.982780 valid/loss  0.396210 valid/loss_grapheme  0.248529 valid/loss_vowel  0.073291 valid/loss_consonant  0.074390 valid/acc_grapheme  0.935044 valid/acc_vowel  0.981215 valid/acc_consonant  0.979896 valid/recall  0.952863 lr  0.001000 elapsed_time  10108.359165 \n"
     ]
    },
    {
     "name": "stderr",
     "output_type": "stream",
     "text": [
      "                                                                                                                                                                                                             \r"
     ]
    },
    {
     "name": "stdout",
     "output_type": "stream",
     "text": [
      "epoch     26 train/loss  0.147027 train/loss_grapheme  0.095496 train/loss_vowel  0.025739 train/loss_consonant  0.025792 train/acc_grapheme  0.973863 train/acc_vowel  0.992281 train/acc_consonant  0.991920 train/recall  0.983177 valid/loss  0.374672 valid/loss_grapheme  0.236974 valid/loss_vowel  0.068362 valid/loss_consonant  0.069337 valid/acc_grapheme  0.938602 valid/acc_vowel  0.982335 valid/acc_consonant  0.980538 valid/recall  0.955665 lr  0.001000 elapsed_time  10503.581072 \n"
     ]
    },
    {
     "name": "stderr",
     "output_type": "stream",
     "text": [
      "                                                                                                                                                                                                             \r"
     ]
    },
    {
     "name": "stdout",
     "output_type": "stream",
     "text": [
      "epoch     27 train/loss  0.140283 train/loss_grapheme  0.091578 train/loss_vowel  0.023568 train/loss_consonant  0.025137 train/acc_grapheme  0.974740 train/acc_vowel  0.992884 train/acc_consonant  0.992349 train/recall  0.983311 valid/loss  0.316613 valid/loss_grapheme  0.191900 valid/loss_vowel  0.063769 valid/loss_consonant  0.060943 valid/acc_grapheme  0.949163 valid/acc_vowel  0.984170 valid/acc_consonant  0.983604 valid/recall  0.964925 lr  0.001000 elapsed_time  10908.823747 \n"
     ]
    },
    {
     "name": "stderr",
     "output_type": "stream",
     "text": [
      "                                                                                                                                                                                                            \r"
     ]
    },
    {
     "name": "stdout",
     "output_type": "stream",
     "text": [
      "epoch     28 train/loss  0.137707 train/loss_grapheme  0.089421 train/loss_vowel  0.024126 train/loss_consonant  0.024160 train/acc_grapheme  0.975325 train/acc_vowel  0.992741 train/acc_consonant  0.992374 train/recall  0.984419 valid/loss  0.321245 valid/loss_grapheme  0.195364 valid/loss_vowel  0.062407 valid/loss_consonant  0.063474 valid/acc_grapheme  0.948430 valid/acc_vowel  0.984300 valid/acc_consonant  0.982926 valid/recall  0.961656 lr  0.001000 elapsed_time  11313.269608 \n"
     ]
    },
    {
     "name": "stderr",
     "output_type": "stream",
     "text": [
      "                                                                                                                                                                                                             \r"
     ]
    },
    {
     "name": "stdout",
     "output_type": "stream",
     "text": [
      "epoch     29 train/loss  0.134134 train/loss_grapheme  0.087538 train/loss_vowel  0.023125 train/loss_consonant  0.023471 train/acc_grapheme  0.976084 train/acc_vowel  0.993083 train/acc_consonant  0.992698 train/recall  0.984491 valid/loss  0.309051 valid/loss_grapheme  0.186640 valid/loss_vowel  0.061688 valid/loss_consonant  0.060723 valid/acc_grapheme  0.951192 valid/acc_vowel  0.984344 valid/acc_consonant  0.982777 valid/recall  0.965816 lr  0.001000 elapsed_time  11717.575696 \n"
     ]
    },
    {
     "name": "stderr",
     "output_type": "stream",
     "text": [
      "                                                                                                                                                                                                             \r"
     ]
    },
    {
     "name": "stdout",
     "output_type": "stream",
     "text": [
      "epoch     30 train/loss  0.126972 train/loss_grapheme  0.081954 train/loss_vowel  0.022312 train/loss_consonant  0.022707 train/acc_grapheme  0.977328 train/acc_vowel  0.993002 train/acc_consonant  0.992716 train/recall  0.984980 valid/loss  0.322806 valid/loss_grapheme  0.198538 valid/loss_vowel  0.063199 valid/loss_consonant  0.061069 valid/acc_grapheme  0.947161 valid/acc_vowel  0.983927 valid/acc_consonant  0.983604 valid/recall  0.964085 lr  0.001000 elapsed_time  12122.088318 \n"
     ]
    },
    {
     "name": "stderr",
     "output_type": "stream",
     "text": [
      "                                                                                                                                                                                                            \r"
     ]
    },
    {
     "name": "stdout",
     "output_type": "stream",
     "text": [
      "epoch     31 train/loss  0.124113 train/loss_grapheme  0.080518 train/loss_vowel  0.021585 train/loss_consonant  0.022011 train/acc_grapheme  0.977788 train/acc_vowel  0.993469 train/acc_consonant  0.992953 train/recall  0.985752 valid/loss  0.318843 valid/loss_grapheme  0.188150 valid/loss_vowel  0.067547 valid/loss_consonant  0.063145 valid/acc_grapheme  0.949500 valid/acc_vowel  0.983872 valid/acc_consonant  0.982951 valid/recall  0.966074 lr  0.001000 elapsed_time  12526.619278 \n"
     ]
    },
    {
     "name": "stderr",
     "output_type": "stream",
     "text": [
      "                                                                                                                                                                                                            \r"
     ]
    },
    {
     "name": "stdout",
     "output_type": "stream",
     "text": [
      "epoch     32 train/loss  0.125640 train/loss_grapheme  0.081505 train/loss_vowel  0.021416 train/loss_consonant  0.022718 train/acc_grapheme  0.977296 train/acc_vowel  0.993481 train/acc_consonant  0.993027 train/recall  0.985067 valid/loss  0.311792 valid/loss_grapheme  0.189996 valid/loss_vowel  0.061227 valid/loss_consonant  0.060570 valid/acc_grapheme  0.949146 valid/acc_vowel  0.985265 valid/acc_consonant  0.983449 valid/recall  0.966545 lr  0.001000 elapsed_time  12929.380765 \n"
     ]
    },
    {
     "name": "stderr",
     "output_type": "stream",
     "text": [
      "                                                                                                                                                                                                             \r"
     ]
    },
    {
     "name": "stdout",
     "output_type": "stream",
     "text": [
      "epoch     33 train/loss  0.120166 train/loss_grapheme  0.078772 train/loss_vowel  0.020228 train/loss_consonant  0.021166 train/acc_grapheme  0.978416 train/acc_vowel  0.993799 train/acc_consonant  0.993432 train/recall  0.986391 valid/loss  0.371680 valid/loss_grapheme  0.235335 valid/loss_vowel  0.071969 valid/loss_consonant  0.064376 valid/acc_grapheme  0.938243 valid/acc_vowel  0.982945 valid/acc_consonant  0.982534 valid/recall  0.956559 lr  0.001000 elapsed_time  13333.177012 \n"
     ]
    },
    {
     "name": "stderr",
     "output_type": "stream",
     "text": [
      "                                                                                                                                                                                                            \r"
     ]
    },
    {
     "name": "stdout",
     "output_type": "stream",
     "text": [
      "epoch     34 train/loss  0.115155 train/loss_grapheme  0.074171 train/loss_vowel  0.019929 train/loss_consonant  0.021055 train/acc_grapheme  0.979250 train/acc_vowel  0.993823 train/acc_consonant  0.993232 train/recall  0.986589 valid/loss  0.325188 valid/loss_grapheme  0.197134 valid/loss_vowel  0.065478 valid/loss_consonant  0.062577 valid/acc_grapheme  0.949257 valid/acc_vowel  0.983598 valid/acc_consonant  0.982608 valid/recall  0.964663 lr  0.001000 elapsed_time  13738.437007 \n"
     ]
    },
    {
     "name": "stderr",
     "output_type": "stream",
     "text": [
      "                                                                                                                                                                                                             \r"
     ]
    },
    {
     "name": "stdout",
     "output_type": "stream",
     "text": [
      "epoch     35 train/loss  0.111772 train/loss_grapheme  0.070808 train/loss_vowel  0.020626 train/loss_consonant  0.020339 train/acc_grapheme  0.980369 train/acc_vowel  0.993867 train/acc_consonant  0.993705 train/recall  0.987067 valid/loss  0.312781 valid/loss_grapheme  0.185771 valid/loss_vowel  0.067052 valid/loss_consonant  0.059957 valid/acc_grapheme  0.951919 valid/acc_vowel  0.983853 valid/acc_consonant  0.984450 valid/recall  0.964677 lr  0.001000 elapsed_time  14142.603617 \n"
     ]
    },
    {
     "name": "stderr",
     "output_type": "stream",
     "text": [
      "                                                                                                                                                                                                            \r"
     ]
    },
    {
     "name": "stdout",
     "output_type": "stream",
     "text": [
      "epoch     36 train/loss  0.114214 train/loss_grapheme  0.073585 train/loss_vowel  0.020411 train/loss_consonant  0.020218 train/acc_grapheme  0.979623 train/acc_vowel  0.993624 train/acc_consonant  0.993587 train/recall  0.987076 valid/loss  0.318450 valid/loss_grapheme  0.184187 valid/loss_vowel  0.070405 valid/loss_consonant  0.063858 valid/acc_grapheme  0.950849 valid/acc_vowel  0.983026 valid/acc_consonant  0.982982 valid/recall  0.965422 lr  0.001000 elapsed_time  14546.979784 \n"
     ]
    },
    {
     "name": "stderr",
     "output_type": "stream",
     "text": [
      "                                                                                                                                                                                                            \r"
     ]
    },
    {
     "name": "stdout",
     "output_type": "stream",
     "text": [
      "epoch     37 train/loss  0.111242 train/loss_grapheme  0.072080 train/loss_vowel  0.018850 train/loss_consonant  0.020312 train/acc_grapheme  0.980201 train/acc_vowel  0.993991 train/acc_consonant  0.993587 train/recall  0.986790 valid/loss  0.303984 valid/loss_grapheme  0.179951 valid/loss_vowel  0.064147 valid/loss_consonant  0.059886 valid/acc_grapheme  0.953039 valid/acc_vowel  0.984344 valid/acc_consonant  0.983902 valid/recall  0.966274 lr  0.001000 elapsed_time  14949.213257 \n"
     ]
    },
    {
     "name": "stderr",
     "output_type": "stream",
     "text": [
      "                                                                                                                                                                                                            \r"
     ]
    },
    {
     "name": "stdout",
     "output_type": "stream",
     "text": [
      "epoch     38 train/loss  0.108006 train/loss_grapheme  0.068315 train/loss_vowel  0.019177 train/loss_consonant  0.020514 train/acc_grapheme  0.980811 train/acc_vowel  0.994234 train/acc_consonant  0.993755 train/recall  0.987049 valid/loss  0.317434 valid/loss_grapheme  0.184891 valid/loss_vowel  0.068436 valid/loss_consonant  0.064107 valid/acc_grapheme  0.951502 valid/acc_vowel  0.982970 valid/acc_consonant  0.982926 valid/recall  0.966563 lr  0.001000 elapsed_time  15352.860376 \n"
     ]
    },
    {
     "name": "stderr",
     "output_type": "stream",
     "text": [
      "                                                                                                                                                                                                             \r"
     ]
    },
    {
     "name": "stdout",
     "output_type": "stream",
     "text": [
      "epoch     39 train/loss  0.083782 train/loss_grapheme  0.053454 train/loss_vowel  0.015059 train/loss_consonant  0.015269 train/acc_grapheme  0.985121 train/acc_vowel  0.995447 train/acc_consonant  0.995248 train/recall  0.990757 valid/loss  0.275063 valid/loss_grapheme  0.161440 valid/loss_vowel  0.058993 valid/loss_consonant  0.054630 valid/acc_grapheme  0.957667 valid/acc_vowel  0.986166 valid/acc_consonant  0.985743 valid/recall  0.971450 lr  0.000700 elapsed_time  15757.982921 \n"
     ]
    },
    {
     "name": "stderr",
     "output_type": "stream",
     "text": [
      "                                                                                                                                                                                                              \r"
     ]
    },
    {
     "name": "stdout",
     "output_type": "stream",
     "text": [
      "epoch     40 train/loss  0.079649 train/loss_grapheme  0.051712 train/loss_vowel  0.013381 train/loss_consonant  0.014556 train/acc_grapheme  0.985918 train/acc_vowel  0.995994 train/acc_consonant  0.995596 train/recall  0.990687 valid/loss  0.275757 valid/loss_grapheme  0.161089 valid/loss_vowel  0.059077 valid/loss_consonant  0.055591 valid/acc_grapheme  0.958469 valid/acc_vowel  0.985818 valid/acc_consonant  0.986017 valid/recall  0.971738 lr  0.000700 elapsed_time  16163.040101 \n"
     ]
    },
    {
     "name": "stderr",
     "output_type": "stream",
     "text": [
      "                                                                                                                                                                                                              \r"
     ]
    },
    {
     "name": "stdout",
     "output_type": "stream",
     "text": [
      "epoch     41 train/loss  0.076984 train/loss_grapheme  0.049697 train/loss_vowel  0.012959 train/loss_consonant  0.014328 train/acc_grapheme  0.986104 train/acc_vowel  0.995988 train/acc_consonant  0.995627 train/recall  0.991228 valid/loss  0.282032 valid/loss_grapheme  0.166305 valid/loss_vowel  0.062344 valid/loss_consonant  0.053382 valid/acc_grapheme  0.956846 valid/acc_vowel  0.985613 valid/acc_consonant  0.985918 valid/recall  0.971053 lr  0.000700 elapsed_time  16567.493534 \n"
     ]
    },
    {
     "name": "stderr",
     "output_type": "stream",
     "text": [
      "                                                                                                                                                                                                            \r"
     ]
    },
    {
     "name": "stdout",
     "output_type": "stream",
     "text": [
      "epoch     42 train/loss  0.077274 train/loss_grapheme  0.049670 train/loss_vowel  0.012935 train/loss_consonant  0.014669 train/acc_grapheme  0.986428 train/acc_vowel  0.996044 train/acc_consonant  0.995528 train/recall  0.991261 valid/loss  0.266557 valid/loss_grapheme  0.154808 valid/loss_vowel  0.059700 valid/loss_consonant  0.052049 valid/acc_grapheme  0.960025 valid/acc_vowel  0.986788 valid/acc_consonant  0.986316 valid/recall  0.971656 lr  0.000700 elapsed_time  16971.096122 \n"
     ]
    },
    {
     "name": "stderr",
     "output_type": "stream",
     "text": [
      "                                                                                                                                                                                                              \r"
     ]
    },
    {
     "name": "stdout",
     "output_type": "stream",
     "text": [
      "epoch     43 train/loss  0.074067 train/loss_grapheme  0.047829 train/loss_vowel  0.012732 train/loss_consonant  0.013506 train/acc_grapheme  0.986620 train/acc_vowel  0.996069 train/acc_consonant  0.995689 train/recall  0.991617 valid/loss  0.269750 valid/loss_grapheme  0.153750 valid/loss_vowel  0.060697 valid/loss_consonant  0.055303 valid/acc_grapheme  0.959986 valid/acc_vowel  0.985812 valid/acc_consonant  0.986316 valid/recall  0.972747 lr  0.000700 elapsed_time  17376.897557 \n"
     ]
    },
    {
     "name": "stderr",
     "output_type": "stream",
     "text": [
      "                                                                                                                                                                                                              \r"
     ]
    },
    {
     "name": "stdout",
     "output_type": "stream",
     "text": [
      "epoch     44 train/loss  0.075176 train/loss_grapheme  0.047007 train/loss_vowel  0.013094 train/loss_consonant  0.015076 train/acc_grapheme  0.987068 train/acc_vowel  0.995982 train/acc_consonant  0.995490 train/recall  0.991541 valid/loss  0.264085 valid/loss_grapheme  0.153384 valid/loss_vowel  0.056791 valid/loss_consonant  0.053911 valid/acc_grapheme  0.960683 valid/acc_vowel  0.986161 valid/acc_consonant  0.986365 valid/recall  0.972943 lr  0.000700 elapsed_time  17782.292009 \n"
     ]
    },
    {
     "name": "stderr",
     "output_type": "stream",
     "text": [
      "                                                                                                                                                                                                             \r"
     ]
    },
    {
     "name": "stdout",
     "output_type": "stream",
     "text": [
      "epoch     45 train/loss  0.069567 train/loss_grapheme  0.044556 train/loss_vowel  0.012249 train/loss_consonant  0.012762 train/acc_grapheme  0.987323 train/acc_vowel  0.996280 train/acc_consonant  0.995801 train/recall  0.992095 valid/loss  0.276166 valid/loss_grapheme  0.164540 valid/loss_vowel  0.056968 valid/loss_consonant  0.054659 valid/acc_grapheme  0.956995 valid/acc_vowel  0.986957 valid/acc_consonant  0.985942 valid/recall  0.968139 lr  0.000700 elapsed_time  18186.123431 \n"
     ]
    },
    {
     "name": "stderr",
     "output_type": "stream",
     "text": [
      "                                                                                                                                                                                                              \r"
     ]
    },
    {
     "name": "stdout",
     "output_type": "stream",
     "text": [
      "epoch     46 train/loss  0.071808 train/loss_grapheme  0.045785 train/loss_vowel  0.012368 train/loss_consonant  0.013655 train/acc_grapheme  0.987603 train/acc_vowel  0.996175 train/acc_consonant  0.995683 train/recall  0.991982 valid/loss  0.264220 valid/loss_grapheme  0.153091 valid/loss_vowel  0.058564 valid/loss_consonant  0.052566 valid/acc_grapheme  0.960155 valid/acc_vowel  0.986664 valid/acc_consonant  0.986788 valid/recall  0.971557 lr  0.000700 elapsed_time  18589.950354 \n"
     ]
    },
    {
     "name": "stderr",
     "output_type": "stream",
     "text": [
      "                                                                                                                                                                                                              \r"
     ]
    },
    {
     "name": "stdout",
     "output_type": "stream",
     "text": [
      "epoch     47 train/loss  0.070080 train/loss_grapheme  0.044724 train/loss_vowel  0.012109 train/loss_consonant  0.013247 train/acc_grapheme  0.987361 train/acc_vowel  0.996436 train/acc_consonant  0.995969 train/recall  0.992022 valid/loss  0.265136 valid/loss_grapheme  0.155616 valid/loss_vowel  0.057675 valid/loss_consonant  0.051846 valid/acc_grapheme  0.959831 valid/acc_vowel  0.986838 valid/acc_consonant  0.986739 valid/recall  0.971394 lr  0.000700 elapsed_time  18992.426232 \n"
     ]
    },
    {
     "name": "stderr",
     "output_type": "stream",
     "text": [
      "                                                                                                                                                                                                              \r"
     ]
    },
    {
     "name": "stdout",
     "output_type": "stream",
     "text": [
      "epoch     48 train/loss  0.070368 train/loss_grapheme  0.044726 train/loss_vowel  0.012434 train/loss_consonant  0.013209 train/acc_grapheme  0.987678 train/acc_vowel  0.996405 train/acc_consonant  0.995770 train/recall  0.991929 valid/loss  0.268805 valid/loss_grapheme  0.156034 valid/loss_vowel  0.058209 valid/loss_consonant  0.054562 valid/acc_grapheme  0.958488 valid/acc_vowel  0.985900 valid/acc_consonant  0.986365 valid/recall  0.968858 lr  0.000700 elapsed_time  19399.085049 \n"
     ]
    },
    {
     "name": "stderr",
     "output_type": "stream",
     "text": [
      "                                                                                                                                                                                                              \r"
     ]
    },
    {
     "name": "stdout",
     "output_type": "stream",
     "text": [
      "epoch     49 train/loss  0.068065 train/loss_grapheme  0.043379 train/loss_vowel  0.011869 train/loss_consonant  0.012817 train/acc_grapheme  0.988001 train/acc_vowel  0.996436 train/acc_consonant  0.996100 train/recall  0.992215 valid/loss  0.285028 valid/loss_grapheme  0.167980 valid/loss_vowel  0.060938 valid/loss_consonant  0.056110 valid/acc_grapheme  0.956876 valid/acc_vowel  0.985707 valid/acc_consonant  0.985942 valid/recall  0.969845 lr  0.000700 elapsed_time  19804.220316 \n"
     ]
    },
    {
     "name": "stderr",
     "output_type": "stream",
     "text": [
      "                                                                                                                                                                                                              \r"
     ]
    },
    {
     "name": "stdout",
     "output_type": "stream",
     "text": [
      "epoch     50 train/loss  0.066671 train/loss_grapheme  0.042618 train/loss_vowel  0.011773 train/loss_consonant  0.012280 train/acc_grapheme  0.988250 train/acc_vowel  0.996585 train/acc_consonant  0.996355 train/recall  0.992951 valid/loss  0.276641 valid/loss_grapheme  0.163248 valid/loss_vowel  0.058340 valid/loss_consonant  0.055054 valid/acc_grapheme  0.958488 valid/acc_vowel  0.986086 valid/acc_consonant  0.986714 valid/recall  0.970769 lr  0.000700 elapsed_time  20207.393361 \n"
     ]
    },
    {
     "name": "stderr",
     "output_type": "stream",
     "text": [
      "                                                                                                                                                                                                              \r"
     ]
    },
    {
     "name": "stdout",
     "output_type": "stream",
     "text": [
      "epoch     51 train/loss  0.053057 train/loss_grapheme  0.034114 train/loss_vowel  0.009138 train/loss_consonant  0.009804 train/acc_grapheme  0.990377 train/acc_vowel  0.997139 train/acc_consonant  0.996946 train/recall  0.993755 valid/loss  0.252446 valid/loss_grapheme  0.144551 valid/loss_vowel  0.056447 valid/loss_consonant  0.051448 valid/acc_grapheme  0.962761 valid/acc_vowel  0.987485 valid/acc_consonant  0.987753 valid/recall  0.974580 lr  0.000490 elapsed_time  20611.812983 \n"
     ]
    },
    {
     "name": "stderr",
     "output_type": "stream",
     "text": [
      "                                                                                                                                                                                                              \r"
     ]
    },
    {
     "name": "stdout",
     "output_type": "stream",
     "text": [
      "epoch     52 train/loss  0.053839 train/loss_grapheme  0.034198 train/loss_vowel  0.009612 train/loss_consonant  0.010028 train/acc_grapheme  0.990664 train/acc_vowel  0.997070 train/acc_consonant  0.996846 train/recall  0.993851 valid/loss  0.273218 valid/loss_grapheme  0.164032 valid/loss_vowel  0.057465 valid/loss_consonant  0.051721 valid/acc_grapheme  0.958717 valid/acc_vowel  0.987075 valid/acc_consonant  0.987305 valid/recall  0.971409 lr  0.000490 elapsed_time  21013.190544 \n"
     ]
    },
    {
     "name": "stderr",
     "output_type": "stream",
     "text": [
      "                                                                                                                                                                                                             \r"
     ]
    },
    {
     "name": "stdout",
     "output_type": "stream",
     "text": [
      "epoch     53 train/loss  0.052258 train/loss_grapheme  0.032494 train/loss_vowel  0.009498 train/loss_consonant  0.010267 train/acc_grapheme  0.991267 train/acc_vowel  0.997126 train/acc_consonant  0.996853 train/recall  0.994361 valid/loss  0.242402 valid/loss_grapheme  0.141808 valid/loss_vowel  0.052249 valid/loss_consonant  0.048345 valid/acc_grapheme  0.963893 valid/acc_vowel  0.988829 valid/acc_consonant  0.987958 valid/recall  0.973958 lr  0.000490 elapsed_time  21418.751070 \n"
     ]
    },
    {
     "name": "stderr",
     "output_type": "stream",
     "text": [
      "                                                                                                                                                                                                              \r"
     ]
    },
    {
     "name": "stdout",
     "output_type": "stream",
     "text": [
      "epoch     54 train/loss  0.051257 train/loss_grapheme  0.032034 train/loss_vowel  0.008896 train/loss_consonant  0.010327 train/acc_grapheme  0.990937 train/acc_vowel  0.997375 train/acc_consonant  0.996927 train/recall  0.994418 valid/loss  0.248156 valid/loss_grapheme  0.144602 valid/loss_vowel  0.053425 valid/loss_consonant  0.050129 valid/acc_grapheme  0.962723 valid/acc_vowel  0.988848 valid/acc_consonant  0.988182 valid/recall  0.976545 lr  0.000490 elapsed_time  21824.319877 \n"
     ]
    },
    {
     "name": "stderr",
     "output_type": "stream",
     "text": [
      "                                                                                                                                                                                                             \r"
     ]
    },
    {
     "name": "stdout",
     "output_type": "stream",
     "text": [
      "epoch     55 train/loss  0.052836 train/loss_grapheme  0.033686 train/loss_vowel  0.008889 train/loss_consonant  0.010262 train/acc_grapheme  0.990869 train/acc_vowel  0.997356 train/acc_consonant  0.996853 train/recall  0.994410 valid/loss  0.242858 valid/loss_grapheme  0.142219 valid/loss_vowel  0.053424 valid/loss_consonant  0.047215 valid/acc_grapheme  0.963669 valid/acc_vowel  0.987809 valid/acc_consonant  0.988574 valid/recall  0.975207 lr  0.000490 elapsed_time  22229.770859 \n"
     ]
    },
    {
     "name": "stderr",
     "output_type": "stream",
     "text": [
      "                                                                                                                                                                                                               \r"
     ]
    },
    {
     "name": "stdout",
     "output_type": "stream",
     "text": [
      "epoch     56 train/loss  0.050392 train/loss_grapheme  0.031154 train/loss_vowel  0.009248 train/loss_consonant  0.009990 train/acc_grapheme  0.991242 train/acc_vowel  0.997338 train/acc_consonant  0.996809 train/recall  0.994445 valid/loss  0.236898 valid/loss_grapheme  0.139679 valid/loss_vowel  0.050967 valid/loss_consonant  0.046252 valid/acc_grapheme  0.963718 valid/acc_vowel  0.988505 valid/acc_consonant  0.988256 valid/recall  0.975629 lr  0.000490 elapsed_time  22635.488002 \n"
     ]
    },
    {
     "name": "stderr",
     "output_type": "stream",
     "text": [
      "                                                                                                                                                                                                                \r"
     ]
    },
    {
     "name": "stdout",
     "output_type": "stream",
     "text": [
      "epoch     57 train/loss  0.049243 train/loss_grapheme  0.031973 train/loss_vowel  0.008371 train/loss_consonant  0.008900 train/acc_grapheme  0.991248 train/acc_vowel  0.997506 train/acc_consonant  0.997319 train/recall  0.994436 valid/loss  0.252046 valid/loss_grapheme  0.147733 valid/loss_vowel  0.054380 valid/loss_consonant  0.049933 valid/acc_grapheme  0.962369 valid/acc_vowel  0.987485 valid/acc_consonant  0.987435 valid/recall  0.973908 lr  0.000490 elapsed_time  23042.519327 \n"
     ]
    },
    {
     "name": "stderr",
     "output_type": "stream",
     "text": [
      "                                                                                                                                                                                                              \r"
     ]
    },
    {
     "name": "stdout",
     "output_type": "stream",
     "text": [
      "epoch     58 train/loss  0.048257 train/loss_grapheme  0.030828 train/loss_vowel  0.008641 train/loss_consonant  0.008788 train/acc_grapheme  0.991329 train/acc_vowel  0.997506 train/acc_consonant  0.997388 train/recall  0.994709 valid/loss  0.246411 valid/loss_grapheme  0.140655 valid/loss_vowel  0.056004 valid/loss_consonant  0.049752 valid/acc_grapheme  0.964564 valid/acc_vowel  0.987759 valid/acc_consonant  0.988008 valid/recall  0.973965 lr  0.000490 elapsed_time  23449.183929 \n"
     ]
    },
    {
     "name": "stderr",
     "output_type": "stream",
     "text": [
      "                                                                                                                                                                                                                \r"
     ]
    },
    {
     "name": "stdout",
     "output_type": "stream",
     "text": [
      "epoch     59 train/loss  0.047694 train/loss_grapheme  0.029426 train/loss_vowel  0.008525 train/loss_consonant  0.009744 train/acc_grapheme  0.991746 train/acc_vowel  0.997450 train/acc_consonant  0.996952 train/recall  0.994721 valid/loss  0.244980 valid/loss_grapheme  0.139860 valid/loss_vowel  0.055864 valid/loss_consonant  0.049255 valid/acc_grapheme  0.963762 valid/acc_vowel  0.987803 valid/acc_consonant  0.988082 valid/recall  0.975208 lr  0.000490 elapsed_time  23844.735581 \n"
     ]
    },
    {
     "name": "stderr",
     "output_type": "stream",
     "text": [
      "                                                                                                                                                                                                                \r"
     ]
    },
    {
     "name": "stdout",
     "output_type": "stream",
     "text": [
      "epoch     60 train/loss  0.044777 train/loss_grapheme  0.028739 train/loss_vowel  0.007483 train/loss_consonant  0.008555 train/acc_grapheme  0.991715 train/acc_vowel  0.997779 train/acc_consonant  0.997363 train/recall  0.994826 valid/loss  0.259215 valid/loss_grapheme  0.149254 valid/loss_vowel  0.056392 valid/loss_consonant  0.053569 valid/acc_grapheme  0.962574 valid/acc_vowel  0.987504 valid/acc_consonant  0.987336 valid/recall  0.974451 lr  0.000490 elapsed_time  24251.069441 \n"
     ]
    },
    {
     "name": "stderr",
     "output_type": "stream",
     "text": [
      "                                                                                                                                                                                                                \r"
     ]
    },
    {
     "name": "stdout",
     "output_type": "stream",
     "text": [
      "epoch     61 train/loss  0.040800 train/loss_grapheme  0.025724 train/loss_vowel  0.006819 train/loss_consonant  0.008258 train/acc_grapheme  0.992511 train/acc_vowel  0.997922 train/acc_consonant  0.997462 train/recall  0.995132 valid/loss  0.233917 valid/loss_grapheme  0.133174 valid/loss_vowel  0.051537 valid/loss_consonant  0.049206 valid/acc_grapheme  0.967127 valid/acc_vowel  0.988729 valid/acc_consonant  0.988381 valid/recall  0.976105 lr  0.000343 elapsed_time  24658.075938 \n"
     ]
    },
    {
     "name": "stderr",
     "output_type": "stream",
     "text": [
      "                                                                                                                                                                                                                \r"
     ]
    },
    {
     "name": "stdout",
     "output_type": "stream",
     "text": [
      "epoch     62 train/loss  0.038428 train/loss_grapheme  0.024042 train/loss_vowel  0.006446 train/loss_consonant  0.007939 train/acc_grapheme  0.993195 train/acc_vowel  0.998016 train/acc_consonant  0.997611 train/recall  0.995979 valid/loss  0.231845 valid/loss_grapheme  0.132007 valid/loss_vowel  0.052368 valid/loss_consonant  0.047470 valid/acc_grapheme  0.966549 valid/acc_vowel  0.989047 valid/acc_consonant  0.988605 valid/recall  0.976161 lr  0.000343 elapsed_time  25064.451206 \n"
     ]
    },
    {
     "name": "stderr",
     "output_type": "stream",
     "text": [
      "                                                                                                                                                                                                               \r"
     ]
    },
    {
     "name": "stdout",
     "output_type": "stream",
     "text": [
      "epoch     63 train/loss  0.036325 train/loss_grapheme  0.022295 train/loss_vowel  0.006303 train/loss_consonant  0.007727 train/acc_grapheme  0.993525 train/acc_vowel  0.998153 train/acc_consonant  0.997711 train/recall  0.995767 valid/loss  0.234309 valid/loss_grapheme  0.131914 valid/loss_vowel  0.052484 valid/loss_consonant  0.049910 valid/acc_grapheme  0.967047 valid/acc_vowel  0.988829 valid/acc_consonant  0.988605 valid/recall  0.975762 lr  0.000343 elapsed_time  25469.559981 \n"
     ]
    },
    {
     "name": "stderr",
     "output_type": "stream",
     "text": [
      "                                                                                                                                                                                                               \r"
     ]
    },
    {
     "name": "stdout",
     "output_type": "stream",
     "text": [
      "epoch     64 train/loss  0.036217 train/loss_grapheme  0.022675 train/loss_vowel  0.006465 train/loss_consonant  0.007077 train/acc_grapheme  0.993711 train/acc_vowel  0.998047 train/acc_consonant  0.997817 train/recall  0.995844 valid/loss  0.232530 valid/loss_grapheme  0.132073 valid/loss_vowel  0.051902 valid/loss_consonant  0.048555 valid/acc_grapheme  0.966325 valid/acc_vowel  0.988804 valid/acc_consonant  0.988679 valid/recall  0.978811 lr  0.000343 elapsed_time  25874.918621 \n"
     ]
    },
    {
     "name": "stderr",
     "output_type": "stream",
     "text": [
      "                                                                                                                                                                                                                \r"
     ]
    },
    {
     "name": "stdout",
     "output_type": "stream",
     "text": [
      "epoch     65 train/loss  0.036522 train/loss_grapheme  0.023000 train/loss_vowel  0.005953 train/loss_consonant  0.007569 train/acc_grapheme  0.993736 train/acc_vowel  0.998271 train/acc_consonant  0.997618 train/recall  0.996078 valid/loss  0.226320 valid/loss_grapheme  0.128853 valid/loss_vowel  0.050041 valid/loss_consonant  0.047427 valid/acc_grapheme  0.965996 valid/acc_vowel  0.989271 valid/acc_consonant  0.988829 valid/recall  0.976977 lr  0.000343 elapsed_time  26281.422240 \n"
     ]
    },
    {
     "name": "stderr",
     "output_type": "stream",
     "text": [
      "                                                                                                                                                                                                               \r"
     ]
    },
    {
     "name": "stdout",
     "output_type": "stream",
     "text": [
      "epoch     66 train/loss  0.036320 train/loss_grapheme  0.022416 train/loss_vowel  0.006524 train/loss_consonant  0.007380 train/acc_grapheme  0.993792 train/acc_vowel  0.998177 train/acc_consonant  0.997730 train/recall  0.995962 valid/loss  0.237107 valid/loss_grapheme  0.135695 valid/loss_vowel  0.051429 valid/loss_consonant  0.049984 valid/acc_grapheme  0.966231 valid/acc_vowel  0.988773 valid/acc_consonant  0.987908 valid/recall  0.977118 lr  0.000343 elapsed_time  26688.638862 \n"
     ]
    },
    {
     "name": "stderr",
     "output_type": "stream",
     "text": [
      "                                                                                                                                                                                                                \r"
     ]
    },
    {
     "name": "stdout",
     "output_type": "stream",
     "text": [
      "epoch     67 train/loss  0.035209 train/loss_grapheme  0.021835 train/loss_vowel  0.005977 train/loss_consonant  0.007397 train/acc_grapheme  0.993761 train/acc_vowel  0.998159 train/acc_consonant  0.997680 train/recall  0.996058 valid/loss  0.229427 valid/loss_grapheme  0.130341 valid/loss_vowel  0.050936 valid/loss_consonant  0.048150 valid/acc_grapheme  0.967227 valid/acc_vowel  0.989326 valid/acc_consonant  0.988505 valid/recall  0.977446 lr  0.000343 elapsed_time  27094.178687 \n"
     ]
    },
    {
     "name": "stderr",
     "output_type": "stream",
     "text": [
      "                                                                                                                                                                                                               \r"
     ]
    },
    {
     "name": "stdout",
     "output_type": "stream",
     "text": [
      "epoch     68 train/loss  0.033728 train/loss_grapheme  0.021191 train/loss_vowel  0.005329 train/loss_consonant  0.007208 train/acc_grapheme  0.993966 train/acc_vowel  0.998395 train/acc_consonant  0.997842 train/recall  0.996111 valid/loss  0.231359 valid/loss_grapheme  0.132536 valid/loss_vowel  0.050459 valid/loss_consonant  0.048364 valid/acc_grapheme  0.966773 valid/acc_vowel  0.989525 valid/acc_consonant  0.988829 valid/recall  0.977001 lr  0.000343 elapsed_time  27498.357261 \n"
     ]
    },
    {
     "name": "stderr",
     "output_type": "stream",
     "text": [
      "                                                                                                                                                                                                                \r"
     ]
    },
    {
     "name": "stdout",
     "output_type": "stream",
     "text": [
      "epoch     69 train/loss  0.035963 train/loss_grapheme  0.022691 train/loss_vowel  0.006026 train/loss_consonant  0.007246 train/acc_grapheme  0.993512 train/acc_vowel  0.998246 train/acc_consonant  0.997835 train/recall  0.996004 valid/loss  0.225698 valid/loss_grapheme  0.127596 valid/loss_vowel  0.051014 valid/loss_consonant  0.047087 valid/acc_grapheme  0.966587 valid/acc_vowel  0.989569 valid/acc_consonant  0.989152 valid/recall  0.977180 lr  0.000343 elapsed_time  27904.208429 \n"
     ]
    },
    {
     "name": "stderr",
     "output_type": "stream",
     "text": [
      "                                                                                                                                                                                                               \r"
     ]
    },
    {
     "name": "stdout",
     "output_type": "stream",
     "text": [
      "epoch     70 train/loss  0.031763 train/loss_grapheme  0.019982 train/loss_vowel  0.005484 train/loss_consonant  0.006297 train/acc_grapheme  0.994321 train/acc_vowel  0.998482 train/acc_consonant  0.998016 train/recall  0.996359 valid/loss  0.233567 valid/loss_grapheme  0.132814 valid/loss_vowel  0.051867 valid/loss_consonant  0.048886 valid/acc_grapheme  0.967140 valid/acc_vowel  0.989227 valid/acc_consonant  0.988704 valid/recall  0.976984 lr  0.000343 elapsed_time  28307.868771 \n"
     ]
    },
    {
     "name": "stderr",
     "output_type": "stream",
     "text": [
      "                                                                                                                                                                                                             \r"
     ]
    },
    {
     "name": "stdout",
     "output_type": "stream",
     "text": [
      "epoch     71 train/loss  0.028961 train/loss_grapheme  0.018151 train/loss_vowel  0.005393 train/loss_consonant  0.005417 train/acc_grapheme  0.994918 train/acc_vowel  0.998401 train/acc_consonant  0.998209 train/recall  0.996807 valid/loss  0.230044 valid/loss_grapheme  0.133470 valid/loss_vowel  0.048973 valid/loss_consonant  0.047601 valid/acc_grapheme  0.967644 valid/acc_vowel  0.989724 valid/acc_consonant  0.988704 valid/recall  0.978069 lr  0.000240 elapsed_time  28709.161552 \n"
     ]
    },
    {
     "name": "stderr",
     "output_type": "stream",
     "text": [
      "                                                                                                                                                                                                               \r"
     ]
    },
    {
     "name": "stdout",
     "output_type": "stream",
     "text": [
      "epoch     72 train/loss  0.027874 train/loss_grapheme  0.017340 train/loss_vowel  0.004868 train/loss_consonant  0.005666 train/acc_grapheme  0.995210 train/acc_vowel  0.998439 train/acc_consonant  0.998209 train/recall  0.996989 valid/loss  0.218729 valid/loss_grapheme  0.124829 valid/loss_vowel  0.047487 valid/loss_consonant  0.046413 valid/acc_grapheme  0.969615 valid/acc_vowel  0.989749 valid/acc_consonant  0.989127 valid/recall  0.978637 lr  0.000240 elapsed_time  29115.511131 \n"
     ]
    },
    {
     "name": "stderr",
     "output_type": "stream",
     "text": [
      "                                                                                                                                                                                                                \r"
     ]
    },
    {
     "name": "stdout",
     "output_type": "stream",
     "text": [
      "epoch     73 train/loss  0.026401 train/loss_grapheme  0.016212 train/loss_vowel  0.004710 train/loss_consonant  0.005479 train/acc_grapheme  0.995378 train/acc_vowel  0.998489 train/acc_consonant  0.998265 train/recall  0.996990 valid/loss  0.221702 valid/loss_grapheme  0.126470 valid/loss_vowel  0.046921 valid/loss_consonant  0.048311 valid/acc_grapheme  0.968097 valid/acc_vowel  0.990073 valid/acc_consonant  0.988779 valid/recall  0.977263 lr  0.000240 elapsed_time  29521.299200 \n"
     ]
    },
    {
     "name": "stderr",
     "output_type": "stream",
     "text": [
      "                                                                                                                                                                                                                \r"
     ]
    },
    {
     "name": "stdout",
     "output_type": "stream",
     "text": [
      "epoch     74 train/loss  0.026587 train/loss_grapheme  0.016966 train/loss_vowel  0.004413 train/loss_consonant  0.005208 train/acc_grapheme  0.995105 train/acc_vowel  0.998656 train/acc_consonant  0.998464 train/recall  0.996783 valid/loss  0.218681 valid/loss_grapheme  0.123612 valid/loss_vowel  0.048604 valid/loss_consonant  0.046465 valid/acc_grapheme  0.969037 valid/acc_vowel  0.989774 valid/acc_consonant  0.989749 valid/recall  0.978761 lr  0.000240 elapsed_time  29927.835312 \n"
     ]
    },
    {
     "name": "stderr",
     "output_type": "stream",
     "text": [
      "                                                                                                                                                                                                               \r"
     ]
    },
    {
     "name": "stdout",
     "output_type": "stream",
     "text": [
      "epoch     75 train/loss  0.026340 train/loss_grapheme  0.016435 train/loss_vowel  0.004637 train/loss_consonant  0.005268 train/acc_grapheme  0.995378 train/acc_vowel  0.998625 train/acc_consonant  0.998426 train/recall  0.997028 valid/loss  0.221953 valid/loss_grapheme  0.122474 valid/loss_vowel  0.051212 valid/loss_consonant  0.048267 valid/acc_grapheme  0.969311 valid/acc_vowel  0.989650 valid/acc_consonant  0.989053 valid/recall  0.978876 lr  0.000240 elapsed_time  30327.743918 \n"
     ]
    },
    {
     "name": "stderr",
     "output_type": "stream",
     "text": [
      "                                                                                                                                                                                                                \r"
     ]
    },
    {
     "name": "stdout",
     "output_type": "stream",
     "text": [
      "epoch     76 train/loss  0.025921 train/loss_grapheme  0.016035 train/loss_vowel  0.004617 train/loss_consonant  0.005268 train/acc_grapheme  0.995534 train/acc_vowel  0.998663 train/acc_consonant  0.998302 train/recall  0.997135 valid/loss  0.226796 valid/loss_grapheme  0.128235 valid/loss_vowel  0.049873 valid/loss_consonant  0.048688 valid/acc_grapheme  0.967475 valid/acc_vowel  0.989650 valid/acc_consonant  0.988754 valid/recall  0.977280 lr  0.000240 elapsed_time  30734.263823 \n"
     ]
    },
    {
     "name": "stderr",
     "output_type": "stream",
     "text": [
      "                                                                                                                                                                                                               \r"
     ]
    },
    {
     "name": "stdout",
     "output_type": "stream",
     "text": [
      "epoch     77 train/loss  0.023823 train/loss_grapheme  0.014935 train/loss_vowel  0.003885 train/loss_consonant  0.005003 train/acc_grapheme  0.995777 train/acc_vowel  0.998812 train/acc_consonant  0.998507 train/recall  0.997289 valid/loss  0.222456 valid/loss_grapheme  0.124190 valid/loss_vowel  0.050016 valid/loss_consonant  0.048250 valid/acc_grapheme  0.969435 valid/acc_vowel  0.989539 valid/acc_consonant  0.989077 valid/recall  0.979126 lr  0.000168 elapsed_time  31142.579091 \n"
     ]
    },
    {
     "name": "stderr",
     "output_type": "stream",
     "text": [
      "                                                                                                                                                                                                              \r"
     ]
    },
    {
     "name": "stdout",
     "output_type": "stream",
     "text": [
      "epoch     78 train/loss  0.023216 train/loss_grapheme  0.014344 train/loss_vowel  0.003819 train/loss_consonant  0.005053 train/acc_grapheme  0.995851 train/acc_vowel  0.998905 train/acc_consonant  0.998489 train/recall  0.997448 valid/loss  0.215267 valid/loss_grapheme  0.121125 valid/loss_vowel  0.048544 valid/loss_consonant  0.045598 valid/acc_grapheme  0.970107 valid/acc_vowel  0.989943 valid/acc_consonant  0.989351 valid/recall  0.978750 lr  0.000168 elapsed_time  31548.931007 \n"
     ]
    },
    {
     "name": "stderr",
     "output_type": "stream",
     "text": [
      "                                                                                                                                                                                                                \r"
     ]
    },
    {
     "name": "stdout",
     "output_type": "stream",
     "text": [
      "epoch     79 train/loss  0.021549 train/loss_grapheme  0.013125 train/loss_vowel  0.003767 train/loss_consonant  0.004656 train/acc_grapheme  0.996311 train/acc_vowel  0.998855 train/acc_consonant  0.998582 train/recall  0.997616 valid/loss  0.214925 valid/loss_grapheme  0.120310 valid/loss_vowel  0.048831 valid/loss_consonant  0.045784 valid/acc_grapheme  0.970138 valid/acc_vowel  0.990117 valid/acc_consonant  0.989177 valid/recall  0.979449 lr  0.000168 elapsed_time  31961.566541 \n"
     ]
    },
    {
     "name": "stderr",
     "output_type": "stream",
     "text": [
      "                                                                                                                                                                                                                \r"
     ]
    },
    {
     "name": "stdout",
     "output_type": "stream",
     "text": [
      "epoch     80 train/loss  0.023622 train/loss_grapheme  0.014736 train/loss_vowel  0.004354 train/loss_consonant  0.004532 train/acc_grapheme  0.995920 train/acc_vowel  0.998762 train/acc_consonant  0.998557 train/recall  0.997618 valid/loss  0.213504 valid/loss_grapheme  0.119820 valid/loss_vowel  0.048640 valid/loss_consonant  0.045044 valid/acc_grapheme  0.969839 valid/acc_vowel  0.990396 valid/acc_consonant  0.989675 valid/recall  0.979938 lr  0.000168 elapsed_time  32370.523961 \n"
     ]
    },
    {
     "name": "stderr",
     "output_type": "stream",
     "text": [
      "                                                                                                                                                                                                                \r"
     ]
    },
    {
     "name": "stdout",
     "output_type": "stream",
     "text": [
      "epoch     81 train/loss  0.021296 train/loss_grapheme  0.013320 train/loss_vowel  0.003478 train/loss_consonant  0.004498 train/acc_grapheme  0.996013 train/acc_vowel  0.998874 train/acc_consonant  0.998762 train/recall  0.997516 valid/loss  0.211572 valid/loss_grapheme  0.119202 valid/loss_vowel  0.047589 valid/loss_consonant  0.044781 valid/acc_grapheme  0.970162 valid/acc_vowel  0.990048 valid/acc_consonant  0.989028 valid/recall  0.979190 lr  0.000168 elapsed_time  32781.146930 \n"
     ]
    },
    {
     "name": "stderr",
     "output_type": "stream",
     "text": [
      "                                                                                                                                                                                                               \r"
     ]
    },
    {
     "name": "stdout",
     "output_type": "stream",
     "text": [
      "epoch     82 train/loss  0.020319 train/loss_grapheme  0.012807 train/loss_vowel  0.003277 train/loss_consonant  0.004235 train/acc_grapheme  0.996293 train/acc_vowel  0.999067 train/acc_consonant  0.998663 train/recall  0.997800 valid/loss  0.212309 valid/loss_grapheme  0.120017 valid/loss_vowel  0.047313 valid/loss_consonant  0.044980 valid/acc_grapheme  0.970685 valid/acc_vowel  0.990048 valid/acc_consonant  0.989202 valid/recall  0.979993 lr  0.000168 elapsed_time  33191.314616 \n"
     ]
    },
    {
     "name": "stderr",
     "output_type": "stream",
     "text": [
      "                                                                                                                                                                                                                \r"
     ]
    },
    {
     "name": "stdout",
     "output_type": "stream",
     "text": [
      "epoch     83 train/loss  0.019660 train/loss_grapheme  0.011750 train/loss_vowel  0.003685 train/loss_consonant  0.004225 train/acc_grapheme  0.996560 train/acc_vowel  0.998943 train/acc_consonant  0.998737 train/recall  0.997729 valid/loss  0.216922 valid/loss_grapheme  0.122081 valid/loss_vowel  0.048161 valid/loss_consonant  0.046679 valid/acc_grapheme  0.969441 valid/acc_vowel  0.990216 valid/acc_consonant  0.989246 valid/recall  0.979789 lr  0.000168 elapsed_time  33600.745664 \n"
     ]
    },
    {
     "name": "stderr",
     "output_type": "stream",
     "text": [
      "                                                                                                                                                                                                                \r"
     ]
    },
    {
     "name": "stdout",
     "output_type": "stream",
     "text": [
      "epoch     84 train/loss  0.020604 train/loss_grapheme  0.012508 train/loss_vowel  0.003521 train/loss_consonant  0.004576 train/acc_grapheme  0.996293 train/acc_vowel  0.998806 train/acc_consonant  0.998632 train/recall  0.997704 valid/loss  0.212859 valid/loss_grapheme  0.120147 valid/loss_vowel  0.046993 valid/loss_consonant  0.045718 valid/acc_grapheme  0.970138 valid/acc_vowel  0.990459 valid/acc_consonant  0.989675 valid/recall  0.979242 lr  0.000168 elapsed_time  34009.514239 \n"
     ]
    },
    {
     "name": "stderr",
     "output_type": "stream",
     "text": [
      "                                                                                                                                                                                                                \r"
     ]
    },
    {
     "name": "stdout",
     "output_type": "stream",
     "text": [
      "epoch     85 train/loss  0.019953 train/loss_grapheme  0.012499 train/loss_vowel  0.003213 train/loss_consonant  0.004242 train/acc_grapheme  0.996430 train/acc_vowel  0.999073 train/acc_consonant  0.998694 train/recall  0.997726 valid/loss  0.215932 valid/loss_grapheme  0.121954 valid/loss_vowel  0.049070 valid/loss_consonant  0.044908 valid/acc_grapheme  0.970107 valid/acc_vowel  0.990166 valid/acc_consonant  0.989470 valid/recall  0.979223 lr  0.000168 elapsed_time  34417.267302 \n"
     ]
    },
    {
     "name": "stderr",
     "output_type": "stream",
     "text": [
      "                                                                                                                                                                                                              \r"
     ]
    },
    {
     "name": "stdout",
     "output_type": "stream",
     "text": [
      "epoch     86 train/loss  0.020913 train/loss_grapheme  0.013488 train/loss_vowel  0.003472 train/loss_consonant  0.003953 train/acc_grapheme  0.996355 train/acc_vowel  0.998980 train/acc_consonant  0.998824 train/recall  0.997968 valid/loss  0.218685 valid/loss_grapheme  0.121957 valid/loss_vowel  0.050929 valid/loss_consonant  0.045798 valid/acc_grapheme  0.968993 valid/acc_vowel  0.989768 valid/acc_consonant  0.989575 valid/recall  0.978976 lr  0.000168 elapsed_time  34825.658597 \n"
     ]
    },
    {
     "name": "stderr",
     "output_type": "stream",
     "text": [
      "                                                                                                                                                                                                                \r"
     ]
    },
    {
     "name": "stdout",
     "output_type": "stream",
     "text": [
      "epoch     87 train/loss  0.019452 train/loss_grapheme  0.011990 train/loss_vowel  0.003296 train/loss_consonant  0.004166 train/acc_grapheme  0.996598 train/acc_vowel  0.999011 train/acc_consonant  0.998613 train/recall  0.997939 valid/loss  0.215774 valid/loss_grapheme  0.119612 valid/loss_vowel  0.050063 valid/loss_consonant  0.046099 valid/acc_grapheme  0.970386 valid/acc_vowel  0.990042 valid/acc_consonant  0.989600 valid/recall  0.980264 lr  0.000118 elapsed_time  35234.702849 \n"
     ]
    },
    {
     "name": "stderr",
     "output_type": "stream",
     "text": [
      "                                                                                                                                                                                                              \r"
     ]
    },
    {
     "name": "stdout",
     "output_type": "stream",
     "text": [
      "epoch     88 train/loss  0.017560 train/loss_grapheme  0.010944 train/loss_vowel  0.002973 train/loss_consonant  0.003644 train/acc_grapheme  0.996859 train/acc_vowel  0.999067 train/acc_consonant  0.998930 train/recall  0.997725 valid/loss  0.215589 valid/loss_grapheme  0.122700 valid/loss_vowel  0.048295 valid/loss_consonant  0.044594 valid/acc_grapheme  0.970386 valid/acc_vowel  0.990321 valid/acc_consonant  0.989625 valid/recall  0.978918 lr  0.000118 elapsed_time  35646.003493 \n"
     ]
    },
    {
     "name": "stderr",
     "output_type": "stream",
     "text": [
      "                                                                                                                                                                                                                \r"
     ]
    },
    {
     "name": "stdout",
     "output_type": "stream",
     "text": [
      "epoch     89 train/loss  0.018438 train/loss_grapheme  0.011394 train/loss_vowel  0.002817 train/loss_consonant  0.004227 train/acc_grapheme  0.996747 train/acc_vowel  0.999123 train/acc_consonant  0.998793 train/recall  0.997803 valid/loss  0.216873 valid/loss_grapheme  0.122837 valid/loss_vowel  0.049540 valid/loss_consonant  0.044497 valid/acc_grapheme  0.970013 valid/acc_vowel  0.990048 valid/acc_consonant  0.989376 valid/recall  0.980200 lr  0.000118 elapsed_time  36048.016088 \n"
     ]
    },
    {
     "name": "stderr",
     "output_type": "stream",
     "text": [
      "                                                                                                                                                                                                                \r"
     ]
    },
    {
     "name": "stdout",
     "output_type": "stream",
     "text": [
      "epoch     90 train/loss  0.017676 train/loss_grapheme  0.010720 train/loss_vowel  0.003194 train/loss_consonant  0.003761 train/acc_grapheme  0.996946 train/acc_vowel  0.999042 train/acc_consonant  0.998843 train/recall  0.998138 valid/loss  0.215059 valid/loss_grapheme  0.119926 valid/loss_vowel  0.050258 valid/loss_consonant  0.044875 valid/acc_grapheme  0.970784 valid/acc_vowel  0.990222 valid/acc_consonant  0.989575 valid/recall  0.979800 lr  0.000118 elapsed_time  36450.394882 \n"
     ]
    },
    {
     "name": "stderr",
     "output_type": "stream",
     "text": [
      "                                                                                                                                                                                                                \r"
     ]
    },
    {
     "name": "stdout",
     "output_type": "stream",
     "text": [
      "epoch     91 train/loss  0.016949 train/loss_grapheme  0.010441 train/loss_vowel  0.002706 train/loss_consonant  0.003802 train/acc_grapheme  0.997083 train/acc_vowel  0.999216 train/acc_consonant  0.998762 train/recall  0.998150 valid/loss  0.212764 valid/loss_grapheme  0.120684 valid/loss_vowel  0.048679 valid/loss_consonant  0.043401 valid/acc_grapheme  0.971077 valid/acc_vowel  0.990769 valid/acc_consonant  0.990098 valid/recall  0.980625 lr  0.000118 elapsed_time  36856.955242 \n"
     ]
    },
    {
     "name": "stderr",
     "output_type": "stream",
     "text": [
      "                                                                                                                                                                                                               \r"
     ]
    },
    {
     "name": "stdout",
     "output_type": "stream",
     "text": [
      "epoch     92 train/loss  0.016790 train/loss_grapheme  0.010350 train/loss_vowel  0.002737 train/loss_consonant  0.003702 train/acc_grapheme  0.997108 train/acc_vowel  0.999111 train/acc_consonant  0.998918 train/recall  0.998311 valid/loss  0.211004 valid/loss_grapheme  0.117300 valid/loss_vowel  0.049353 valid/loss_consonant  0.044351 valid/acc_grapheme  0.970947 valid/acc_vowel  0.990197 valid/acc_consonant  0.990023 valid/recall  0.978982 lr  0.000118 elapsed_time  37273.436573 \n"
     ]
    },
    {
     "name": "stderr",
     "output_type": "stream",
     "text": [
      "                                                                                                                                                                                                               \r"
     ]
    },
    {
     "name": "stdout",
     "output_type": "stream",
     "text": [
      "epoch     93 train/loss  0.017075 train/loss_grapheme  0.010712 train/loss_vowel  0.002894 train/loss_consonant  0.003469 train/acc_grapheme  0.996915 train/acc_vowel  0.999098 train/acc_consonant  0.998949 train/recall  0.998094 valid/loss  0.213716 valid/loss_grapheme  0.119171 valid/loss_vowel  0.049061 valid/loss_consonant  0.045485 valid/acc_grapheme  0.970909 valid/acc_vowel  0.990496 valid/acc_consonant  0.989998 valid/recall  0.979830 lr  0.000118 elapsed_time  37683.892537 \n"
     ]
    },
    {
     "name": "stderr",
     "output_type": "stream",
     "text": [
      "                                                                                                                                                                                                                \r"
     ]
    },
    {
     "name": "stdout",
     "output_type": "stream",
     "text": [
      "epoch     94 train/loss  0.016763 train/loss_grapheme  0.010266 train/loss_vowel  0.002721 train/loss_consonant  0.003776 train/acc_grapheme  0.997039 train/acc_vowel  0.999191 train/acc_consonant  0.998874 train/recall  0.998073 valid/loss  0.212565 valid/loss_grapheme  0.118361 valid/loss_vowel  0.048906 valid/loss_consonant  0.045298 valid/acc_grapheme  0.971127 valid/acc_vowel  0.990272 valid/acc_consonant  0.989326 valid/recall  0.979861 lr  0.000118 elapsed_time  38115.504014 \n"
     ]
    },
    {
     "name": "stderr",
     "output_type": "stream",
     "text": [
      "                                                                                                                                                                                                                \r"
     ]
    },
    {
     "name": "stdout",
     "output_type": "stream",
     "text": [
      "epoch     95 train/loss  0.015952 train/loss_grapheme  0.009668 train/loss_vowel  0.002856 train/loss_consonant  0.003427 train/acc_grapheme  0.997369 train/acc_vowel  0.999179 train/acc_consonant  0.998961 train/recall  0.998186 valid/loss  0.212245 valid/loss_grapheme  0.119328 valid/loss_vowel  0.048391 valid/loss_consonant  0.044527 valid/acc_grapheme  0.970859 valid/acc_vowel  0.990515 valid/acc_consonant  0.989569 valid/recall  0.979613 lr  0.000118 elapsed_time  38546.257191 \n"
     ]
    },
    {
     "name": "stderr",
     "output_type": "stream",
     "text": [
      "                                                                                                                                                                                                                \r"
     ]
    },
    {
     "name": "stdout",
     "output_type": "stream",
     "text": [
      "epoch     96 train/loss  0.015956 train/loss_grapheme  0.009660 train/loss_vowel  0.002766 train/loss_consonant  0.003529 train/acc_grapheme  0.997133 train/acc_vowel  0.999117 train/acc_consonant  0.998918 train/recall  0.998226 valid/loss  0.212890 valid/loss_grapheme  0.120524 valid/loss_vowel  0.048446 valid/loss_consonant  0.043920 valid/acc_grapheme  0.971108 valid/acc_vowel  0.990515 valid/acc_consonant  0.989650 valid/recall  0.979770 lr  0.000118 elapsed_time  38974.210910 \n"
     ]
    },
    {
     "name": "stderr",
     "output_type": "stream",
     "text": [
      "                                                                                                                                                                                                                \r"
     ]
    },
    {
     "name": "stdout",
     "output_type": "stream",
     "text": [
      "epoch     97 train/loss  0.017113 train/loss_grapheme  0.010444 train/loss_vowel  0.003222 train/loss_consonant  0.003446 train/acc_grapheme  0.997095 train/acc_vowel  0.999036 train/acc_consonant  0.999030 train/recall  0.998106 valid/loss  0.212542 valid/loss_grapheme  0.119570 valid/loss_vowel  0.049034 valid/loss_consonant  0.043938 valid/acc_grapheme  0.970386 valid/acc_vowel  0.990036 valid/acc_consonant  0.989688 valid/recall  0.979898 lr  0.000118 elapsed_time  39383.698151 \n"
     ]
    },
    {
     "name": "stderr",
     "output_type": "stream",
     "text": [
      "                                                                                                                                                                                                                \r"
     ]
    },
    {
     "name": "stdout",
     "output_type": "stream",
     "text": [
      "epoch     98 train/loss  0.015918 train/loss_grapheme  0.009657 train/loss_vowel  0.002499 train/loss_consonant  0.003762 train/acc_grapheme  0.997294 train/acc_vowel  0.999254 train/acc_consonant  0.998800 train/recall  0.998337 valid/loss  0.208423 valid/loss_grapheme  0.117578 valid/loss_vowel  0.048018 valid/loss_consonant  0.042827 valid/acc_grapheme  0.971780 valid/acc_vowel  0.990670 valid/acc_consonant  0.989948 valid/recall  0.979846 lr  0.000082 elapsed_time  39788.317449 \n"
     ]
    },
    {
     "name": "stderr",
     "output_type": "stream",
     "text": [
      "                                                                                                                                                                                                                \r"
     ]
    },
    {
     "name": "stdout",
     "output_type": "stream",
     "text": [
      "epoch     99 train/loss  0.014872 train/loss_grapheme  0.009257 train/loss_vowel  0.002409 train/loss_consonant  0.003207 train/acc_grapheme  0.997226 train/acc_vowel  0.999303 train/acc_consonant  0.998961 train/recall  0.998410 valid/loss  0.210918 valid/loss_grapheme  0.118785 valid/loss_vowel  0.048549 valid/loss_consonant  0.043584 valid/acc_grapheme  0.971232 valid/acc_vowel  0.990589 valid/acc_consonant  0.989799 valid/recall  0.979697 lr  0.000082 elapsed_time  40196.554504 \n"
     ]
    },
    {
     "name": "stderr",
     "output_type": "stream",
     "text": [
      "                                                                                                                                                                                                                  \r"
     ]
    },
    {
     "name": "stdout",
     "output_type": "stream",
     "text": [
      "epoch    100 train/loss  0.014623 train/loss_grapheme  0.008921 train/loss_vowel  0.002632 train/loss_consonant  0.003069 train/acc_grapheme  0.997468 train/acc_vowel  0.999160 train/acc_consonant  0.999123 train/recall  0.998336 valid/loss  0.209768 valid/loss_grapheme  0.116760 valid/loss_vowel  0.047879 valid/loss_consonant  0.045130 valid/acc_grapheme  0.971929 valid/acc_vowel  0.990341 valid/acc_consonant  0.989849 valid/recall  0.980860 lr  0.000082 elapsed_time  40608.674497 \n"
     ]
    },
    {
     "data": {
      "text/plain": [
       "State:\n",
       "\titeration: 125600\n",
       "\tepoch: 100\n",
       "\tepoch_length: 1256\n",
       "\tmax_epochs: 100\n",
       "\toutput: <class 'tuple'>\n",
       "\tbatch: <class 'list'>\n",
       "\tmetrics: <class 'dict'>\n",
       "\tdataloader: <class 'torch.utils.data.dataloader.DataLoader'>\n",
       "\tseed: 12"
      ]
     },
     "execution_count": 27,
     "metadata": {},
     "output_type": "execute_result"
    }
   ],
   "source": [
    "save_json('holdout_grid_mode_2.json', {'image_size':128, 'threshold':20,'arch':'pretrained','model_name':'se_resnext50_32x4d'})\n",
    "trainer.run(train_loader, max_epochs=100)"
   ]
  },
  {
   "cell_type": "code",
   "execution_count": null,
   "metadata": {},
   "outputs": [],
   "source": []
  },
  {
   "cell_type": "code",
   "execution_count": 27,
   "metadata": {
    "scrolled": true
   },
   "outputs": [
    {
     "name": "stderr",
     "output_type": "stream",
     "text": [
      "                                                        \r"
     ]
    },
    {
     "name": "stdout",
     "output_type": "stream",
     "text": [
      "epoch      1 train/loss  4.161853 train/loss_grapheme  2.620765 train/loss_vowel  0.777931 train/loss_consonant  0.763158 train/acc_grapheme  0.429949 train/acc_vowel  0.780479 train/acc_consonant  0.817171 train/recall  0.582633 valid/loss  2.486741 valid/loss_grapheme  1.595854 valid/loss_vowel  0.490085 valid/loss_consonant  0.400802 valid/acc_grapheme  0.616832 valid/acc_vowel  0.861142 valid/acc_consonant  0.897073 valid/recall  0.816198 lr  0.001000 elapsed_time  409.927902 \n"
     ]
    },
    {
     "name": "stderr",
     "output_type": "stream",
     "text": [
      "                                                                                                                                                                                                     \r"
     ]
    },
    {
     "name": "stdout",
     "output_type": "stream",
     "text": [
      "epoch      2 train/loss  1.940940 train/loss_grapheme  1.228146 train/loss_vowel  0.390169 train/loss_consonant  0.322624 train/acc_grapheme  0.713880 train/acc_vowel  0.882489 train/acc_consonant  0.913092 train/recall  0.822117 valid/loss  1.658773 valid/loss_grapheme  1.024045 valid/loss_vowel  0.358749 valid/loss_consonant  0.275979 valid/acc_grapheme  0.752865 valid/acc_vowel  0.887232 valid/acc_consonant  0.920727 valid/recall  0.854488 lr  0.001000 elapsed_time  833.808674 \n"
     ]
    },
    {
     "name": "stderr",
     "output_type": "stream",
     "text": [
      "                                                                                                                                                                                                      \r"
     ]
    },
    {
     "name": "stdout",
     "output_type": "stream",
     "text": [
      "epoch      3 train/loss  1.580412 train/loss_grapheme  1.008476 train/loss_vowel  0.319293 train/loss_consonant  0.252643 train/acc_grapheme  0.759523 train/acc_vowel  0.900633 train/acc_consonant  0.924506 train/recall  0.849164 valid/loss  1.475820 valid/loss_grapheme  0.941976 valid/loss_vowel  0.302591 valid/loss_consonant  0.231253 valid/acc_grapheme  0.764963 valid/acc_vowel  0.903012 valid/acc_consonant  0.928172 valid/recall  0.860847 lr  0.001000 elapsed_time  1268.058388 \n"
     ]
    },
    {
     "name": "stderr",
     "output_type": "stream",
     "text": [
      "                                                                                                                                                                                                      \r"
     ]
    },
    {
     "name": "stdout",
     "output_type": "stream",
     "text": [
      "epoch      4 train/loss  1.396083 train/loss_grapheme  0.895761 train/loss_vowel  0.282771 train/loss_consonant  0.217550 train/acc_grapheme  0.783402 train/acc_vowel  0.910654 train/acc_consonant  0.932468 train/recall  0.864683 valid/loss  1.414842 valid/loss_grapheme  0.873993 valid/loss_vowel  0.298510 valid/loss_consonant  0.242339 valid/acc_grapheme  0.786418 valid/acc_vowel  0.904095 valid/acc_consonant  0.923888 valid/recall  0.866085 lr  0.001000 elapsed_time  1688.320301 \n"
     ]
    },
    {
     "name": "stderr",
     "output_type": "stream",
     "text": [
      "                                                                                                                                                                                                       \r"
     ]
    },
    {
     "name": "stdout",
     "output_type": "stream",
     "text": [
      "epoch      5 train/loss  1.283603 train/loss_grapheme  0.823932 train/loss_vowel  0.258531 train/loss_consonant  0.201140 train/acc_grapheme  0.798349 train/acc_vowel  0.917751 train/acc_consonant  0.936181 train/recall  0.872666 valid/loss  1.248667 valid/loss_grapheme  0.786627 valid/loss_vowel  0.257177 valid/loss_consonant  0.204863 valid/acc_grapheme  0.802793 valid/acc_vowel  0.917354 valid/acc_consonant  0.933410 valid/recall  0.871521 lr  0.001000 elapsed_time  2099.605278 \n"
     ]
    },
    {
     "name": "stderr",
     "output_type": "stream",
     "text": [
      "                                                                                                                                                                                                        \r"
     ]
    },
    {
     "name": "stdout",
     "output_type": "stream",
     "text": [
      "epoch      6 train/loss  1.190094 train/loss_grapheme  0.759766 train/loss_vowel  0.243596 train/loss_consonant  0.186733 train/acc_grapheme  0.812730 train/acc_vowel  0.922547 train/acc_consonant  0.940249 train/recall  0.880895 valid/loss  1.186773 valid/loss_grapheme  0.743058 valid/loss_vowel  0.250006 valid/loss_consonant  0.193709 valid/acc_grapheme  0.811650 valid/acc_vowel  0.920162 valid/acc_consonant  0.938566 valid/recall  0.877283 lr  0.001000 elapsed_time  2505.089947 \n"
     ]
    },
    {
     "name": "stderr",
     "output_type": "stream",
     "text": [
      "                                                                                                                                                                                                      \r"
     ]
    },
    {
     "name": "stdout",
     "output_type": "stream",
     "text": [
      "epoch      7 train/loss  1.122183 train/loss_grapheme  0.715506 train/loss_vowel  0.230250 train/loss_consonant  0.176426 train/acc_grapheme  0.822129 train/acc_vowel  0.926148 train/acc_consonant  0.943148 train/recall  0.886860 valid/loss  1.131682 valid/loss_grapheme  0.712650 valid/loss_vowel  0.233399 valid/loss_consonant  0.185633 valid/acc_grapheme  0.819941 valid/acc_vowel  0.926095 valid/acc_consonant  0.939636 valid/recall  0.888018 lr  0.001000 elapsed_time  2913.493068 \n"
     ]
    },
    {
     "name": "stderr",
     "output_type": "stream",
     "text": [
      "                                                                                                                                                                                                       \r"
     ]
    },
    {
     "name": "stdout",
     "output_type": "stream",
     "text": [
      "epoch      8 train/loss  1.057073 train/loss_grapheme  0.674408 train/loss_vowel  0.216648 train/loss_consonant  0.166017 train/acc_grapheme  0.832572 train/acc_vowel  0.929712 train/acc_consonant  0.945947 train/recall  0.894429 valid/loss  1.125724 valid/loss_grapheme  0.709347 valid/loss_vowel  0.234607 valid/loss_consonant  0.181770 valid/acc_grapheme  0.820177 valid/acc_vowel  0.925222 valid/acc_consonant  0.942359 valid/recall  0.888688 lr  0.001000 elapsed_time  3323.430825 \n"
     ]
    },
    {
     "name": "stderr",
     "output_type": "stream",
     "text": [
      "                                                                                                                                                                                                       \r"
     ]
    },
    {
     "name": "stdout",
     "output_type": "stream",
     "text": [
      "epoch      9 train/loss  1.017533 train/loss_grapheme  0.643557 train/loss_vowel  0.210469 train/loss_consonant  0.163507 train/acc_grapheme  0.839166 train/acc_vowel  0.931261 train/acc_consonant  0.946818 train/recall  0.898678 valid/loss  1.056280 valid/loss_grapheme  0.656712 valid/loss_vowel  0.224906 valid/loss_consonant  0.174662 valid/acc_grapheme  0.832929 valid/acc_vowel  0.926698 valid/acc_consonant  0.943081 valid/recall  0.891087 lr  0.001000 elapsed_time  3733.124638 \n"
     ]
    },
    {
     "name": "stderr",
     "output_type": "stream",
     "text": [
      "                                                                                                                                                                                                        \r"
     ]
    },
    {
     "name": "stdout",
     "output_type": "stream",
     "text": [
      "epoch     10 train/loss  0.968258 train/loss_grapheme  0.611068 train/loss_vowel  0.202766 train/loss_consonant  0.154424 train/acc_grapheme  0.846512 train/acc_vowel  0.933171 train/acc_consonant  0.949779 train/recall  0.902393 valid/loss  1.035430 valid/loss_grapheme  0.651939 valid/loss_vowel  0.212229 valid/loss_consonant  0.171262 valid/acc_grapheme  0.831549 valid/acc_vowel  0.932614 valid/acc_consonant  0.944941 valid/recall  0.886260 lr  0.001000 elapsed_time  4140.867544 \n"
     ]
    },
    {
     "name": "stderr",
     "output_type": "stream",
     "text": [
      "                                                                                                                                                                                                         \r"
     ]
    },
    {
     "name": "stdout",
     "output_type": "stream",
     "text": [
      "epoch     11 train/loss  0.931072 train/loss_grapheme  0.590762 train/loss_vowel  0.192371 train/loss_consonant  0.147940 train/acc_grapheme  0.850897 train/acc_vowel  0.936181 train/acc_consonant  0.951576 train/recall  0.905608 valid/loss  1.026214 valid/loss_grapheme  0.650768 valid/loss_vowel  0.210036 valid/loss_consonant  0.165410 valid/acc_grapheme  0.833340 valid/acc_vowel  0.931544 valid/acc_consonant  0.945582 valid/recall  0.888650 lr  0.001000 elapsed_time  4552.578572 \n"
     ]
    },
    {
     "name": "stderr",
     "output_type": "stream",
     "text": [
      "                                                                                                                                                                                                          \r"
     ]
    },
    {
     "name": "stdout",
     "output_type": "stream",
     "text": [
      "epoch     12 train/loss  0.907316 train/loss_grapheme  0.572774 train/loss_vowel  0.191301 train/loss_consonant  0.143241 train/acc_grapheme  0.854909 train/acc_vowel  0.936001 train/acc_consonant  0.952690 train/recall  0.907534 valid/loss  0.997370 valid/loss_grapheme  0.616876 valid/loss_vowel  0.212431 valid/loss_consonant  0.168062 valid/acc_grapheme  0.840382 valid/acc_vowel  0.931400 valid/acc_consonant  0.945569 valid/recall  0.892712 lr  0.001000 elapsed_time  4962.546721 \n"
     ]
    },
    {
     "name": "stderr",
     "output_type": "stream",
     "text": [
      "                                                                                                                                                                                                          \r"
     ]
    },
    {
     "name": "stdout",
     "output_type": "stream",
     "text": [
      "epoch     13 train/loss  0.870567 train/loss_grapheme  0.546486 train/loss_vowel  0.184998 train/loss_consonant  0.139083 train/acc_grapheme  0.861658 train/acc_vowel  0.938445 train/acc_consonant  0.954214 train/recall  0.912278 valid/loss  1.149507 valid/loss_grapheme  0.692072 valid/loss_vowel  0.267787 valid/loss_consonant  0.189647 valid/acc_grapheme  0.830914 valid/acc_vowel  0.919270 valid/acc_consonant  0.941234 valid/recall  0.891340 lr  0.001000 elapsed_time  5372.411728 \n"
     ]
    },
    {
     "name": "stderr",
     "output_type": "stream",
     "text": [
      "                                                                                                                                                                                                          \r"
     ]
    },
    {
     "name": "stdout",
     "output_type": "stream",
     "text": [
      "epoch     14 train/loss  0.843744 train/loss_grapheme  0.530818 train/loss_vowel  0.178771 train/loss_consonant  0.134155 train/acc_grapheme  0.864544 train/acc_vowel  0.940654 train/acc_consonant  0.955445 train/recall  0.913483 valid/loss  0.988760 valid/loss_grapheme  0.609479 valid/loss_vowel  0.216138 valid/loss_consonant  0.163143 valid/acc_grapheme  0.843744 valid/acc_vowel  0.931201 valid/acc_consonant  0.947062 valid/recall  0.900080 lr  0.001000 elapsed_time  5784.370659 \n"
     ]
    },
    {
     "name": "stderr",
     "output_type": "stream",
     "text": [
      "                                                                                                                                                                                                          \r"
     ]
    },
    {
     "name": "stdout",
     "output_type": "stream",
     "text": [
      "epoch     15 train/loss  0.824451 train/loss_grapheme  0.517419 train/loss_vowel  0.175818 train/loss_consonant  0.131215 train/acc_grapheme  0.868288 train/acc_vowel  0.941220 train/acc_consonant  0.956322 train/recall  0.914712 valid/loss  0.972331 valid/loss_grapheme  0.597159 valid/loss_vowel  0.212985 valid/loss_consonant  0.162187 valid/acc_grapheme  0.845409 valid/acc_vowel  0.930382 valid/acc_consonant  0.947690 valid/recall  0.896102 lr  0.001000 elapsed_time  6196.165658 \n"
     ]
    },
    {
     "name": "stderr",
     "output_type": "stream",
     "text": [
      "                                                                                                                                                                                                          \r"
     ]
    },
    {
     "name": "stdout",
     "output_type": "stream",
     "text": [
      "epoch     16 train/loss  0.804493 train/loss_grapheme  0.505352 train/loss_vowel  0.171227 train/loss_consonant  0.127914 train/acc_grapheme  0.871287 train/acc_vowel  0.942656 train/acc_consonant  0.957224 train/recall  0.917784 valid/loss  0.922901 valid/loss_grapheme  0.563800 valid/loss_vowel  0.198647 valid/loss_consonant  0.160454 valid/acc_grapheme  0.852546 valid/acc_vowel  0.936800 valid/acc_consonant  0.948051 valid/recall  0.904575 lr  0.001000 elapsed_time  6607.443684 \n"
     ]
    },
    {
     "name": "stderr",
     "output_type": "stream",
     "text": [
      "                                                                                                                                                                                                          \r"
     ]
    },
    {
     "name": "stdout",
     "output_type": "stream",
     "text": [
      "epoch     17 train/loss  0.787071 train/loss_grapheme  0.492320 train/loss_vowel  0.168275 train/loss_consonant  0.126476 train/acc_grapheme  0.873526 train/acc_vowel  0.943658 train/acc_consonant  0.957205 train/recall  0.917183 valid/loss  1.135889 valid/loss_grapheme  0.698508 valid/loss_vowel  0.253999 valid/loss_consonant  0.183381 valid/acc_grapheme  0.831248 valid/acc_vowel  0.922910 valid/acc_consonant  0.943100 valid/recall  0.894598 lr  0.001000 elapsed_time  7012.021937 \n"
     ]
    },
    {
     "name": "stderr",
     "output_type": "stream",
     "text": [
      "                                                                                                                                                                                                          \r"
     ]
    },
    {
     "name": "stdout",
     "output_type": "stream",
     "text": [
      "epoch     18 train/loss  0.771554 train/loss_grapheme  0.480621 train/loss_vowel  0.166651 train/loss_consonant  0.124282 train/acc_grapheme  0.877003 train/acc_vowel  0.944417 train/acc_consonant  0.958014 train/recall  0.920864 valid/loss  1.012833 valid/loss_grapheme  0.607046 valid/loss_vowel  0.229254 valid/loss_consonant  0.176532 valid/acc_grapheme  0.846724 valid/acc_vowel  0.931221 valid/acc_consonant  0.945626 valid/recall  0.895426 lr  0.001000 elapsed_time  7418.949939 \n"
     ]
    },
    {
     "name": "stderr",
     "output_type": "stream",
     "text": [
      "                                                                                                                                                                                                          \r"
     ]
    },
    {
     "name": "stdout",
     "output_type": "stream",
     "text": [
      "epoch     19 train/loss  0.761347 train/loss_grapheme  0.475576 train/loss_vowel  0.162471 train/loss_consonant  0.123300 train/acc_grapheme  0.878900 train/acc_vowel  0.945225 train/acc_consonant  0.958866 train/recall  0.922922 valid/loss  0.913839 valid/loss_grapheme  0.557786 valid/loss_vowel  0.200783 valid/loss_consonant  0.155270 valid/acc_grapheme  0.854929 valid/acc_vowel  0.934530 valid/acc_consonant  0.950185 valid/recall  0.902548 lr  0.001000 elapsed_time  7829.596399 \n"
     ]
    },
    {
     "name": "stderr",
     "output_type": "stream",
     "text": [
      "                                                                                                                                                                                                          \r"
     ]
    },
    {
     "name": "stdout",
     "output_type": "stream",
     "text": [
      "epoch     20 train/loss  0.743052 train/loss_grapheme  0.462707 train/loss_vowel  0.158681 train/loss_consonant  0.121665 train/acc_grapheme  0.880530 train/acc_vowel  0.946494 train/acc_consonant  0.958897 train/recall  0.923288 valid/loss  0.891981 valid/loss_grapheme  0.543825 valid/loss_vowel  0.195133 valid/loss_consonant  0.153023 valid/acc_grapheme  0.855331 valid/acc_vowel  0.937969 valid/acc_consonant  0.951515 valid/recall  0.905822 lr  0.001000 elapsed_time  8234.409381 \n"
     ]
    },
    {
     "name": "stderr",
     "output_type": "stream",
     "text": [
      "Epoch [21/100]: [102/1256]   8%|▊         , acc_consonant=0.959, acc_grapheme=0.881, acc_vowel=0.946, loss=0.743, loss_consonant=0.122, loss_grapheme=0.463, loss_vowel=0.159, recall=0.923 [00:30<05:37]Current run is terminating due to exception: .\n",
      "Engine run is terminating due to exception: .\n"
     ]
    },
    {
     "ename": "KeyboardInterrupt",
     "evalue": "",
     "output_type": "error",
     "traceback": [
      "\u001b[0;31m---------------------------------------------------------------------------\u001b[0m",
      "\u001b[0;31mKeyboardInterrupt\u001b[0m                         Traceback (most recent call last)",
      "\u001b[0;32m<ipython-input-27-94e83ff4be3f>\u001b[0m in \u001b[0;36m<module>\u001b[0;34m\u001b[0m\n\u001b[1;32m      1\u001b[0m \u001b[0msave_json\u001b[0m\u001b[0;34m(\u001b[0m\u001b[0;34m'holdout_grid_mode_1.json'\u001b[0m\u001b[0;34m,\u001b[0m \u001b[0;34m{\u001b[0m\u001b[0;34m'image_size'\u001b[0m\u001b[0;34m:\u001b[0m\u001b[0;36m128\u001b[0m\u001b[0;34m,\u001b[0m \u001b[0;34m'threshold'\u001b[0m\u001b[0;34m:\u001b[0m\u001b[0;36m20\u001b[0m\u001b[0;34m,\u001b[0m\u001b[0;34m'arch'\u001b[0m\u001b[0;34m:\u001b[0m\u001b[0;34m'pretrained'\u001b[0m\u001b[0;34m,\u001b[0m\u001b[0;34m'model_name'\u001b[0m\u001b[0;34m:\u001b[0m\u001b[0;34m'se_resnext50_32x4d'\u001b[0m\u001b[0;34m}\u001b[0m\u001b[0;34m)\u001b[0m\u001b[0;34m\u001b[0m\u001b[0;34m\u001b[0m\u001b[0m\n\u001b[0;32m----> 2\u001b[0;31m \u001b[0mtrainer\u001b[0m\u001b[0;34m.\u001b[0m\u001b[0mrun\u001b[0m\u001b[0;34m(\u001b[0m\u001b[0mtrain_loader\u001b[0m\u001b[0;34m,\u001b[0m \u001b[0mmax_epochs\u001b[0m\u001b[0;34m=\u001b[0m\u001b[0;36m100\u001b[0m\u001b[0;34m)\u001b[0m\u001b[0;34m\u001b[0m\u001b[0;34m\u001b[0m\u001b[0m\n\u001b[0m",
      "\u001b[0;32m~/anaconda3/envs/pytorch/lib/python3.7/site-packages/ignite/engine/engine.py\u001b[0m in \u001b[0;36mrun\u001b[0;34m(self, data, max_epochs, epoch_length, seed)\u001b[0m\n\u001b[1;32m    620\u001b[0m \u001b[0;34m\u001b[0m\u001b[0m\n\u001b[1;32m    621\u001b[0m         \u001b[0mself\u001b[0m\u001b[0;34m.\u001b[0m\u001b[0mstate\u001b[0m\u001b[0;34m.\u001b[0m\u001b[0mdataloader\u001b[0m \u001b[0;34m=\u001b[0m \u001b[0mdata\u001b[0m\u001b[0;34m\u001b[0m\u001b[0;34m\u001b[0m\u001b[0m\n\u001b[0;32m--> 622\u001b[0;31m         \u001b[0;32mreturn\u001b[0m \u001b[0mself\u001b[0m\u001b[0;34m.\u001b[0m\u001b[0m_internal_run\u001b[0m\u001b[0;34m(\u001b[0m\u001b[0;34m)\u001b[0m\u001b[0;34m\u001b[0m\u001b[0;34m\u001b[0m\u001b[0m\n\u001b[0m\u001b[1;32m    623\u001b[0m \u001b[0;34m\u001b[0m\u001b[0m\n\u001b[1;32m    624\u001b[0m     \u001b[0;32mdef\u001b[0m \u001b[0m_setup_engine\u001b[0m\u001b[0;34m(\u001b[0m\u001b[0mself\u001b[0m\u001b[0;34m)\u001b[0m \u001b[0;34m->\u001b[0m \u001b[0;32mNone\u001b[0m\u001b[0;34m:\u001b[0m\u001b[0;34m\u001b[0m\u001b[0;34m\u001b[0m\u001b[0m\n",
      "\u001b[0;32m~/anaconda3/envs/pytorch/lib/python3.7/site-packages/ignite/engine/engine.py\u001b[0m in \u001b[0;36m_internal_run\u001b[0;34m(self)\u001b[0m\n\u001b[1;32m    732\u001b[0m             \u001b[0mself\u001b[0m\u001b[0;34m.\u001b[0m\u001b[0m_dataloader_iter\u001b[0m \u001b[0;34m=\u001b[0m \u001b[0mself\u001b[0m\u001b[0;34m.\u001b[0m\u001b[0m_dataloader_len\u001b[0m \u001b[0;34m=\u001b[0m \u001b[0;32mNone\u001b[0m\u001b[0;34m\u001b[0m\u001b[0;34m\u001b[0m\u001b[0m\n\u001b[1;32m    733\u001b[0m             \u001b[0mself\u001b[0m\u001b[0;34m.\u001b[0m\u001b[0mlogger\u001b[0m\u001b[0;34m.\u001b[0m\u001b[0merror\u001b[0m\u001b[0;34m(\u001b[0m\u001b[0;34m\"Engine run is terminating due to exception: %s.\"\u001b[0m\u001b[0;34m,\u001b[0m \u001b[0mstr\u001b[0m\u001b[0;34m(\u001b[0m\u001b[0me\u001b[0m\u001b[0;34m)\u001b[0m\u001b[0;34m)\u001b[0m\u001b[0;34m\u001b[0m\u001b[0;34m\u001b[0m\u001b[0m\n\u001b[0;32m--> 734\u001b[0;31m             \u001b[0mself\u001b[0m\u001b[0;34m.\u001b[0m\u001b[0m_handle_exception\u001b[0m\u001b[0;34m(\u001b[0m\u001b[0me\u001b[0m\u001b[0;34m)\u001b[0m\u001b[0;34m\u001b[0m\u001b[0;34m\u001b[0m\u001b[0m\n\u001b[0m\u001b[1;32m    735\u001b[0m \u001b[0;34m\u001b[0m\u001b[0m\n\u001b[1;32m    736\u001b[0m         \u001b[0mself\u001b[0m\u001b[0;34m.\u001b[0m\u001b[0m_dataloader_iter\u001b[0m \u001b[0;34m=\u001b[0m \u001b[0mself\u001b[0m\u001b[0;34m.\u001b[0m\u001b[0m_dataloader_len\u001b[0m \u001b[0;34m=\u001b[0m \u001b[0;32mNone\u001b[0m\u001b[0;34m\u001b[0m\u001b[0;34m\u001b[0m\u001b[0m\n",
      "\u001b[0;32m~/anaconda3/envs/pytorch/lib/python3.7/site-packages/ignite/engine/engine.py\u001b[0m in \u001b[0;36m_handle_exception\u001b[0;34m(self, e)\u001b[0m\n\u001b[1;32m    472\u001b[0m             \u001b[0mself\u001b[0m\u001b[0;34m.\u001b[0m\u001b[0m_fire_event\u001b[0m\u001b[0;34m(\u001b[0m\u001b[0mEvents\u001b[0m\u001b[0;34m.\u001b[0m\u001b[0mEXCEPTION_RAISED\u001b[0m\u001b[0;34m,\u001b[0m \u001b[0me\u001b[0m\u001b[0;34m)\u001b[0m\u001b[0;34m\u001b[0m\u001b[0;34m\u001b[0m\u001b[0m\n\u001b[1;32m    473\u001b[0m         \u001b[0;32melse\u001b[0m\u001b[0;34m:\u001b[0m\u001b[0;34m\u001b[0m\u001b[0;34m\u001b[0m\u001b[0m\n\u001b[0;32m--> 474\u001b[0;31m             \u001b[0;32mraise\u001b[0m \u001b[0me\u001b[0m\u001b[0;34m\u001b[0m\u001b[0;34m\u001b[0m\u001b[0m\n\u001b[0m\u001b[1;32m    475\u001b[0m \u001b[0;34m\u001b[0m\u001b[0m\n\u001b[1;32m    476\u001b[0m     \u001b[0;32mdef\u001b[0m \u001b[0mstate_dict\u001b[0m\u001b[0;34m(\u001b[0m\u001b[0mself\u001b[0m\u001b[0;34m)\u001b[0m \u001b[0;34m->\u001b[0m \u001b[0mOrderedDict\u001b[0m\u001b[0;34m:\u001b[0m\u001b[0;34m\u001b[0m\u001b[0;34m\u001b[0m\u001b[0m\n",
      "\u001b[0;32m~/anaconda3/envs/pytorch/lib/python3.7/site-packages/ignite/engine/engine.py\u001b[0m in \u001b[0;36m_internal_run\u001b[0;34m(self)\u001b[0m\n\u001b[1;32m    717\u001b[0m                     \u001b[0mself\u001b[0m\u001b[0;34m.\u001b[0m\u001b[0m_setup_engine\u001b[0m\u001b[0;34m(\u001b[0m\u001b[0;34m)\u001b[0m\u001b[0;34m\u001b[0m\u001b[0;34m\u001b[0m\u001b[0m\n\u001b[1;32m    718\u001b[0m \u001b[0;34m\u001b[0m\u001b[0m\n\u001b[0;32m--> 719\u001b[0;31m                 \u001b[0mhours\u001b[0m\u001b[0;34m,\u001b[0m \u001b[0mmins\u001b[0m\u001b[0;34m,\u001b[0m \u001b[0msecs\u001b[0m \u001b[0;34m=\u001b[0m \u001b[0mself\u001b[0m\u001b[0;34m.\u001b[0m\u001b[0m_run_once_on_dataset\u001b[0m\u001b[0;34m(\u001b[0m\u001b[0;34m)\u001b[0m\u001b[0;34m\u001b[0m\u001b[0;34m\u001b[0m\u001b[0m\n\u001b[0m\u001b[1;32m    720\u001b[0m \u001b[0;34m\u001b[0m\u001b[0m\n\u001b[1;32m    721\u001b[0m                 \u001b[0mself\u001b[0m\u001b[0;34m.\u001b[0m\u001b[0mlogger\u001b[0m\u001b[0;34m.\u001b[0m\u001b[0minfo\u001b[0m\u001b[0;34m(\u001b[0m\u001b[0;34m\"Epoch[%s] Complete. Time taken: %02d:%02d:%02d\"\u001b[0m\u001b[0;34m,\u001b[0m \u001b[0mself\u001b[0m\u001b[0;34m.\u001b[0m\u001b[0mstate\u001b[0m\u001b[0;34m.\u001b[0m\u001b[0mepoch\u001b[0m\u001b[0;34m,\u001b[0m \u001b[0mhours\u001b[0m\u001b[0;34m,\u001b[0m \u001b[0mmins\u001b[0m\u001b[0;34m,\u001b[0m \u001b[0msecs\u001b[0m\u001b[0;34m)\u001b[0m\u001b[0;34m\u001b[0m\u001b[0;34m\u001b[0m\u001b[0m\n",
      "\u001b[0;32m~/anaconda3/envs/pytorch/lib/python3.7/site-packages/ignite/engine/engine.py\u001b[0m in \u001b[0;36m_run_once_on_dataset\u001b[0;34m(self)\u001b[0m\n\u001b[1;32m    461\u001b[0m         \u001b[0;32mexcept\u001b[0m \u001b[0mBaseException\u001b[0m \u001b[0;32mas\u001b[0m \u001b[0me\u001b[0m\u001b[0;34m:\u001b[0m\u001b[0;34m\u001b[0m\u001b[0;34m\u001b[0m\u001b[0m\n\u001b[1;32m    462\u001b[0m             \u001b[0mself\u001b[0m\u001b[0;34m.\u001b[0m\u001b[0mlogger\u001b[0m\u001b[0;34m.\u001b[0m\u001b[0merror\u001b[0m\u001b[0;34m(\u001b[0m\u001b[0;34m\"Current run is terminating due to exception: %s.\"\u001b[0m\u001b[0;34m,\u001b[0m \u001b[0mstr\u001b[0m\u001b[0;34m(\u001b[0m\u001b[0me\u001b[0m\u001b[0;34m)\u001b[0m\u001b[0;34m)\u001b[0m\u001b[0;34m\u001b[0m\u001b[0;34m\u001b[0m\u001b[0m\n\u001b[0;32m--> 463\u001b[0;31m             \u001b[0mself\u001b[0m\u001b[0;34m.\u001b[0m\u001b[0m_handle_exception\u001b[0m\u001b[0;34m(\u001b[0m\u001b[0me\u001b[0m\u001b[0;34m)\u001b[0m\u001b[0;34m\u001b[0m\u001b[0;34m\u001b[0m\u001b[0m\n\u001b[0m\u001b[1;32m    464\u001b[0m \u001b[0;34m\u001b[0m\u001b[0m\n\u001b[1;32m    465\u001b[0m         \u001b[0mtime_taken\u001b[0m \u001b[0;34m=\u001b[0m \u001b[0mtime\u001b[0m\u001b[0;34m.\u001b[0m\u001b[0mtime\u001b[0m\u001b[0;34m(\u001b[0m\u001b[0;34m)\u001b[0m \u001b[0;34m-\u001b[0m \u001b[0mstart_time\u001b[0m\u001b[0;34m\u001b[0m\u001b[0;34m\u001b[0m\u001b[0m\n",
      "\u001b[0;32m~/anaconda3/envs/pytorch/lib/python3.7/site-packages/ignite/engine/engine.py\u001b[0m in \u001b[0;36m_handle_exception\u001b[0;34m(self, e)\u001b[0m\n\u001b[1;32m    472\u001b[0m             \u001b[0mself\u001b[0m\u001b[0;34m.\u001b[0m\u001b[0m_fire_event\u001b[0m\u001b[0;34m(\u001b[0m\u001b[0mEvents\u001b[0m\u001b[0;34m.\u001b[0m\u001b[0mEXCEPTION_RAISED\u001b[0m\u001b[0;34m,\u001b[0m \u001b[0me\u001b[0m\u001b[0;34m)\u001b[0m\u001b[0;34m\u001b[0m\u001b[0;34m\u001b[0m\u001b[0m\n\u001b[1;32m    473\u001b[0m         \u001b[0;32melse\u001b[0m\u001b[0;34m:\u001b[0m\u001b[0;34m\u001b[0m\u001b[0;34m\u001b[0m\u001b[0m\n\u001b[0;32m--> 474\u001b[0;31m             \u001b[0;32mraise\u001b[0m \u001b[0me\u001b[0m\u001b[0;34m\u001b[0m\u001b[0;34m\u001b[0m\u001b[0m\n\u001b[0m\u001b[1;32m    475\u001b[0m \u001b[0;34m\u001b[0m\u001b[0m\n\u001b[1;32m    476\u001b[0m     \u001b[0;32mdef\u001b[0m \u001b[0mstate_dict\u001b[0m\u001b[0;34m(\u001b[0m\u001b[0mself\u001b[0m\u001b[0;34m)\u001b[0m \u001b[0;34m->\u001b[0m \u001b[0mOrderedDict\u001b[0m\u001b[0;34m:\u001b[0m\u001b[0;34m\u001b[0m\u001b[0;34m\u001b[0m\u001b[0m\n",
      "\u001b[0;32m~/anaconda3/envs/pytorch/lib/python3.7/site-packages/ignite/engine/engine.py\u001b[0m in \u001b[0;36m_run_once_on_dataset\u001b[0;34m(self)\u001b[0m\n\u001b[1;32m    444\u001b[0m                 \u001b[0mself\u001b[0m\u001b[0;34m.\u001b[0m\u001b[0mstate\u001b[0m\u001b[0;34m.\u001b[0m\u001b[0miteration\u001b[0m \u001b[0;34m+=\u001b[0m \u001b[0;36m1\u001b[0m\u001b[0;34m\u001b[0m\u001b[0;34m\u001b[0m\u001b[0m\n\u001b[1;32m    445\u001b[0m                 \u001b[0mself\u001b[0m\u001b[0;34m.\u001b[0m\u001b[0m_fire_event\u001b[0m\u001b[0;34m(\u001b[0m\u001b[0mEvents\u001b[0m\u001b[0;34m.\u001b[0m\u001b[0mITERATION_STARTED\u001b[0m\u001b[0;34m)\u001b[0m\u001b[0;34m\u001b[0m\u001b[0;34m\u001b[0m\u001b[0m\n\u001b[0;32m--> 446\u001b[0;31m                 \u001b[0mself\u001b[0m\u001b[0;34m.\u001b[0m\u001b[0mstate\u001b[0m\u001b[0;34m.\u001b[0m\u001b[0moutput\u001b[0m \u001b[0;34m=\u001b[0m \u001b[0mself\u001b[0m\u001b[0;34m.\u001b[0m\u001b[0m_process_function\u001b[0m\u001b[0;34m(\u001b[0m\u001b[0mself\u001b[0m\u001b[0;34m,\u001b[0m \u001b[0mself\u001b[0m\u001b[0;34m.\u001b[0m\u001b[0mstate\u001b[0m\u001b[0;34m.\u001b[0m\u001b[0mbatch\u001b[0m\u001b[0;34m)\u001b[0m\u001b[0;34m\u001b[0m\u001b[0;34m\u001b[0m\u001b[0m\n\u001b[0m\u001b[1;32m    447\u001b[0m                 \u001b[0mself\u001b[0m\u001b[0;34m.\u001b[0m\u001b[0m_fire_event\u001b[0m\u001b[0;34m(\u001b[0m\u001b[0mEvents\u001b[0m\u001b[0;34m.\u001b[0m\u001b[0mITERATION_COMPLETED\u001b[0m\u001b[0;34m)\u001b[0m\u001b[0;34m\u001b[0m\u001b[0;34m\u001b[0m\u001b[0m\n\u001b[1;32m    448\u001b[0m \u001b[0;34m\u001b[0m\u001b[0m\n",
      "\u001b[0;32m<ipython-input-23-eaa7f9aba331>\u001b[0m in \u001b[0;36mupdate_fn\u001b[0;34m(engine, batch)\u001b[0m\n\u001b[1;32m     32\u001b[0m         \u001b[0mloss\u001b[0m\u001b[0;34m,\u001b[0m \u001b[0mmetrics\u001b[0m\u001b[0;34m,\u001b[0m \u001b[0mpred_y\u001b[0m \u001b[0;34m=\u001b[0m \u001b[0mclassifier\u001b[0m\u001b[0;34m(\u001b[0m\u001b[0mx\u001b[0m\u001b[0;34m,\u001b[0m \u001b[0my\u001b[0m\u001b[0;34m)\u001b[0m\u001b[0;34m\u001b[0m\u001b[0;34m\u001b[0m\u001b[0m\n\u001b[1;32m     33\u001b[0m         \u001b[0mloss\u001b[0m\u001b[0;34m.\u001b[0m\u001b[0mbackward\u001b[0m\u001b[0;34m(\u001b[0m\u001b[0;34m)\u001b[0m\u001b[0;34m\u001b[0m\u001b[0;34m\u001b[0m\u001b[0m\n\u001b[0;32m---> 34\u001b[0;31m         \u001b[0moptimizer\u001b[0m\u001b[0;34m.\u001b[0m\u001b[0mstep\u001b[0m\u001b[0;34m(\u001b[0m\u001b[0;34m)\u001b[0m\u001b[0;34m\u001b[0m\u001b[0;34m\u001b[0m\u001b[0m\n\u001b[0m\u001b[1;32m     35\u001b[0m         \u001b[0;32mreturn\u001b[0m \u001b[0mmetrics\u001b[0m\u001b[0;34m,\u001b[0m \u001b[0mpred_y\u001b[0m\u001b[0;34m,\u001b[0m \u001b[0my\u001b[0m\u001b[0;34m\u001b[0m\u001b[0;34m\u001b[0m\u001b[0m\n\u001b[1;32m     36\u001b[0m     \u001b[0mtrainer\u001b[0m \u001b[0;34m=\u001b[0m \u001b[0mEngine\u001b[0m\u001b[0;34m(\u001b[0m\u001b[0mupdate_fn\u001b[0m\u001b[0;34m)\u001b[0m\u001b[0;34m\u001b[0m\u001b[0;34m\u001b[0m\u001b[0m\n",
      "\u001b[0;32m~/anaconda3/envs/pytorch/lib/python3.7/site-packages/torch/optim/adam.py\u001b[0m in \u001b[0;36mstep\u001b[0;34m(self, closure)\u001b[0m\n\u001b[1;32m     94\u001b[0m                 \u001b[0;31m# Decay the first and second moment running average coefficient\u001b[0m\u001b[0;34m\u001b[0m\u001b[0;34m\u001b[0m\u001b[0;34m\u001b[0m\u001b[0m\n\u001b[1;32m     95\u001b[0m                 \u001b[0mexp_avg\u001b[0m\u001b[0;34m.\u001b[0m\u001b[0mmul_\u001b[0m\u001b[0;34m(\u001b[0m\u001b[0mbeta1\u001b[0m\u001b[0;34m)\u001b[0m\u001b[0;34m.\u001b[0m\u001b[0madd_\u001b[0m\u001b[0;34m(\u001b[0m\u001b[0;36m1\u001b[0m \u001b[0;34m-\u001b[0m \u001b[0mbeta1\u001b[0m\u001b[0;34m,\u001b[0m \u001b[0mgrad\u001b[0m\u001b[0;34m)\u001b[0m\u001b[0;34m\u001b[0m\u001b[0;34m\u001b[0m\u001b[0m\n\u001b[0;32m---> 96\u001b[0;31m                 \u001b[0mexp_avg_sq\u001b[0m\u001b[0;34m.\u001b[0m\u001b[0mmul_\u001b[0m\u001b[0;34m(\u001b[0m\u001b[0mbeta2\u001b[0m\u001b[0;34m)\u001b[0m\u001b[0;34m.\u001b[0m\u001b[0maddcmul_\u001b[0m\u001b[0;34m(\u001b[0m\u001b[0;36m1\u001b[0m \u001b[0;34m-\u001b[0m \u001b[0mbeta2\u001b[0m\u001b[0;34m,\u001b[0m \u001b[0mgrad\u001b[0m\u001b[0;34m,\u001b[0m \u001b[0mgrad\u001b[0m\u001b[0;34m)\u001b[0m\u001b[0;34m\u001b[0m\u001b[0;34m\u001b[0m\u001b[0m\n\u001b[0m\u001b[1;32m     97\u001b[0m                 \u001b[0;32mif\u001b[0m \u001b[0mamsgrad\u001b[0m\u001b[0;34m:\u001b[0m\u001b[0;34m\u001b[0m\u001b[0;34m\u001b[0m\u001b[0m\n\u001b[1;32m     98\u001b[0m                     \u001b[0;31m# Maintains the maximum of all 2nd moment running avg. till now\u001b[0m\u001b[0;34m\u001b[0m\u001b[0;34m\u001b[0m\u001b[0;34m\u001b[0m\u001b[0m\n",
      "\u001b[0;31mKeyboardInterrupt\u001b[0m: "
     ]
    }
   ],
   "source": [
    "save_json('holdout_grid_mode_2.json', {'image_size':128, 'threshold':20,'arch':'pretrained','model_name':'se_resnext50_32x4d'})\n",
    "trainer.run(train_loader, max_epochs=100)"
   ]
  },
  {
   "cell_type": "code",
   "execution_count": null,
   "metadata": {},
   "outputs": [],
   "source": []
  },
  {
   "cell_type": "code",
   "execution_count": 27,
   "metadata": {
    "scrolled": true
   },
   "outputs": [
    {
     "name": "stderr",
     "output_type": "stream",
     "text": [
      "                                                        \r"
     ]
    },
    {
     "name": "stdout",
     "output_type": "stream",
     "text": [
      "epoch      1 train/loss  3.324080 train/loss_grapheme  2.099903 train/loss_vowel  0.587706 train/loss_consonant  0.636471 train/acc_grapheme  0.534304 train/acc_vowel  0.855494 train/acc_consonant  0.864158 train/recall  0.641159 valid/loss  1.633704 valid/loss_grapheme  1.070386 valid/loss_vowel  0.267908 valid/loss_consonant  0.295411 valid/acc_grapheme  0.722214 valid/acc_vowel  0.933626 valid/acc_consonant  0.932912 valid/recall  0.856382 lr  0.001000 elapsed_time  406.947959 \n"
     ]
    },
    {
     "name": "stderr",
     "output_type": "stream",
     "text": [
      "                                                                                                                                                                                                      \r"
     ]
    },
    {
     "name": "stdout",
     "output_type": "stream",
     "text": [
      "epoch      2 train/loss  1.060010 train/loss_grapheme  0.675211 train/loss_vowel  0.188300 train/loss_consonant  0.196498 train/acc_grapheme  0.829649 train/acc_vowel  0.954836 train/acc_consonant  0.956378 train/recall  0.883572 valid/loss  0.965976 valid/loss_grapheme  0.579340 valid/loss_vowel  0.184351 valid/loss_consonant  0.202284 valid/acc_grapheme  0.846295 valid/acc_vowel  0.951791 valid/acc_consonant  0.951596 valid/recall  0.888169 lr  0.001000 elapsed_time  817.111612 \n"
     ]
    },
    {
     "name": "stderr",
     "output_type": "stream",
     "text": [
      "                                                                                                                                                                                                       \r"
     ]
    },
    {
     "name": "stdout",
     "output_type": "stream",
     "text": [
      "epoch      3 train/loss  0.751487 train/loss_grapheme  0.491028 train/loss_vowel  0.131922 train/loss_consonant  0.128537 train/acc_grapheme  0.873625 train/acc_vowel  0.966044 train/acc_consonant  0.966791 train/recall  0.913083 valid/loss  0.715298 valid/loss_grapheme  0.468672 valid/loss_vowel  0.116274 valid/loss_consonant  0.130351 valid/acc_grapheme  0.874694 valid/acc_vowel  0.967992 valid/acc_consonant  0.965753 valid/recall  0.917099 lr  0.001000 elapsed_time  1226.521368 \n"
     ]
    },
    {
     "name": "stderr",
     "output_type": "stream",
     "text": [
      "                                                                                                                                                                                                         \r"
     ]
    },
    {
     "name": "stdout",
     "output_type": "stream",
     "text": [
      "epoch      4 train/loss  0.602182 train/loss_grapheme  0.396911 train/loss_vowel  0.104357 train/loss_consonant  0.100915 train/acc_grapheme  0.895831 train/acc_vowel  0.972619 train/acc_consonant  0.972793 train/recall  0.929519 valid/loss  0.725378 valid/loss_grapheme  0.454996 valid/loss_vowel  0.136821 valid/loss_consonant  0.133561 valid/acc_grapheme  0.878257 valid/acc_vowel  0.960790 valid/acc_consonant  0.961791 valid/recall  0.912926 lr  0.001000 elapsed_time  1636.793607 \n"
     ]
    },
    {
     "name": "stderr",
     "output_type": "stream",
     "text": [
      "                                                                                                                                                                                                        \r"
     ]
    },
    {
     "name": "stdout",
     "output_type": "stream",
     "text": [
      "epoch      5 train/loss  0.506383 train/loss_grapheme  0.331711 train/loss_vowel  0.088145 train/loss_consonant  0.086528 train/acc_grapheme  0.912713 train/acc_vowel  0.976749 train/acc_consonant  0.975629 train/recall  0.941138 valid/loss  0.519267 valid/loss_grapheme  0.338684 valid/loss_vowel  0.095289 valid/loss_consonant  0.085293 valid/acc_grapheme  0.908275 valid/acc_vowel  0.973217 valid/acc_consonant  0.975835 valid/recall  0.943264 lr  0.001000 elapsed_time  2047.036381 \n"
     ]
    },
    {
     "name": "stderr",
     "output_type": "stream",
     "text": [
      "                                                                                                                                                                                                           \r"
     ]
    },
    {
     "name": "stdout",
     "output_type": "stream",
     "text": [
      "epoch      6 train/loss  0.432945 train/loss_grapheme  0.286705 train/loss_vowel  0.074992 train/loss_consonant  0.071248 train/acc_grapheme  0.924512 train/acc_vowel  0.979772 train/acc_consonant  0.979635 train/recall  0.949201 valid/loss  0.506195 valid/loss_grapheme  0.326837 valid/loss_vowel  0.087810 valid/loss_consonant  0.091549 valid/acc_grapheme  0.912357 valid/acc_vowel  0.975382 valid/acc_consonant  0.973845 valid/recall  0.940329 lr  0.001000 elapsed_time  2455.082668 \n"
     ]
    },
    {
     "name": "stderr",
     "output_type": "stream",
     "text": [
      "                                                                                                                                                                                                        \r"
     ]
    },
    {
     "name": "stdout",
     "output_type": "stream",
     "text": [
      "epoch      7 train/loss  0.377640 train/loss_grapheme  0.248455 train/loss_vowel  0.065625 train/loss_consonant  0.063560 train/acc_grapheme  0.933625 train/acc_vowel  0.982123 train/acc_consonant  0.981557 train/recall  0.955605 valid/loss  0.558401 valid/loss_grapheme  0.358972 valid/loss_vowel  0.104436 valid/loss_consonant  0.094994 valid/acc_grapheme  0.905098 valid/acc_vowel  0.970853 valid/acc_consonant  0.971456 valid/recall  0.936594 lr  0.001000 elapsed_time  2864.326929 \n"
     ]
    },
    {
     "name": "stderr",
     "output_type": "stream",
     "text": [
      "                                                                                                                                                                                                           \r"
     ]
    },
    {
     "name": "stdout",
     "output_type": "stream",
     "text": [
      "epoch      8 train/loss  0.334309 train/loss_grapheme  0.219793 train/loss_vowel  0.057555 train/loss_consonant  0.056961 train/acc_grapheme  0.941699 train/acc_vowel  0.983958 train/acc_consonant  0.983131 train/recall  0.960170 valid/loss  0.436136 valid/loss_grapheme  0.283147 valid/loss_vowel  0.078086 valid/loss_consonant  0.074904 valid/acc_grapheme  0.924738 valid/acc_vowel  0.977988 valid/acc_consonant  0.978721 valid/recall  0.946717 lr  0.001000 elapsed_time  3272.014705 \n"
     ]
    },
    {
     "name": "stderr",
     "output_type": "stream",
     "text": [
      "                                                                                                                                                                                                        \r"
     ]
    },
    {
     "name": "stdout",
     "output_type": "stream",
     "text": [
      "epoch      9 train/loss  0.295886 train/loss_grapheme  0.193168 train/loss_vowel  0.052158 train/loss_consonant  0.050560 train/acc_grapheme  0.947614 train/acc_vowel  0.985532 train/acc_consonant  0.984798 train/recall  0.965248 valid/loss  0.368442 valid/loss_grapheme  0.235951 valid/loss_vowel  0.065951 valid/loss_consonant  0.066540 valid/acc_grapheme  0.937060 valid/acc_vowel  0.981900 valid/acc_consonant  0.980208 valid/recall  0.957359 lr  0.001000 elapsed_time  3681.694586 \n"
     ]
    },
    {
     "name": "stderr",
     "output_type": "stream",
     "text": [
      "                                                                                                                                                                                                            \r"
     ]
    },
    {
     "name": "stdout",
     "output_type": "stream",
     "text": [
      "epoch     10 train/loss  0.268271 train/loss_grapheme  0.176829 train/loss_vowel  0.046106 train/loss_consonant  0.045336 train/acc_grapheme  0.952142 train/acc_vowel  0.987274 train/acc_consonant  0.986185 train/recall  0.968310 valid/loss  0.365807 valid/loss_grapheme  0.229419 valid/loss_vowel  0.071865 valid/loss_consonant  0.064523 valid/acc_grapheme  0.938895 valid/acc_vowel  0.980936 valid/acc_consonant  0.981546 valid/recall  0.956583 lr  0.001000 elapsed_time  4086.067595 \n"
     ]
    },
    {
     "name": "stderr",
     "output_type": "stream",
     "text": [
      "                                                                                                                                                                                                            \r"
     ]
    },
    {
     "name": "stdout",
     "output_type": "stream",
     "text": [
      "epoch     11 train/loss  0.242012 train/loss_grapheme  0.157572 train/loss_vowel  0.043465 train/loss_consonant  0.040975 train/acc_grapheme  0.957448 train/acc_vowel  0.987609 train/acc_consonant  0.987920 train/recall  0.970993 valid/loss  0.391045 valid/loss_grapheme  0.243925 valid/loss_vowel  0.070580 valid/loss_consonant  0.076541 valid/acc_grapheme  0.934480 valid/acc_vowel  0.980725 valid/acc_consonant  0.978101 valid/recall  0.950227 lr  0.001000 elapsed_time  4490.256382 \n"
     ]
    },
    {
     "name": "stderr",
     "output_type": "stream",
     "text": [
      "                                                                                                                                                                                                           \r"
     ]
    },
    {
     "name": "stdout",
     "output_type": "stream",
     "text": [
      "epoch     12 train/loss  0.215289 train/loss_grapheme  0.140311 train/loss_vowel  0.037247 train/loss_consonant  0.037732 train/acc_grapheme  0.961696 train/acc_vowel  0.989339 train/acc_consonant  0.988567 train/recall  0.974184 valid/loss  0.353974 valid/loss_grapheme  0.223341 valid/loss_vowel  0.068993 valid/loss_consonant  0.061640 valid/acc_grapheme  0.941165 valid/acc_vowel  0.981533 valid/acc_consonant  0.981975 valid/recall  0.958046 lr  0.001000 elapsed_time  4894.727388 \n"
     ]
    },
    {
     "name": "stderr",
     "output_type": "stream",
     "text": [
      "                                                                                                                                                                                                           \r"
     ]
    },
    {
     "name": "stdout",
     "output_type": "stream",
     "text": [
      "epoch     13 train/loss  0.204199 train/loss_grapheme  0.134787 train/loss_vowel  0.034824 train/loss_consonant  0.034587 train/acc_grapheme  0.962642 train/acc_vowel  0.990172 train/acc_consonant  0.989494 train/recall  0.975864 valid/loss  0.386315 valid/loss_grapheme  0.234140 valid/loss_vowel  0.083010 valid/loss_consonant  0.069165 valid/acc_grapheme  0.937944 valid/acc_vowel  0.977074 valid/acc_consonant  0.980792 valid/recall  0.953937 lr  0.001000 elapsed_time  5297.314889 \n"
     ]
    },
    {
     "name": "stderr",
     "output_type": "stream",
     "text": [
      "                                                                                                                                                                                                           \r"
     ]
    },
    {
     "name": "stdout",
     "output_type": "stream",
     "text": [
      "epoch     14 train/loss  0.184375 train/loss_grapheme  0.120669 train/loss_vowel  0.032274 train/loss_consonant  0.031432 train/acc_grapheme  0.967151 train/acc_vowel  0.990558 train/acc_consonant  0.990409 train/recall  0.978361 valid/loss  0.358530 valid/loss_grapheme  0.220653 valid/loss_vowel  0.067641 valid/loss_consonant  0.070236 valid/acc_grapheme  0.942702 valid/acc_vowel  0.982429 valid/acc_consonant  0.980781 valid/recall  0.958974 lr  0.001000 elapsed_time  5708.129064 \n"
     ]
    },
    {
     "name": "stderr",
     "output_type": "stream",
     "text": [
      "                                                                                                                                                                                                           \r"
     ]
    },
    {
     "name": "stdout",
     "output_type": "stream",
     "text": [
      "epoch     15 train/loss  0.172202 train/loss_grapheme  0.114510 train/loss_vowel  0.028032 train/loss_consonant  0.029660 train/acc_grapheme  0.968650 train/acc_vowel  0.991821 train/acc_consonant  0.990968 train/recall  0.978750 valid/loss  0.350519 valid/loss_grapheme  0.218316 valid/loss_vowel  0.069686 valid/loss_consonant  0.062517 valid/acc_grapheme  0.943640 valid/acc_vowel  0.981627 valid/acc_consonant  0.982379 valid/recall  0.961466 lr  0.001000 elapsed_time  6114.014099 \n"
     ]
    },
    {
     "name": "stderr",
     "output_type": "stream",
     "text": [
      "                                                                                                                                                                                                           \r"
     ]
    },
    {
     "name": "stdout",
     "output_type": "stream",
     "text": [
      "epoch     16 train/loss  0.157939 train/loss_grapheme  0.103222 train/loss_vowel  0.027417 train/loss_consonant  0.027300 train/acc_grapheme  0.971555 train/acc_vowel  0.992026 train/acc_consonant  0.991615 train/recall  0.981345 valid/loss  0.370957 valid/loss_grapheme  0.228403 valid/loss_vowel  0.073106 valid/loss_consonant  0.069448 valid/acc_grapheme  0.941190 valid/acc_vowel  0.981596 valid/acc_consonant  0.981831 valid/recall  0.958808 lr  0.001000 elapsed_time  6523.164740 \n"
     ]
    },
    {
     "name": "stderr",
     "output_type": "stream",
     "text": [
      "                                                                                                                                                                                                            \r"
     ]
    },
    {
     "name": "stdout",
     "output_type": "stream",
     "text": [
      "epoch     17 train/loss  0.152605 train/loss_grapheme  0.100459 train/loss_vowel  0.025905 train/loss_consonant  0.026241 train/acc_grapheme  0.972911 train/acc_vowel  0.992486 train/acc_consonant  0.991982 train/recall  0.981987 valid/loss  0.338747 valid/loss_grapheme  0.209431 valid/loss_vowel  0.069727 valid/loss_consonant  0.059589 valid/acc_grapheme  0.945563 valid/acc_vowel  0.982578 valid/acc_consonant  0.983772 valid/recall  0.962799 lr  0.001000 elapsed_time  6932.957101 \n"
     ]
    },
    {
     "name": "stderr",
     "output_type": "stream",
     "text": [
      "                                                                                                                                                                                                          \r"
     ]
    },
    {
     "name": "stdout",
     "output_type": "stream",
     "text": [
      "epoch     18 train/loss  0.140302 train/loss_grapheme  0.093416 train/loss_vowel  0.022413 train/loss_consonant  0.024473 train/acc_grapheme  0.974298 train/acc_vowel  0.993543 train/acc_consonant  0.992523 train/recall  0.982802 valid/loss  0.325157 valid/loss_grapheme  0.200073 valid/loss_vowel  0.066989 valid/loss_consonant  0.058095 valid/acc_grapheme  0.947579 valid/acc_vowel  0.983498 valid/acc_consonant  0.984543 valid/recall  0.962932 lr  0.001000 elapsed_time  7343.052811 \n"
     ]
    },
    {
     "name": "stderr",
     "output_type": "stream",
     "text": [
      "                                                                                                                                                                                                            \r"
     ]
    },
    {
     "name": "stdout",
     "output_type": "stream",
     "text": [
      "epoch     19 train/loss  0.133492 train/loss_grapheme  0.087690 train/loss_vowel  0.023300 train/loss_consonant  0.022502 train/acc_grapheme  0.976177 train/acc_vowel  0.993444 train/acc_consonant  0.992990 train/recall  0.984308 valid/loss  0.350523 valid/loss_grapheme  0.219298 valid/loss_vowel  0.067997 valid/loss_consonant  0.063228 valid/acc_grapheme  0.943858 valid/acc_vowel  0.982522 valid/acc_consonant  0.984101 valid/recall  0.961467 lr  0.001000 elapsed_time  7753.223812 \n"
     ]
    },
    {
     "name": "stderr",
     "output_type": "stream",
     "text": [
      "                                                                                                                                                                                                             \r"
     ]
    },
    {
     "name": "stdout",
     "output_type": "stream",
     "text": [
      "epoch     20 train/loss  0.130412 train/loss_grapheme  0.084891 train/loss_vowel  0.023452 train/loss_consonant  0.022070 train/acc_grapheme  0.976917 train/acc_vowel  0.993177 train/acc_consonant  0.993301 train/recall  0.985396 valid/loss  0.362786 valid/loss_grapheme  0.227984 valid/loss_vowel  0.065728 valid/loss_consonant  0.069074 valid/acc_grapheme  0.942608 valid/acc_vowel  0.983150 valid/acc_consonant  0.980388 valid/recall  0.958881 lr  0.001000 elapsed_time  8163.006859 \n"
     ]
    },
    {
     "name": "stderr",
     "output_type": "stream",
     "text": [
      "                                                                                                                                                                                                            \r"
     ]
    },
    {
     "name": "stdout",
     "output_type": "stream",
     "text": [
      "epoch     21 train/loss  0.125570 train/loss_grapheme  0.082111 train/loss_vowel  0.021644 train/loss_consonant  0.021815 train/acc_grapheme  0.977552 train/acc_vowel  0.993556 train/acc_consonant  0.993257 train/recall  0.985138 valid/loss  0.346346 valid/loss_grapheme  0.211506 valid/loss_vowel  0.066561 valid/loss_consonant  0.068280 valid/acc_grapheme  0.945600 valid/acc_vowel  0.983330 valid/acc_consonant  0.982932 valid/recall  0.962255 lr  0.001000 elapsed_time  8572.481213 \n"
     ]
    },
    {
     "name": "stderr",
     "output_type": "stream",
     "text": [
      "                                                                                                                                                                                                             \r"
     ]
    },
    {
     "name": "stdout",
     "output_type": "stream",
     "text": [
      "epoch     22 train/loss  0.113012 train/loss_grapheme  0.074792 train/loss_vowel  0.018823 train/loss_consonant  0.019396 train/acc_grapheme  0.979156 train/acc_vowel  0.994377 train/acc_consonant  0.994184 train/recall  0.986374 valid/loss  0.474588 valid/loss_grapheme  0.304103 valid/loss_vowel  0.094009 valid/loss_consonant  0.076476 valid/acc_grapheme  0.925224 valid/acc_vowel  0.974094 valid/acc_consonant  0.977273 valid/recall  0.945604 lr  0.001000 elapsed_time  8974.416359 \n"
     ]
    },
    {
     "name": "stderr",
     "output_type": "stream",
     "text": [
      "                                                                                                                                                                                                             \r"
     ]
    },
    {
     "name": "stdout",
     "output_type": "stream",
     "text": [
      "epoch     23 train/loss  0.113397 train/loss_grapheme  0.074153 train/loss_vowel  0.020071 train/loss_consonant  0.019173 train/acc_grapheme  0.979380 train/acc_vowel  0.994141 train/acc_consonant  0.994172 train/recall  0.986457 valid/loss  0.335379 valid/loss_grapheme  0.210230 valid/loss_vowel  0.066064 valid/loss_consonant  0.059085 valid/acc_grapheme  0.947092 valid/acc_vowel  0.983250 valid/acc_consonant  0.983567 valid/recall  0.960317 lr  0.001000 elapsed_time  9374.806388 \n"
     ]
    },
    {
     "name": "stderr",
     "output_type": "stream",
     "text": [
      "                                                                                                                                                                                                             \r"
     ]
    },
    {
     "name": "stdout",
     "output_type": "stream",
     "text": [
      "epoch     24 train/loss  0.110474 train/loss_grapheme  0.071326 train/loss_vowel  0.019684 train/loss_consonant  0.019463 train/acc_grapheme  0.980774 train/acc_vowel  0.994234 train/acc_consonant  0.994078 train/recall  0.986518 valid/loss  0.336589 valid/loss_grapheme  0.204535 valid/loss_vowel  0.069235 valid/loss_consonant  0.062820 valid/acc_grapheme  0.947684 valid/acc_vowel  0.983225 valid/acc_consonant  0.984145 valid/recall  0.962797 lr  0.001000 elapsed_time  9783.798624 \n"
     ]
    },
    {
     "name": "stderr",
     "output_type": "stream",
     "text": [
      "                                                                                                                                                                                                            \r"
     ]
    },
    {
     "name": "stdout",
     "output_type": "stream",
     "text": [
      "epoch     25 train/loss  0.104299 train/loss_grapheme  0.069757 train/loss_vowel  0.016938 train/loss_consonant  0.017604 train/acc_grapheme  0.980954 train/acc_vowel  0.995061 train/acc_consonant  0.994750 train/recall  0.987657 valid/loss  0.322349 valid/loss_grapheme  0.196740 valid/loss_vowel  0.063501 valid/loss_consonant  0.062108 valid/acc_grapheme  0.950786 valid/acc_vowel  0.984519 valid/acc_consonant  0.983424 valid/recall  0.965599 lr  0.001000 elapsed_time  10193.763335 \n"
     ]
    },
    {
     "name": "stderr",
     "output_type": "stream",
     "text": [
      "                                                                                                                                                                                                             \r"
     ]
    },
    {
     "name": "stdout",
     "output_type": "stream",
     "text": [
      "epoch     26 train/loss  0.097002 train/loss_grapheme  0.064389 train/loss_vowel  0.015877 train/loss_consonant  0.016736 train/acc_grapheme  0.982105 train/acc_vowel  0.995341 train/acc_consonant  0.994955 train/recall  0.988112 valid/loss  0.342689 valid/loss_grapheme  0.210935 valid/loss_vowel  0.070706 valid/loss_consonant  0.061048 valid/acc_grapheme  0.947069 valid/acc_vowel  0.983119 valid/acc_consonant  0.983623 valid/recall  0.964449 lr  0.001000 elapsed_time  10602.058662 \n"
     ]
    },
    {
     "name": "stderr",
     "output_type": "stream",
     "text": [
      "                                                                                                                                                                                                             \r"
     ]
    },
    {
     "name": "stdout",
     "output_type": "stream",
     "text": [
      "epoch     27 train/loss  0.097841 train/loss_grapheme  0.063906 train/loss_vowel  0.016318 train/loss_consonant  0.017616 train/acc_grapheme  0.982758 train/acc_vowel  0.995378 train/acc_consonant  0.994601 train/recall  0.988641 valid/loss  0.309923 valid/loss_grapheme  0.188423 valid/loss_vowel  0.062443 valid/loss_consonant  0.059056 valid/acc_grapheme  0.953581 valid/acc_vowel  0.984723 valid/acc_consonant  0.984723 valid/recall  0.965024 lr  0.001000 elapsed_time  11011.580084 \n"
     ]
    },
    {
     "name": "stderr",
     "output_type": "stream",
     "text": [
      "                                                                                                                                                                                                              \r"
     ]
    },
    {
     "name": "stdout",
     "output_type": "stream",
     "text": [
      "epoch     28 train/loss  0.094046 train/loss_grapheme  0.062581 train/loss_vowel  0.015178 train/loss_consonant  0.016287 train/acc_grapheme  0.982919 train/acc_vowel  0.995534 train/acc_consonant  0.995024 train/recall  0.988824 valid/loss  0.314208 valid/loss_grapheme  0.192044 valid/loss_vowel  0.065158 valid/loss_consonant  0.057006 valid/acc_grapheme  0.951372 valid/acc_vowel  0.984786 valid/acc_consonant  0.984712 valid/recall  0.965097 lr  0.001000 elapsed_time  11419.650949 \n"
     ]
    },
    {
     "name": "stderr",
     "output_type": "stream",
     "text": [
      "                                                                                                                                                                                                             \r"
     ]
    },
    {
     "name": "stdout",
     "output_type": "stream",
     "text": [
      "epoch     29 train/loss  0.090743 train/loss_grapheme  0.058409 train/loss_vowel  0.016501 train/loss_consonant  0.015833 train/acc_grapheme  0.983983 train/acc_vowel  0.995266 train/acc_consonant  0.995105 train/recall  0.989315 valid/loss  0.336251 valid/loss_grapheme  0.199076 valid/loss_vowel  0.069286 valid/loss_consonant  0.067890 valid/acc_grapheme  0.951615 valid/acc_vowel  0.983064 valid/acc_consonant  0.983045 valid/recall  0.961503 lr  0.001000 elapsed_time  11828.944230 \n"
     ]
    },
    {
     "name": "stderr",
     "output_type": "stream",
     "text": [
      "                                                                                                                                                                                                              \r"
     ]
    },
    {
     "name": "stdout",
     "output_type": "stream",
     "text": [
      "epoch     30 train/loss  0.085322 train/loss_grapheme  0.056653 train/loss_vowel  0.014264 train/loss_consonant  0.014405 train/acc_grapheme  0.984512 train/acc_vowel  0.995696 train/acc_consonant  0.995565 train/recall  0.989788 valid/loss  0.335458 valid/loss_grapheme  0.208373 valid/loss_vowel  0.065835 valid/loss_consonant  0.061250 valid/acc_grapheme  0.948411 valid/acc_vowel  0.984624 valid/acc_consonant  0.984164 valid/recall  0.960964 lr  0.001000 elapsed_time  12233.578731 \n"
     ]
    },
    {
     "name": "stderr",
     "output_type": "stream",
     "text": [
      "                                                                                                                                                                                                             \r"
     ]
    },
    {
     "name": "stdout",
     "output_type": "stream",
     "text": [
      "epoch     31 train/loss  0.085259 train/loss_grapheme  0.056274 train/loss_vowel  0.014473 train/loss_consonant  0.014511 train/acc_grapheme  0.984437 train/acc_vowel  0.995839 train/acc_consonant  0.995596 train/recall  0.990019 valid/loss  0.316888 valid/loss_grapheme  0.186909 valid/loss_vowel  0.066901 valid/loss_consonant  0.063078 valid/acc_grapheme  0.952752 valid/acc_vowel  0.985320 valid/acc_consonant  0.984842 valid/recall  0.965432 lr  0.001000 elapsed_time  12634.624678 \n"
     ]
    },
    {
     "name": "stderr",
     "output_type": "stream",
     "text": [
      "                                                                                                                                                                                                             \r"
     ]
    },
    {
     "name": "stdout",
     "output_type": "stream",
     "text": [
      "epoch     32 train/loss  0.083248 train/loss_grapheme  0.052381 train/loss_vowel  0.015129 train/loss_consonant  0.015738 train/acc_grapheme  0.985532 train/acc_vowel  0.995627 train/acc_consonant  0.995354 train/recall  0.990025 valid/loss  0.327055 valid/loss_grapheme  0.197853 valid/loss_vowel  0.067291 valid/loss_consonant  0.061911 valid/acc_grapheme  0.951491 valid/acc_vowel  0.984624 valid/acc_consonant  0.985030 valid/recall  0.965753 lr  0.001000 elapsed_time  13033.853061 \n"
     ]
    },
    {
     "name": "stderr",
     "output_type": "stream",
     "text": [
      "                                                                                                                                                                                                             \r"
     ]
    },
    {
     "name": "stdout",
     "output_type": "stream",
     "text": [
      "epoch     33 train/loss  0.080270 train/loss_grapheme  0.053426 train/loss_vowel  0.013630 train/loss_consonant  0.013214 train/acc_grapheme  0.985719 train/acc_vowel  0.996125 train/acc_consonant  0.996050 train/recall  0.990795 valid/loss  0.329714 valid/loss_grapheme  0.199764 valid/loss_vowel  0.064521 valid/loss_consonant  0.065428 valid/acc_grapheme  0.950719 valid/acc_vowel  0.984593 valid/acc_consonant  0.984275 valid/recall  0.964153 lr  0.001000 elapsed_time  13436.967110 \n"
     ]
    },
    {
     "name": "stderr",
     "output_type": "stream",
     "text": [
      "                                                                                                                                                                                                              \r"
     ]
    },
    {
     "name": "stdout",
     "output_type": "stream",
     "text": [
      "epoch     34 train/loss  0.079823 train/loss_grapheme  0.051586 train/loss_vowel  0.014301 train/loss_consonant  0.013936 train/acc_grapheme  0.985582 train/acc_vowel  0.995870 train/acc_consonant  0.995745 train/recall  0.990526 valid/loss  0.319637 valid/loss_grapheme  0.188588 valid/loss_vowel  0.068342 valid/loss_consonant  0.062707 valid/acc_grapheme  0.953936 valid/acc_vowel  0.983965 valid/acc_consonant  0.984176 valid/recall  0.966140 lr  0.001000 elapsed_time  13846.526444 \n"
     ]
    },
    {
     "name": "stderr",
     "output_type": "stream",
     "text": [
      "                                                                                                                                                                                                              \r"
     ]
    },
    {
     "name": "stdout",
     "output_type": "stream",
     "text": [
      "epoch     35 train/loss  0.077674 train/loss_grapheme  0.049614 train/loss_vowel  0.014657 train/loss_consonant  0.013403 train/acc_grapheme  0.986253 train/acc_vowel  0.995466 train/acc_consonant  0.996000 train/recall  0.990633 valid/loss  0.324409 valid/loss_grapheme  0.196830 valid/loss_vowel  0.067493 valid/loss_consonant  0.060086 valid/acc_grapheme  0.952095 valid/acc_vowel  0.985190 valid/acc_consonant  0.984712 valid/recall  0.966070 lr  0.001000 elapsed_time  14255.947954 \n"
     ]
    },
    {
     "name": "stderr",
     "output_type": "stream",
     "text": [
      "                                                                                                                                                                                                              \r"
     ]
    },
    {
     "name": "stdout",
     "output_type": "stream",
     "text": [
      "epoch     36 train/loss  0.076312 train/loss_grapheme  0.050445 train/loss_vowel  0.013227 train/loss_consonant  0.012640 train/acc_grapheme  0.986328 train/acc_vowel  0.996150 train/acc_consonant  0.996175 train/recall  0.991240 valid/loss  0.303160 valid/loss_grapheme  0.181033 valid/loss_vowel  0.062136 valid/loss_consonant  0.059991 valid/acc_grapheme  0.955646 valid/acc_vowel  0.986067 valid/acc_consonant  0.985719 valid/recall  0.969501 lr  0.001000 elapsed_time  14665.494072 \n"
     ]
    },
    {
     "name": "stderr",
     "output_type": "stream",
     "text": [
      "                                                                                                                                                                                                              \r"
     ]
    },
    {
     "name": "stdout",
     "output_type": "stream",
     "text": [
      "epoch     37 train/loss  0.075034 train/loss_grapheme  0.048430 train/loss_vowel  0.013736 train/loss_consonant  0.012868 train/acc_grapheme  0.986714 train/acc_vowel  0.995920 train/acc_consonant  0.996013 train/recall  0.991162 valid/loss  0.323414 valid/loss_grapheme  0.190629 valid/loss_vowel  0.068612 valid/loss_consonant  0.064174 valid/acc_grapheme  0.952826 valid/acc_vowel  0.984040 valid/acc_consonant  0.984195 valid/recall  0.963214 lr  0.001000 elapsed_time  15071.297730 \n"
     ]
    },
    {
     "name": "stderr",
     "output_type": "stream",
     "text": [
      "                                                                                                                                                                                                             \r"
     ]
    },
    {
     "name": "stdout",
     "output_type": "stream",
     "text": [
      "epoch     38 train/loss  0.071656 train/loss_grapheme  0.046414 train/loss_vowel  0.012215 train/loss_consonant  0.013027 train/acc_grapheme  0.987498 train/acc_vowel  0.996455 train/acc_consonant  0.996181 train/recall  0.991504 valid/loss  0.305823 valid/loss_grapheme  0.185813 valid/loss_vowel  0.061009 valid/loss_consonant  0.059001 valid/acc_grapheme  0.954817 valid/acc_vowel  0.986335 valid/acc_consonant  0.985912 valid/recall  0.968502 lr  0.001000 elapsed_time  15477.036420 \n"
     ]
    },
    {
     "name": "stderr",
     "output_type": "stream",
     "text": [
      "                                                                                                                                                                                                             \r"
     ]
    },
    {
     "name": "stdout",
     "output_type": "stream",
     "text": [
      "epoch     39 train/loss  0.074756 train/loss_grapheme  0.047718 train/loss_vowel  0.013410 train/loss_consonant  0.013628 train/acc_grapheme  0.986764 train/acc_vowel  0.996000 train/acc_consonant  0.995876 train/recall  0.991244 valid/loss  0.306815 valid/loss_grapheme  0.185828 valid/loss_vowel  0.062375 valid/loss_consonant  0.058612 valid/acc_grapheme  0.953942 valid/acc_vowel  0.985047 valid/acc_consonant  0.985483 valid/recall  0.966560 lr  0.001000 elapsed_time  15884.764254 \n"
     ]
    },
    {
     "name": "stderr",
     "output_type": "stream",
     "text": [
      "                                                                                                                                                                                                              \r"
     ]
    },
    {
     "name": "stdout",
     "output_type": "stream",
     "text": [
      "epoch     40 train/loss  0.071520 train/loss_grapheme  0.046776 train/loss_vowel  0.012213 train/loss_consonant  0.012531 train/acc_grapheme  0.987249 train/acc_vowel  0.996380 train/acc_consonant  0.996137 train/recall  0.991742 valid/loss  0.347275 valid/loss_grapheme  0.203798 valid/loss_vowel  0.072321 valid/loss_consonant  0.071157 valid/acc_grapheme  0.949973 valid/acc_vowel  0.983020 valid/acc_consonant  0.982616 valid/recall  0.965392 lr  0.001000 elapsed_time  16293.558132 \n"
     ]
    },
    {
     "name": "stderr",
     "output_type": "stream",
     "text": [
      "                                                                                                                                                                                                              \r"
     ]
    },
    {
     "name": "stdout",
     "output_type": "stream",
     "text": [
      "epoch     41 train/loss  0.067663 train/loss_grapheme  0.043360 train/loss_vowel  0.011473 train/loss_consonant  0.012830 train/acc_grapheme  0.988256 train/acc_vowel  0.996616 train/acc_consonant  0.996125 train/recall  0.992320 valid/loss  0.305652 valid/loss_grapheme  0.183888 valid/loss_vowel  0.060860 valid/loss_consonant  0.060904 valid/acc_grapheme  0.954432 valid/acc_vowel  0.986166 valid/acc_consonant  0.984264 valid/recall  0.969139 lr  0.001000 elapsed_time  16694.857217 \n"
     ]
    },
    {
     "name": "stderr",
     "output_type": "stream",
     "text": [
      "                                                                                                                                                                                                              \r"
     ]
    },
    {
     "name": "stdout",
     "output_type": "stream",
     "text": [
      "epoch     42 train/loss  0.067843 train/loss_grapheme  0.043183 train/loss_vowel  0.012038 train/loss_consonant  0.012622 train/acc_grapheme  0.987889 train/acc_vowel  0.996461 train/acc_consonant  0.996162 train/recall  0.992232 valid/loss  0.299360 valid/loss_grapheme  0.178448 valid/loss_vowel  0.062056 valid/loss_consonant  0.058856 valid/acc_grapheme  0.955607 valid/acc_vowel  0.986459 valid/acc_consonant  0.986341 valid/recall  0.969538 lr  0.001000 elapsed_time  17098.313718 \n"
     ]
    },
    {
     "name": "stderr",
     "output_type": "stream",
     "text": [
      "                                                                                                                                                                                                             \r"
     ]
    },
    {
     "name": "stdout",
     "output_type": "stream",
     "text": [
      "epoch     43 train/loss  0.067928 train/loss_grapheme  0.042880 train/loss_vowel  0.012594 train/loss_consonant  0.012453 train/acc_grapheme  0.988076 train/acc_vowel  0.996455 train/acc_consonant  0.996330 train/recall  0.992208 valid/loss  0.306743 valid/loss_grapheme  0.182717 valid/loss_vowel  0.063050 valid/loss_consonant  0.060976 valid/acc_grapheme  0.954786 valid/acc_vowel  0.985594 valid/acc_consonant  0.985470 valid/recall  0.969701 lr  0.001000 elapsed_time  17507.244067 \n"
     ]
    },
    {
     "name": "stderr",
     "output_type": "stream",
     "text": [
      "                                                                                                                                                                                                              \r"
     ]
    },
    {
     "name": "stdout",
     "output_type": "stream",
     "text": [
      "epoch     44 train/loss  0.067708 train/loss_grapheme  0.042812 train/loss_vowel  0.011865 train/loss_consonant  0.013031 train/acc_grapheme  0.988250 train/acc_vowel  0.996479 train/acc_consonant  0.996025 train/recall  0.991891 valid/loss  0.300917 valid/loss_grapheme  0.177407 valid/loss_vowel  0.063404 valid/loss_consonant  0.060105 valid/acc_grapheme  0.957249 valid/acc_vowel  0.985906 valid/acc_consonant  0.984637 valid/recall  0.968789 lr  0.001000 elapsed_time  17907.533885 \n"
     ]
    },
    {
     "name": "stderr",
     "output_type": "stream",
     "text": [
      "                                                                                                                                                                                                             \r"
     ]
    },
    {
     "name": "stdout",
     "output_type": "stream",
     "text": [
      "epoch     45 train/loss  0.062447 train/loss_grapheme  0.040713 train/loss_vowel  0.011030 train/loss_consonant  0.010704 train/acc_grapheme  0.988972 train/acc_vowel  0.996778 train/acc_consonant  0.996697 train/recall  0.993041 valid/loss  0.306625 valid/loss_grapheme  0.185672 valid/loss_vowel  0.063260 valid/loss_consonant  0.057692 valid/acc_grapheme  0.954266 valid/acc_vowel  0.985544 valid/acc_consonant  0.986415 valid/recall  0.968540 lr  0.001000 elapsed_time  18309.516840 \n"
     ]
    },
    {
     "name": "stderr",
     "output_type": "stream",
     "text": [
      "                                                                                                                                                                                                             \r"
     ]
    },
    {
     "name": "stdout",
     "output_type": "stream",
     "text": [
      "epoch     46 train/loss  0.062300 train/loss_grapheme  0.040009 train/loss_vowel  0.011240 train/loss_consonant  0.011051 train/acc_grapheme  0.988909 train/acc_vowel  0.996766 train/acc_consonant  0.996604 train/recall  0.992730 valid/loss  0.304598 valid/loss_grapheme  0.179703 valid/loss_vowel  0.063771 valid/loss_consonant  0.061124 valid/acc_grapheme  0.955328 valid/acc_vowel  0.985757 valid/acc_consonant  0.985234 valid/recall  0.967983 lr  0.001000 elapsed_time  18710.886279 \n"
     ]
    },
    {
     "name": "stderr",
     "output_type": "stream",
     "text": [
      "                                                                                                                                                                                                            \r"
     ]
    },
    {
     "name": "stdout",
     "output_type": "stream",
     "text": [
      "epoch     47 train/loss  0.061987 train/loss_grapheme  0.039273 train/loss_vowel  0.010968 train/loss_consonant  0.011746 train/acc_grapheme  0.989289 train/acc_vowel  0.996697 train/acc_consonant  0.996392 train/recall  0.993051 valid/loss  0.295978 valid/loss_grapheme  0.173650 valid/loss_vowel  0.064174 valid/loss_consonant  0.058155 valid/acc_grapheme  0.957324 valid/acc_vowel  0.986136 valid/acc_consonant  0.985942 valid/recall  0.968850 lr  0.001000 elapsed_time  19119.546167 \n"
     ]
    },
    {
     "name": "stderr",
     "output_type": "stream",
     "text": [
      "                                                                                                                                                                                                            \r"
     ]
    },
    {
     "name": "stdout",
     "output_type": "stream",
     "text": [
      "epoch     48 train/loss  0.058799 train/loss_grapheme  0.037431 train/loss_vowel  0.010440 train/loss_consonant  0.010928 train/acc_grapheme  0.989768 train/acc_vowel  0.996859 train/acc_consonant  0.996778 train/recall  0.993138 valid/loss  0.303361 valid/loss_grapheme  0.177618 valid/loss_vowel  0.063149 valid/loss_consonant  0.062595 valid/acc_grapheme  0.955986 valid/acc_vowel  0.986036 valid/acc_consonant  0.985967 valid/recall  0.969010 lr  0.001000 elapsed_time  19528.363959 \n"
     ]
    },
    {
     "name": "stderr",
     "output_type": "stream",
     "text": [
      "                                                                                                                                                                                                             \r"
     ]
    },
    {
     "name": "stdout",
     "output_type": "stream",
     "text": [
      "epoch     49 train/loss  0.062714 train/loss_grapheme  0.039922 train/loss_vowel  0.011547 train/loss_consonant  0.011245 train/acc_grapheme  0.989177 train/acc_vowel  0.996542 train/acc_consonant  0.996741 train/recall  0.992832 valid/loss  0.311402 valid/loss_grapheme  0.182834 valid/loss_vowel  0.070173 valid/loss_consonant  0.058394 valid/acc_grapheme  0.956130 valid/acc_vowel  0.984494 valid/acc_consonant  0.986166 valid/recall  0.967946 lr  0.001000 elapsed_time  19937.129557 \n"
     ]
    },
    {
     "name": "stderr",
     "output_type": "stream",
     "text": [
      "                                                                                                                                                                                                              \r"
     ]
    },
    {
     "name": "stdout",
     "output_type": "stream",
     "text": [
      "epoch     50 train/loss  0.058580 train/loss_grapheme  0.036826 train/loss_vowel  0.011211 train/loss_consonant  0.010544 train/acc_grapheme  0.989675 train/acc_vowel  0.996678 train/acc_consonant  0.996722 train/recall  0.993152 valid/loss  0.303435 valid/loss_grapheme  0.178085 valid/loss_vowel  0.063830 valid/loss_consonant  0.061520 valid/acc_grapheme  0.956497 valid/acc_vowel  0.985862 valid/acc_consonant  0.986329 valid/recall  0.967201 lr  0.001000 elapsed_time  20343.470155 \n"
     ]
    },
    {
     "name": "stderr",
     "output_type": "stream",
     "text": [
      "                                                                                                                                                                                                             \r"
     ]
    },
    {
     "name": "stdout",
     "output_type": "stream",
     "text": [
      "epoch     51 train/loss  0.057745 train/loss_grapheme  0.035960 train/loss_vowel  0.009940 train/loss_consonant  0.011845 train/acc_grapheme  0.989818 train/acc_vowel  0.997058 train/acc_consonant  0.996678 train/recall  0.993640 valid/loss  0.288991 valid/loss_grapheme  0.166790 valid/loss_vowel  0.062389 valid/loss_consonant  0.059813 valid/acc_grapheme  0.958823 valid/acc_vowel  0.986733 valid/acc_consonant  0.985962 valid/recall  0.969987 lr  0.001000 elapsed_time  20749.753282 \n"
     ]
    },
    {
     "name": "stderr",
     "output_type": "stream",
     "text": [
      "                                                                                                                                                                                                             \r"
     ]
    },
    {
     "name": "stdout",
     "output_type": "stream",
     "text": [
      "epoch     52 train/loss  0.057313 train/loss_grapheme  0.035953 train/loss_vowel  0.010631 train/loss_consonant  0.010728 train/acc_grapheme  0.989942 train/acc_vowel  0.996877 train/acc_consonant  0.996660 train/recall  0.993216 valid/loss  0.288364 valid/loss_grapheme  0.169656 valid/loss_vowel  0.060831 valid/loss_consonant  0.057877 valid/acc_grapheme  0.959091 valid/acc_vowel  0.987081 valid/acc_consonant  0.986584 valid/recall  0.971607 lr  0.001000 elapsed_time  21155.374965 \n"
     ]
    },
    {
     "name": "stderr",
     "output_type": "stream",
     "text": [
      "                                                                                                                                                                                                            \r"
     ]
    },
    {
     "name": "stdout",
     "output_type": "stream",
     "text": [
      "epoch     53 train/loss  0.056476 train/loss_grapheme  0.034973 train/loss_vowel  0.010385 train/loss_consonant  0.011118 train/acc_grapheme  0.990178 train/acc_vowel  0.996890 train/acc_consonant  0.996778 train/recall  0.993382 valid/loss  0.291445 valid/loss_grapheme  0.171280 valid/loss_vowel  0.061328 valid/loss_consonant  0.058837 valid/acc_grapheme  0.958065 valid/acc_vowel  0.986589 valid/acc_consonant  0.986385 valid/recall  0.971915 lr  0.001000 elapsed_time  21565.572418 \n"
     ]
    },
    {
     "name": "stderr",
     "output_type": "stream",
     "text": [
      "                                                                                                                                                                                                            \r"
     ]
    },
    {
     "name": "stdout",
     "output_type": "stream",
     "text": [
      "epoch     54 train/loss  0.058556 train/loss_grapheme  0.036435 train/loss_vowel  0.011198 train/loss_consonant  0.010923 train/acc_grapheme  0.989724 train/acc_vowel  0.996548 train/acc_consonant  0.996616 train/recall  0.993079 valid/loss  0.298744 valid/loss_grapheme  0.173996 valid/loss_vowel  0.063538 valid/loss_consonant  0.061209 valid/acc_grapheme  0.958394 valid/acc_vowel  0.986639 valid/acc_consonant  0.985502 valid/recall  0.969540 lr  0.001000 elapsed_time  21975.918339 \n"
     ]
    },
    {
     "name": "stderr",
     "output_type": "stream",
     "text": [
      "                                                                                                                                                                                                             \r"
     ]
    },
    {
     "name": "stdout",
     "output_type": "stream",
     "text": [
      "epoch     55 train/loss  0.054967 train/loss_grapheme  0.034740 train/loss_vowel  0.010003 train/loss_consonant  0.010224 train/acc_grapheme  0.990527 train/acc_vowel  0.997176 train/acc_consonant  0.996989 train/recall  0.993778 valid/loss  0.279879 valid/loss_grapheme  0.165695 valid/loss_vowel  0.058614 valid/loss_consonant  0.055570 valid/acc_grapheme  0.959234 valid/acc_vowel  0.987037 valid/acc_consonant  0.986913 valid/recall  0.972221 lr  0.001000 elapsed_time  22386.711828 \n"
     ]
    },
    {
     "name": "stderr",
     "output_type": "stream",
     "text": [
      "                                                                                                                                                                                                           \r"
     ]
    },
    {
     "name": "stdout",
     "output_type": "stream",
     "text": [
      "epoch     56 train/loss  0.053237 train/loss_grapheme  0.033943 train/loss_vowel  0.009877 train/loss_consonant  0.009417 train/acc_grapheme  0.990720 train/acc_vowel  0.997052 train/acc_consonant  0.997070 train/recall  0.993746 valid/loss  0.298393 valid/loss_grapheme  0.175550 valid/loss_vowel  0.064814 valid/loss_consonant  0.058030 valid/acc_grapheme  0.957089 valid/acc_vowel  0.985763 valid/acc_consonant  0.986490 valid/recall  0.970901 lr  0.001000 elapsed_time  22793.300677 \n"
     ]
    },
    {
     "name": "stderr",
     "output_type": "stream",
     "text": [
      "                                                                                                                                                                                                                \r"
     ]
    },
    {
     "name": "stdout",
     "output_type": "stream",
     "text": [
      "epoch     57 train/loss  0.052650 train/loss_grapheme  0.033631 train/loss_vowel  0.009349 train/loss_consonant  0.009670 train/acc_grapheme  0.990589 train/acc_vowel  0.997108 train/acc_consonant  0.997251 train/recall  0.993931 valid/loss  0.287460 valid/loss_grapheme  0.164916 valid/loss_vowel  0.063424 valid/loss_consonant  0.059120 valid/acc_grapheme  0.959303 valid/acc_vowel  0.986130 valid/acc_consonant  0.985918 valid/recall  0.971373 lr  0.001000 elapsed_time  23199.245146 \n"
     ]
    },
    {
     "name": "stderr",
     "output_type": "stream",
     "text": [
      "                                                                                                                                                                                                                \r"
     ]
    },
    {
     "name": "stdout",
     "output_type": "stream",
     "text": [
      "epoch     58 train/loss  0.051346 train/loss_grapheme  0.032690 train/loss_vowel  0.009408 train/loss_consonant  0.009248 train/acc_grapheme  0.990576 train/acc_vowel  0.997300 train/acc_consonant  0.997045 train/recall  0.993853 valid/loss  0.292471 valid/loss_grapheme  0.169294 valid/loss_vowel  0.064701 valid/loss_consonant  0.058476 valid/acc_grapheme  0.959657 valid/acc_vowel  0.985912 valid/acc_consonant  0.986938 valid/recall  0.969789 lr  0.001000 elapsed_time  23609.147832 \n"
     ]
    },
    {
     "name": "stderr",
     "output_type": "stream",
     "text": [
      "                                                                                                                                                                                                                \r"
     ]
    },
    {
     "name": "stdout",
     "output_type": "stream",
     "text": [
      "epoch     59 train/loss  0.054145 train/loss_grapheme  0.033090 train/loss_vowel  0.009579 train/loss_consonant  0.011475 train/acc_grapheme  0.990993 train/acc_vowel  0.997276 train/acc_consonant  0.996598 train/recall  0.993950 valid/loss  0.303271 valid/loss_grapheme  0.177079 valid/loss_vowel  0.067599 valid/loss_consonant  0.058593 valid/acc_grapheme  0.958526 valid/acc_vowel  0.985937 valid/acc_consonant  0.986832 valid/recall  0.970436 lr  0.001000 elapsed_time  24018.776531 \n"
     ]
    },
    {
     "name": "stderr",
     "output_type": "stream",
     "text": [
      "                                                                                                                                                                                                               \r"
     ]
    },
    {
     "name": "stdout",
     "output_type": "stream",
     "text": [
      "epoch     60 train/loss  0.050917 train/loss_grapheme  0.033005 train/loss_vowel  0.008940 train/loss_consonant  0.008972 train/acc_grapheme  0.990676 train/acc_vowel  0.997394 train/acc_consonant  0.997207 train/recall  0.994088 valid/loss  0.288572 valid/loss_grapheme  0.165940 valid/loss_vowel  0.064226 valid/loss_consonant  0.058406 valid/acc_grapheme  0.960025 valid/acc_vowel  0.986465 valid/acc_consonant  0.986540 valid/recall  0.971602 lr  0.001000 elapsed_time  24427.665836 \n"
     ]
    },
    {
     "name": "stderr",
     "output_type": "stream",
     "text": [
      "                                                                                                                                                                                                               \r"
     ]
    },
    {
     "name": "stdout",
     "output_type": "stream",
     "text": [
      "epoch     61 train/loss  0.048629 train/loss_grapheme  0.030921 train/loss_vowel  0.008595 train/loss_consonant  0.009113 train/acc_grapheme  0.991404 train/acc_vowel  0.997500 train/acc_consonant  0.997244 train/recall  0.994241 valid/loss  0.289543 valid/loss_grapheme  0.168004 valid/loss_vowel  0.064697 valid/loss_consonant  0.056842 valid/acc_grapheme  0.959912 valid/acc_vowel  0.986509 valid/acc_consonant  0.986335 valid/recall  0.970445 lr  0.001000 elapsed_time  24836.038706 \n"
     ]
    },
    {
     "name": "stderr",
     "output_type": "stream",
     "text": [
      "                                                                                                                                                                                                                \r"
     ]
    },
    {
     "name": "stdout",
     "output_type": "stream",
     "text": [
      "epoch     62 train/loss  0.050163 train/loss_grapheme  0.031890 train/loss_vowel  0.008775 train/loss_consonant  0.009498 train/acc_grapheme  0.990968 train/acc_vowel  0.997381 train/acc_consonant  0.997095 train/recall  0.993804 valid/loss  0.278965 valid/loss_grapheme  0.159243 valid/loss_vowel  0.062291 valid/loss_consonant  0.057431 valid/acc_grapheme  0.961175 valid/acc_vowel  0.987206 valid/acc_consonant  0.986589 valid/recall  0.973172 lr  0.001000 elapsed_time  25247.036267 \n"
     ]
    },
    {
     "name": "stderr",
     "output_type": "stream",
     "text": [
      "                                                                                                                                                                                                               \r"
     ]
    },
    {
     "name": "stdout",
     "output_type": "stream",
     "text": [
      "epoch     63 train/loss  0.048767 train/loss_grapheme  0.030872 train/loss_vowel  0.008710 train/loss_consonant  0.009184 train/acc_grapheme  0.991254 train/acc_vowel  0.997524 train/acc_consonant  0.997263 train/recall  0.993990 valid/loss  0.281307 valid/loss_grapheme  0.164418 valid/loss_vowel  0.061376 valid/loss_consonant  0.055514 valid/acc_grapheme  0.959925 valid/acc_vowel  0.987311 valid/acc_consonant  0.987187 valid/recall  0.970295 lr  0.001000 elapsed_time  25657.459068 \n"
     ]
    },
    {
     "name": "stderr",
     "output_type": "stream",
     "text": [
      "                                                                                                                                                                                                                \r"
     ]
    },
    {
     "name": "stdout",
     "output_type": "stream",
     "text": [
      "epoch     64 train/loss  0.049213 train/loss_grapheme  0.030616 train/loss_vowel  0.008948 train/loss_consonant  0.009649 train/acc_grapheme  0.991441 train/acc_vowel  0.997437 train/acc_consonant  0.997008 train/recall  0.994276 valid/loss  0.303273 valid/loss_grapheme  0.175848 valid/loss_vowel  0.063993 valid/loss_consonant  0.063432 valid/acc_grapheme  0.957648 valid/acc_vowel  0.986453 valid/acc_consonant  0.985569 valid/recall  0.970172 lr  0.001000 elapsed_time  26066.954342 \n"
     ]
    },
    {
     "name": "stderr",
     "output_type": "stream",
     "text": [
      "                                                                                                                                                                                                                \r"
     ]
    },
    {
     "name": "stdout",
     "output_type": "stream",
     "text": [
      "epoch     65 train/loss  0.047194 train/loss_grapheme  0.029405 train/loss_vowel  0.008547 train/loss_consonant  0.009242 train/acc_grapheme  0.991609 train/acc_vowel  0.997425 train/acc_consonant  0.997232 train/recall  0.994375 valid/loss  0.283469 valid/loss_grapheme  0.168098 valid/loss_vowel  0.058857 valid/loss_consonant  0.056514 valid/acc_grapheme  0.958960 valid/acc_vowel  0.987012 valid/acc_consonant  0.986161 valid/recall  0.968743 lr  0.001000 elapsed_time  26478.054616 \n"
     ]
    },
    {
     "name": "stderr",
     "output_type": "stream",
     "text": [
      "                                                                                                                                                                                                                \r"
     ]
    },
    {
     "name": "stdout",
     "output_type": "stream",
     "text": [
      "epoch     66 train/loss  0.046689 train/loss_grapheme  0.028462 train/loss_vowel  0.008989 train/loss_consonant  0.009238 train/acc_grapheme  0.992088 train/acc_vowel  0.997425 train/acc_consonant  0.997257 train/recall  0.994758 valid/loss  0.272969 valid/loss_grapheme  0.156466 valid/loss_vowel  0.060298 valid/loss_consonant  0.056205 valid/acc_grapheme  0.961548 valid/acc_vowel  0.986788 valid/acc_consonant  0.986832 valid/recall  0.972322 lr  0.001000 elapsed_time  26888.232880 \n"
     ]
    },
    {
     "name": "stderr",
     "output_type": "stream",
     "text": [
      "                                                                                                                                                                                                                \r"
     ]
    },
    {
     "name": "stdout",
     "output_type": "stream",
     "text": [
      "epoch     67 train/loss  0.045674 train/loss_grapheme  0.028760 train/loss_vowel  0.008413 train/loss_consonant  0.008501 train/acc_grapheme  0.991746 train/acc_vowel  0.997506 train/acc_consonant  0.997437 train/recall  0.994852 valid/loss  0.289883 valid/loss_grapheme  0.168471 valid/loss_vowel  0.063401 valid/loss_consonant  0.058011 valid/acc_grapheme  0.959010 valid/acc_vowel  0.986938 valid/acc_consonant  0.985539 valid/recall  0.969534 lr  0.001000 elapsed_time  27298.464433 \n"
     ]
    },
    {
     "name": "stderr",
     "output_type": "stream",
     "text": [
      "                                                                                                                                                                                                               \r"
     ]
    },
    {
     "name": "stdout",
     "output_type": "stream",
     "text": [
      "epoch     68 train/loss  0.049271 train/loss_grapheme  0.030071 train/loss_vowel  0.009627 train/loss_consonant  0.009572 train/acc_grapheme  0.991547 train/acc_vowel  0.997195 train/acc_consonant  0.997126 train/recall  0.994500 valid/loss  0.293861 valid/loss_grapheme  0.166578 valid/loss_vowel  0.065597 valid/loss_consonant  0.061686 valid/acc_grapheme  0.959060 valid/acc_vowel  0.985962 valid/acc_consonant  0.985259 valid/recall  0.971326 lr  0.001000 elapsed_time  27702.777263 \n"
     ]
    },
    {
     "name": "stderr",
     "output_type": "stream",
     "text": [
      "                                                                                                                                                                                                                \r"
     ]
    },
    {
     "name": "stdout",
     "output_type": "stream",
     "text": [
      "epoch     69 train/loss  0.047162 train/loss_grapheme  0.029483 train/loss_vowel  0.008240 train/loss_consonant  0.009439 train/acc_grapheme  0.991702 train/acc_vowel  0.997475 train/acc_consonant  0.997269 train/recall  0.994533 valid/loss  0.292191 valid/loss_grapheme  0.172508 valid/loss_vowel  0.063890 valid/loss_consonant  0.055794 valid/acc_grapheme  0.957940 valid/acc_vowel  0.985992 valid/acc_consonant  0.986440 valid/recall  0.971084 lr  0.001000 elapsed_time  28110.777266 \n"
     ]
    },
    {
     "name": "stderr",
     "output_type": "stream",
     "text": [
      "Epoch [70/150]: [5/1256]   0%|          , acc_consonant=0.997, acc_grapheme=0.992, acc_vowel=0.997, loss=0.0472, loss_consonant=0.00944, loss_grapheme=0.0295, loss_vowel=0.00824, recall=0.995 [00:01<06:08]Current run is terminating due to exception: .\n",
      "Engine run is terminating due to exception: .\n"
     ]
    },
    {
     "ename": "KeyboardInterrupt",
     "evalue": "",
     "output_type": "error",
     "traceback": [
      "\u001b[0;31m---------------------------------------------------------------------------\u001b[0m",
      "\u001b[0;31mKeyboardInterrupt\u001b[0m                         Traceback (most recent call last)",
      "\u001b[0;32m<ipython-input-27-2da825f868db>\u001b[0m in \u001b[0;36m<module>\u001b[0;34m\u001b[0m\n\u001b[1;32m      1\u001b[0m \u001b[0msave_json\u001b[0m\u001b[0;34m(\u001b[0m\u001b[0;34m'args.json'\u001b[0m\u001b[0;34m,\u001b[0m \u001b[0;34m{\u001b[0m\u001b[0;34m'image_size'\u001b[0m\u001b[0;34m:\u001b[0m\u001b[0;36m224\u001b[0m\u001b[0;34m,\u001b[0m \u001b[0;34m'threshold'\u001b[0m\u001b[0;34m:\u001b[0m\u001b[0;36m20\u001b[0m\u001b[0;34m,\u001b[0m\u001b[0;34m'arch'\u001b[0m\u001b[0;34m:\u001b[0m\u001b[0;34m'pretrained'\u001b[0m\u001b[0;34m,\u001b[0m\u001b[0;34m'model_name'\u001b[0m\u001b[0;34m:\u001b[0m\u001b[0;34m'se_resnext50_32x4d'\u001b[0m\u001b[0;34m}\u001b[0m\u001b[0;34m)\u001b[0m\u001b[0;34m\u001b[0m\u001b[0;34m\u001b[0m\u001b[0m\n\u001b[0;32m----> 2\u001b[0;31m \u001b[0mtrainer\u001b[0m\u001b[0;34m.\u001b[0m\u001b[0mrun\u001b[0m\u001b[0;34m(\u001b[0m\u001b[0mtrain_loader\u001b[0m\u001b[0;34m,\u001b[0m \u001b[0mmax_epochs\u001b[0m\u001b[0;34m=\u001b[0m\u001b[0;36m150\u001b[0m\u001b[0;34m)\u001b[0m\u001b[0;34m\u001b[0m\u001b[0;34m\u001b[0m\u001b[0m\n\u001b[0m",
      "\u001b[0;32m~/anaconda3/envs/pytorch/lib/python3.7/site-packages/ignite/engine/engine.py\u001b[0m in \u001b[0;36mrun\u001b[0;34m(self, data, max_epochs, epoch_length, seed)\u001b[0m\n\u001b[1;32m    620\u001b[0m \u001b[0;34m\u001b[0m\u001b[0m\n\u001b[1;32m    621\u001b[0m         \u001b[0mself\u001b[0m\u001b[0;34m.\u001b[0m\u001b[0mstate\u001b[0m\u001b[0;34m.\u001b[0m\u001b[0mdataloader\u001b[0m \u001b[0;34m=\u001b[0m \u001b[0mdata\u001b[0m\u001b[0;34m\u001b[0m\u001b[0;34m\u001b[0m\u001b[0m\n\u001b[0;32m--> 622\u001b[0;31m         \u001b[0;32mreturn\u001b[0m \u001b[0mself\u001b[0m\u001b[0;34m.\u001b[0m\u001b[0m_internal_run\u001b[0m\u001b[0;34m(\u001b[0m\u001b[0;34m)\u001b[0m\u001b[0;34m\u001b[0m\u001b[0;34m\u001b[0m\u001b[0m\n\u001b[0m\u001b[1;32m    623\u001b[0m \u001b[0;34m\u001b[0m\u001b[0m\n\u001b[1;32m    624\u001b[0m     \u001b[0;32mdef\u001b[0m \u001b[0m_setup_engine\u001b[0m\u001b[0;34m(\u001b[0m\u001b[0mself\u001b[0m\u001b[0;34m)\u001b[0m \u001b[0;34m->\u001b[0m \u001b[0;32mNone\u001b[0m\u001b[0;34m:\u001b[0m\u001b[0;34m\u001b[0m\u001b[0;34m\u001b[0m\u001b[0m\n",
      "\u001b[0;32m~/anaconda3/envs/pytorch/lib/python3.7/site-packages/ignite/engine/engine.py\u001b[0m in \u001b[0;36m_internal_run\u001b[0;34m(self)\u001b[0m\n\u001b[1;32m    732\u001b[0m             \u001b[0mself\u001b[0m\u001b[0;34m.\u001b[0m\u001b[0m_dataloader_iter\u001b[0m \u001b[0;34m=\u001b[0m \u001b[0mself\u001b[0m\u001b[0;34m.\u001b[0m\u001b[0m_dataloader_len\u001b[0m \u001b[0;34m=\u001b[0m \u001b[0;32mNone\u001b[0m\u001b[0;34m\u001b[0m\u001b[0;34m\u001b[0m\u001b[0m\n\u001b[1;32m    733\u001b[0m             \u001b[0mself\u001b[0m\u001b[0;34m.\u001b[0m\u001b[0mlogger\u001b[0m\u001b[0;34m.\u001b[0m\u001b[0merror\u001b[0m\u001b[0;34m(\u001b[0m\u001b[0;34m\"Engine run is terminating due to exception: %s.\"\u001b[0m\u001b[0;34m,\u001b[0m \u001b[0mstr\u001b[0m\u001b[0;34m(\u001b[0m\u001b[0me\u001b[0m\u001b[0;34m)\u001b[0m\u001b[0;34m)\u001b[0m\u001b[0;34m\u001b[0m\u001b[0;34m\u001b[0m\u001b[0m\n\u001b[0;32m--> 734\u001b[0;31m             \u001b[0mself\u001b[0m\u001b[0;34m.\u001b[0m\u001b[0m_handle_exception\u001b[0m\u001b[0;34m(\u001b[0m\u001b[0me\u001b[0m\u001b[0;34m)\u001b[0m\u001b[0;34m\u001b[0m\u001b[0;34m\u001b[0m\u001b[0m\n\u001b[0m\u001b[1;32m    735\u001b[0m \u001b[0;34m\u001b[0m\u001b[0m\n\u001b[1;32m    736\u001b[0m         \u001b[0mself\u001b[0m\u001b[0;34m.\u001b[0m\u001b[0m_dataloader_iter\u001b[0m \u001b[0;34m=\u001b[0m \u001b[0mself\u001b[0m\u001b[0;34m.\u001b[0m\u001b[0m_dataloader_len\u001b[0m \u001b[0;34m=\u001b[0m \u001b[0;32mNone\u001b[0m\u001b[0;34m\u001b[0m\u001b[0;34m\u001b[0m\u001b[0m\n",
      "\u001b[0;32m~/anaconda3/envs/pytorch/lib/python3.7/site-packages/ignite/engine/engine.py\u001b[0m in \u001b[0;36m_handle_exception\u001b[0;34m(self, e)\u001b[0m\n\u001b[1;32m    472\u001b[0m             \u001b[0mself\u001b[0m\u001b[0;34m.\u001b[0m\u001b[0m_fire_event\u001b[0m\u001b[0;34m(\u001b[0m\u001b[0mEvents\u001b[0m\u001b[0;34m.\u001b[0m\u001b[0mEXCEPTION_RAISED\u001b[0m\u001b[0;34m,\u001b[0m \u001b[0me\u001b[0m\u001b[0;34m)\u001b[0m\u001b[0;34m\u001b[0m\u001b[0;34m\u001b[0m\u001b[0m\n\u001b[1;32m    473\u001b[0m         \u001b[0;32melse\u001b[0m\u001b[0;34m:\u001b[0m\u001b[0;34m\u001b[0m\u001b[0;34m\u001b[0m\u001b[0m\n\u001b[0;32m--> 474\u001b[0;31m             \u001b[0;32mraise\u001b[0m \u001b[0me\u001b[0m\u001b[0;34m\u001b[0m\u001b[0;34m\u001b[0m\u001b[0m\n\u001b[0m\u001b[1;32m    475\u001b[0m \u001b[0;34m\u001b[0m\u001b[0m\n\u001b[1;32m    476\u001b[0m     \u001b[0;32mdef\u001b[0m \u001b[0mstate_dict\u001b[0m\u001b[0;34m(\u001b[0m\u001b[0mself\u001b[0m\u001b[0;34m)\u001b[0m \u001b[0;34m->\u001b[0m \u001b[0mOrderedDict\u001b[0m\u001b[0;34m:\u001b[0m\u001b[0;34m\u001b[0m\u001b[0;34m\u001b[0m\u001b[0m\n",
      "\u001b[0;32m~/anaconda3/envs/pytorch/lib/python3.7/site-packages/ignite/engine/engine.py\u001b[0m in \u001b[0;36m_internal_run\u001b[0;34m(self)\u001b[0m\n\u001b[1;32m    717\u001b[0m                     \u001b[0mself\u001b[0m\u001b[0;34m.\u001b[0m\u001b[0m_setup_engine\u001b[0m\u001b[0;34m(\u001b[0m\u001b[0;34m)\u001b[0m\u001b[0;34m\u001b[0m\u001b[0;34m\u001b[0m\u001b[0m\n\u001b[1;32m    718\u001b[0m \u001b[0;34m\u001b[0m\u001b[0m\n\u001b[0;32m--> 719\u001b[0;31m                 \u001b[0mhours\u001b[0m\u001b[0;34m,\u001b[0m \u001b[0mmins\u001b[0m\u001b[0;34m,\u001b[0m \u001b[0msecs\u001b[0m \u001b[0;34m=\u001b[0m \u001b[0mself\u001b[0m\u001b[0;34m.\u001b[0m\u001b[0m_run_once_on_dataset\u001b[0m\u001b[0;34m(\u001b[0m\u001b[0;34m)\u001b[0m\u001b[0;34m\u001b[0m\u001b[0;34m\u001b[0m\u001b[0m\n\u001b[0m\u001b[1;32m    720\u001b[0m \u001b[0;34m\u001b[0m\u001b[0m\n\u001b[1;32m    721\u001b[0m                 \u001b[0mself\u001b[0m\u001b[0;34m.\u001b[0m\u001b[0mlogger\u001b[0m\u001b[0;34m.\u001b[0m\u001b[0minfo\u001b[0m\u001b[0;34m(\u001b[0m\u001b[0;34m\"Epoch[%s] Complete. Time taken: %02d:%02d:%02d\"\u001b[0m\u001b[0;34m,\u001b[0m \u001b[0mself\u001b[0m\u001b[0;34m.\u001b[0m\u001b[0mstate\u001b[0m\u001b[0;34m.\u001b[0m\u001b[0mepoch\u001b[0m\u001b[0;34m,\u001b[0m \u001b[0mhours\u001b[0m\u001b[0;34m,\u001b[0m \u001b[0mmins\u001b[0m\u001b[0;34m,\u001b[0m \u001b[0msecs\u001b[0m\u001b[0;34m)\u001b[0m\u001b[0;34m\u001b[0m\u001b[0;34m\u001b[0m\u001b[0m\n",
      "\u001b[0;32m~/anaconda3/envs/pytorch/lib/python3.7/site-packages/ignite/engine/engine.py\u001b[0m in \u001b[0;36m_run_once_on_dataset\u001b[0;34m(self)\u001b[0m\n\u001b[1;32m    461\u001b[0m         \u001b[0;32mexcept\u001b[0m \u001b[0mBaseException\u001b[0m \u001b[0;32mas\u001b[0m \u001b[0me\u001b[0m\u001b[0;34m:\u001b[0m\u001b[0;34m\u001b[0m\u001b[0;34m\u001b[0m\u001b[0m\n\u001b[1;32m    462\u001b[0m             \u001b[0mself\u001b[0m\u001b[0;34m.\u001b[0m\u001b[0mlogger\u001b[0m\u001b[0;34m.\u001b[0m\u001b[0merror\u001b[0m\u001b[0;34m(\u001b[0m\u001b[0;34m\"Current run is terminating due to exception: %s.\"\u001b[0m\u001b[0;34m,\u001b[0m \u001b[0mstr\u001b[0m\u001b[0;34m(\u001b[0m\u001b[0me\u001b[0m\u001b[0;34m)\u001b[0m\u001b[0;34m)\u001b[0m\u001b[0;34m\u001b[0m\u001b[0;34m\u001b[0m\u001b[0m\n\u001b[0;32m--> 463\u001b[0;31m             \u001b[0mself\u001b[0m\u001b[0;34m.\u001b[0m\u001b[0m_handle_exception\u001b[0m\u001b[0;34m(\u001b[0m\u001b[0me\u001b[0m\u001b[0;34m)\u001b[0m\u001b[0;34m\u001b[0m\u001b[0;34m\u001b[0m\u001b[0m\n\u001b[0m\u001b[1;32m    464\u001b[0m \u001b[0;34m\u001b[0m\u001b[0m\n\u001b[1;32m    465\u001b[0m         \u001b[0mtime_taken\u001b[0m \u001b[0;34m=\u001b[0m \u001b[0mtime\u001b[0m\u001b[0;34m.\u001b[0m\u001b[0mtime\u001b[0m\u001b[0;34m(\u001b[0m\u001b[0;34m)\u001b[0m \u001b[0;34m-\u001b[0m \u001b[0mstart_time\u001b[0m\u001b[0;34m\u001b[0m\u001b[0;34m\u001b[0m\u001b[0m\n",
      "\u001b[0;32m~/anaconda3/envs/pytorch/lib/python3.7/site-packages/ignite/engine/engine.py\u001b[0m in \u001b[0;36m_handle_exception\u001b[0;34m(self, e)\u001b[0m\n\u001b[1;32m    472\u001b[0m             \u001b[0mself\u001b[0m\u001b[0;34m.\u001b[0m\u001b[0m_fire_event\u001b[0m\u001b[0;34m(\u001b[0m\u001b[0mEvents\u001b[0m\u001b[0;34m.\u001b[0m\u001b[0mEXCEPTION_RAISED\u001b[0m\u001b[0;34m,\u001b[0m \u001b[0me\u001b[0m\u001b[0;34m)\u001b[0m\u001b[0;34m\u001b[0m\u001b[0;34m\u001b[0m\u001b[0m\n\u001b[1;32m    473\u001b[0m         \u001b[0;32melse\u001b[0m\u001b[0;34m:\u001b[0m\u001b[0;34m\u001b[0m\u001b[0;34m\u001b[0m\u001b[0m\n\u001b[0;32m--> 474\u001b[0;31m             \u001b[0;32mraise\u001b[0m \u001b[0me\u001b[0m\u001b[0;34m\u001b[0m\u001b[0;34m\u001b[0m\u001b[0m\n\u001b[0m\u001b[1;32m    475\u001b[0m \u001b[0;34m\u001b[0m\u001b[0m\n\u001b[1;32m    476\u001b[0m     \u001b[0;32mdef\u001b[0m \u001b[0mstate_dict\u001b[0m\u001b[0;34m(\u001b[0m\u001b[0mself\u001b[0m\u001b[0;34m)\u001b[0m \u001b[0;34m->\u001b[0m \u001b[0mOrderedDict\u001b[0m\u001b[0;34m:\u001b[0m\u001b[0;34m\u001b[0m\u001b[0;34m\u001b[0m\u001b[0m\n",
      "\u001b[0;32m~/anaconda3/envs/pytorch/lib/python3.7/site-packages/ignite/engine/engine.py\u001b[0m in \u001b[0;36m_run_once_on_dataset\u001b[0;34m(self)\u001b[0m\n\u001b[1;32m    444\u001b[0m                 \u001b[0mself\u001b[0m\u001b[0;34m.\u001b[0m\u001b[0mstate\u001b[0m\u001b[0;34m.\u001b[0m\u001b[0miteration\u001b[0m \u001b[0;34m+=\u001b[0m \u001b[0;36m1\u001b[0m\u001b[0;34m\u001b[0m\u001b[0;34m\u001b[0m\u001b[0m\n\u001b[1;32m    445\u001b[0m                 \u001b[0mself\u001b[0m\u001b[0;34m.\u001b[0m\u001b[0m_fire_event\u001b[0m\u001b[0;34m(\u001b[0m\u001b[0mEvents\u001b[0m\u001b[0;34m.\u001b[0m\u001b[0mITERATION_STARTED\u001b[0m\u001b[0;34m)\u001b[0m\u001b[0;34m\u001b[0m\u001b[0;34m\u001b[0m\u001b[0m\n\u001b[0;32m--> 446\u001b[0;31m                 \u001b[0mself\u001b[0m\u001b[0;34m.\u001b[0m\u001b[0mstate\u001b[0m\u001b[0;34m.\u001b[0m\u001b[0moutput\u001b[0m \u001b[0;34m=\u001b[0m \u001b[0mself\u001b[0m\u001b[0;34m.\u001b[0m\u001b[0m_process_function\u001b[0m\u001b[0;34m(\u001b[0m\u001b[0mself\u001b[0m\u001b[0;34m,\u001b[0m \u001b[0mself\u001b[0m\u001b[0;34m.\u001b[0m\u001b[0mstate\u001b[0m\u001b[0;34m.\u001b[0m\u001b[0mbatch\u001b[0m\u001b[0;34m)\u001b[0m\u001b[0;34m\u001b[0m\u001b[0;34m\u001b[0m\u001b[0m\n\u001b[0m\u001b[1;32m    447\u001b[0m                 \u001b[0mself\u001b[0m\u001b[0;34m.\u001b[0m\u001b[0m_fire_event\u001b[0m\u001b[0;34m(\u001b[0m\u001b[0mEvents\u001b[0m\u001b[0;34m.\u001b[0m\u001b[0mITERATION_COMPLETED\u001b[0m\u001b[0;34m)\u001b[0m\u001b[0;34m\u001b[0m\u001b[0;34m\u001b[0m\u001b[0m\n\u001b[1;32m    448\u001b[0m \u001b[0;34m\u001b[0m\u001b[0m\n",
      "\u001b[0;32m<ipython-input-23-eaa7f9aba331>\u001b[0m in \u001b[0;36mupdate_fn\u001b[0;34m(engine, batch)\u001b[0m\n\u001b[1;32m     32\u001b[0m         \u001b[0mloss\u001b[0m\u001b[0;34m,\u001b[0m \u001b[0mmetrics\u001b[0m\u001b[0;34m,\u001b[0m \u001b[0mpred_y\u001b[0m \u001b[0;34m=\u001b[0m \u001b[0mclassifier\u001b[0m\u001b[0;34m(\u001b[0m\u001b[0mx\u001b[0m\u001b[0;34m,\u001b[0m \u001b[0my\u001b[0m\u001b[0;34m)\u001b[0m\u001b[0;34m\u001b[0m\u001b[0;34m\u001b[0m\u001b[0m\n\u001b[1;32m     33\u001b[0m         \u001b[0mloss\u001b[0m\u001b[0;34m.\u001b[0m\u001b[0mbackward\u001b[0m\u001b[0;34m(\u001b[0m\u001b[0;34m)\u001b[0m\u001b[0;34m\u001b[0m\u001b[0;34m\u001b[0m\u001b[0m\n\u001b[0;32m---> 34\u001b[0;31m         \u001b[0moptimizer\u001b[0m\u001b[0;34m.\u001b[0m\u001b[0mstep\u001b[0m\u001b[0;34m(\u001b[0m\u001b[0;34m)\u001b[0m\u001b[0;34m\u001b[0m\u001b[0;34m\u001b[0m\u001b[0m\n\u001b[0m\u001b[1;32m     35\u001b[0m         \u001b[0;32mreturn\u001b[0m \u001b[0mmetrics\u001b[0m\u001b[0;34m,\u001b[0m \u001b[0mpred_y\u001b[0m\u001b[0;34m,\u001b[0m \u001b[0my\u001b[0m\u001b[0;34m\u001b[0m\u001b[0;34m\u001b[0m\u001b[0m\n\u001b[1;32m     36\u001b[0m     \u001b[0mtrainer\u001b[0m \u001b[0;34m=\u001b[0m \u001b[0mEngine\u001b[0m\u001b[0;34m(\u001b[0m\u001b[0mupdate_fn\u001b[0m\u001b[0;34m)\u001b[0m\u001b[0;34m\u001b[0m\u001b[0;34m\u001b[0m\u001b[0m\n",
      "\u001b[0;32m~/anaconda3/envs/pytorch/lib/python3.7/site-packages/torch/optim/adam.py\u001b[0m in \u001b[0;36mstep\u001b[0;34m(self, closure)\u001b[0m\n\u001b[1;32m     94\u001b[0m                 \u001b[0;31m# Decay the first and second moment running average coefficient\u001b[0m\u001b[0;34m\u001b[0m\u001b[0;34m\u001b[0m\u001b[0;34m\u001b[0m\u001b[0m\n\u001b[1;32m     95\u001b[0m                 \u001b[0mexp_avg\u001b[0m\u001b[0;34m.\u001b[0m\u001b[0mmul_\u001b[0m\u001b[0;34m(\u001b[0m\u001b[0mbeta1\u001b[0m\u001b[0;34m)\u001b[0m\u001b[0;34m.\u001b[0m\u001b[0madd_\u001b[0m\u001b[0;34m(\u001b[0m\u001b[0;36m1\u001b[0m \u001b[0;34m-\u001b[0m \u001b[0mbeta1\u001b[0m\u001b[0;34m,\u001b[0m \u001b[0mgrad\u001b[0m\u001b[0;34m)\u001b[0m\u001b[0;34m\u001b[0m\u001b[0;34m\u001b[0m\u001b[0m\n\u001b[0;32m---> 96\u001b[0;31m                 \u001b[0mexp_avg_sq\u001b[0m\u001b[0;34m.\u001b[0m\u001b[0mmul_\u001b[0m\u001b[0;34m(\u001b[0m\u001b[0mbeta2\u001b[0m\u001b[0;34m)\u001b[0m\u001b[0;34m.\u001b[0m\u001b[0maddcmul_\u001b[0m\u001b[0;34m(\u001b[0m\u001b[0;36m1\u001b[0m \u001b[0;34m-\u001b[0m \u001b[0mbeta2\u001b[0m\u001b[0;34m,\u001b[0m \u001b[0mgrad\u001b[0m\u001b[0;34m,\u001b[0m \u001b[0mgrad\u001b[0m\u001b[0;34m)\u001b[0m\u001b[0;34m\u001b[0m\u001b[0;34m\u001b[0m\u001b[0m\n\u001b[0m\u001b[1;32m     97\u001b[0m                 \u001b[0;32mif\u001b[0m \u001b[0mamsgrad\u001b[0m\u001b[0;34m:\u001b[0m\u001b[0;34m\u001b[0m\u001b[0;34m\u001b[0m\u001b[0m\n\u001b[1;32m     98\u001b[0m                     \u001b[0;31m# Maintains the maximum of all 2nd moment running avg. till now\u001b[0m\u001b[0;34m\u001b[0m\u001b[0;34m\u001b[0m\u001b[0;34m\u001b[0m\u001b[0m\n",
      "\u001b[0;31mKeyboardInterrupt\u001b[0m: "
     ]
    }
   ],
   "source": [
    "save_json('holdout_grid_mode_1.json', {'image_size':128, 'threshold':20,'arch':'pretrained','model_name':'se_resnext50_32x4d'})\n",
    "trainer.run(train_loader, max_epochs=150)"
   ]
  },
  {
   "cell_type": "code",
   "execution_count": null,
   "metadata": {},
   "outputs": [],
   "source": []
  },
  {
   "cell_type": "code",
   "execution_count": 37,
   "metadata": {},
   "outputs": [
    {
     "data": {
      "text/html": [
       "<div>\n",
       "<style scoped>\n",
       "    .dataframe tbody tr th:only-of-type {\n",
       "        vertical-align: middle;\n",
       "    }\n",
       "\n",
       "    .dataframe tbody tr th {\n",
       "        vertical-align: top;\n",
       "    }\n",
       "\n",
       "    .dataframe thead th {\n",
       "        text-align: right;\n",
       "    }\n",
       "</style>\n",
       "<table border=\"1\" class=\"dataframe\">\n",
       "  <thead>\n",
       "    <tr style=\"text-align: right;\">\n",
       "      <th></th>\n",
       "      <th>epoch</th>\n",
       "      <th>iteration</th>\n",
       "      <th>train/loss</th>\n",
       "      <th>train/loss_grapheme</th>\n",
       "      <th>train/loss_vowel</th>\n",
       "      <th>train/loss_consonant</th>\n",
       "      <th>train/acc_grapheme</th>\n",
       "      <th>train/acc_vowel</th>\n",
       "      <th>train/acc_consonant</th>\n",
       "      <th>train/recall</th>\n",
       "      <th>valid/loss</th>\n",
       "      <th>valid/loss_grapheme</th>\n",
       "      <th>valid/loss_vowel</th>\n",
       "      <th>valid/loss_consonant</th>\n",
       "      <th>valid/acc_grapheme</th>\n",
       "      <th>valid/acc_vowel</th>\n",
       "      <th>valid/acc_consonant</th>\n",
       "      <th>valid/recall</th>\n",
       "      <th>lr</th>\n",
       "      <th>elapsed_time</th>\n",
       "    </tr>\n",
       "  </thead>\n",
       "  <tbody>\n",
       "    <tr>\n",
       "      <td>0</td>\n",
       "      <td>1</td>\n",
       "      <td>5021</td>\n",
       "      <td>2.799690</td>\n",
       "      <td>1.937696</td>\n",
       "      <td>0.438678</td>\n",
       "      <td>0.423316</td>\n",
       "      <td>0.548054</td>\n",
       "      <td>0.884448</td>\n",
       "      <td>0.889875</td>\n",
       "      <td>0.677631</td>\n",
       "      <td>3.301519</td>\n",
       "      <td>2.287018</td>\n",
       "      <td>0.614974</td>\n",
       "      <td>0.399527</td>\n",
       "      <td>0.503583</td>\n",
       "      <td>0.807200</td>\n",
       "      <td>0.870347</td>\n",
       "      <td>0.712342</td>\n",
       "      <td>0.001</td>\n",
       "      <td>1763.932305</td>\n",
       "    </tr>\n",
       "    <tr>\n",
       "      <td>1</td>\n",
       "      <td>2</td>\n",
       "      <td>10042</td>\n",
       "      <td>0.934554</td>\n",
       "      <td>0.648827</td>\n",
       "      <td>0.150129</td>\n",
       "      <td>0.135598</td>\n",
       "      <td>0.842381</td>\n",
       "      <td>0.961711</td>\n",
       "      <td>0.962339</td>\n",
       "      <td>0.891414</td>\n",
       "      <td>2.819982</td>\n",
       "      <td>1.833402</td>\n",
       "      <td>0.607212</td>\n",
       "      <td>0.379368</td>\n",
       "      <td>0.583624</td>\n",
       "      <td>0.804240</td>\n",
       "      <td>0.867586</td>\n",
       "      <td>0.746693</td>\n",
       "      <td>0.001</td>\n",
       "      <td>3496.321592</td>\n",
       "    </tr>\n",
       "    <tr>\n",
       "      <td>2</td>\n",
       "      <td>3</td>\n",
       "      <td>15063</td>\n",
       "      <td>0.629416</td>\n",
       "      <td>0.429597</td>\n",
       "      <td>0.104538</td>\n",
       "      <td>0.095282</td>\n",
       "      <td>0.893640</td>\n",
       "      <td>0.973630</td>\n",
       "      <td>0.973125</td>\n",
       "      <td>0.926838</td>\n",
       "      <td>3.224983</td>\n",
       "      <td>1.949107</td>\n",
       "      <td>0.850719</td>\n",
       "      <td>0.425157</td>\n",
       "      <td>0.583076</td>\n",
       "      <td>0.745621</td>\n",
       "      <td>0.847830</td>\n",
       "      <td>0.736990</td>\n",
       "      <td>0.001</td>\n",
       "      <td>5133.226001</td>\n",
       "    </tr>\n",
       "    <tr>\n",
       "      <td>3</td>\n",
       "      <td>4</td>\n",
       "      <td>20084</td>\n",
       "      <td>0.487317</td>\n",
       "      <td>0.329513</td>\n",
       "      <td>0.081662</td>\n",
       "      <td>0.076143</td>\n",
       "      <td>0.916482</td>\n",
       "      <td>0.979262</td>\n",
       "      <td>0.978546</td>\n",
       "      <td>0.941050</td>\n",
       "      <td>2.919880</td>\n",
       "      <td>1.771501</td>\n",
       "      <td>0.829959</td>\n",
       "      <td>0.318420</td>\n",
       "      <td>0.633410</td>\n",
       "      <td>0.783912</td>\n",
       "      <td>0.891720</td>\n",
       "      <td>0.790351</td>\n",
       "      <td>0.001</td>\n",
       "      <td>6701.143154</td>\n",
       "    </tr>\n",
       "    <tr>\n",
       "      <td>4</td>\n",
       "      <td>5</td>\n",
       "      <td>25105</td>\n",
       "      <td>0.395184</td>\n",
       "      <td>0.265151</td>\n",
       "      <td>0.067152</td>\n",
       "      <td>0.062880</td>\n",
       "      <td>0.930722</td>\n",
       "      <td>0.983052</td>\n",
       "      <td>0.982418</td>\n",
       "      <td>0.951739</td>\n",
       "      <td>2.278028</td>\n",
       "      <td>1.476290</td>\n",
       "      <td>0.480015</td>\n",
       "      <td>0.321723</td>\n",
       "      <td>0.664485</td>\n",
       "      <td>0.844397</td>\n",
       "      <td>0.885997</td>\n",
       "      <td>0.775654</td>\n",
       "      <td>0.001</td>\n",
       "      <td>8267.086915</td>\n",
       "    </tr>\n",
       "    <tr>\n",
       "      <td>5</td>\n",
       "      <td>6</td>\n",
       "      <td>30126</td>\n",
       "      <td>0.328522</td>\n",
       "      <td>0.219461</td>\n",
       "      <td>0.056008</td>\n",
       "      <td>0.053053</td>\n",
       "      <td>0.942131</td>\n",
       "      <td>0.985922</td>\n",
       "      <td>0.984839</td>\n",
       "      <td>0.959843</td>\n",
       "      <td>2.651598</td>\n",
       "      <td>1.541781</td>\n",
       "      <td>0.742678</td>\n",
       "      <td>0.367139</td>\n",
       "      <td>0.666302</td>\n",
       "      <td>0.784659</td>\n",
       "      <td>0.873930</td>\n",
       "      <td>0.788721</td>\n",
       "      <td>0.001</td>\n",
       "      <td>9834.383235</td>\n",
       "    </tr>\n",
       "    <tr>\n",
       "      <td>6</td>\n",
       "      <td>7</td>\n",
       "      <td>35147</td>\n",
       "      <td>0.278753</td>\n",
       "      <td>0.185525</td>\n",
       "      <td>0.046954</td>\n",
       "      <td>0.046274</td>\n",
       "      <td>0.950352</td>\n",
       "      <td>0.987994</td>\n",
       "      <td>0.986743</td>\n",
       "      <td>0.964962</td>\n",
       "      <td>2.628079</td>\n",
       "      <td>1.729377</td>\n",
       "      <td>0.532308</td>\n",
       "      <td>0.366393</td>\n",
       "      <td>0.642292</td>\n",
       "      <td>0.831633</td>\n",
       "      <td>0.880374</td>\n",
       "      <td>0.778568</td>\n",
       "      <td>0.001</td>\n",
       "      <td>11401.532617</td>\n",
       "    </tr>\n",
       "    <tr>\n",
       "      <td>7</td>\n",
       "      <td>8</td>\n",
       "      <td>40168</td>\n",
       "      <td>0.237421</td>\n",
       "      <td>0.158077</td>\n",
       "      <td>0.040693</td>\n",
       "      <td>0.038651</td>\n",
       "      <td>0.957286</td>\n",
       "      <td>0.989731</td>\n",
       "      <td>0.989183</td>\n",
       "      <td>0.970173</td>\n",
       "      <td>2.496537</td>\n",
       "      <td>1.623953</td>\n",
       "      <td>0.553325</td>\n",
       "      <td>0.319259</td>\n",
       "      <td>0.662769</td>\n",
       "      <td>0.837082</td>\n",
       "      <td>0.891023</td>\n",
       "      <td>0.779778</td>\n",
       "      <td>0.001</td>\n",
       "      <td>12970.003869</td>\n",
       "    </tr>\n",
       "    <tr>\n",
       "      <td>8</td>\n",
       "      <td>9</td>\n",
       "      <td>45189</td>\n",
       "      <td>0.206228</td>\n",
       "      <td>0.136699</td>\n",
       "      <td>0.035583</td>\n",
       "      <td>0.033946</td>\n",
       "      <td>0.963018</td>\n",
       "      <td>0.990353</td>\n",
       "      <td>0.990154</td>\n",
       "      <td>0.973625</td>\n",
       "      <td>2.469742</td>\n",
       "      <td>1.506492</td>\n",
       "      <td>0.607400</td>\n",
       "      <td>0.355850</td>\n",
       "      <td>0.678045</td>\n",
       "      <td>0.825662</td>\n",
       "      <td>0.885052</td>\n",
       "      <td>0.797764</td>\n",
       "      <td>0.001</td>\n",
       "      <td>14536.608497</td>\n",
       "    </tr>\n",
       "    <tr>\n",
       "      <td>9</td>\n",
       "      <td>10</td>\n",
       "      <td>50210</td>\n",
       "      <td>0.182064</td>\n",
       "      <td>0.120264</td>\n",
       "      <td>0.031452</td>\n",
       "      <td>0.030348</td>\n",
       "      <td>0.967250</td>\n",
       "      <td>0.991616</td>\n",
       "      <td>0.991019</td>\n",
       "      <td>0.977044</td>\n",
       "      <td>2.964096</td>\n",
       "      <td>1.825867</td>\n",
       "      <td>0.657815</td>\n",
       "      <td>0.480414</td>\n",
       "      <td>0.637614</td>\n",
       "      <td>0.822353</td>\n",
       "      <td>0.849249</td>\n",
       "      <td>0.751698</td>\n",
       "      <td>0.001</td>\n",
       "      <td>16101.024028</td>\n",
       "    </tr>\n",
       "    <tr>\n",
       "      <td>10</td>\n",
       "      <td>11</td>\n",
       "      <td>55231</td>\n",
       "      <td>0.159972</td>\n",
       "      <td>0.105236</td>\n",
       "      <td>0.027754</td>\n",
       "      <td>0.026982</td>\n",
       "      <td>0.970959</td>\n",
       "      <td>0.992401</td>\n",
       "      <td>0.992183</td>\n",
       "      <td>0.979112</td>\n",
       "      <td>2.623243</td>\n",
       "      <td>1.643563</td>\n",
       "      <td>0.610582</td>\n",
       "      <td>0.369098</td>\n",
       "      <td>0.659360</td>\n",
       "      <td>0.833698</td>\n",
       "      <td>0.884679</td>\n",
       "      <td>0.788499</td>\n",
       "      <td>0.001</td>\n",
       "      <td>17665.220462</td>\n",
       "    </tr>\n",
       "    <tr>\n",
       "      <td>11</td>\n",
       "      <td>12</td>\n",
       "      <td>60252</td>\n",
       "      <td>0.141381</td>\n",
       "      <td>0.093137</td>\n",
       "      <td>0.024695</td>\n",
       "      <td>0.023549</td>\n",
       "      <td>0.974401</td>\n",
       "      <td>0.993085</td>\n",
       "      <td>0.993104</td>\n",
       "      <td>0.981110</td>\n",
       "      <td>2.643946</td>\n",
       "      <td>1.658493</td>\n",
       "      <td>0.624113</td>\n",
       "      <td>0.361340</td>\n",
       "      <td>0.659559</td>\n",
       "      <td>0.827826</td>\n",
       "      <td>0.892839</td>\n",
       "      <td>0.775901</td>\n",
       "      <td>0.001</td>\n",
       "      <td>19229.130489</td>\n",
       "    </tr>\n",
       "    <tr>\n",
       "      <td>12</td>\n",
       "      <td>13</td>\n",
       "      <td>65273</td>\n",
       "      <td>0.129624</td>\n",
       "      <td>0.085488</td>\n",
       "      <td>0.022601</td>\n",
       "      <td>0.021536</td>\n",
       "      <td>0.976492</td>\n",
       "      <td>0.993770</td>\n",
       "      <td>0.993496</td>\n",
       "      <td>0.983951</td>\n",
       "      <td>3.123225</td>\n",
       "      <td>1.984253</td>\n",
       "      <td>0.677769</td>\n",
       "      <td>0.461203</td>\n",
       "      <td>0.621965</td>\n",
       "      <td>0.817551</td>\n",
       "      <td>0.878135</td>\n",
       "      <td>0.777658</td>\n",
       "      <td>0.001</td>\n",
       "      <td>20793.769223</td>\n",
       "    </tr>\n",
       "    <tr>\n",
       "      <td>13</td>\n",
       "      <td>14</td>\n",
       "      <td>70294</td>\n",
       "      <td>0.116821</td>\n",
       "      <td>0.078396</td>\n",
       "      <td>0.019664</td>\n",
       "      <td>0.018762</td>\n",
       "      <td>0.977681</td>\n",
       "      <td>0.994442</td>\n",
       "      <td>0.994355</td>\n",
       "      <td>0.984055</td>\n",
       "      <td>2.785981</td>\n",
       "      <td>1.695267</td>\n",
       "      <td>0.569679</td>\n",
       "      <td>0.521035</td>\n",
       "      <td>0.658738</td>\n",
       "      <td>0.842904</td>\n",
       "      <td>0.847681</td>\n",
       "      <td>0.774103</td>\n",
       "      <td>0.001</td>\n",
       "      <td>22358.000624</td>\n",
       "    </tr>\n",
       "    <tr>\n",
       "      <td>14</td>\n",
       "      <td>15</td>\n",
       "      <td>75315</td>\n",
       "      <td>0.103879</td>\n",
       "      <td>0.068496</td>\n",
       "      <td>0.018996</td>\n",
       "      <td>0.016388</td>\n",
       "      <td>0.980538</td>\n",
       "      <td>0.994411</td>\n",
       "      <td>0.994778</td>\n",
       "      <td>0.985976</td>\n",
       "      <td>3.379350</td>\n",
       "      <td>1.998496</td>\n",
       "      <td>0.901752</td>\n",
       "      <td>0.479102</td>\n",
       "      <td>0.621193</td>\n",
       "      <td>0.776324</td>\n",
       "      <td>0.866192</td>\n",
       "      <td>0.769494</td>\n",
       "      <td>0.001</td>\n",
       "      <td>23921.748191</td>\n",
       "    </tr>\n",
       "    <tr>\n",
       "      <td>15</td>\n",
       "      <td>16</td>\n",
       "      <td>80336</td>\n",
       "      <td>0.097248</td>\n",
       "      <td>0.063266</td>\n",
       "      <td>0.017894</td>\n",
       "      <td>0.016088</td>\n",
       "      <td>0.982225</td>\n",
       "      <td>0.994909</td>\n",
       "      <td>0.994990</td>\n",
       "      <td>0.987318</td>\n",
       "      <td>2.949448</td>\n",
       "      <td>1.868056</td>\n",
       "      <td>0.573731</td>\n",
       "      <td>0.507661</td>\n",
       "      <td>0.631146</td>\n",
       "      <td>0.843451</td>\n",
       "      <td>0.857285</td>\n",
       "      <td>0.766519</td>\n",
       "      <td>0.001</td>\n",
       "      <td>25485.085492</td>\n",
       "    </tr>\n",
       "    <tr>\n",
       "      <td>16</td>\n",
       "      <td>17</td>\n",
       "      <td>85357</td>\n",
       "      <td>0.091026</td>\n",
       "      <td>0.060497</td>\n",
       "      <td>0.016050</td>\n",
       "      <td>0.014479</td>\n",
       "      <td>0.982947</td>\n",
       "      <td>0.995351</td>\n",
       "      <td>0.995469</td>\n",
       "      <td>0.988075</td>\n",
       "      <td>3.635807</td>\n",
       "      <td>2.220893</td>\n",
       "      <td>0.972186</td>\n",
       "      <td>0.442728</td>\n",
       "      <td>0.600990</td>\n",
       "      <td>0.786077</td>\n",
       "      <td>0.878682</td>\n",
       "      <td>0.752849</td>\n",
       "      <td>0.001</td>\n",
       "      <td>27048.694267</td>\n",
       "    </tr>\n",
       "    <tr>\n",
       "      <td>17</td>\n",
       "      <td>18</td>\n",
       "      <td>90378</td>\n",
       "      <td>0.083352</td>\n",
       "      <td>0.053956</td>\n",
       "      <td>0.015310</td>\n",
       "      <td>0.014085</td>\n",
       "      <td>0.984633</td>\n",
       "      <td>0.995537</td>\n",
       "      <td>0.995494</td>\n",
       "      <td>0.989097</td>\n",
       "      <td>3.346526</td>\n",
       "      <td>2.148199</td>\n",
       "      <td>0.782498</td>\n",
       "      <td>0.415829</td>\n",
       "      <td>0.624179</td>\n",
       "      <td>0.812724</td>\n",
       "      <td>0.889082</td>\n",
       "      <td>0.778652</td>\n",
       "      <td>0.001</td>\n",
       "      <td>28612.809315</td>\n",
       "    </tr>\n",
       "    <tr>\n",
       "      <td>18</td>\n",
       "      <td>19</td>\n",
       "      <td>95399</td>\n",
       "      <td>0.080442</td>\n",
       "      <td>0.053157</td>\n",
       "      <td>0.014167</td>\n",
       "      <td>0.013119</td>\n",
       "      <td>0.984745</td>\n",
       "      <td>0.995861</td>\n",
       "      <td>0.996035</td>\n",
       "      <td>0.989079</td>\n",
       "      <td>2.980489</td>\n",
       "      <td>1.845334</td>\n",
       "      <td>0.718645</td>\n",
       "      <td>0.416510</td>\n",
       "      <td>0.641670</td>\n",
       "      <td>0.817128</td>\n",
       "      <td>0.892317</td>\n",
       "      <td>0.768494</td>\n",
       "      <td>0.001</td>\n",
       "      <td>30175.969586</td>\n",
       "    </tr>\n",
       "    <tr>\n",
       "      <td>19</td>\n",
       "      <td>20</td>\n",
       "      <td>100420</td>\n",
       "      <td>0.073101</td>\n",
       "      <td>0.049066</td>\n",
       "      <td>0.012765</td>\n",
       "      <td>0.011270</td>\n",
       "      <td>0.986227</td>\n",
       "      <td>0.996291</td>\n",
       "      <td>0.996297</td>\n",
       "      <td>0.990786</td>\n",
       "      <td>3.404687</td>\n",
       "      <td>2.051651</td>\n",
       "      <td>0.891424</td>\n",
       "      <td>0.461612</td>\n",
       "      <td>0.628110</td>\n",
       "      <td>0.811480</td>\n",
       "      <td>0.882365</td>\n",
       "      <td>0.771119</td>\n",
       "      <td>0.001</td>\n",
       "      <td>31740.587976</td>\n",
       "    </tr>\n",
       "    <tr>\n",
       "      <td>20</td>\n",
       "      <td>21</td>\n",
       "      <td>105441</td>\n",
       "      <td>0.069405</td>\n",
       "      <td>0.045389</td>\n",
       "      <td>0.011916</td>\n",
       "      <td>0.012100</td>\n",
       "      <td>0.987067</td>\n",
       "      <td>0.996415</td>\n",
       "      <td>0.996104</td>\n",
       "      <td>0.990666</td>\n",
       "      <td>3.313428</td>\n",
       "      <td>2.016267</td>\n",
       "      <td>0.724873</td>\n",
       "      <td>0.572288</td>\n",
       "      <td>0.622139</td>\n",
       "      <td>0.824020</td>\n",
       "      <td>0.879528</td>\n",
       "      <td>0.777503</td>\n",
       "      <td>0.001</td>\n",
       "      <td>33304.872029</td>\n",
       "    </tr>\n",
       "  </tbody>\n",
       "</table>\n",
       "</div>"
      ],
      "text/plain": [
       "    epoch  iteration  train/loss  train/loss_grapheme  train/loss_vowel  \\\n",
       "0       1       5021    2.799690             1.937696          0.438678   \n",
       "1       2      10042    0.934554             0.648827          0.150129   \n",
       "2       3      15063    0.629416             0.429597          0.104538   \n",
       "3       4      20084    0.487317             0.329513          0.081662   \n",
       "4       5      25105    0.395184             0.265151          0.067152   \n",
       "5       6      30126    0.328522             0.219461          0.056008   \n",
       "6       7      35147    0.278753             0.185525          0.046954   \n",
       "7       8      40168    0.237421             0.158077          0.040693   \n",
       "8       9      45189    0.206228             0.136699          0.035583   \n",
       "9      10      50210    0.182064             0.120264          0.031452   \n",
       "10     11      55231    0.159972             0.105236          0.027754   \n",
       "11     12      60252    0.141381             0.093137          0.024695   \n",
       "12     13      65273    0.129624             0.085488          0.022601   \n",
       "13     14      70294    0.116821             0.078396          0.019664   \n",
       "14     15      75315    0.103879             0.068496          0.018996   \n",
       "15     16      80336    0.097248             0.063266          0.017894   \n",
       "16     17      85357    0.091026             0.060497          0.016050   \n",
       "17     18      90378    0.083352             0.053956          0.015310   \n",
       "18     19      95399    0.080442             0.053157          0.014167   \n",
       "19     20     100420    0.073101             0.049066          0.012765   \n",
       "20     21     105441    0.069405             0.045389          0.011916   \n",
       "\n",
       "    train/loss_consonant  train/acc_grapheme  train/acc_vowel  \\\n",
       "0               0.423316            0.548054         0.884448   \n",
       "1               0.135598            0.842381         0.961711   \n",
       "2               0.095282            0.893640         0.973630   \n",
       "3               0.076143            0.916482         0.979262   \n",
       "4               0.062880            0.930722         0.983052   \n",
       "5               0.053053            0.942131         0.985922   \n",
       "6               0.046274            0.950352         0.987994   \n",
       "7               0.038651            0.957286         0.989731   \n",
       "8               0.033946            0.963018         0.990353   \n",
       "9               0.030348            0.967250         0.991616   \n",
       "10              0.026982            0.970959         0.992401   \n",
       "11              0.023549            0.974401         0.993085   \n",
       "12              0.021536            0.976492         0.993770   \n",
       "13              0.018762            0.977681         0.994442   \n",
       "14              0.016388            0.980538         0.994411   \n",
       "15              0.016088            0.982225         0.994909   \n",
       "16              0.014479            0.982947         0.995351   \n",
       "17              0.014085            0.984633         0.995537   \n",
       "18              0.013119            0.984745         0.995861   \n",
       "19              0.011270            0.986227         0.996291   \n",
       "20              0.012100            0.987067         0.996415   \n",
       "\n",
       "    train/acc_consonant  train/recall  valid/loss  valid/loss_grapheme  \\\n",
       "0              0.889875      0.677631    3.301519             2.287018   \n",
       "1              0.962339      0.891414    2.819982             1.833402   \n",
       "2              0.973125      0.926838    3.224983             1.949107   \n",
       "3              0.978546      0.941050    2.919880             1.771501   \n",
       "4              0.982418      0.951739    2.278028             1.476290   \n",
       "5              0.984839      0.959843    2.651598             1.541781   \n",
       "6              0.986743      0.964962    2.628079             1.729377   \n",
       "7              0.989183      0.970173    2.496537             1.623953   \n",
       "8              0.990154      0.973625    2.469742             1.506492   \n",
       "9              0.991019      0.977044    2.964096             1.825867   \n",
       "10             0.992183      0.979112    2.623243             1.643563   \n",
       "11             0.993104      0.981110    2.643946             1.658493   \n",
       "12             0.993496      0.983951    3.123225             1.984253   \n",
       "13             0.994355      0.984055    2.785981             1.695267   \n",
       "14             0.994778      0.985976    3.379350             1.998496   \n",
       "15             0.994990      0.987318    2.949448             1.868056   \n",
       "16             0.995469      0.988075    3.635807             2.220893   \n",
       "17             0.995494      0.989097    3.346526             2.148199   \n",
       "18             0.996035      0.989079    2.980489             1.845334   \n",
       "19             0.996297      0.990786    3.404687             2.051651   \n",
       "20             0.996104      0.990666    3.313428             2.016267   \n",
       "\n",
       "    valid/loss_vowel  valid/loss_consonant  valid/acc_grapheme  \\\n",
       "0           0.614974              0.399527            0.503583   \n",
       "1           0.607212              0.379368            0.583624   \n",
       "2           0.850719              0.425157            0.583076   \n",
       "3           0.829959              0.318420            0.633410   \n",
       "4           0.480015              0.321723            0.664485   \n",
       "5           0.742678              0.367139            0.666302   \n",
       "6           0.532308              0.366393            0.642292   \n",
       "7           0.553325              0.319259            0.662769   \n",
       "8           0.607400              0.355850            0.678045   \n",
       "9           0.657815              0.480414            0.637614   \n",
       "10          0.610582              0.369098            0.659360   \n",
       "11          0.624113              0.361340            0.659559   \n",
       "12          0.677769              0.461203            0.621965   \n",
       "13          0.569679              0.521035            0.658738   \n",
       "14          0.901752              0.479102            0.621193   \n",
       "15          0.573731              0.507661            0.631146   \n",
       "16          0.972186              0.442728            0.600990   \n",
       "17          0.782498              0.415829            0.624179   \n",
       "18          0.718645              0.416510            0.641670   \n",
       "19          0.891424              0.461612            0.628110   \n",
       "20          0.724873              0.572288            0.622139   \n",
       "\n",
       "    valid/acc_vowel  valid/acc_consonant  valid/recall     lr  elapsed_time  \n",
       "0          0.807200             0.870347      0.712342  0.001   1763.932305  \n",
       "1          0.804240             0.867586      0.746693  0.001   3496.321592  \n",
       "2          0.745621             0.847830      0.736990  0.001   5133.226001  \n",
       "3          0.783912             0.891720      0.790351  0.001   6701.143154  \n",
       "4          0.844397             0.885997      0.775654  0.001   8267.086915  \n",
       "5          0.784659             0.873930      0.788721  0.001   9834.383235  \n",
       "6          0.831633             0.880374      0.778568  0.001  11401.532617  \n",
       "7          0.837082             0.891023      0.779778  0.001  12970.003869  \n",
       "8          0.825662             0.885052      0.797764  0.001  14536.608497  \n",
       "9          0.822353             0.849249      0.751698  0.001  16101.024028  \n",
       "10         0.833698             0.884679      0.788499  0.001  17665.220462  \n",
       "11         0.827826             0.892839      0.775901  0.001  19229.130489  \n",
       "12         0.817551             0.878135      0.777658  0.001  20793.769223  \n",
       "13         0.842904             0.847681      0.774103  0.001  22358.000624  \n",
       "14         0.776324             0.866192      0.769494  0.001  23921.748191  \n",
       "15         0.843451             0.857285      0.766519  0.001  25485.085492  \n",
       "16         0.786077             0.878682      0.752849  0.001  27048.694267  \n",
       "17         0.812724             0.889082      0.778652  0.001  28612.809315  \n",
       "18         0.817128             0.892317      0.768494  0.001  30175.969586  \n",
       "19         0.811480             0.882365      0.771119  0.001  31740.587976  \n",
       "20         0.824020             0.879528      0.777503  0.001  33304.872029  "
      ]
     },
     "execution_count": 37,
     "metadata": {},
     "output_type": "execute_result"
    }
   ],
   "source": [
    "train_history = log_report.get_dataframe()\n",
    "train_history.to_csv(outdir / 'holdout_grid_mode_1_log.csv', index=False)\n",
    "\n",
    "train_history"
   ]
  },
  {
   "cell_type": "markdown",
   "metadata": {},
   "source": [
    "<a id=\"pred\"></a>\n",
    "# Prediction\n",
    "\n",
    "Please refer **[Bengali: SEResNeXt prediction with pytorch](https://www.kaggle.com/corochann/bengali-seresnext-prediction-with-pytorch)** for the prediction with trained model and submission for this competition!!!"
   ]
  },
  {
   "cell_type": "markdown",
   "metadata": {},
   "source": [
    "<a id=\"ref\"></a>\n",
    "# Reference and further reading\n",
    "\n",
    "#### Kernel\n",
    "\n",
    "**[Bangali.AI super fast data loading with feather](https://www.kaggle.com/corochann/bangali-ai-super-fast-data-loading-with-feather)**<br>\n",
    "Simple example of how use feather format data to load data faster.\n",
    "\n",
    "**[Bengali: albumentations data augmentation tutorial](https://www.kaggle.com/corochann/bengali-albumentations-data-augmentation-tutorial)**<br>\n",
    "Tutorial for Data augmentations with albumentations library.\n",
    "\n",
    "**[Bengali: SEResNeXt prediction with pytorch](https://www.kaggle.com/corochann/bengali-seresnext-prediction-with-pytorch)**<br>\n",
    "**Prediction code of this kernel's trained model, please check this too!**\n",
    "\n",
    "**[Deep learning - CNN with Chainer: LB 0.99700](https://www.kaggle.com/corochann/deep-learning-cnn-with-chainer-lb-0-99700)**<br>\n",
    "Data augmentation idea is based on this kernel, which achieves quite high accuracy on MNIST task.\n",
    "\n",
    "#### Dataset\n",
    "**[bengaliai-cv19-feather](https://www.kaggle.com/corochann/bengaliaicv19feather)**<br>\n",
    "Feather format dataset\n",
    "\n",
    "**[bengaliaicv19_seresnext101_32x4d](https://www.kaggle.com/corochann/bengaliaicv19-seresnext101-32x4d)**<br>\n",
    "**Trained model weight with this kernel(v1)**\n",
    "\n",
    "**[bengaliaicv19_trainedmodels](https://www.kaggle.com/corochann/bengaliaicv19-trainedmodels)**<br>\n",
    "**Trained model weight with this kernel(v2~)**\n",
    "\n",
    "#### Library\n",
    "**https://github.com/pytorch/ignite**\n",
    "\n",
    "Used for training code abstraction. The advantage of abstracting the code is that we can re-use implemented handler class for other training, other competition.<br>\n",
    "You don't need to write code for saving models, logging training loss/metric, show progressbar etc.\n",
    "\n",
    "**https://github.com/Cadene/pretrained-models.pytorch**\n",
    "\n",
    "Many pretrained models are supported by this library, and we can switch to use them easily.\n",
    "Other model may perform better in this competition.\n",
    "\n",
    "**https://github.com/albumentations-team/albumentations**\n",
    "\n",
    "fast image augmentation library and easy to use wrapper around other libraries https://arxiv.org/abs/1809.06839<br>\n",
    "I could not show all the methods, you can find more methods in the library, check yourself!"
   ]
  },
  {
   "cell_type": "markdown",
   "metadata": {},
   "source": [
    "<h3 style=\"color:red\">If this kernel helps you, please upvote to keep me motivated :)<br>Thanks!</h3>"
   ]
  },
  {
   "cell_type": "code",
   "execution_count": null,
   "metadata": {},
   "outputs": [],
   "source": []
  }
 ],
 "metadata": {
  "kernelspec": {
   "display_name": "Python 3.7.5 64-bit ('pytorch': conda)",
   "language": "python",
   "name": "python37564bitpytorchconda133dde54c45c40c2946593d30b593426"
  },
  "language_info": {
   "codemirror_mode": {
    "name": "ipython",
    "version": 3
   },
   "file_extension": ".py",
   "mimetype": "text/x-python",
   "name": "python",
   "nbconvert_exporter": "python",
   "pygments_lexer": "ipython3",
   "version": "3.7.5"
  },
  "widgets": {
   "application/vnd.jupyter.widget-state+json": {
    "state": {
     "003455a3f76e462989dc8f5918b5e2bc": {
      "model_module": "@jupyter-widgets/base",
      "model_module_version": "1.2.0",
      "model_name": "LayoutModel",
      "state": {
       "_model_module": "@jupyter-widgets/base",
       "_model_module_version": "1.2.0",
       "_model_name": "LayoutModel",
       "_view_count": null,
       "_view_module": "@jupyter-widgets/base",
       "_view_module_version": "1.2.0",
       "_view_name": "LayoutView",
       "align_content": null,
       "align_items": null,
       "align_self": null,
       "border": null,
       "bottom": null,
       "display": null,
       "flex": null,
       "flex_flow": null,
       "grid_area": null,
       "grid_auto_columns": null,
       "grid_auto_flow": null,
       "grid_auto_rows": null,
       "grid_column": null,
       "grid_gap": null,
       "grid_row": null,
       "grid_template_areas": null,
       "grid_template_columns": null,
       "grid_template_rows": null,
       "height": null,
       "justify_content": null,
       "justify_items": null,
       "left": null,
       "margin": null,
       "max_height": null,
       "max_width": null,
       "min_height": null,
       "min_width": null,
       "object_fit": null,
       "object_position": null,
       "order": null,
       "overflow": null,
       "overflow_x": null,
       "overflow_y": null,
       "padding": null,
       "right": null,
       "top": null,
       "visibility": null,
       "width": null
      }
     },
     "0160d992f66e44bba4e99a432005bb53": {
      "model_module": "@jupyter-widgets/controls",
      "model_module_version": "1.5.0",
      "model_name": "HTMLModel",
      "state": {
       "_dom_classes": [],
       "_model_module": "@jupyter-widgets/controls",
       "_model_module_version": "1.5.0",
       "_model_name": "HTMLModel",
       "_view_count": null,
       "_view_module": "@jupyter-widgets/controls",
       "_view_module_version": "1.5.0",
       "_view_name": "HTMLView",
       "description": "",
       "description_tooltip": null,
       "layout": "IPY_MODEL_04ccf740a8de458486499beff54f5fca",
       "placeholder": "​",
       "style": "IPY_MODEL_f76974dd7d5c49cda99393efe40e8a61",
       "value": ", acc_consonant=0.549, acc_grapheme=0.201, acc_vowel=0.464, loss=7.44, loss_consonant=1.59, loss_grapheme=4.16, loss_vowel=1.69, recall=0.275 [00:01&lt;00:00]"
      }
     },
     "01862e3426f44e80a32776bc42a92762": {
      "model_module": "@jupyter-widgets/controls",
      "model_module_version": "1.5.0",
      "model_name": "IntProgressModel",
      "state": {
       "_dom_classes": [],
       "_model_module": "@jupyter-widgets/controls",
       "_model_module_version": "1.5.0",
       "_model_name": "IntProgressModel",
       "_view_count": null,
       "_view_module": "@jupyter-widgets/controls",
       "_view_module_version": "1.5.0",
       "_view_name": "ProgressView",
       "bar_style": "",
       "description": "Epoch [10/10]: [7/7] 100%",
       "description_tooltip": null,
       "layout": "IPY_MODEL_4e7e691144c24145993ec5ab8c37095a",
       "max": 7,
       "min": 0,
       "orientation": "horizontal",
       "style": "IPY_MODEL_62e813082cd84b349be4970c36506709",
       "value": 7
      }
     },
     "025e6ce14f4540c0bc220fc29b591177": {
      "model_module": "@jupyter-widgets/controls",
      "model_module_version": "1.5.0",
      "model_name": "ProgressStyleModel",
      "state": {
       "_model_module": "@jupyter-widgets/controls",
       "_model_module_version": "1.5.0",
       "_model_name": "ProgressStyleModel",
       "_view_count": null,
       "_view_module": "@jupyter-widgets/base",
       "_view_module_version": "1.2.0",
       "_view_name": "StyleView",
       "bar_color": null,
       "description_width": "initial"
      }
     },
     "03e301b22c424672992a54c6c8e4d288": {
      "model_module": "@jupyter-widgets/controls",
      "model_module_version": "1.5.0",
      "model_name": "HBoxModel",
      "state": {
       "_dom_classes": [],
       "_model_module": "@jupyter-widgets/controls",
       "_model_module_version": "1.5.0",
       "_model_name": "HBoxModel",
       "_view_count": null,
       "_view_module": "@jupyter-widgets/controls",
       "_view_module_version": "1.5.0",
       "_view_name": "HBoxView",
       "box_style": "",
       "children": [
        "IPY_MODEL_4fde98b59321448e9acef9fc7671711e",
        "IPY_MODEL_e54cbbf92da24a3d8fe549341193a719"
       ],
       "layout": "IPY_MODEL_945c8e2595dc4ba9ab0a3442b1ab0d91"
      }
     },
     "04ccf740a8de458486499beff54f5fca": {
      "model_module": "@jupyter-widgets/base",
      "model_module_version": "1.2.0",
      "model_name": "LayoutModel",
      "state": {
       "_model_module": "@jupyter-widgets/base",
       "_model_module_version": "1.2.0",
       "_model_name": "LayoutModel",
       "_view_count": null,
       "_view_module": "@jupyter-widgets/base",
       "_view_module_version": "1.2.0",
       "_view_name": "LayoutView",
       "align_content": null,
       "align_items": null,
       "align_self": null,
       "border": null,
       "bottom": null,
       "display": null,
       "flex": null,
       "flex_flow": null,
       "grid_area": null,
       "grid_auto_columns": null,
       "grid_auto_flow": null,
       "grid_auto_rows": null,
       "grid_column": null,
       "grid_gap": null,
       "grid_row": null,
       "grid_template_areas": null,
       "grid_template_columns": null,
       "grid_template_rows": null,
       "height": null,
       "justify_content": null,
       "justify_items": null,
       "left": null,
       "margin": null,
       "max_height": null,
       "max_width": null,
       "min_height": null,
       "min_width": null,
       "object_fit": null,
       "object_position": null,
       "order": null,
       "overflow": null,
       "overflow_x": null,
       "overflow_y": null,
       "padding": null,
       "right": null,
       "top": null,
       "visibility": null,
       "width": null
      }
     },
     "052b457f704b4a2396f66e268c1defdf": {
      "model_module": "@jupyter-widgets/base",
      "model_module_version": "1.2.0",
      "model_name": "LayoutModel",
      "state": {
       "_model_module": "@jupyter-widgets/base",
       "_model_module_version": "1.2.0",
       "_model_name": "LayoutModel",
       "_view_count": null,
       "_view_module": "@jupyter-widgets/base",
       "_view_module_version": "1.2.0",
       "_view_name": "LayoutView",
       "align_content": null,
       "align_items": null,
       "align_self": null,
       "border": null,
       "bottom": null,
       "display": null,
       "flex": null,
       "flex_flow": null,
       "grid_area": null,
       "grid_auto_columns": null,
       "grid_auto_flow": null,
       "grid_auto_rows": null,
       "grid_column": null,
       "grid_gap": null,
       "grid_row": null,
       "grid_template_areas": null,
       "grid_template_columns": null,
       "grid_template_rows": null,
       "height": null,
       "justify_content": null,
       "justify_items": null,
       "left": null,
       "margin": null,
       "max_height": null,
       "max_width": null,
       "min_height": null,
       "min_width": null,
       "object_fit": null,
       "object_position": null,
       "order": null,
       "overflow": null,
       "overflow_x": null,
       "overflow_y": null,
       "padding": null,
       "right": null,
       "top": null,
       "visibility": null,
       "width": null
      }
     },
     "066b716b0fc64967ad1c9277739734f2": {
      "model_module": "@jupyter-widgets/controls",
      "model_module_version": "1.5.0",
      "model_name": "HBoxModel",
      "state": {
       "_dom_classes": [],
       "_model_module": "@jupyter-widgets/controls",
       "_model_module_version": "1.5.0",
       "_model_name": "HBoxModel",
       "_view_count": null,
       "_view_module": "@jupyter-widgets/controls",
       "_view_module_version": "1.5.0",
       "_view_name": "HBoxView",
       "box_style": "",
       "children": [
        "IPY_MODEL_50ec360ce132466eacb2f6fb2696548c",
        "IPY_MODEL_469969ae06434d16b85154cb1e7baf03"
       ],
       "layout": "IPY_MODEL_7ba6392660f0482a91d6bee7e2074f33"
      }
     },
     "071e854f10b14ba288cd530cbed57ad1": {
      "model_module": "@jupyter-widgets/controls",
      "model_module_version": "1.5.0",
      "model_name": "HBoxModel",
      "state": {
       "_dom_classes": [],
       "_model_module": "@jupyter-widgets/controls",
       "_model_module_version": "1.5.0",
       "_model_name": "HBoxModel",
       "_view_count": null,
       "_view_module": "@jupyter-widgets/controls",
       "_view_module_version": "1.5.0",
       "_view_name": "HBoxView",
       "box_style": "",
       "children": [
        "IPY_MODEL_cc0419ce7e3445ce8325c5e0876490ce",
        "IPY_MODEL_e2855c55edfa44c79eb40fb0cc7dfff3"
       ],
       "layout": "IPY_MODEL_bca64c0170c547e79628defb3668841d"
      }
     },
     "07ca477e64014a7eaa6e2f019ddabcdc": {
      "model_module": "@jupyter-widgets/controls",
      "model_module_version": "1.5.0",
      "model_name": "ProgressStyleModel",
      "state": {
       "_model_module": "@jupyter-widgets/controls",
       "_model_module_version": "1.5.0",
       "_model_name": "ProgressStyleModel",
       "_view_count": null,
       "_view_module": "@jupyter-widgets/base",
       "_view_module_version": "1.2.0",
       "_view_name": "StyleView",
       "bar_color": null,
       "description_width": "initial"
      }
     },
     "0b333c91fe844fce993917157af849e6": {
      "model_module": "@jupyter-widgets/base",
      "model_module_version": "1.2.0",
      "model_name": "LayoutModel",
      "state": {
       "_model_module": "@jupyter-widgets/base",
       "_model_module_version": "1.2.0",
       "_model_name": "LayoutModel",
       "_view_count": null,
       "_view_module": "@jupyter-widgets/base",
       "_view_module_version": "1.2.0",
       "_view_name": "LayoutView",
       "align_content": null,
       "align_items": null,
       "align_self": null,
       "border": null,
       "bottom": null,
       "display": null,
       "flex": null,
       "flex_flow": null,
       "grid_area": null,
       "grid_auto_columns": null,
       "grid_auto_flow": null,
       "grid_auto_rows": null,
       "grid_column": null,
       "grid_gap": null,
       "grid_row": null,
       "grid_template_areas": null,
       "grid_template_columns": null,
       "grid_template_rows": null,
       "height": null,
       "justify_content": null,
       "justify_items": null,
       "left": null,
       "margin": null,
       "max_height": null,
       "max_width": null,
       "min_height": null,
       "min_width": null,
       "object_fit": null,
       "object_position": null,
       "order": null,
       "overflow": null,
       "overflow_x": null,
       "overflow_y": null,
       "padding": null,
       "right": null,
       "top": null,
       "visibility": null,
       "width": null
      }
     },
     "0e51f99fb6bd411b9af7d2a3ea288301": {
      "model_module": "@jupyter-widgets/base",
      "model_module_version": "1.2.0",
      "model_name": "LayoutModel",
      "state": {
       "_model_module": "@jupyter-widgets/base",
       "_model_module_version": "1.2.0",
       "_model_name": "LayoutModel",
       "_view_count": null,
       "_view_module": "@jupyter-widgets/base",
       "_view_module_version": "1.2.0",
       "_view_name": "LayoutView",
       "align_content": null,
       "align_items": null,
       "align_self": null,
       "border": null,
       "bottom": null,
       "display": null,
       "flex": null,
       "flex_flow": null,
       "grid_area": null,
       "grid_auto_columns": null,
       "grid_auto_flow": null,
       "grid_auto_rows": null,
       "grid_column": null,
       "grid_gap": null,
       "grid_row": null,
       "grid_template_areas": null,
       "grid_template_columns": null,
       "grid_template_rows": null,
       "height": null,
       "justify_content": null,
       "justify_items": null,
       "left": null,
       "margin": null,
       "max_height": null,
       "max_width": null,
       "min_height": null,
       "min_width": null,
       "object_fit": null,
       "object_position": null,
       "order": null,
       "overflow": null,
       "overflow_x": null,
       "overflow_y": null,
       "padding": null,
       "right": null,
       "top": null,
       "visibility": null,
       "width": null
      }
     },
     "0fcbb5c7492f4bc2bfbcb7db0c52f507": {
      "model_module": "@jupyter-widgets/controls",
      "model_module_version": "1.5.0",
      "model_name": "IntProgressModel",
      "state": {
       "_dom_classes": [],
       "_model_module": "@jupyter-widgets/controls",
       "_model_module_version": "1.5.0",
       "_model_name": "IntProgressModel",
       "_view_count": null,
       "_view_module": "@jupyter-widgets/controls",
       "_view_module_version": "1.5.0",
       "_view_name": "ProgressView",
       "bar_style": "success",
       "description": "",
       "description_tooltip": null,
       "layout": "IPY_MODEL_628487ded9ea434b991fd9ad24cd46df",
       "max": 1,
       "min": 0,
       "orientation": "horizontal",
       "style": "IPY_MODEL_fe0d96b7dace48bb9646e8254a64550a",
       "value": 1
      }
     },
     "17db07a7781c4576b5dc66f365b297db": {
      "model_module": "@jupyter-widgets/base",
      "model_module_version": "1.2.0",
      "model_name": "LayoutModel",
      "state": {
       "_model_module": "@jupyter-widgets/base",
       "_model_module_version": "1.2.0",
       "_model_name": "LayoutModel",
       "_view_count": null,
       "_view_module": "@jupyter-widgets/base",
       "_view_module_version": "1.2.0",
       "_view_name": "LayoutView",
       "align_content": null,
       "align_items": null,
       "align_self": null,
       "border": null,
       "bottom": null,
       "display": null,
       "flex": null,
       "flex_flow": null,
       "grid_area": null,
       "grid_auto_columns": null,
       "grid_auto_flow": null,
       "grid_auto_rows": null,
       "grid_column": null,
       "grid_gap": null,
       "grid_row": null,
       "grid_template_areas": null,
       "grid_template_columns": null,
       "grid_template_rows": null,
       "height": null,
       "justify_content": null,
       "justify_items": null,
       "left": null,
       "margin": null,
       "max_height": null,
       "max_width": null,
       "min_height": null,
       "min_width": null,
       "object_fit": null,
       "object_position": null,
       "order": null,
       "overflow": null,
       "overflow_x": null,
       "overflow_y": null,
       "padding": null,
       "right": null,
       "top": null,
       "visibility": null,
       "width": null
      }
     },
     "183b694071124aeaabb783fa2d314df6": {
      "model_module": "@jupyter-widgets/base",
      "model_module_version": "1.2.0",
      "model_name": "LayoutModel",
      "state": {
       "_model_module": "@jupyter-widgets/base",
       "_model_module_version": "1.2.0",
       "_model_name": "LayoutModel",
       "_view_count": null,
       "_view_module": "@jupyter-widgets/base",
       "_view_module_version": "1.2.0",
       "_view_name": "LayoutView",
       "align_content": null,
       "align_items": null,
       "align_self": null,
       "border": null,
       "bottom": null,
       "display": null,
       "flex": null,
       "flex_flow": null,
       "grid_area": null,
       "grid_auto_columns": null,
       "grid_auto_flow": null,
       "grid_auto_rows": null,
       "grid_column": null,
       "grid_gap": null,
       "grid_row": null,
       "grid_template_areas": null,
       "grid_template_columns": null,
       "grid_template_rows": null,
       "height": null,
       "justify_content": null,
       "justify_items": null,
       "left": null,
       "margin": null,
       "max_height": null,
       "max_width": null,
       "min_height": null,
       "min_width": null,
       "object_fit": null,
       "object_position": null,
       "order": null,
       "overflow": null,
       "overflow_x": null,
       "overflow_y": null,
       "padding": null,
       "right": null,
       "top": null,
       "visibility": null,
       "width": null
      }
     },
     "1a67e30d4ff34596bc81352f0a244e68": {
      "model_module": "@jupyter-widgets/controls",
      "model_module_version": "1.5.0",
      "model_name": "HBoxModel",
      "state": {
       "_dom_classes": [],
       "_model_module": "@jupyter-widgets/controls",
       "_model_module_version": "1.5.0",
       "_model_name": "HBoxModel",
       "_view_count": null,
       "_view_module": "@jupyter-widgets/controls",
       "_view_module_version": "1.5.0",
       "_view_name": "HBoxView",
       "box_style": "",
       "children": [
        "IPY_MODEL_01862e3426f44e80a32776bc42a92762",
        "IPY_MODEL_6c9f3f5279314b97bbea5c05248752ec"
       ],
       "layout": "IPY_MODEL_94e11e6462ae4d4e827be47a8a7a54ab"
      }
     },
     "1ddc85c9726d495fb8e9d56b456da48e": {
      "model_module": "@jupyter-widgets/controls",
      "model_module_version": "1.5.0",
      "model_name": "DescriptionStyleModel",
      "state": {
       "_model_module": "@jupyter-widgets/controls",
       "_model_module_version": "1.5.0",
       "_model_name": "DescriptionStyleModel",
       "_view_count": null,
       "_view_module": "@jupyter-widgets/base",
       "_view_module_version": "1.2.0",
       "_view_name": "StyleView",
       "description_width": ""
      }
     },
     "20a379929c8f482c89db2fa4f77da403": {
      "model_module": "@jupyter-widgets/base",
      "model_module_version": "1.2.0",
      "model_name": "LayoutModel",
      "state": {
       "_model_module": "@jupyter-widgets/base",
       "_model_module_version": "1.2.0",
       "_model_name": "LayoutModel",
       "_view_count": null,
       "_view_module": "@jupyter-widgets/base",
       "_view_module_version": "1.2.0",
       "_view_name": "LayoutView",
       "align_content": null,
       "align_items": null,
       "align_self": null,
       "border": null,
       "bottom": null,
       "display": null,
       "flex": null,
       "flex_flow": null,
       "grid_area": null,
       "grid_auto_columns": null,
       "grid_auto_flow": null,
       "grid_auto_rows": null,
       "grid_column": null,
       "grid_gap": null,
       "grid_row": null,
       "grid_template_areas": null,
       "grid_template_columns": null,
       "grid_template_rows": null,
       "height": null,
       "justify_content": null,
       "justify_items": null,
       "left": null,
       "margin": null,
       "max_height": null,
       "max_width": null,
       "min_height": null,
       "min_width": null,
       "object_fit": null,
       "object_position": null,
       "order": null,
       "overflow": null,
       "overflow_x": null,
       "overflow_y": null,
       "padding": null,
       "right": null,
       "top": null,
       "visibility": null,
       "width": null
      }
     },
     "20fb74bc8c5a446ca63db79973376954": {
      "model_module": "@jupyter-widgets/base",
      "model_module_version": "1.2.0",
      "model_name": "LayoutModel",
      "state": {
       "_model_module": "@jupyter-widgets/base",
       "_model_module_version": "1.2.0",
       "_model_name": "LayoutModel",
       "_view_count": null,
       "_view_module": "@jupyter-widgets/base",
       "_view_module_version": "1.2.0",
       "_view_name": "LayoutView",
       "align_content": null,
       "align_items": null,
       "align_self": null,
       "border": null,
       "bottom": null,
       "display": null,
       "flex": null,
       "flex_flow": null,
       "grid_area": null,
       "grid_auto_columns": null,
       "grid_auto_flow": null,
       "grid_auto_rows": null,
       "grid_column": null,
       "grid_gap": null,
       "grid_row": null,
       "grid_template_areas": null,
       "grid_template_columns": null,
       "grid_template_rows": null,
       "height": null,
       "justify_content": null,
       "justify_items": null,
       "left": null,
       "margin": null,
       "max_height": null,
       "max_width": null,
       "min_height": null,
       "min_width": null,
       "object_fit": null,
       "object_position": null,
       "order": null,
       "overflow": null,
       "overflow_x": null,
       "overflow_y": null,
       "padding": null,
       "right": null,
       "top": null,
       "visibility": null,
       "width": null
      }
     },
     "231a642ee4d24fb8a186f304807d3e41": {
      "model_module": "@jupyter-widgets/controls",
      "model_module_version": "1.5.0",
      "model_name": "DescriptionStyleModel",
      "state": {
       "_model_module": "@jupyter-widgets/controls",
       "_model_module_version": "1.5.0",
       "_model_name": "DescriptionStyleModel",
       "_view_count": null,
       "_view_module": "@jupyter-widgets/base",
       "_view_module_version": "1.2.0",
       "_view_name": "StyleView",
       "description_width": ""
      }
     },
     "24d7700dcae94218be0501e9284e626a": {
      "model_module": "@jupyter-widgets/controls",
      "model_module_version": "1.5.0",
      "model_name": "HBoxModel",
      "state": {
       "_dom_classes": [],
       "_model_module": "@jupyter-widgets/controls",
       "_model_module_version": "1.5.0",
       "_model_name": "HBoxModel",
       "_view_count": null,
       "_view_module": "@jupyter-widgets/controls",
       "_view_module_version": "1.5.0",
       "_view_name": "HBoxView",
       "box_style": "",
       "children": [
        "IPY_MODEL_68e6a40bf40e485aa066e3a734961ba2",
        "IPY_MODEL_bdada1576edb4e14ac408e342f663273"
       ],
       "layout": "IPY_MODEL_8569061e6ceb4db898efb09464a3f13f"
      }
     },
     "272861ed3ed04d9c8bc233c2b60a046c": {
      "model_module": "@jupyter-widgets/controls",
      "model_module_version": "1.5.0",
      "model_name": "DescriptionStyleModel",
      "state": {
       "_model_module": "@jupyter-widgets/controls",
       "_model_module_version": "1.5.0",
       "_model_name": "DescriptionStyleModel",
       "_view_count": null,
       "_view_module": "@jupyter-widgets/base",
       "_view_module_version": "1.2.0",
       "_view_name": "StyleView",
       "description_width": ""
      }
     },
     "2f3bfff231a448728b3a6ef090d1e199": {
      "model_module": "@jupyter-widgets/controls",
      "model_module_version": "1.5.0",
      "model_name": "HBoxModel",
      "state": {
       "_dom_classes": [],
       "_model_module": "@jupyter-widgets/controls",
       "_model_module_version": "1.5.0",
       "_model_name": "HBoxModel",
       "_view_count": null,
       "_view_module": "@jupyter-widgets/controls",
       "_view_module_version": "1.5.0",
       "_view_name": "HBoxView",
       "box_style": "",
       "children": [
        "IPY_MODEL_e79d605b55f24c9c9e41edabc20e8c50",
        "IPY_MODEL_70c750b99784450193b6e6689b4d97dd"
       ],
       "layout": "IPY_MODEL_4611991803204101b3c2b415376ad3e5"
      }
     },
     "343aa558e88c4b58be2c33f732c9871c": {
      "model_module": "@jupyter-widgets/base",
      "model_module_version": "1.2.0",
      "model_name": "LayoutModel",
      "state": {
       "_model_module": "@jupyter-widgets/base",
       "_model_module_version": "1.2.0",
       "_model_name": "LayoutModel",
       "_view_count": null,
       "_view_module": "@jupyter-widgets/base",
       "_view_module_version": "1.2.0",
       "_view_name": "LayoutView",
       "align_content": null,
       "align_items": null,
       "align_self": null,
       "border": null,
       "bottom": null,
       "display": null,
       "flex": null,
       "flex_flow": null,
       "grid_area": null,
       "grid_auto_columns": null,
       "grid_auto_flow": null,
       "grid_auto_rows": null,
       "grid_column": null,
       "grid_gap": null,
       "grid_row": null,
       "grid_template_areas": null,
       "grid_template_columns": null,
       "grid_template_rows": null,
       "height": null,
       "justify_content": null,
       "justify_items": null,
       "left": null,
       "margin": null,
       "max_height": null,
       "max_width": null,
       "min_height": null,
       "min_width": null,
       "object_fit": null,
       "object_position": null,
       "order": null,
       "overflow": null,
       "overflow_x": null,
       "overflow_y": null,
       "padding": null,
       "right": null,
       "top": null,
       "visibility": null,
       "width": null
      }
     },
     "360c6c7d53864f36861f262e036d701f": {
      "model_module": "@jupyter-widgets/controls",
      "model_module_version": "1.5.0",
      "model_name": "IntProgressModel",
      "state": {
       "_dom_classes": [],
       "_model_module": "@jupyter-widgets/controls",
       "_model_module_version": "1.5.0",
       "_model_name": "IntProgressModel",
       "_view_count": null,
       "_view_module": "@jupyter-widgets/controls",
       "_view_module_version": "1.5.0",
       "_view_name": "ProgressView",
       "bar_style": "",
       "description": "Epoch [2/10]: [7/7] 100%",
       "description_tooltip": null,
       "layout": "IPY_MODEL_954bb84c6aed4ae4b67225f639b0b6fe",
       "max": 7,
       "min": 0,
       "orientation": "horizontal",
       "style": "IPY_MODEL_bf0477e2f441498baeb67772323d2a94",
       "value": 7
      }
     },
     "37974842565b4008b636bcc6c5c008c9": {
      "model_module": "@jupyter-widgets/controls",
      "model_module_version": "1.5.0",
      "model_name": "DescriptionStyleModel",
      "state": {
       "_model_module": "@jupyter-widgets/controls",
       "_model_module_version": "1.5.0",
       "_model_name": "DescriptionStyleModel",
       "_view_count": null,
       "_view_module": "@jupyter-widgets/base",
       "_view_module_version": "1.2.0",
       "_view_name": "StyleView",
       "description_width": ""
      }
     },
     "3f1ffa5656ae4f54b14f021606ad0738": {
      "model_module": "@jupyter-widgets/controls",
      "model_module_version": "1.5.0",
      "model_name": "HBoxModel",
      "state": {
       "_dom_classes": [],
       "_model_module": "@jupyter-widgets/controls",
       "_model_module_version": "1.5.0",
       "_model_name": "HBoxModel",
       "_view_count": null,
       "_view_module": "@jupyter-widgets/controls",
       "_view_module_version": "1.5.0",
       "_view_name": "HBoxView",
       "box_style": "",
       "children": [
        "IPY_MODEL_e0967e71810b4b1496f28544f4fe6f12",
        "IPY_MODEL_0160d992f66e44bba4e99a432005bb53"
       ],
       "layout": "IPY_MODEL_8be9be0ca219430babf3f981102a8ab6"
      }
     },
     "41bb3e4e0d8842cbaf7a6a4977fde007": {
      "model_module": "@jupyter-widgets/controls",
      "model_module_version": "1.5.0",
      "model_name": "ProgressStyleModel",
      "state": {
       "_model_module": "@jupyter-widgets/controls",
       "_model_module_version": "1.5.0",
       "_model_name": "ProgressStyleModel",
       "_view_count": null,
       "_view_module": "@jupyter-widgets/base",
       "_view_module_version": "1.2.0",
       "_view_name": "StyleView",
       "bar_color": null,
       "description_width": "initial"
      }
     },
     "4251eccedbc14d47aeb47be63a934d3b": {
      "model_module": "@jupyter-widgets/controls",
      "model_module_version": "1.5.0",
      "model_name": "ProgressStyleModel",
      "state": {
       "_model_module": "@jupyter-widgets/controls",
       "_model_module_version": "1.5.0",
       "_model_name": "ProgressStyleModel",
       "_view_count": null,
       "_view_module": "@jupyter-widgets/base",
       "_view_module_version": "1.2.0",
       "_view_name": "StyleView",
       "bar_color": null,
       "description_width": "initial"
      }
     },
     "43cdf5ea12fc487491113213ad4b4498": {
      "model_module": "@jupyter-widgets/controls",
      "model_module_version": "1.5.0",
      "model_name": "HTMLModel",
      "state": {
       "_dom_classes": [],
       "_model_module": "@jupyter-widgets/controls",
       "_model_module_version": "1.5.0",
       "_model_name": "HTMLModel",
       "_view_count": null,
       "_view_module": "@jupyter-widgets/controls",
       "_view_module_version": "1.5.0",
       "_view_name": "HTMLView",
       "description": "",
       "description_tooltip": null,
       "layout": "IPY_MODEL_77446dd67e3444aabb5d5f6d31955ef2",
       "placeholder": "​",
       "style": "IPY_MODEL_231a642ee4d24fb8a186f304807d3e41",
       "value": ", acc_consonant=0.147, acc_grapheme=0.00893, acc_vowel=0.17, loss=10.4, loss_consonant=2.34, loss_grapheme=5.44, loss_vowel=2.66, recall=0.072 [00:01&lt;00:00]"
      }
     },
     "445ebe16f650447a899c775c4d2893e3": {
      "model_module": "@jupyter-widgets/base",
      "model_module_version": "1.2.0",
      "model_name": "LayoutModel",
      "state": {
       "_model_module": "@jupyter-widgets/base",
       "_model_module_version": "1.2.0",
       "_model_name": "LayoutModel",
       "_view_count": null,
       "_view_module": "@jupyter-widgets/base",
       "_view_module_version": "1.2.0",
       "_view_name": "LayoutView",
       "align_content": null,
       "align_items": null,
       "align_self": null,
       "border": null,
       "bottom": null,
       "display": null,
       "flex": null,
       "flex_flow": null,
       "grid_area": null,
       "grid_auto_columns": null,
       "grid_auto_flow": null,
       "grid_auto_rows": null,
       "grid_column": null,
       "grid_gap": null,
       "grid_row": null,
       "grid_template_areas": null,
       "grid_template_columns": null,
       "grid_template_rows": null,
       "height": null,
       "justify_content": null,
       "justify_items": null,
       "left": null,
       "margin": null,
       "max_height": null,
       "max_width": null,
       "min_height": null,
       "min_width": null,
       "object_fit": null,
       "object_position": null,
       "order": null,
       "overflow": null,
       "overflow_x": null,
       "overflow_y": null,
       "padding": null,
       "right": null,
       "top": null,
       "visibility": null,
       "width": null
      }
     },
     "4573129e86b846bd80b2bbcff2608f92": {
      "model_module": "@jupyter-widgets/controls",
      "model_module_version": "1.5.0",
      "model_name": "IntProgressModel",
      "state": {
       "_dom_classes": [],
       "_model_module": "@jupyter-widgets/controls",
       "_model_module_version": "1.5.0",
       "_model_name": "IntProgressModel",
       "_view_count": null,
       "_view_module": "@jupyter-widgets/controls",
       "_view_module_version": "1.5.0",
       "_view_name": "ProgressView",
       "bar_style": "success",
       "description": "",
       "description_tooltip": null,
       "layout": "IPY_MODEL_445ebe16f650447a899c775c4d2893e3",
       "max": 1,
       "min": 0,
       "orientation": "horizontal",
       "style": "IPY_MODEL_5d78f9fbd3704fb3b1461f602b3586bf",
       "value": 1
      }
     },
     "4611991803204101b3c2b415376ad3e5": {
      "model_module": "@jupyter-widgets/base",
      "model_module_version": "1.2.0",
      "model_name": "LayoutModel",
      "state": {
       "_model_module": "@jupyter-widgets/base",
       "_model_module_version": "1.2.0",
       "_model_name": "LayoutModel",
       "_view_count": null,
       "_view_module": "@jupyter-widgets/base",
       "_view_module_version": "1.2.0",
       "_view_name": "LayoutView",
       "align_content": null,
       "align_items": null,
       "align_self": null,
       "border": null,
       "bottom": null,
       "display": null,
       "flex": null,
       "flex_flow": null,
       "grid_area": null,
       "grid_auto_columns": null,
       "grid_auto_flow": null,
       "grid_auto_rows": null,
       "grid_column": null,
       "grid_gap": null,
       "grid_row": null,
       "grid_template_areas": null,
       "grid_template_columns": null,
       "grid_template_rows": null,
       "height": null,
       "justify_content": null,
       "justify_items": null,
       "left": null,
       "margin": null,
       "max_height": null,
       "max_width": null,
       "min_height": null,
       "min_width": null,
       "object_fit": null,
       "object_position": null,
       "order": null,
       "overflow": null,
       "overflow_x": null,
       "overflow_y": null,
       "padding": null,
       "right": null,
       "top": null,
       "visibility": null,
       "width": null
      }
     },
     "469969ae06434d16b85154cb1e7baf03": {
      "model_module": "@jupyter-widgets/controls",
      "model_module_version": "1.5.0",
      "model_name": "HTMLModel",
      "state": {
       "_dom_classes": [],
       "_model_module": "@jupyter-widgets/controls",
       "_model_module_version": "1.5.0",
       "_model_name": "HTMLModel",
       "_view_count": null,
       "_view_module": "@jupyter-widgets/controls",
       "_view_module_version": "1.5.0",
       "_view_name": "HTMLView",
       "description": "",
       "description_tooltip": null,
       "layout": "IPY_MODEL_9d0b912e463342889c3e2e69b24cd3ec",
       "placeholder": "​",
       "style": "IPY_MODEL_e35111890ad24af1a4c34eacde60649b",
       "value": ", acc_consonant=0.562, acc_grapheme=0.482, acc_vowel=0.616, loss=6.14, loss_consonant=1.46, loss_grapheme=3.3, loss_vowel=1.38, recall=0.462 [00:01&lt;00:00]"
      }
     },
     "46bc1e20d89c4b9597d19fb894f3315f": {
      "model_module": "@jupyter-widgets/base",
      "model_module_version": "1.2.0",
      "model_name": "LayoutModel",
      "state": {
       "_model_module": "@jupyter-widgets/base",
       "_model_module_version": "1.2.0",
       "_model_name": "LayoutModel",
       "_view_count": null,
       "_view_module": "@jupyter-widgets/base",
       "_view_module_version": "1.2.0",
       "_view_name": "LayoutView",
       "align_content": null,
       "align_items": null,
       "align_self": null,
       "border": null,
       "bottom": null,
       "display": null,
       "flex": null,
       "flex_flow": null,
       "grid_area": null,
       "grid_auto_columns": null,
       "grid_auto_flow": null,
       "grid_auto_rows": null,
       "grid_column": null,
       "grid_gap": null,
       "grid_row": null,
       "grid_template_areas": null,
       "grid_template_columns": null,
       "grid_template_rows": null,
       "height": null,
       "justify_content": null,
       "justify_items": null,
       "left": null,
       "margin": null,
       "max_height": null,
       "max_width": null,
       "min_height": null,
       "min_width": null,
       "object_fit": null,
       "object_position": null,
       "order": null,
       "overflow": null,
       "overflow_x": null,
       "overflow_y": null,
       "padding": null,
       "right": null,
       "top": null,
       "visibility": null,
       "width": null
      }
     },
     "475df4ec566e4abf84ae20aec0af97d2": {
      "model_module": "@jupyter-widgets/controls",
      "model_module_version": "1.5.0",
      "model_name": "DescriptionStyleModel",
      "state": {
       "_model_module": "@jupyter-widgets/controls",
       "_model_module_version": "1.5.0",
       "_model_name": "DescriptionStyleModel",
       "_view_count": null,
       "_view_module": "@jupyter-widgets/base",
       "_view_module_version": "1.2.0",
       "_view_name": "StyleView",
       "description_width": ""
      }
     },
     "4ac8348d41be4c00b508c589abb2ce9c": {
      "model_module": "@jupyter-widgets/controls",
      "model_module_version": "1.5.0",
      "model_name": "IntProgressModel",
      "state": {
       "_dom_classes": [],
       "_model_module": "@jupyter-widgets/controls",
       "_model_module_version": "1.5.0",
       "_model_name": "IntProgressModel",
       "_view_count": null,
       "_view_module": "@jupyter-widgets/controls",
       "_view_module_version": "1.5.0",
       "_view_name": "ProgressView",
       "bar_style": "",
       "description": "Epoch [3/10]: [7/7] 100%",
       "description_tooltip": null,
       "layout": "IPY_MODEL_052b457f704b4a2396f66e268c1defdf",
       "max": 7,
       "min": 0,
       "orientation": "horizontal",
       "style": "IPY_MODEL_e25e7536b5da49b1bf05d96978f522f6",
       "value": 7
      }
     },
     "4bd38a5e70ca47eb91ace39582c53dc6": {
      "model_module": "@jupyter-widgets/controls",
      "model_module_version": "1.5.0",
      "model_name": "ProgressStyleModel",
      "state": {
       "_model_module": "@jupyter-widgets/controls",
       "_model_module_version": "1.5.0",
       "_model_name": "ProgressStyleModel",
       "_view_count": null,
       "_view_module": "@jupyter-widgets/base",
       "_view_module_version": "1.2.0",
       "_view_name": "StyleView",
       "bar_color": null,
       "description_width": "initial"
      }
     },
     "4e6f99a5ded34778945874908b0e1e33": {
      "model_module": "@jupyter-widgets/controls",
      "model_module_version": "1.5.0",
      "model_name": "IntProgressModel",
      "state": {
       "_dom_classes": [],
       "_model_module": "@jupyter-widgets/controls",
       "_model_module_version": "1.5.0",
       "_model_name": "IntProgressModel",
       "_view_count": null,
       "_view_module": "@jupyter-widgets/controls",
       "_view_module_version": "1.5.0",
       "_view_name": "ProgressView",
       "bar_style": "",
       "description": "Epoch [6/10]: [7/7] 100%",
       "description_tooltip": null,
       "layout": "IPY_MODEL_20a379929c8f482c89db2fa4f77da403",
       "max": 7,
       "min": 0,
       "orientation": "horizontal",
       "style": "IPY_MODEL_57c1dd9241f14f24b0220bdde5b036d4",
       "value": 7
      }
     },
     "4e7e691144c24145993ec5ab8c37095a": {
      "model_module": "@jupyter-widgets/base",
      "model_module_version": "1.2.0",
      "model_name": "LayoutModel",
      "state": {
       "_model_module": "@jupyter-widgets/base",
       "_model_module_version": "1.2.0",
       "_model_name": "LayoutModel",
       "_view_count": null,
       "_view_module": "@jupyter-widgets/base",
       "_view_module_version": "1.2.0",
       "_view_name": "LayoutView",
       "align_content": null,
       "align_items": null,
       "align_self": null,
       "border": null,
       "bottom": null,
       "display": null,
       "flex": null,
       "flex_flow": null,
       "grid_area": null,
       "grid_auto_columns": null,
       "grid_auto_flow": null,
       "grid_auto_rows": null,
       "grid_column": null,
       "grid_gap": null,
       "grid_row": null,
       "grid_template_areas": null,
       "grid_template_columns": null,
       "grid_template_rows": null,
       "height": null,
       "justify_content": null,
       "justify_items": null,
       "left": null,
       "margin": null,
       "max_height": null,
       "max_width": null,
       "min_height": null,
       "min_width": null,
       "object_fit": null,
       "object_position": null,
       "order": null,
       "overflow": null,
       "overflow_x": null,
       "overflow_y": null,
       "padding": null,
       "right": null,
       "top": null,
       "visibility": null,
       "width": null
      }
     },
     "4edcfa38e8454f7195c69de561d48b5d": {
      "model_module": "@jupyter-widgets/base",
      "model_module_version": "1.2.0",
      "model_name": "LayoutModel",
      "state": {
       "_model_module": "@jupyter-widgets/base",
       "_model_module_version": "1.2.0",
       "_model_name": "LayoutModel",
       "_view_count": null,
       "_view_module": "@jupyter-widgets/base",
       "_view_module_version": "1.2.0",
       "_view_name": "LayoutView",
       "align_content": null,
       "align_items": null,
       "align_self": null,
       "border": null,
       "bottom": null,
       "display": null,
       "flex": null,
       "flex_flow": null,
       "grid_area": null,
       "grid_auto_columns": null,
       "grid_auto_flow": null,
       "grid_auto_rows": null,
       "grid_column": null,
       "grid_gap": null,
       "grid_row": null,
       "grid_template_areas": null,
       "grid_template_columns": null,
       "grid_template_rows": null,
       "height": null,
       "justify_content": null,
       "justify_items": null,
       "left": null,
       "margin": null,
       "max_height": null,
       "max_width": null,
       "min_height": null,
       "min_width": null,
       "object_fit": null,
       "object_position": null,
       "order": null,
       "overflow": null,
       "overflow_x": null,
       "overflow_y": null,
       "padding": null,
       "right": null,
       "top": null,
       "visibility": null,
       "width": null
      }
     },
     "4fde98b59321448e9acef9fc7671711e": {
      "model_module": "@jupyter-widgets/controls",
      "model_module_version": "1.5.0",
      "model_name": "IntProgressModel",
      "state": {
       "_dom_classes": [],
       "_model_module": "@jupyter-widgets/controls",
       "_model_module_version": "1.5.0",
       "_model_name": "IntProgressModel",
       "_view_count": null,
       "_view_module": "@jupyter-widgets/controls",
       "_view_module_version": "1.5.0",
       "_view_name": "ProgressView",
       "bar_style": "",
       "description": "Epoch [8/10]: [7/7] 100%",
       "description_tooltip": null,
       "layout": "IPY_MODEL_bb4bfcea489942b6b4425b57fe518fc8",
       "max": 7,
       "min": 0,
       "orientation": "horizontal",
       "style": "IPY_MODEL_025e6ce14f4540c0bc220fc29b591177",
       "value": 7
      }
     },
     "50ec360ce132466eacb2f6fb2696548c": {
      "model_module": "@jupyter-widgets/controls",
      "model_module_version": "1.5.0",
      "model_name": "IntProgressModel",
      "state": {
       "_dom_classes": [],
       "_model_module": "@jupyter-widgets/controls",
       "_model_module_version": "1.5.0",
       "_model_name": "IntProgressModel",
       "_view_count": null,
       "_view_module": "@jupyter-widgets/controls",
       "_view_module_version": "1.5.0",
       "_view_name": "ProgressView",
       "bar_style": "",
       "description": "Epoch [7/10]: [7/7] 100%",
       "description_tooltip": null,
       "layout": "IPY_MODEL_daf5a29d831149e386a18f4b58209c8a",
       "max": 7,
       "min": 0,
       "orientation": "horizontal",
       "style": "IPY_MODEL_b5e264cee9f84586b4bd08769f9ea7f1",
       "value": 7
      }
     },
     "511f097951384c0f90139472a15e13d4": {
      "model_module": "@jupyter-widgets/controls",
      "model_module_version": "1.5.0",
      "model_name": "HTMLModel",
      "state": {
       "_dom_classes": [],
       "_model_module": "@jupyter-widgets/controls",
       "_model_module_version": "1.5.0",
       "_model_name": "HTMLModel",
       "_view_count": null,
       "_view_module": "@jupyter-widgets/controls",
       "_view_module_version": "1.5.0",
       "_view_name": "HTMLView",
       "description": "",
       "description_tooltip": null,
       "layout": "IPY_MODEL_5760045b67194a81a95779b4027a425a",
       "placeholder": "​",
       "style": "IPY_MODEL_1ddc85c9726d495fb8e9d56b456da48e",
       "value": ", acc_consonant=0.353, acc_grapheme=0.0893, acc_vowel=0.286, loss=8.69, loss_consonant=1.84, loss_grapheme=4.78, loss_vowel=2.07, recall=0.134 [00:01&lt;00:00]"
      }
     },
     "5760045b67194a81a95779b4027a425a": {
      "model_module": "@jupyter-widgets/base",
      "model_module_version": "1.2.0",
      "model_name": "LayoutModel",
      "state": {
       "_model_module": "@jupyter-widgets/base",
       "_model_module_version": "1.2.0",
       "_model_name": "LayoutModel",
       "_view_count": null,
       "_view_module": "@jupyter-widgets/base",
       "_view_module_version": "1.2.0",
       "_view_name": "LayoutView",
       "align_content": null,
       "align_items": null,
       "align_self": null,
       "border": null,
       "bottom": null,
       "display": null,
       "flex": null,
       "flex_flow": null,
       "grid_area": null,
       "grid_auto_columns": null,
       "grid_auto_flow": null,
       "grid_auto_rows": null,
       "grid_column": null,
       "grid_gap": null,
       "grid_row": null,
       "grid_template_areas": null,
       "grid_template_columns": null,
       "grid_template_rows": null,
       "height": null,
       "justify_content": null,
       "justify_items": null,
       "left": null,
       "margin": null,
       "max_height": null,
       "max_width": null,
       "min_height": null,
       "min_width": null,
       "object_fit": null,
       "object_position": null,
       "order": null,
       "overflow": null,
       "overflow_x": null,
       "overflow_y": null,
       "padding": null,
       "right": null,
       "top": null,
       "visibility": null,
       "width": null
      }
     },
     "57c1dd9241f14f24b0220bdde5b036d4": {
      "model_module": "@jupyter-widgets/controls",
      "model_module_version": "1.5.0",
      "model_name": "ProgressStyleModel",
      "state": {
       "_model_module": "@jupyter-widgets/controls",
       "_model_module_version": "1.5.0",
       "_model_name": "ProgressStyleModel",
       "_view_count": null,
       "_view_module": "@jupyter-widgets/base",
       "_view_module_version": "1.2.0",
       "_view_name": "StyleView",
       "bar_color": null,
       "description_width": "initial"
      }
     },
     "5828b8e0b137409781ff4dade6bcc7e9": {
      "model_module": "@jupyter-widgets/base",
      "model_module_version": "1.2.0",
      "model_name": "LayoutModel",
      "state": {
       "_model_module": "@jupyter-widgets/base",
       "_model_module_version": "1.2.0",
       "_model_name": "LayoutModel",
       "_view_count": null,
       "_view_module": "@jupyter-widgets/base",
       "_view_module_version": "1.2.0",
       "_view_name": "LayoutView",
       "align_content": null,
       "align_items": null,
       "align_self": null,
       "border": null,
       "bottom": null,
       "display": null,
       "flex": null,
       "flex_flow": null,
       "grid_area": null,
       "grid_auto_columns": null,
       "grid_auto_flow": null,
       "grid_auto_rows": null,
       "grid_column": null,
       "grid_gap": null,
       "grid_row": null,
       "grid_template_areas": null,
       "grid_template_columns": null,
       "grid_template_rows": null,
       "height": null,
       "justify_content": null,
       "justify_items": null,
       "left": null,
       "margin": null,
       "max_height": null,
       "max_width": null,
       "min_height": null,
       "min_width": null,
       "object_fit": null,
       "object_position": null,
       "order": null,
       "overflow": null,
       "overflow_x": null,
       "overflow_y": null,
       "padding": null,
       "right": null,
       "top": null,
       "visibility": null,
       "width": null
      }
     },
     "5a5dad6f15734d10849ed845f03b4796": {
      "model_module": "@jupyter-widgets/base",
      "model_module_version": "1.2.0",
      "model_name": "LayoutModel",
      "state": {
       "_model_module": "@jupyter-widgets/base",
       "_model_module_version": "1.2.0",
       "_model_name": "LayoutModel",
       "_view_count": null,
       "_view_module": "@jupyter-widgets/base",
       "_view_module_version": "1.2.0",
       "_view_name": "LayoutView",
       "align_content": null,
       "align_items": null,
       "align_self": null,
       "border": null,
       "bottom": null,
       "display": null,
       "flex": null,
       "flex_flow": null,
       "grid_area": null,
       "grid_auto_columns": null,
       "grid_auto_flow": null,
       "grid_auto_rows": null,
       "grid_column": null,
       "grid_gap": null,
       "grid_row": null,
       "grid_template_areas": null,
       "grid_template_columns": null,
       "grid_template_rows": null,
       "height": null,
       "justify_content": null,
       "justify_items": null,
       "left": null,
       "margin": null,
       "max_height": null,
       "max_width": null,
       "min_height": null,
       "min_width": null,
       "object_fit": null,
       "object_position": null,
       "order": null,
       "overflow": null,
       "overflow_x": null,
       "overflow_y": null,
       "padding": null,
       "right": null,
       "top": null,
       "visibility": null,
       "width": null
      }
     },
     "5d78f9fbd3704fb3b1461f602b3586bf": {
      "model_module": "@jupyter-widgets/controls",
      "model_module_version": "1.5.0",
      "model_name": "ProgressStyleModel",
      "state": {
       "_model_module": "@jupyter-widgets/controls",
       "_model_module_version": "1.5.0",
       "_model_name": "ProgressStyleModel",
       "_view_count": null,
       "_view_module": "@jupyter-widgets/base",
       "_view_module_version": "1.2.0",
       "_view_name": "StyleView",
       "bar_color": null,
       "description_width": "initial"
      }
     },
     "5dc473987f1c4be68990ff47de4f7ed9": {
      "model_module": "@jupyter-widgets/base",
      "model_module_version": "1.2.0",
      "model_name": "LayoutModel",
      "state": {
       "_model_module": "@jupyter-widgets/base",
       "_model_module_version": "1.2.0",
       "_model_name": "LayoutModel",
       "_view_count": null,
       "_view_module": "@jupyter-widgets/base",
       "_view_module_version": "1.2.0",
       "_view_name": "LayoutView",
       "align_content": null,
       "align_items": null,
       "align_self": null,
       "border": null,
       "bottom": null,
       "display": null,
       "flex": null,
       "flex_flow": null,
       "grid_area": null,
       "grid_auto_columns": null,
       "grid_auto_flow": null,
       "grid_auto_rows": null,
       "grid_column": null,
       "grid_gap": null,
       "grid_row": null,
       "grid_template_areas": null,
       "grid_template_columns": null,
       "grid_template_rows": null,
       "height": null,
       "justify_content": null,
       "justify_items": null,
       "left": null,
       "margin": null,
       "max_height": null,
       "max_width": null,
       "min_height": null,
       "min_width": null,
       "object_fit": null,
       "object_position": null,
       "order": null,
       "overflow": null,
       "overflow_x": null,
       "overflow_y": null,
       "padding": null,
       "right": null,
       "top": null,
       "visibility": null,
       "width": null
      }
     },
     "5dd5c1cb44304ec2b52e0c3807e800c5": {
      "model_module": "@jupyter-widgets/controls",
      "model_module_version": "1.5.0",
      "model_name": "DescriptionStyleModel",
      "state": {
       "_model_module": "@jupyter-widgets/controls",
       "_model_module_version": "1.5.0",
       "_model_name": "DescriptionStyleModel",
       "_view_count": null,
       "_view_module": "@jupyter-widgets/base",
       "_view_module_version": "1.2.0",
       "_view_name": "StyleView",
       "description_width": ""
      }
     },
     "61f35eecaa9d4a409be9fc114929c8a1": {
      "model_module": "@jupyter-widgets/controls",
      "model_module_version": "1.5.0",
      "model_name": "ProgressStyleModel",
      "state": {
       "_model_module": "@jupyter-widgets/controls",
       "_model_module_version": "1.5.0",
       "_model_name": "ProgressStyleModel",
       "_view_count": null,
       "_view_module": "@jupyter-widgets/base",
       "_view_module_version": "1.2.0",
       "_view_name": "StyleView",
       "bar_color": null,
       "description_width": "initial"
      }
     },
     "6233ee4e9b734afbb1a8955243a4bcf9": {
      "model_module": "@jupyter-widgets/base",
      "model_module_version": "1.2.0",
      "model_name": "LayoutModel",
      "state": {
       "_model_module": "@jupyter-widgets/base",
       "_model_module_version": "1.2.0",
       "_model_name": "LayoutModel",
       "_view_count": null,
       "_view_module": "@jupyter-widgets/base",
       "_view_module_version": "1.2.0",
       "_view_name": "LayoutView",
       "align_content": null,
       "align_items": null,
       "align_self": null,
       "border": null,
       "bottom": null,
       "display": null,
       "flex": null,
       "flex_flow": null,
       "grid_area": null,
       "grid_auto_columns": null,
       "grid_auto_flow": null,
       "grid_auto_rows": null,
       "grid_column": null,
       "grid_gap": null,
       "grid_row": null,
       "grid_template_areas": null,
       "grid_template_columns": null,
       "grid_template_rows": null,
       "height": null,
       "justify_content": null,
       "justify_items": null,
       "left": null,
       "margin": null,
       "max_height": null,
       "max_width": null,
       "min_height": null,
       "min_width": null,
       "object_fit": null,
       "object_position": null,
       "order": null,
       "overflow": null,
       "overflow_x": null,
       "overflow_y": null,
       "padding": null,
       "right": null,
       "top": null,
       "visibility": null,
       "width": null
      }
     },
     "628487ded9ea434b991fd9ad24cd46df": {
      "model_module": "@jupyter-widgets/base",
      "model_module_version": "1.2.0",
      "model_name": "LayoutModel",
      "state": {
       "_model_module": "@jupyter-widgets/base",
       "_model_module_version": "1.2.0",
       "_model_name": "LayoutModel",
       "_view_count": null,
       "_view_module": "@jupyter-widgets/base",
       "_view_module_version": "1.2.0",
       "_view_name": "LayoutView",
       "align_content": null,
       "align_items": null,
       "align_self": null,
       "border": null,
       "bottom": null,
       "display": null,
       "flex": null,
       "flex_flow": null,
       "grid_area": null,
       "grid_auto_columns": null,
       "grid_auto_flow": null,
       "grid_auto_rows": null,
       "grid_column": null,
       "grid_gap": null,
       "grid_row": null,
       "grid_template_areas": null,
       "grid_template_columns": null,
       "grid_template_rows": null,
       "height": null,
       "justify_content": null,
       "justify_items": null,
       "left": null,
       "margin": null,
       "max_height": null,
       "max_width": null,
       "min_height": null,
       "min_width": null,
       "object_fit": null,
       "object_position": null,
       "order": null,
       "overflow": null,
       "overflow_x": null,
       "overflow_y": null,
       "padding": null,
       "right": null,
       "top": null,
       "visibility": null,
       "width": null
      }
     },
     "62e813082cd84b349be4970c36506709": {
      "model_module": "@jupyter-widgets/controls",
      "model_module_version": "1.5.0",
      "model_name": "ProgressStyleModel",
      "state": {
       "_model_module": "@jupyter-widgets/controls",
       "_model_module_version": "1.5.0",
       "_model_name": "ProgressStyleModel",
       "_view_count": null,
       "_view_module": "@jupyter-widgets/base",
       "_view_module_version": "1.2.0",
       "_view_name": "StyleView",
       "bar_color": null,
       "description_width": "initial"
      }
     },
     "64fd4ac764c448439ae2c8e7a9fbb67a": {
      "model_module": "@jupyter-widgets/controls",
      "model_module_version": "1.5.0",
      "model_name": "DescriptionStyleModel",
      "state": {
       "_model_module": "@jupyter-widgets/controls",
       "_model_module_version": "1.5.0",
       "_model_name": "DescriptionStyleModel",
       "_view_count": null,
       "_view_module": "@jupyter-widgets/base",
       "_view_module_version": "1.2.0",
       "_view_name": "StyleView",
       "description_width": ""
      }
     },
     "65eb74d0ce264f29b0451b5261d4d186": {
      "model_module": "@jupyter-widgets/base",
      "model_module_version": "1.2.0",
      "model_name": "LayoutModel",
      "state": {
       "_model_module": "@jupyter-widgets/base",
       "_model_module_version": "1.2.0",
       "_model_name": "LayoutModel",
       "_view_count": null,
       "_view_module": "@jupyter-widgets/base",
       "_view_module_version": "1.2.0",
       "_view_name": "LayoutView",
       "align_content": null,
       "align_items": null,
       "align_self": null,
       "border": null,
       "bottom": null,
       "display": null,
       "flex": null,
       "flex_flow": null,
       "grid_area": null,
       "grid_auto_columns": null,
       "grid_auto_flow": null,
       "grid_auto_rows": null,
       "grid_column": null,
       "grid_gap": null,
       "grid_row": null,
       "grid_template_areas": null,
       "grid_template_columns": null,
       "grid_template_rows": null,
       "height": null,
       "justify_content": null,
       "justify_items": null,
       "left": null,
       "margin": null,
       "max_height": null,
       "max_width": null,
       "min_height": null,
       "min_width": null,
       "object_fit": null,
       "object_position": null,
       "order": null,
       "overflow": null,
       "overflow_x": null,
       "overflow_y": null,
       "padding": null,
       "right": null,
       "top": null,
       "visibility": null,
       "width": null
      }
     },
     "663f092ec06a43ca9e1e8c9ee1fd3cc8": {
      "model_module": "@jupyter-widgets/base",
      "model_module_version": "1.2.0",
      "model_name": "LayoutModel",
      "state": {
       "_model_module": "@jupyter-widgets/base",
       "_model_module_version": "1.2.0",
       "_model_name": "LayoutModel",
       "_view_count": null,
       "_view_module": "@jupyter-widgets/base",
       "_view_module_version": "1.2.0",
       "_view_name": "LayoutView",
       "align_content": null,
       "align_items": null,
       "align_self": null,
       "border": null,
       "bottom": null,
       "display": null,
       "flex": null,
       "flex_flow": null,
       "grid_area": null,
       "grid_auto_columns": null,
       "grid_auto_flow": null,
       "grid_auto_rows": null,
       "grid_column": null,
       "grid_gap": null,
       "grid_row": null,
       "grid_template_areas": null,
       "grid_template_columns": null,
       "grid_template_rows": null,
       "height": null,
       "justify_content": null,
       "justify_items": null,
       "left": null,
       "margin": null,
       "max_height": null,
       "max_width": null,
       "min_height": null,
       "min_width": null,
       "object_fit": null,
       "object_position": null,
       "order": null,
       "overflow": null,
       "overflow_x": null,
       "overflow_y": null,
       "padding": null,
       "right": null,
       "top": null,
       "visibility": null,
       "width": null
      }
     },
     "68e6a40bf40e485aa066e3a734961ba2": {
      "model_module": "@jupyter-widgets/controls",
      "model_module_version": "1.5.0",
      "model_name": "IntProgressModel",
      "state": {
       "_dom_classes": [],
       "_model_module": "@jupyter-widgets/controls",
       "_model_module_version": "1.5.0",
       "_model_name": "IntProgressModel",
       "_view_count": null,
       "_view_module": "@jupyter-widgets/controls",
       "_view_module_version": "1.5.0",
       "_view_name": "ProgressView",
       "bar_style": "",
       "description": "Epoch [1/10]: [7/7] 100%",
       "description_tooltip": null,
       "layout": "IPY_MODEL_0b333c91fe844fce993917157af849e6",
       "max": 7,
       "min": 0,
       "orientation": "horizontal",
       "style": "IPY_MODEL_e12439e08a3a4d79908f80dbc4cb1688",
       "value": 7
      }
     },
     "6c9f3f5279314b97bbea5c05248752ec": {
      "model_module": "@jupyter-widgets/controls",
      "model_module_version": "1.5.0",
      "model_name": "HTMLModel",
      "state": {
       "_dom_classes": [],
       "_model_module": "@jupyter-widgets/controls",
       "_model_module_version": "1.5.0",
       "_model_name": "HTMLModel",
       "_view_count": null,
       "_view_module": "@jupyter-widgets/controls",
       "_view_module_version": "1.5.0",
       "_view_name": "HTMLView",
       "description": "",
       "description_tooltip": null,
       "layout": "IPY_MODEL_663f092ec06a43ca9e1e8c9ee1fd3cc8",
       "placeholder": "​",
       "style": "IPY_MODEL_475df4ec566e4abf84ae20aec0af97d2",
       "value": ", acc_consonant=0.763, acc_grapheme=0.723, acc_vowel=0.786, loss=4.8, loss_consonant=1.19, loss_grapheme=2.52, loss_vowel=1.09, recall=0.685 [00:01&lt;00:00]"
      }
     },
     "70c750b99784450193b6e6689b4d97dd": {
      "model_module": "@jupyter-widgets/controls",
      "model_module_version": "1.5.0",
      "model_name": "HTMLModel",
      "state": {
       "_dom_classes": [],
       "_model_module": "@jupyter-widgets/controls",
       "_model_module_version": "1.5.0",
       "_model_name": "HTMLModel",
       "_view_count": null,
       "_view_module": "@jupyter-widgets/controls",
       "_view_module_version": "1.5.0",
       "_view_name": "HTMLView",
       "description": "",
       "description_tooltip": null,
       "layout": "IPY_MODEL_46bc1e20d89c4b9597d19fb894f3315f",
       "placeholder": "​",
       "style": "IPY_MODEL_805ea8044b614e28b19a00b42bfd0ed1",
       "value": " 30/? [00:00&lt;00:00, 102.14it/s]"
      }
     },
     "740d773f159a4800abb69d5742701a15": {
      "model_module": "@jupyter-widgets/controls",
      "model_module_version": "1.5.0",
      "model_name": "IntProgressModel",
      "state": {
       "_dom_classes": [],
       "_model_module": "@jupyter-widgets/controls",
       "_model_module_version": "1.5.0",
       "_model_name": "IntProgressModel",
       "_view_count": null,
       "_view_module": "@jupyter-widgets/controls",
       "_view_module_version": "1.5.0",
       "_view_name": "ProgressView",
       "bar_style": "",
       "description": "Epoch [9/10]: [7/7] 100%",
       "description_tooltip": null,
       "layout": "IPY_MODEL_deb78abb88d243e6bba1d754d74ab311",
       "max": 7,
       "min": 0,
       "orientation": "horizontal",
       "style": "IPY_MODEL_4bd38a5e70ca47eb91ace39582c53dc6",
       "value": 7
      }
     },
     "77446dd67e3444aabb5d5f6d31955ef2": {
      "model_module": "@jupyter-widgets/base",
      "model_module_version": "1.2.0",
      "model_name": "LayoutModel",
      "state": {
       "_model_module": "@jupyter-widgets/base",
       "_model_module_version": "1.2.0",
       "_model_name": "LayoutModel",
       "_view_count": null,
       "_view_module": "@jupyter-widgets/base",
       "_view_module_version": "1.2.0",
       "_view_name": "LayoutView",
       "align_content": null,
       "align_items": null,
       "align_self": null,
       "border": null,
       "bottom": null,
       "display": null,
       "flex": null,
       "flex_flow": null,
       "grid_area": null,
       "grid_auto_columns": null,
       "grid_auto_flow": null,
       "grid_auto_rows": null,
       "grid_column": null,
       "grid_gap": null,
       "grid_row": null,
       "grid_template_areas": null,
       "grid_template_columns": null,
       "grid_template_rows": null,
       "height": null,
       "justify_content": null,
       "justify_items": null,
       "left": null,
       "margin": null,
       "max_height": null,
       "max_width": null,
       "min_height": null,
       "min_width": null,
       "object_fit": null,
       "object_position": null,
       "order": null,
       "overflow": null,
       "overflow_x": null,
       "overflow_y": null,
       "padding": null,
       "right": null,
       "top": null,
       "visibility": null,
       "width": null
      }
     },
     "781f9807309a45fbb3caf19e4527f828": {
      "model_module": "@jupyter-widgets/base",
      "model_module_version": "1.2.0",
      "model_name": "LayoutModel",
      "state": {
       "_model_module": "@jupyter-widgets/base",
       "_model_module_version": "1.2.0",
       "_model_name": "LayoutModel",
       "_view_count": null,
       "_view_module": "@jupyter-widgets/base",
       "_view_module_version": "1.2.0",
       "_view_name": "LayoutView",
       "align_content": null,
       "align_items": null,
       "align_self": null,
       "border": null,
       "bottom": null,
       "display": null,
       "flex": null,
       "flex_flow": null,
       "grid_area": null,
       "grid_auto_columns": null,
       "grid_auto_flow": null,
       "grid_auto_rows": null,
       "grid_column": null,
       "grid_gap": null,
       "grid_row": null,
       "grid_template_areas": null,
       "grid_template_columns": null,
       "grid_template_rows": null,
       "height": null,
       "justify_content": null,
       "justify_items": null,
       "left": null,
       "margin": null,
       "max_height": null,
       "max_width": null,
       "min_height": null,
       "min_width": null,
       "object_fit": null,
       "object_position": null,
       "order": null,
       "overflow": null,
       "overflow_x": null,
       "overflow_y": null,
       "padding": null,
       "right": null,
       "top": null,
       "visibility": null,
       "width": null
      }
     },
     "7a2f49f01f2d4e0c8311bf8bbbd06127": {
      "model_module": "@jupyter-widgets/base",
      "model_module_version": "1.2.0",
      "model_name": "LayoutModel",
      "state": {
       "_model_module": "@jupyter-widgets/base",
       "_model_module_version": "1.2.0",
       "_model_name": "LayoutModel",
       "_view_count": null,
       "_view_module": "@jupyter-widgets/base",
       "_view_module_version": "1.2.0",
       "_view_name": "LayoutView",
       "align_content": null,
       "align_items": null,
       "align_self": null,
       "border": null,
       "bottom": null,
       "display": null,
       "flex": null,
       "flex_flow": null,
       "grid_area": null,
       "grid_auto_columns": null,
       "grid_auto_flow": null,
       "grid_auto_rows": null,
       "grid_column": null,
       "grid_gap": null,
       "grid_row": null,
       "grid_template_areas": null,
       "grid_template_columns": null,
       "grid_template_rows": null,
       "height": null,
       "justify_content": null,
       "justify_items": null,
       "left": null,
       "margin": null,
       "max_height": null,
       "max_width": null,
       "min_height": null,
       "min_width": null,
       "object_fit": null,
       "object_position": null,
       "order": null,
       "overflow": null,
       "overflow_x": null,
       "overflow_y": null,
       "padding": null,
       "right": null,
       "top": null,
       "visibility": null,
       "width": null
      }
     },
     "7ba6392660f0482a91d6bee7e2074f33": {
      "model_module": "@jupyter-widgets/base",
      "model_module_version": "1.2.0",
      "model_name": "LayoutModel",
      "state": {
       "_model_module": "@jupyter-widgets/base",
       "_model_module_version": "1.2.0",
       "_model_name": "LayoutModel",
       "_view_count": null,
       "_view_module": "@jupyter-widgets/base",
       "_view_module_version": "1.2.0",
       "_view_name": "LayoutView",
       "align_content": null,
       "align_items": null,
       "align_self": null,
       "border": null,
       "bottom": null,
       "display": null,
       "flex": null,
       "flex_flow": null,
       "grid_area": null,
       "grid_auto_columns": null,
       "grid_auto_flow": null,
       "grid_auto_rows": null,
       "grid_column": null,
       "grid_gap": null,
       "grid_row": null,
       "grid_template_areas": null,
       "grid_template_columns": null,
       "grid_template_rows": null,
       "height": null,
       "justify_content": null,
       "justify_items": null,
       "left": null,
       "margin": null,
       "max_height": null,
       "max_width": null,
       "min_height": null,
       "min_width": null,
       "object_fit": null,
       "object_position": null,
       "order": null,
       "overflow": null,
       "overflow_x": null,
       "overflow_y": null,
       "padding": null,
       "right": null,
       "top": null,
       "visibility": null,
       "width": null
      }
     },
     "7f35a6c65d2f465caa32c72a3d13b35f": {
      "model_module": "@jupyter-widgets/controls",
      "model_module_version": "1.5.0",
      "model_name": "HBoxModel",
      "state": {
       "_dom_classes": [],
       "_model_module": "@jupyter-widgets/controls",
       "_model_module_version": "1.5.0",
       "_model_name": "HBoxModel",
       "_view_count": null,
       "_view_module": "@jupyter-widgets/controls",
       "_view_module_version": "1.5.0",
       "_view_name": "HBoxView",
       "box_style": "",
       "children": [
        "IPY_MODEL_4573129e86b846bd80b2bbcff2608f92",
        "IPY_MODEL_a5f39282e1ad4ed5a5624c2863310023"
       ],
       "layout": "IPY_MODEL_9f6ebbee958d4fd9af3e6298920b1ca8"
      }
     },
     "805ea8044b614e28b19a00b42bfd0ed1": {
      "model_module": "@jupyter-widgets/controls",
      "model_module_version": "1.5.0",
      "model_name": "DescriptionStyleModel",
      "state": {
       "_model_module": "@jupyter-widgets/controls",
       "_model_module_version": "1.5.0",
       "_model_name": "DescriptionStyleModel",
       "_view_count": null,
       "_view_module": "@jupyter-widgets/base",
       "_view_module_version": "1.2.0",
       "_view_name": "StyleView",
       "description_width": ""
      }
     },
     "832b8ab960434d2fa4599031699096ad": {
      "model_module": "@jupyter-widgets/controls",
      "model_module_version": "1.5.0",
      "model_name": "IntProgressModel",
      "state": {
       "_dom_classes": [],
       "_model_module": "@jupyter-widgets/controls",
       "_model_module_version": "1.5.0",
       "_model_name": "IntProgressModel",
       "_view_count": null,
       "_view_module": "@jupyter-widgets/controls",
       "_view_module_version": "1.5.0",
       "_view_name": "ProgressView",
       "bar_style": "",
       "description": "Epoch [4/10]: [7/7] 100%",
       "description_tooltip": null,
       "layout": "IPY_MODEL_0e51f99fb6bd411b9af7d2a3ea288301",
       "max": 7,
       "min": 0,
       "orientation": "horizontal",
       "style": "IPY_MODEL_07ca477e64014a7eaa6e2f019ddabcdc",
       "value": 7
      }
     },
     "8569061e6ceb4db898efb09464a3f13f": {
      "model_module": "@jupyter-widgets/base",
      "model_module_version": "1.2.0",
      "model_name": "LayoutModel",
      "state": {
       "_model_module": "@jupyter-widgets/base",
       "_model_module_version": "1.2.0",
       "_model_name": "LayoutModel",
       "_view_count": null,
       "_view_module": "@jupyter-widgets/base",
       "_view_module_version": "1.2.0",
       "_view_name": "LayoutView",
       "align_content": null,
       "align_items": null,
       "align_self": null,
       "border": null,
       "bottom": null,
       "display": null,
       "flex": null,
       "flex_flow": null,
       "grid_area": null,
       "grid_auto_columns": null,
       "grid_auto_flow": null,
       "grid_auto_rows": null,
       "grid_column": null,
       "grid_gap": null,
       "grid_row": null,
       "grid_template_areas": null,
       "grid_template_columns": null,
       "grid_template_rows": null,
       "height": null,
       "justify_content": null,
       "justify_items": null,
       "left": null,
       "margin": null,
       "max_height": null,
       "max_width": null,
       "min_height": null,
       "min_width": null,
       "object_fit": null,
       "object_position": null,
       "order": null,
       "overflow": null,
       "overflow_x": null,
       "overflow_y": null,
       "padding": null,
       "right": null,
       "top": null,
       "visibility": null,
       "width": null
      }
     },
     "8be9be0ca219430babf3f981102a8ab6": {
      "model_module": "@jupyter-widgets/base",
      "model_module_version": "1.2.0",
      "model_name": "LayoutModel",
      "state": {
       "_model_module": "@jupyter-widgets/base",
       "_model_module_version": "1.2.0",
       "_model_name": "LayoutModel",
       "_view_count": null,
       "_view_module": "@jupyter-widgets/base",
       "_view_module_version": "1.2.0",
       "_view_name": "LayoutView",
       "align_content": null,
       "align_items": null,
       "align_self": null,
       "border": null,
       "bottom": null,
       "display": null,
       "flex": null,
       "flex_flow": null,
       "grid_area": null,
       "grid_auto_columns": null,
       "grid_auto_flow": null,
       "grid_auto_rows": null,
       "grid_column": null,
       "grid_gap": null,
       "grid_row": null,
       "grid_template_areas": null,
       "grid_template_columns": null,
       "grid_template_rows": null,
       "height": null,
       "justify_content": null,
       "justify_items": null,
       "left": null,
       "margin": null,
       "max_height": null,
       "max_width": null,
       "min_height": null,
       "min_width": null,
       "object_fit": null,
       "object_position": null,
       "order": null,
       "overflow": null,
       "overflow_x": null,
       "overflow_y": null,
       "padding": null,
       "right": null,
       "top": null,
       "visibility": null,
       "width": null
      }
     },
     "945c8e2595dc4ba9ab0a3442b1ab0d91": {
      "model_module": "@jupyter-widgets/base",
      "model_module_version": "1.2.0",
      "model_name": "LayoutModel",
      "state": {
       "_model_module": "@jupyter-widgets/base",
       "_model_module_version": "1.2.0",
       "_model_name": "LayoutModel",
       "_view_count": null,
       "_view_module": "@jupyter-widgets/base",
       "_view_module_version": "1.2.0",
       "_view_name": "LayoutView",
       "align_content": null,
       "align_items": null,
       "align_self": null,
       "border": null,
       "bottom": null,
       "display": null,
       "flex": null,
       "flex_flow": null,
       "grid_area": null,
       "grid_auto_columns": null,
       "grid_auto_flow": null,
       "grid_auto_rows": null,
       "grid_column": null,
       "grid_gap": null,
       "grid_row": null,
       "grid_template_areas": null,
       "grid_template_columns": null,
       "grid_template_rows": null,
       "height": null,
       "justify_content": null,
       "justify_items": null,
       "left": null,
       "margin": null,
       "max_height": null,
       "max_width": null,
       "min_height": null,
       "min_width": null,
       "object_fit": null,
       "object_position": null,
       "order": null,
       "overflow": null,
       "overflow_x": null,
       "overflow_y": null,
       "padding": null,
       "right": null,
       "top": null,
       "visibility": null,
       "width": null
      }
     },
     "94e11e6462ae4d4e827be47a8a7a54ab": {
      "model_module": "@jupyter-widgets/base",
      "model_module_version": "1.2.0",
      "model_name": "LayoutModel",
      "state": {
       "_model_module": "@jupyter-widgets/base",
       "_model_module_version": "1.2.0",
       "_model_name": "LayoutModel",
       "_view_count": null,
       "_view_module": "@jupyter-widgets/base",
       "_view_module_version": "1.2.0",
       "_view_name": "LayoutView",
       "align_content": null,
       "align_items": null,
       "align_self": null,
       "border": null,
       "bottom": null,
       "display": null,
       "flex": null,
       "flex_flow": null,
       "grid_area": null,
       "grid_auto_columns": null,
       "grid_auto_flow": null,
       "grid_auto_rows": null,
       "grid_column": null,
       "grid_gap": null,
       "grid_row": null,
       "grid_template_areas": null,
       "grid_template_columns": null,
       "grid_template_rows": null,
       "height": null,
       "justify_content": null,
       "justify_items": null,
       "left": null,
       "margin": null,
       "max_height": null,
       "max_width": null,
       "min_height": null,
       "min_width": null,
       "object_fit": null,
       "object_position": null,
       "order": null,
       "overflow": null,
       "overflow_x": null,
       "overflow_y": null,
       "padding": null,
       "right": null,
       "top": null,
       "visibility": null,
       "width": null
      }
     },
     "954bb84c6aed4ae4b67225f639b0b6fe": {
      "model_module": "@jupyter-widgets/base",
      "model_module_version": "1.2.0",
      "model_name": "LayoutModel",
      "state": {
       "_model_module": "@jupyter-widgets/base",
       "_model_module_version": "1.2.0",
       "_model_name": "LayoutModel",
       "_view_count": null,
       "_view_module": "@jupyter-widgets/base",
       "_view_module_version": "1.2.0",
       "_view_name": "LayoutView",
       "align_content": null,
       "align_items": null,
       "align_self": null,
       "border": null,
       "bottom": null,
       "display": null,
       "flex": null,
       "flex_flow": null,
       "grid_area": null,
       "grid_auto_columns": null,
       "grid_auto_flow": null,
       "grid_auto_rows": null,
       "grid_column": null,
       "grid_gap": null,
       "grid_row": null,
       "grid_template_areas": null,
       "grid_template_columns": null,
       "grid_template_rows": null,
       "height": null,
       "justify_content": null,
       "justify_items": null,
       "left": null,
       "margin": null,
       "max_height": null,
       "max_width": null,
       "min_height": null,
       "min_width": null,
       "object_fit": null,
       "object_position": null,
       "order": null,
       "overflow": null,
       "overflow_x": null,
       "overflow_y": null,
       "padding": null,
       "right": null,
       "top": null,
       "visibility": null,
       "width": null
      }
     },
     "95bb16babf5a497d84594c074a97f41f": {
      "model_module": "@jupyter-widgets/controls",
      "model_module_version": "1.5.0",
      "model_name": "HTMLModel",
      "state": {
       "_dom_classes": [],
       "_model_module": "@jupyter-widgets/controls",
       "_model_module_version": "1.5.0",
       "_model_name": "HTMLModel",
       "_view_count": null,
       "_view_module": "@jupyter-widgets/controls",
       "_view_module_version": "1.5.0",
       "_view_name": "HTMLView",
       "description": "",
       "description_tooltip": null,
       "layout": "IPY_MODEL_17db07a7781c4576b5dc66f365b297db",
       "placeholder": "​",
       "style": "IPY_MODEL_969c0eddf49f4a8b951498ae21d503e2",
       "value": " 6/? [00:00&lt;00:00, 37.52it/s]"
      }
     },
     "969c0eddf49f4a8b951498ae21d503e2": {
      "model_module": "@jupyter-widgets/controls",
      "model_module_version": "1.5.0",
      "model_name": "DescriptionStyleModel",
      "state": {
       "_model_module": "@jupyter-widgets/controls",
       "_model_module_version": "1.5.0",
       "_model_name": "DescriptionStyleModel",
       "_view_count": null,
       "_view_module": "@jupyter-widgets/base",
       "_view_module_version": "1.2.0",
       "_view_name": "StyleView",
       "description_width": ""
      }
     },
     "9a84e9c0f22943b18d7e68ff422d7959": {
      "model_module": "@jupyter-widgets/controls",
      "model_module_version": "1.5.0",
      "model_name": "DescriptionStyleModel",
      "state": {
       "_model_module": "@jupyter-widgets/controls",
       "_model_module_version": "1.5.0",
       "_model_name": "DescriptionStyleModel",
       "_view_count": null,
       "_view_module": "@jupyter-widgets/base",
       "_view_module_version": "1.2.0",
       "_view_name": "StyleView",
       "description_width": ""
      }
     },
     "9d0b912e463342889c3e2e69b24cd3ec": {
      "model_module": "@jupyter-widgets/base",
      "model_module_version": "1.2.0",
      "model_name": "LayoutModel",
      "state": {
       "_model_module": "@jupyter-widgets/base",
       "_model_module_version": "1.2.0",
       "_model_name": "LayoutModel",
       "_view_count": null,
       "_view_module": "@jupyter-widgets/base",
       "_view_module_version": "1.2.0",
       "_view_name": "LayoutView",
       "align_content": null,
       "align_items": null,
       "align_self": null,
       "border": null,
       "bottom": null,
       "display": null,
       "flex": null,
       "flex_flow": null,
       "grid_area": null,
       "grid_auto_columns": null,
       "grid_auto_flow": null,
       "grid_auto_rows": null,
       "grid_column": null,
       "grid_gap": null,
       "grid_row": null,
       "grid_template_areas": null,
       "grid_template_columns": null,
       "grid_template_rows": null,
       "height": null,
       "justify_content": null,
       "justify_items": null,
       "left": null,
       "margin": null,
       "max_height": null,
       "max_width": null,
       "min_height": null,
       "min_width": null,
       "object_fit": null,
       "object_position": null,
       "order": null,
       "overflow": null,
       "overflow_x": null,
       "overflow_y": null,
       "padding": null,
       "right": null,
       "top": null,
       "visibility": null,
       "width": null
      }
     },
     "9f6ebbee958d4fd9af3e6298920b1ca8": {
      "model_module": "@jupyter-widgets/base",
      "model_module_version": "1.2.0",
      "model_name": "LayoutModel",
      "state": {
       "_model_module": "@jupyter-widgets/base",
       "_model_module_version": "1.2.0",
       "_model_name": "LayoutModel",
       "_view_count": null,
       "_view_module": "@jupyter-widgets/base",
       "_view_module_version": "1.2.0",
       "_view_name": "LayoutView",
       "align_content": null,
       "align_items": null,
       "align_self": null,
       "border": null,
       "bottom": null,
       "display": null,
       "flex": null,
       "flex_flow": null,
       "grid_area": null,
       "grid_auto_columns": null,
       "grid_auto_flow": null,
       "grid_auto_rows": null,
       "grid_column": null,
       "grid_gap": null,
       "grid_row": null,
       "grid_template_areas": null,
       "grid_template_columns": null,
       "grid_template_rows": null,
       "height": null,
       "justify_content": null,
       "justify_items": null,
       "left": null,
       "margin": null,
       "max_height": null,
       "max_width": null,
       "min_height": null,
       "min_width": null,
       "object_fit": null,
       "object_position": null,
       "order": null,
       "overflow": null,
       "overflow_x": null,
       "overflow_y": null,
       "padding": null,
       "right": null,
       "top": null,
       "visibility": null,
       "width": null
      }
     },
     "a208f6562d9a411da2eb1d60d7d885a5": {
      "model_module": "@jupyter-widgets/base",
      "model_module_version": "1.2.0",
      "model_name": "LayoutModel",
      "state": {
       "_model_module": "@jupyter-widgets/base",
       "_model_module_version": "1.2.0",
       "_model_name": "LayoutModel",
       "_view_count": null,
       "_view_module": "@jupyter-widgets/base",
       "_view_module_version": "1.2.0",
       "_view_name": "LayoutView",
       "align_content": null,
       "align_items": null,
       "align_self": null,
       "border": null,
       "bottom": null,
       "display": null,
       "flex": null,
       "flex_flow": null,
       "grid_area": null,
       "grid_auto_columns": null,
       "grid_auto_flow": null,
       "grid_auto_rows": null,
       "grid_column": null,
       "grid_gap": null,
       "grid_row": null,
       "grid_template_areas": null,
       "grid_template_columns": null,
       "grid_template_rows": null,
       "height": null,
       "justify_content": null,
       "justify_items": null,
       "left": null,
       "margin": null,
       "max_height": null,
       "max_width": null,
       "min_height": null,
       "min_width": null,
       "object_fit": null,
       "object_position": null,
       "order": null,
       "overflow": null,
       "overflow_x": null,
       "overflow_y": null,
       "padding": null,
       "right": null,
       "top": null,
       "visibility": null,
       "width": null
      }
     },
     "a5f39282e1ad4ed5a5624c2863310023": {
      "model_module": "@jupyter-widgets/controls",
      "model_module_version": "1.5.0",
      "model_name": "HTMLModel",
      "state": {
       "_dom_classes": [],
       "_model_module": "@jupyter-widgets/controls",
       "_model_module_version": "1.5.0",
       "_model_name": "HTMLModel",
       "_view_count": null,
       "_view_module": "@jupyter-widgets/controls",
       "_view_module_version": "1.5.0",
       "_view_name": "HTMLView",
       "description": "",
       "description_tooltip": null,
       "layout": "IPY_MODEL_e9d35d05b632447aa98556a768cc156d",
       "placeholder": "​",
       "style": "IPY_MODEL_df686d180d5a49d184f1a6f1bedb680c",
       "value": " 30/? [00:00&lt;00:00, 79.98it/s]"
      }
     },
     "a88d973317bc4c72be37d019a384bbb4": {
      "model_module": "@jupyter-widgets/controls",
      "model_module_version": "1.5.0",
      "model_name": "ProgressStyleModel",
      "state": {
       "_model_module": "@jupyter-widgets/controls",
       "_model_module_version": "1.5.0",
       "_model_name": "ProgressStyleModel",
       "_view_count": null,
       "_view_module": "@jupyter-widgets/base",
       "_view_module_version": "1.2.0",
       "_view_name": "StyleView",
       "bar_color": null,
       "description_width": "initial"
      }
     },
     "abc6bfa0da3e49caab514629c4b1664d": {
      "model_module": "@jupyter-widgets/controls",
      "model_module_version": "1.5.0",
      "model_name": "DescriptionStyleModel",
      "state": {
       "_model_module": "@jupyter-widgets/controls",
       "_model_module_version": "1.5.0",
       "_model_name": "DescriptionStyleModel",
       "_view_count": null,
       "_view_module": "@jupyter-widgets/base",
       "_view_module_version": "1.2.0",
       "_view_name": "StyleView",
       "description_width": ""
      }
     },
     "b2bb2a71619440f8a667fc7aa4b13698": {
      "model_module": "@jupyter-widgets/base",
      "model_module_version": "1.2.0",
      "model_name": "LayoutModel",
      "state": {
       "_model_module": "@jupyter-widgets/base",
       "_model_module_version": "1.2.0",
       "_model_name": "LayoutModel",
       "_view_count": null,
       "_view_module": "@jupyter-widgets/base",
       "_view_module_version": "1.2.0",
       "_view_name": "LayoutView",
       "align_content": null,
       "align_items": null,
       "align_self": null,
       "border": null,
       "bottom": null,
       "display": null,
       "flex": null,
       "flex_flow": null,
       "grid_area": null,
       "grid_auto_columns": null,
       "grid_auto_flow": null,
       "grid_auto_rows": null,
       "grid_column": null,
       "grid_gap": null,
       "grid_row": null,
       "grid_template_areas": null,
       "grid_template_columns": null,
       "grid_template_rows": null,
       "height": null,
       "justify_content": null,
       "justify_items": null,
       "left": null,
       "margin": null,
       "max_height": null,
       "max_width": null,
       "min_height": null,
       "min_width": null,
       "object_fit": null,
       "object_position": null,
       "order": null,
       "overflow": null,
       "overflow_x": null,
       "overflow_y": null,
       "padding": null,
       "right": null,
       "top": null,
       "visibility": null,
       "width": null
      }
     },
     "b5e264cee9f84586b4bd08769f9ea7f1": {
      "model_module": "@jupyter-widgets/controls",
      "model_module_version": "1.5.0",
      "model_name": "ProgressStyleModel",
      "state": {
       "_model_module": "@jupyter-widgets/controls",
       "_model_module_version": "1.5.0",
       "_model_name": "ProgressStyleModel",
       "_view_count": null,
       "_view_module": "@jupyter-widgets/base",
       "_view_module_version": "1.2.0",
       "_view_name": "StyleView",
       "bar_color": null,
       "description_width": "initial"
      }
     },
     "b83f58c0980049fc91d8cd937c07ceb5": {
      "model_module": "@jupyter-widgets/base",
      "model_module_version": "1.2.0",
      "model_name": "LayoutModel",
      "state": {
       "_model_module": "@jupyter-widgets/base",
       "_model_module_version": "1.2.0",
       "_model_name": "LayoutModel",
       "_view_count": null,
       "_view_module": "@jupyter-widgets/base",
       "_view_module_version": "1.2.0",
       "_view_name": "LayoutView",
       "align_content": null,
       "align_items": null,
       "align_self": null,
       "border": null,
       "bottom": null,
       "display": null,
       "flex": null,
       "flex_flow": null,
       "grid_area": null,
       "grid_auto_columns": null,
       "grid_auto_flow": null,
       "grid_auto_rows": null,
       "grid_column": null,
       "grid_gap": null,
       "grid_row": null,
       "grid_template_areas": null,
       "grid_template_columns": null,
       "grid_template_rows": null,
       "height": null,
       "justify_content": null,
       "justify_items": null,
       "left": null,
       "margin": null,
       "max_height": null,
       "max_width": null,
       "min_height": null,
       "min_width": null,
       "object_fit": null,
       "object_position": null,
       "order": null,
       "overflow": null,
       "overflow_x": null,
       "overflow_y": null,
       "padding": null,
       "right": null,
       "top": null,
       "visibility": null,
       "width": null
      }
     },
     "b987563f9b084f25aa7537d0ed73a554": {
      "model_module": "@jupyter-widgets/base",
      "model_module_version": "1.2.0",
      "model_name": "LayoutModel",
      "state": {
       "_model_module": "@jupyter-widgets/base",
       "_model_module_version": "1.2.0",
       "_model_name": "LayoutModel",
       "_view_count": null,
       "_view_module": "@jupyter-widgets/base",
       "_view_module_version": "1.2.0",
       "_view_name": "LayoutView",
       "align_content": null,
       "align_items": null,
       "align_self": null,
       "border": null,
       "bottom": null,
       "display": null,
       "flex": null,
       "flex_flow": null,
       "grid_area": null,
       "grid_auto_columns": null,
       "grid_auto_flow": null,
       "grid_auto_rows": null,
       "grid_column": null,
       "grid_gap": null,
       "grid_row": null,
       "grid_template_areas": null,
       "grid_template_columns": null,
       "grid_template_rows": null,
       "height": null,
       "justify_content": null,
       "justify_items": null,
       "left": null,
       "margin": null,
       "max_height": null,
       "max_width": null,
       "min_height": null,
       "min_width": null,
       "object_fit": null,
       "object_position": null,
       "order": null,
       "overflow": null,
       "overflow_x": null,
       "overflow_y": null,
       "padding": null,
       "right": null,
       "top": null,
       "visibility": null,
       "width": null
      }
     },
     "ba457279b4594e3a87d22ee11aae1f65": {
      "model_module": "@jupyter-widgets/controls",
      "model_module_version": "1.5.0",
      "model_name": "IntProgressModel",
      "state": {
       "_dom_classes": [],
       "_model_module": "@jupyter-widgets/controls",
       "_model_module_version": "1.5.0",
       "_model_name": "IntProgressModel",
       "_view_count": null,
       "_view_module": "@jupyter-widgets/controls",
       "_view_module_version": "1.5.0",
       "_view_name": "ProgressView",
       "bar_style": "success",
       "description": "",
       "description_tooltip": null,
       "layout": "IPY_MODEL_6233ee4e9b734afbb1a8955243a4bcf9",
       "max": 1,
       "min": 0,
       "orientation": "horizontal",
       "style": "IPY_MODEL_a88d973317bc4c72be37d019a384bbb4",
       "value": 1
      }
     },
     "bb4bfcea489942b6b4425b57fe518fc8": {
      "model_module": "@jupyter-widgets/base",
      "model_module_version": "1.2.0",
      "model_name": "LayoutModel",
      "state": {
       "_model_module": "@jupyter-widgets/base",
       "_model_module_version": "1.2.0",
       "_model_name": "LayoutModel",
       "_view_count": null,
       "_view_module": "@jupyter-widgets/base",
       "_view_module_version": "1.2.0",
       "_view_name": "LayoutView",
       "align_content": null,
       "align_items": null,
       "align_self": null,
       "border": null,
       "bottom": null,
       "display": null,
       "flex": null,
       "flex_flow": null,
       "grid_area": null,
       "grid_auto_columns": null,
       "grid_auto_flow": null,
       "grid_auto_rows": null,
       "grid_column": null,
       "grid_gap": null,
       "grid_row": null,
       "grid_template_areas": null,
       "grid_template_columns": null,
       "grid_template_rows": null,
       "height": null,
       "justify_content": null,
       "justify_items": null,
       "left": null,
       "margin": null,
       "max_height": null,
       "max_width": null,
       "min_height": null,
       "min_width": null,
       "object_fit": null,
       "object_position": null,
       "order": null,
       "overflow": null,
       "overflow_x": null,
       "overflow_y": null,
       "padding": null,
       "right": null,
       "top": null,
       "visibility": null,
       "width": null
      }
     },
     "bc486f189410421f8e9cf59dfb4fd3bf": {
      "model_module": "@jupyter-widgets/base",
      "model_module_version": "1.2.0",
      "model_name": "LayoutModel",
      "state": {
       "_model_module": "@jupyter-widgets/base",
       "_model_module_version": "1.2.0",
       "_model_name": "LayoutModel",
       "_view_count": null,
       "_view_module": "@jupyter-widgets/base",
       "_view_module_version": "1.2.0",
       "_view_name": "LayoutView",
       "align_content": null,
       "align_items": null,
       "align_self": null,
       "border": null,
       "bottom": null,
       "display": null,
       "flex": null,
       "flex_flow": null,
       "grid_area": null,
       "grid_auto_columns": null,
       "grid_auto_flow": null,
       "grid_auto_rows": null,
       "grid_column": null,
       "grid_gap": null,
       "grid_row": null,
       "grid_template_areas": null,
       "grid_template_columns": null,
       "grid_template_rows": null,
       "height": null,
       "justify_content": null,
       "justify_items": null,
       "left": null,
       "margin": null,
       "max_height": null,
       "max_width": null,
       "min_height": null,
       "min_width": null,
       "object_fit": null,
       "object_position": null,
       "order": null,
       "overflow": null,
       "overflow_x": null,
       "overflow_y": null,
       "padding": null,
       "right": null,
       "top": null,
       "visibility": null,
       "width": null
      }
     },
     "bca64c0170c547e79628defb3668841d": {
      "model_module": "@jupyter-widgets/base",
      "model_module_version": "1.2.0",
      "model_name": "LayoutModel",
      "state": {
       "_model_module": "@jupyter-widgets/base",
       "_model_module_version": "1.2.0",
       "_model_name": "LayoutModel",
       "_view_count": null,
       "_view_module": "@jupyter-widgets/base",
       "_view_module_version": "1.2.0",
       "_view_name": "LayoutView",
       "align_content": null,
       "align_items": null,
       "align_self": null,
       "border": null,
       "bottom": null,
       "display": null,
       "flex": null,
       "flex_flow": null,
       "grid_area": null,
       "grid_auto_columns": null,
       "grid_auto_flow": null,
       "grid_auto_rows": null,
       "grid_column": null,
       "grid_gap": null,
       "grid_row": null,
       "grid_template_areas": null,
       "grid_template_columns": null,
       "grid_template_rows": null,
       "height": null,
       "justify_content": null,
       "justify_items": null,
       "left": null,
       "margin": null,
       "max_height": null,
       "max_width": null,
       "min_height": null,
       "min_width": null,
       "object_fit": null,
       "object_position": null,
       "order": null,
       "overflow": null,
       "overflow_x": null,
       "overflow_y": null,
       "padding": null,
       "right": null,
       "top": null,
       "visibility": null,
       "width": null
      }
     },
     "bdac98f3db1349c1b8aa4bbff297a053": {
      "model_module": "@jupyter-widgets/base",
      "model_module_version": "1.2.0",
      "model_name": "LayoutModel",
      "state": {
       "_model_module": "@jupyter-widgets/base",
       "_model_module_version": "1.2.0",
       "_model_name": "LayoutModel",
       "_view_count": null,
       "_view_module": "@jupyter-widgets/base",
       "_view_module_version": "1.2.0",
       "_view_name": "LayoutView",
       "align_content": null,
       "align_items": null,
       "align_self": null,
       "border": null,
       "bottom": null,
       "display": null,
       "flex": null,
       "flex_flow": null,
       "grid_area": null,
       "grid_auto_columns": null,
       "grid_auto_flow": null,
       "grid_auto_rows": null,
       "grid_column": null,
       "grid_gap": null,
       "grid_row": null,
       "grid_template_areas": null,
       "grid_template_columns": null,
       "grid_template_rows": null,
       "height": null,
       "justify_content": null,
       "justify_items": null,
       "left": null,
       "margin": null,
       "max_height": null,
       "max_width": null,
       "min_height": null,
       "min_width": null,
       "object_fit": null,
       "object_position": null,
       "order": null,
       "overflow": null,
       "overflow_x": null,
       "overflow_y": null,
       "padding": null,
       "right": null,
       "top": null,
       "visibility": null,
       "width": null
      }
     },
     "bdada1576edb4e14ac408e342f663273": {
      "model_module": "@jupyter-widgets/controls",
      "model_module_version": "1.5.0",
      "model_name": "HTMLModel",
      "state": {
       "_dom_classes": [],
       "_model_module": "@jupyter-widgets/controls",
       "_model_module_version": "1.5.0",
       "_model_name": "HTMLModel",
       "_view_count": null,
       "_view_module": "@jupyter-widgets/controls",
       "_view_module_version": "1.5.0",
       "_view_name": "HTMLView",
       "description": "",
       "description_tooltip": null,
       "layout": "IPY_MODEL_b83f58c0980049fc91d8cd937c07ceb5",
       "placeholder": "​",
       "style": "IPY_MODEL_e3087dfccabe4528bbcb1cdae37da127",
       "value": " [00:01&lt;00:00]"
      }
     },
     "bf0477e2f441498baeb67772323d2a94": {
      "model_module": "@jupyter-widgets/controls",
      "model_module_version": "1.5.0",
      "model_name": "ProgressStyleModel",
      "state": {
       "_model_module": "@jupyter-widgets/controls",
       "_model_module_version": "1.5.0",
       "_model_name": "ProgressStyleModel",
       "_view_count": null,
       "_view_module": "@jupyter-widgets/base",
       "_view_module_version": "1.2.0",
       "_view_name": "StyleView",
       "bar_color": null,
       "description_width": "initial"
      }
     },
     "c87ae58416db40e4985ea5056a94d049": {
      "model_module": "@jupyter-widgets/controls",
      "model_module_version": "1.5.0",
      "model_name": "HTMLModel",
      "state": {
       "_dom_classes": [],
       "_model_module": "@jupyter-widgets/controls",
       "_model_module_version": "1.5.0",
       "_model_name": "HTMLModel",
       "_view_count": null,
       "_view_module": "@jupyter-widgets/controls",
       "_view_module_version": "1.5.0",
       "_view_name": "HTMLView",
       "description": "",
       "description_tooltip": null,
       "layout": "IPY_MODEL_cbad50febcea45cdbfaf9aa331ab30f6",
       "placeholder": "​",
       "style": "IPY_MODEL_64fd4ac764c448439ae2c8e7a9fbb67a",
       "value": ", acc_consonant=0.719, acc_grapheme=0.701, acc_vowel=0.772, loss=5.13, loss_consonant=1.24, loss_grapheme=2.76, loss_vowel=1.13, recall=0.666 [00:01&lt;00:00]"
      }
     },
     "c9ec3841da934d95bab8eab5cf02b957": {
      "model_module": "@jupyter-widgets/controls",
      "model_module_version": "1.5.0",
      "model_name": "HTMLModel",
      "state": {
       "_dom_classes": [],
       "_model_module": "@jupyter-widgets/controls",
       "_model_module_version": "1.5.0",
       "_model_name": "HTMLModel",
       "_view_count": null,
       "_view_module": "@jupyter-widgets/controls",
       "_view_module_version": "1.5.0",
       "_view_name": "HTMLView",
       "description": "",
       "description_tooltip": null,
       "layout": "IPY_MODEL_5a5dad6f15734d10849ed845f03b4796",
       "placeholder": "​",
       "style": "IPY_MODEL_abc6bfa0da3e49caab514629c4b1664d",
       "value": ", acc_consonant=0.522, acc_grapheme=0.411, acc_vowel=0.527, loss=6.6, loss_consonant=1.49, loss_grapheme=3.6, loss_vowel=1.51, recall=0.381 [00:01&lt;00:00]"
      }
     },
     "cbad50febcea45cdbfaf9aa331ab30f6": {
      "model_module": "@jupyter-widgets/base",
      "model_module_version": "1.2.0",
      "model_name": "LayoutModel",
      "state": {
       "_model_module": "@jupyter-widgets/base",
       "_model_module_version": "1.2.0",
       "_model_name": "LayoutModel",
       "_view_count": null,
       "_view_module": "@jupyter-widgets/base",
       "_view_module_version": "1.2.0",
       "_view_name": "LayoutView",
       "align_content": null,
       "align_items": null,
       "align_self": null,
       "border": null,
       "bottom": null,
       "display": null,
       "flex": null,
       "flex_flow": null,
       "grid_area": null,
       "grid_auto_columns": null,
       "grid_auto_flow": null,
       "grid_auto_rows": null,
       "grid_column": null,
       "grid_gap": null,
       "grid_row": null,
       "grid_template_areas": null,
       "grid_template_columns": null,
       "grid_template_rows": null,
       "height": null,
       "justify_content": null,
       "justify_items": null,
       "left": null,
       "margin": null,
       "max_height": null,
       "max_width": null,
       "min_height": null,
       "min_width": null,
       "object_fit": null,
       "object_position": null,
       "order": null,
       "overflow": null,
       "overflow_x": null,
       "overflow_y": null,
       "padding": null,
       "right": null,
       "top": null,
       "visibility": null,
       "width": null
      }
     },
     "cc020aad5221470ca59a606c428a869d": {
      "model_module": "@jupyter-widgets/base",
      "model_module_version": "1.2.0",
      "model_name": "LayoutModel",
      "state": {
       "_model_module": "@jupyter-widgets/base",
       "_model_module_version": "1.2.0",
       "_model_name": "LayoutModel",
       "_view_count": null,
       "_view_module": "@jupyter-widgets/base",
       "_view_module_version": "1.2.0",
       "_view_name": "LayoutView",
       "align_content": null,
       "align_items": null,
       "align_self": null,
       "border": null,
       "bottom": null,
       "display": null,
       "flex": null,
       "flex_flow": null,
       "grid_area": null,
       "grid_auto_columns": null,
       "grid_auto_flow": null,
       "grid_auto_rows": null,
       "grid_column": null,
       "grid_gap": null,
       "grid_row": null,
       "grid_template_areas": null,
       "grid_template_columns": null,
       "grid_template_rows": null,
       "height": null,
       "justify_content": null,
       "justify_items": null,
       "left": null,
       "margin": null,
       "max_height": null,
       "max_width": null,
       "min_height": null,
       "min_width": null,
       "object_fit": null,
       "object_position": null,
       "order": null,
       "overflow": null,
       "overflow_x": null,
       "overflow_y": null,
       "padding": null,
       "right": null,
       "top": null,
       "visibility": null,
       "width": null
      }
     },
     "cc0419ce7e3445ce8325c5e0876490ce": {
      "model_module": "@jupyter-widgets/controls",
      "model_module_version": "1.5.0",
      "model_name": "IntProgressModel",
      "state": {
       "_dom_classes": [],
       "_model_module": "@jupyter-widgets/controls",
       "_model_module_version": "1.5.0",
       "_model_name": "IntProgressModel",
       "_view_count": null,
       "_view_module": "@jupyter-widgets/controls",
       "_view_module_version": "1.5.0",
       "_view_name": "ProgressView",
       "bar_style": "success",
       "description": "",
       "description_tooltip": null,
       "layout": "IPY_MODEL_bdac98f3db1349c1b8aa4bbff297a053",
       "max": 1,
       "min": 0,
       "orientation": "horizontal",
       "style": "IPY_MODEL_ee451547930b443bb88f0817873e86a0",
       "value": 1
      }
     },
     "ccc09db109d44e4c9b87472222d477f5": {
      "model_module": "@jupyter-widgets/controls",
      "model_module_version": "1.5.0",
      "model_name": "HBoxModel",
      "state": {
       "_dom_classes": [],
       "_model_module": "@jupyter-widgets/controls",
       "_model_module_version": "1.5.0",
       "_model_name": "HBoxModel",
       "_view_count": null,
       "_view_module": "@jupyter-widgets/controls",
       "_view_module_version": "1.5.0",
       "_view_name": "HBoxView",
       "box_style": "",
       "children": [
        "IPY_MODEL_832b8ab960434d2fa4599031699096ad",
        "IPY_MODEL_ffd3d1af4e494fc19f20cf20be6ee2d4"
       ],
       "layout": "IPY_MODEL_343aa558e88c4b58be2c33f732c9871c"
      }
     },
     "cf001db7d83e4a308048fe80f0dd3f91": {
      "model_module": "@jupyter-widgets/controls",
      "model_module_version": "1.5.0",
      "model_name": "DescriptionStyleModel",
      "state": {
       "_model_module": "@jupyter-widgets/controls",
       "_model_module_version": "1.5.0",
       "_model_name": "DescriptionStyleModel",
       "_view_count": null,
       "_view_module": "@jupyter-widgets/base",
       "_view_module_version": "1.2.0",
       "_view_name": "StyleView",
       "description_width": ""
      }
     },
     "d240de84f1294ec59ad8b34267aa4df8": {
      "model_module": "@jupyter-widgets/controls",
      "model_module_version": "1.5.0",
      "model_name": "HBoxModel",
      "state": {
       "_dom_classes": [],
       "_model_module": "@jupyter-widgets/controls",
       "_model_module_version": "1.5.0",
       "_model_name": "HBoxModel",
       "_view_count": null,
       "_view_module": "@jupyter-widgets/controls",
       "_view_module_version": "1.5.0",
       "_view_name": "HBoxView",
       "box_style": "",
       "children": [
        "IPY_MODEL_4e6f99a5ded34778945874908b0e1e33",
        "IPY_MODEL_c9ec3841da934d95bab8eab5cf02b957"
       ],
       "layout": "IPY_MODEL_5dc473987f1c4be68990ff47de4f7ed9"
      }
     },
     "d3d5fb326b864fed8e2143a2a3220278": {
      "model_module": "@jupyter-widgets/base",
      "model_module_version": "1.2.0",
      "model_name": "LayoutModel",
      "state": {
       "_model_module": "@jupyter-widgets/base",
       "_model_module_version": "1.2.0",
       "_model_name": "LayoutModel",
       "_view_count": null,
       "_view_module": "@jupyter-widgets/base",
       "_view_module_version": "1.2.0",
       "_view_name": "LayoutView",
       "align_content": null,
       "align_items": null,
       "align_self": null,
       "border": null,
       "bottom": null,
       "display": null,
       "flex": null,
       "flex_flow": null,
       "grid_area": null,
       "grid_auto_columns": null,
       "grid_auto_flow": null,
       "grid_auto_rows": null,
       "grid_column": null,
       "grid_gap": null,
       "grid_row": null,
       "grid_template_areas": null,
       "grid_template_columns": null,
       "grid_template_rows": null,
       "height": null,
       "justify_content": null,
       "justify_items": null,
       "left": null,
       "margin": null,
       "max_height": null,
       "max_width": null,
       "min_height": null,
       "min_width": null,
       "object_fit": null,
       "object_position": null,
       "order": null,
       "overflow": null,
       "overflow_x": null,
       "overflow_y": null,
       "padding": null,
       "right": null,
       "top": null,
       "visibility": null,
       "width": null
      }
     },
     "daf5a29d831149e386a18f4b58209c8a": {
      "model_module": "@jupyter-widgets/base",
      "model_module_version": "1.2.0",
      "model_name": "LayoutModel",
      "state": {
       "_model_module": "@jupyter-widgets/base",
       "_model_module_version": "1.2.0",
       "_model_name": "LayoutModel",
       "_view_count": null,
       "_view_module": "@jupyter-widgets/base",
       "_view_module_version": "1.2.0",
       "_view_name": "LayoutView",
       "align_content": null,
       "align_items": null,
       "align_self": null,
       "border": null,
       "bottom": null,
       "display": null,
       "flex": null,
       "flex_flow": null,
       "grid_area": null,
       "grid_auto_columns": null,
       "grid_auto_flow": null,
       "grid_auto_rows": null,
       "grid_column": null,
       "grid_gap": null,
       "grid_row": null,
       "grid_template_areas": null,
       "grid_template_columns": null,
       "grid_template_rows": null,
       "height": null,
       "justify_content": null,
       "justify_items": null,
       "left": null,
       "margin": null,
       "max_height": null,
       "max_width": null,
       "min_height": null,
       "min_width": null,
       "object_fit": null,
       "object_position": null,
       "order": null,
       "overflow": null,
       "overflow_x": null,
       "overflow_y": null,
       "padding": null,
       "right": null,
       "top": null,
       "visibility": null,
       "width": null
      }
     },
     "ddde4de154fd4bbf80489772d0f4d378": {
      "model_module": "@jupyter-widgets/controls",
      "model_module_version": "1.5.0",
      "model_name": "HBoxModel",
      "state": {
       "_dom_classes": [],
       "_model_module": "@jupyter-widgets/controls",
       "_model_module_version": "1.5.0",
       "_model_name": "HBoxModel",
       "_view_count": null,
       "_view_module": "@jupyter-widgets/controls",
       "_view_module_version": "1.5.0",
       "_view_name": "HBoxView",
       "box_style": "",
       "children": [
        "IPY_MODEL_ba457279b4594e3a87d22ee11aae1f65",
        "IPY_MODEL_e0f435416365473dba47bd00c7a35bea"
       ],
       "layout": "IPY_MODEL_65eb74d0ce264f29b0451b5261d4d186"
      }
     },
     "deb78abb88d243e6bba1d754d74ab311": {
      "model_module": "@jupyter-widgets/base",
      "model_module_version": "1.2.0",
      "model_name": "LayoutModel",
      "state": {
       "_model_module": "@jupyter-widgets/base",
       "_model_module_version": "1.2.0",
       "_model_name": "LayoutModel",
       "_view_count": null,
       "_view_module": "@jupyter-widgets/base",
       "_view_module_version": "1.2.0",
       "_view_name": "LayoutView",
       "align_content": null,
       "align_items": null,
       "align_self": null,
       "border": null,
       "bottom": null,
       "display": null,
       "flex": null,
       "flex_flow": null,
       "grid_area": null,
       "grid_auto_columns": null,
       "grid_auto_flow": null,
       "grid_auto_rows": null,
       "grid_column": null,
       "grid_gap": null,
       "grid_row": null,
       "grid_template_areas": null,
       "grid_template_columns": null,
       "grid_template_rows": null,
       "height": null,
       "justify_content": null,
       "justify_items": null,
       "left": null,
       "margin": null,
       "max_height": null,
       "max_width": null,
       "min_height": null,
       "min_width": null,
       "object_fit": null,
       "object_position": null,
       "order": null,
       "overflow": null,
       "overflow_x": null,
       "overflow_y": null,
       "padding": null,
       "right": null,
       "top": null,
       "visibility": null,
       "width": null
      }
     },
     "df686d180d5a49d184f1a6f1bedb680c": {
      "model_module": "@jupyter-widgets/controls",
      "model_module_version": "1.5.0",
      "model_name": "DescriptionStyleModel",
      "state": {
       "_model_module": "@jupyter-widgets/controls",
       "_model_module_version": "1.5.0",
       "_model_name": "DescriptionStyleModel",
       "_view_count": null,
       "_view_module": "@jupyter-widgets/base",
       "_view_module_version": "1.2.0",
       "_view_name": "StyleView",
       "description_width": ""
      }
     },
     "e0967e71810b4b1496f28544f4fe6f12": {
      "model_module": "@jupyter-widgets/controls",
      "model_module_version": "1.5.0",
      "model_name": "IntProgressModel",
      "state": {
       "_dom_classes": [],
       "_model_module": "@jupyter-widgets/controls",
       "_model_module_version": "1.5.0",
       "_model_name": "IntProgressModel",
       "_view_count": null,
       "_view_module": "@jupyter-widgets/controls",
       "_view_module_version": "1.5.0",
       "_view_name": "ProgressView",
       "bar_style": "",
       "description": "Epoch [5/10]: [7/7] 100%",
       "description_tooltip": null,
       "layout": "IPY_MODEL_5828b8e0b137409781ff4dade6bcc7e9",
       "max": 7,
       "min": 0,
       "orientation": "horizontal",
       "style": "IPY_MODEL_41bb3e4e0d8842cbaf7a6a4977fde007",
       "value": 7
      }
     },
     "e0f435416365473dba47bd00c7a35bea": {
      "model_module": "@jupyter-widgets/controls",
      "model_module_version": "1.5.0",
      "model_name": "HTMLModel",
      "state": {
       "_dom_classes": [],
       "_model_module": "@jupyter-widgets/controls",
       "_model_module_version": "1.5.0",
       "_model_name": "HTMLModel",
       "_view_count": null,
       "_view_module": "@jupyter-widgets/controls",
       "_view_module_version": "1.5.0",
       "_view_name": "HTMLView",
       "description": "",
       "description_tooltip": null,
       "layout": "IPY_MODEL_b987563f9b084f25aa7537d0ed73a554",
       "placeholder": "​",
       "style": "IPY_MODEL_272861ed3ed04d9c8bc233c2b60a046c",
       "value": " 30/? [00:00&lt;00:00, 36.61it/s]"
      }
     },
     "e0faaf55abed4df597d68cb299611401": {
      "model_module": "@jupyter-widgets/controls",
      "model_module_version": "1.5.0",
      "model_name": "HBoxModel",
      "state": {
       "_dom_classes": [],
       "_model_module": "@jupyter-widgets/controls",
       "_model_module_version": "1.5.0",
       "_model_name": "HBoxModel",
       "_view_count": null,
       "_view_module": "@jupyter-widgets/controls",
       "_view_module_version": "1.5.0",
       "_view_name": "HBoxView",
       "box_style": "",
       "children": [
        "IPY_MODEL_0fcbb5c7492f4bc2bfbcb7db0c52f507",
        "IPY_MODEL_95bb16babf5a497d84594c074a97f41f"
       ],
       "layout": "IPY_MODEL_bc486f189410421f8e9cf59dfb4fd3bf"
      }
     },
     "e12439e08a3a4d79908f80dbc4cb1688": {
      "model_module": "@jupyter-widgets/controls",
      "model_module_version": "1.5.0",
      "model_name": "ProgressStyleModel",
      "state": {
       "_model_module": "@jupyter-widgets/controls",
       "_model_module_version": "1.5.0",
       "_model_name": "ProgressStyleModel",
       "_view_count": null,
       "_view_module": "@jupyter-widgets/base",
       "_view_module_version": "1.2.0",
       "_view_name": "StyleView",
       "bar_color": null,
       "description_width": "initial"
      }
     },
     "e25e7536b5da49b1bf05d96978f522f6": {
      "model_module": "@jupyter-widgets/controls",
      "model_module_version": "1.5.0",
      "model_name": "ProgressStyleModel",
      "state": {
       "_model_module": "@jupyter-widgets/controls",
       "_model_module_version": "1.5.0",
       "_model_name": "ProgressStyleModel",
       "_view_count": null,
       "_view_module": "@jupyter-widgets/base",
       "_view_module_version": "1.2.0",
       "_view_name": "StyleView",
       "bar_color": null,
       "description_width": "initial"
      }
     },
     "e2855c55edfa44c79eb40fb0cc7dfff3": {
      "model_module": "@jupyter-widgets/controls",
      "model_module_version": "1.5.0",
      "model_name": "HTMLModel",
      "state": {
       "_dom_classes": [],
       "_model_module": "@jupyter-widgets/controls",
       "_model_module_version": "1.5.0",
       "_model_name": "HTMLModel",
       "_view_count": null,
       "_view_module": "@jupyter-widgets/controls",
       "_view_module_version": "1.5.0",
       "_view_name": "HTMLView",
       "description": "",
       "description_tooltip": null,
       "layout": "IPY_MODEL_003455a3f76e462989dc8f5918b5e2bc",
       "placeholder": "​",
       "style": "IPY_MODEL_5dd5c1cb44304ec2b52e0c3807e800c5",
       "value": " 6/? [00:00&lt;00:00, 51.24it/s]"
      }
     },
     "e3087dfccabe4528bbcb1cdae37da127": {
      "model_module": "@jupyter-widgets/controls",
      "model_module_version": "1.5.0",
      "model_name": "DescriptionStyleModel",
      "state": {
       "_model_module": "@jupyter-widgets/controls",
       "_model_module_version": "1.5.0",
       "_model_name": "DescriptionStyleModel",
       "_view_count": null,
       "_view_module": "@jupyter-widgets/base",
       "_view_module_version": "1.2.0",
       "_view_name": "StyleView",
       "description_width": ""
      }
     },
     "e35111890ad24af1a4c34eacde60649b": {
      "model_module": "@jupyter-widgets/controls",
      "model_module_version": "1.5.0",
      "model_name": "DescriptionStyleModel",
      "state": {
       "_model_module": "@jupyter-widgets/controls",
       "_model_module_version": "1.5.0",
       "_model_name": "DescriptionStyleModel",
       "_view_count": null,
       "_view_module": "@jupyter-widgets/base",
       "_view_module_version": "1.2.0",
       "_view_name": "StyleView",
       "description_width": ""
      }
     },
     "e54cbbf92da24a3d8fe549341193a719": {
      "model_module": "@jupyter-widgets/controls",
      "model_module_version": "1.5.0",
      "model_name": "HTMLModel",
      "state": {
       "_dom_classes": [],
       "_model_module": "@jupyter-widgets/controls",
       "_model_module_version": "1.5.0",
       "_model_name": "HTMLModel",
       "_view_count": null,
       "_view_module": "@jupyter-widgets/controls",
       "_view_module_version": "1.5.0",
       "_view_name": "HTMLView",
       "description": "",
       "description_tooltip": null,
       "layout": "IPY_MODEL_b2bb2a71619440f8a667fc7aa4b13698",
       "placeholder": "​",
       "style": "IPY_MODEL_37974842565b4008b636bcc6c5c008c9",
       "value": ", acc_consonant=0.634, acc_grapheme=0.616, acc_vowel=0.723, loss=5.68, loss_consonant=1.43, loss_grapheme=2.99, loss_vowel=1.26, recall=0.612 [00:01&lt;00:00]"
      }
     },
     "e79d605b55f24c9c9e41edabc20e8c50": {
      "model_module": "@jupyter-widgets/controls",
      "model_module_version": "1.5.0",
      "model_name": "IntProgressModel",
      "state": {
       "_dom_classes": [],
       "_model_module": "@jupyter-widgets/controls",
       "_model_module_version": "1.5.0",
       "_model_name": "IntProgressModel",
       "_view_count": null,
       "_view_module": "@jupyter-widgets/controls",
       "_view_module_version": "1.5.0",
       "_view_name": "ProgressView",
       "bar_style": "success",
       "description": "",
       "description_tooltip": null,
       "layout": "IPY_MODEL_a208f6562d9a411da2eb1d60d7d885a5",
       "max": 1,
       "min": 0,
       "orientation": "horizontal",
       "style": "IPY_MODEL_4251eccedbc14d47aeb47be63a934d3b",
       "value": 1
      }
     },
     "e9d35d05b632447aa98556a768cc156d": {
      "model_module": "@jupyter-widgets/base",
      "model_module_version": "1.2.0",
      "model_name": "LayoutModel",
      "state": {
       "_model_module": "@jupyter-widgets/base",
       "_model_module_version": "1.2.0",
       "_model_name": "LayoutModel",
       "_view_count": null,
       "_view_module": "@jupyter-widgets/base",
       "_view_module_version": "1.2.0",
       "_view_name": "LayoutView",
       "align_content": null,
       "align_items": null,
       "align_self": null,
       "border": null,
       "bottom": null,
       "display": null,
       "flex": null,
       "flex_flow": null,
       "grid_area": null,
       "grid_auto_columns": null,
       "grid_auto_flow": null,
       "grid_auto_rows": null,
       "grid_column": null,
       "grid_gap": null,
       "grid_row": null,
       "grid_template_areas": null,
       "grid_template_columns": null,
       "grid_template_rows": null,
       "height": null,
       "justify_content": null,
       "justify_items": null,
       "left": null,
       "margin": null,
       "max_height": null,
       "max_width": null,
       "min_height": null,
       "min_width": null,
       "object_fit": null,
       "object_position": null,
       "order": null,
       "overflow": null,
       "overflow_x": null,
       "overflow_y": null,
       "padding": null,
       "right": null,
       "top": null,
       "visibility": null,
       "width": null
      }
     },
     "ec49e06ece3d4a32881338ddb20171de": {
      "model_module": "@jupyter-widgets/controls",
      "model_module_version": "1.5.0",
      "model_name": "HBoxModel",
      "state": {
       "_dom_classes": [],
       "_model_module": "@jupyter-widgets/controls",
       "_model_module_version": "1.5.0",
       "_model_name": "HBoxModel",
       "_view_count": null,
       "_view_module": "@jupyter-widgets/controls",
       "_view_module_version": "1.5.0",
       "_view_name": "HBoxView",
       "box_style": "",
       "children": [
        "IPY_MODEL_360c6c7d53864f36861f262e036d701f",
        "IPY_MODEL_43cdf5ea12fc487491113213ad4b4498"
       ],
       "layout": "IPY_MODEL_781f9807309a45fbb3caf19e4527f828"
      }
     },
     "ed3e967233644d9c83694cc383beae18": {
      "model_module": "@jupyter-widgets/controls",
      "model_module_version": "1.5.0",
      "model_name": "IntProgressModel",
      "state": {
       "_dom_classes": [],
       "_model_module": "@jupyter-widgets/controls",
       "_model_module_version": "1.5.0",
       "_model_name": "IntProgressModel",
       "_view_count": null,
       "_view_module": "@jupyter-widgets/controls",
       "_view_module_version": "1.5.0",
       "_view_name": "ProgressView",
       "bar_style": "success",
       "description": "",
       "description_tooltip": null,
       "layout": "IPY_MODEL_d3d5fb326b864fed8e2143a2a3220278",
       "max": 1,
       "min": 0,
       "orientation": "horizontal",
       "style": "IPY_MODEL_61f35eecaa9d4a409be9fc114929c8a1",
       "value": 1
      }
     },
     "ee451547930b443bb88f0817873e86a0": {
      "model_module": "@jupyter-widgets/controls",
      "model_module_version": "1.5.0",
      "model_name": "ProgressStyleModel",
      "state": {
       "_model_module": "@jupyter-widgets/controls",
       "_model_module_version": "1.5.0",
       "_model_name": "ProgressStyleModel",
       "_view_count": null,
       "_view_module": "@jupyter-widgets/base",
       "_view_module_version": "1.2.0",
       "_view_name": "StyleView",
       "bar_color": null,
       "description_width": "initial"
      }
     },
     "f57d475ebf0647f181211ac7cbba209a": {
      "model_module": "@jupyter-widgets/controls",
      "model_module_version": "1.5.0",
      "model_name": "HBoxModel",
      "state": {
       "_dom_classes": [],
       "_model_module": "@jupyter-widgets/controls",
       "_model_module_version": "1.5.0",
       "_model_name": "HBoxModel",
       "_view_count": null,
       "_view_module": "@jupyter-widgets/controls",
       "_view_module_version": "1.5.0",
       "_view_name": "HBoxView",
       "box_style": "",
       "children": [
        "IPY_MODEL_4ac8348d41be4c00b508c589abb2ce9c",
        "IPY_MODEL_511f097951384c0f90139472a15e13d4"
       ],
       "layout": "IPY_MODEL_cc020aad5221470ca59a606c428a869d"
      }
     },
     "f76974dd7d5c49cda99393efe40e8a61": {
      "model_module": "@jupyter-widgets/controls",
      "model_module_version": "1.5.0",
      "model_name": "DescriptionStyleModel",
      "state": {
       "_model_module": "@jupyter-widgets/controls",
       "_model_module_version": "1.5.0",
       "_model_name": "DescriptionStyleModel",
       "_view_count": null,
       "_view_module": "@jupyter-widgets/base",
       "_view_module_version": "1.2.0",
       "_view_name": "StyleView",
       "description_width": ""
      }
     },
     "f77071d6e7464c0391a4aabf2c177b34": {
      "model_module": "@jupyter-widgets/controls",
      "model_module_version": "1.5.0",
      "model_name": "HBoxModel",
      "state": {
       "_dom_classes": [],
       "_model_module": "@jupyter-widgets/controls",
       "_model_module_version": "1.5.0",
       "_model_name": "HBoxModel",
       "_view_count": null,
       "_view_module": "@jupyter-widgets/controls",
       "_view_module_version": "1.5.0",
       "_view_name": "HBoxView",
       "box_style": "",
       "children": [
        "IPY_MODEL_740d773f159a4800abb69d5742701a15",
        "IPY_MODEL_c87ae58416db40e4985ea5056a94d049"
       ],
       "layout": "IPY_MODEL_7a2f49f01f2d4e0c8311bf8bbbd06127"
      }
     },
     "f7ea00be076c48438433f5c443774748": {
      "model_module": "@jupyter-widgets/controls",
      "model_module_version": "1.5.0",
      "model_name": "HBoxModel",
      "state": {
       "_dom_classes": [],
       "_model_module": "@jupyter-widgets/controls",
       "_model_module_version": "1.5.0",
       "_model_name": "HBoxModel",
       "_view_count": null,
       "_view_module": "@jupyter-widgets/controls",
       "_view_module_version": "1.5.0",
       "_view_name": "HBoxView",
       "box_style": "",
       "children": [
        "IPY_MODEL_ed3e967233644d9c83694cc383beae18",
        "IPY_MODEL_fc34b34d8b064d58b42f9c71e1d575f4"
       ],
       "layout": "IPY_MODEL_183b694071124aeaabb783fa2d314df6"
      }
     },
     "fc34b34d8b064d58b42f9c71e1d575f4": {
      "model_module": "@jupyter-widgets/controls",
      "model_module_version": "1.5.0",
      "model_name": "HTMLModel",
      "state": {
       "_dom_classes": [],
       "_model_module": "@jupyter-widgets/controls",
       "_model_module_version": "1.5.0",
       "_model_name": "HTMLModel",
       "_view_count": null,
       "_view_module": "@jupyter-widgets/controls",
       "_view_module_version": "1.5.0",
       "_view_name": "HTMLView",
       "description": "",
       "description_tooltip": null,
       "layout": "IPY_MODEL_4edcfa38e8454f7195c69de561d48b5d",
       "placeholder": "​",
       "style": "IPY_MODEL_9a84e9c0f22943b18d7e68ff422d7959",
       "value": " 30/? [00:00&lt;00:00, 79.61it/s]"
      }
     },
     "fe0d96b7dace48bb9646e8254a64550a": {
      "model_module": "@jupyter-widgets/controls",
      "model_module_version": "1.5.0",
      "model_name": "ProgressStyleModel",
      "state": {
       "_model_module": "@jupyter-widgets/controls",
       "_model_module_version": "1.5.0",
       "_model_name": "ProgressStyleModel",
       "_view_count": null,
       "_view_module": "@jupyter-widgets/base",
       "_view_module_version": "1.2.0",
       "_view_name": "StyleView",
       "bar_color": null,
       "description_width": "initial"
      }
     },
     "ffd3d1af4e494fc19f20cf20be6ee2d4": {
      "model_module": "@jupyter-widgets/controls",
      "model_module_version": "1.5.0",
      "model_name": "HTMLModel",
      "state": {
       "_dom_classes": [],
       "_model_module": "@jupyter-widgets/controls",
       "_model_module_version": "1.5.0",
       "_model_name": "HTMLModel",
       "_view_count": null,
       "_view_module": "@jupyter-widgets/controls",
       "_view_module_version": "1.5.0",
       "_view_name": "HTMLView",
       "description": "",
       "description_tooltip": null,
       "layout": "IPY_MODEL_20fb74bc8c5a446ca63db79973376954",
       "placeholder": "​",
       "style": "IPY_MODEL_cf001db7d83e4a308048fe80f0dd3f91",
       "value": ", acc_consonant=0.504, acc_grapheme=0.143, acc_vowel=0.482, loss=8.03, loss_consonant=1.82, loss_grapheme=4.44, loss_vowel=1.77, recall=0.232 [00:01&lt;00:00]"
      }
     }
    },
    "version_major": 2,
    "version_minor": 0
   }
  }
 },
 "nbformat": 4,
 "nbformat_minor": 4
}
